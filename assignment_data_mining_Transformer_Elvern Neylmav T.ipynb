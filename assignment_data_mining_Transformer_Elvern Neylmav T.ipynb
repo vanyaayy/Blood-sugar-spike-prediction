{
 "cells": [
  {
   "cell_type": "code",
   "execution_count": 1,
   "metadata": {},
   "outputs": [],
   "source": [
    "import os\n",
    "import joblib\n",
    "from tqdm import tqdm\n",
    "from IPython.display import Image, display\n",
    "\n",
    "import torch\n",
    "import torch.nn as nn\n",
    "import torch.optim as optim\n",
    "from torch.utils.data import Dataset, DataLoader\n",
    "\n",
    "from torchinfo import summary\n",
    "from torchviz import make_dot\n",
    "\n",
    "import numpy as np\n",
    "import pandas as pd\n",
    "import matplotlib.pyplot as plt\n",
    "from sklearn.model_selection import train_test_split"
   ]
  },
  {
   "cell_type": "code",
   "execution_count": 2,
   "metadata": {},
   "outputs": [
    {
     "name": "stdout",
     "output_type": "stream",
     "text": [
      "cuda:0\n"
     ]
    }
   ],
   "source": [
    "device = torch.device('cuda:0' if torch.cuda.is_available() else 'cpu')\n",
    "print(device)"
   ]
  },
  {
   "cell_type": "markdown",
   "metadata": {},
   "source": [
    "## Transformer"
   ]
  },
  {
   "cell_type": "markdown",
   "metadata": {},
   "source": [
    "### Data Importing"
   ]
  },
  {
   "cell_type": "code",
   "execution_count": 3,
   "metadata": {},
   "outputs": [],
   "source": [
    "df = pd.read_csv(\"./.data/train_aug.csv\")"
   ]
  },
  {
   "cell_type": "code",
   "execution_count": 4,
   "metadata": {},
   "outputs": [
    {
     "name": "stdout",
     "output_type": "stream",
     "text": [
      "               id   bg-1:55   bg-1:50   bg-1:45   bg-1:40   bg-1:35   bg-1:30  \\\n",
      "0           p01_0  3.094944  3.205389  3.313624  3.339701  3.361018  3.379836   \n",
      "1           p01_1  3.340175  3.361399  3.380423  3.339701  3.294160  3.246258   \n",
      "2           p01_2  3.340175  3.294538  3.246826  3.172513  3.093589  3.012496   \n",
      "3           p01_3  3.172972  3.093953  3.013033  3.038763  3.060160  3.079285   \n",
      "4           p01_4  3.039210  3.060522  3.079831  3.061055  3.037874  3.012496   \n",
      "...           ...       ...       ...       ...       ...       ...       ...   \n",
      "354043  p12_25294 -0.156654 -0.156741 -0.210417 -0.177942 -0.285088 -0.383573   \n",
      "354044  p12_25295 -0.153169 -0.205252 -0.177643 -0.291374 -0.403435 -0.453188   \n",
      "354045  p12_25296 -0.182927 -0.187252 -0.292545 -0.392158 -0.450797 -0.517543   \n",
      "354046  p12_25297 -0.197369 -0.276990 -0.399657 -0.454536 -0.553658 -0.620565   \n",
      "354047  p12_25298 -0.285812 -0.385110 -0.459777 -0.539657 -0.641673 -0.682555   \n",
      "\n",
      "         bg-1:25   bg-1:20   bg-1:15  ...  cals-0:40  cals-0:35  cals-0:30  \\\n",
      "0       3.338933  3.293539  3.245391  ...  -0.926874  -0.926882  -0.926398   \n",
      "1       3.171777  3.093001  3.011687  ...  -0.926874  -0.926882  -0.926398   \n",
      "2       3.038052  3.059578  3.078460  ...  -0.926874  -0.926882  -0.926398   \n",
      "3       3.060340  3.037296  3.011687  ...  -0.926874  -0.926882  -0.926398   \n",
      "4       2.893184  2.769913  2.644439  ...  -0.926874  -0.926882  -0.926398   \n",
      "...          ...       ...       ...  ...        ...        ...        ...   \n",
      "354043 -0.473646 -0.538073 -0.610615  ...  -0.100883  -0.080838  -0.087646   \n",
      "354044 -0.513859 -0.636717 -0.699959  ...  -0.095323  -0.104037  -0.099799   \n",
      "354045 -0.620554 -0.700161 -0.688252  ...  -0.103077  -0.074952  -0.073638   \n",
      "354046 -0.694644 -0.703642 -0.729878  ...  -0.099145  -0.092949  -0.106937   \n",
      "354047 -0.692473 -0.739546 -0.662342  ...  -0.083156  -0.093320  -0.086732   \n",
      "\n",
      "        cals-0:25  cals-0:20  cals-0:15  cals-0:10  cals-0:05  cals-0:00  \\\n",
      "0       -0.926665  -0.926847  -0.926319  -0.926788  -0.926934  -0.926666   \n",
      "1       -0.926665  -0.926847  -0.926319  -0.926788  -0.926934  -0.926666   \n",
      "2       -0.926665  -0.926847  -0.926319  -0.926788  -0.926934  -0.926666   \n",
      "3       -0.926665  -0.926847  -0.926319  -0.926788  -0.926934  -0.926666   \n",
      "4       -0.926665  -0.926847  -0.926319  -0.926788  -0.926934  -0.926666   \n",
      "...           ...        ...        ...        ...        ...        ...   \n",
      "354043  -0.091884  -0.090523  -0.079124  -0.076122  -0.096153  -0.099765   \n",
      "354044  -0.093713  -0.083648  -0.107739  -0.095875  -0.104877  -0.082400   \n",
      "354045  -0.077983  -0.085458  -0.101358  -0.082567  -0.108277  -0.084940   \n",
      "354046  -0.103298  -0.093036  -0.105657  -0.106096  -0.105887  -0.080050   \n",
      "354047  -0.100113  -0.066275  -0.100903  -0.114029  -0.090980  -0.108061   \n",
      "\n",
      "         bg+1:00  \n",
      "0       1.709709  \n",
      "1       1.509468  \n",
      "2       2.410552  \n",
      "3       2.176938  \n",
      "4       1.476095  \n",
      "...          ...  \n",
      "354043  0.942119  \n",
      "354044  0.875372  \n",
      "354045  0.808625  \n",
      "354046  0.741878  \n",
      "354047  0.641757  \n",
      "\n",
      "[354048 rows x 146 columns]\n"
     ]
    }
   ],
   "source": [
    "print(df)"
   ]
  },
  {
   "cell_type": "code",
   "execution_count": 5,
   "metadata": {},
   "outputs": [
    {
     "name": "stdout",
     "output_type": "stream",
     "text": [
      "id\n",
      "bg-1:55\n",
      "bg-1:50\n",
      "bg-1:45\n",
      "bg-1:40\n",
      "bg-1:35\n",
      "bg-1:30\n",
      "bg-1:25\n",
      "bg-1:20\n",
      "bg-1:15\n",
      "bg-1:10\n",
      "bg-1:05\n",
      "bg-1:00\n",
      "bg-0:55\n",
      "bg-0:50\n",
      "bg-0:45\n",
      "bg-0:40\n",
      "bg-0:35\n",
      "bg-0:30\n",
      "bg-0:25\n",
      "bg-0:20\n",
      "bg-0:15\n",
      "bg-0:10\n",
      "bg-0:05\n",
      "bg-0:00\n",
      "insulin-1:55\n",
      "insulin-1:50\n",
      "insulin-1:45\n",
      "insulin-1:40\n",
      "insulin-1:35\n",
      "insulin-1:30\n",
      "insulin-1:25\n",
      "insulin-1:20\n",
      "insulin-1:15\n",
      "insulin-1:10\n",
      "insulin-1:05\n",
      "insulin-1:00\n",
      "insulin-0:55\n",
      "insulin-0:50\n",
      "insulin-0:45\n",
      "insulin-0:40\n",
      "insulin-0:35\n",
      "insulin-0:30\n",
      "insulin-0:25\n",
      "insulin-0:20\n",
      "insulin-0:15\n",
      "insulin-0:10\n",
      "insulin-0:05\n",
      "insulin-0:00\n",
      "carbs-1:55\n",
      "carbs-1:50\n",
      "carbs-1:45\n",
      "carbs-1:40\n",
      "carbs-1:35\n",
      "carbs-1:30\n",
      "carbs-1:25\n",
      "carbs-1:20\n",
      "carbs-1:15\n",
      "carbs-1:10\n",
      "carbs-1:05\n",
      "carbs-1:00\n",
      "carbs-0:55\n",
      "carbs-0:50\n",
      "carbs-0:45\n",
      "carbs-0:40\n",
      "carbs-0:35\n",
      "carbs-0:30\n",
      "carbs-0:25\n",
      "carbs-0:20\n",
      "carbs-0:15\n",
      "carbs-0:10\n",
      "carbs-0:05\n",
      "carbs-0:00\n",
      "hr-1:55\n",
      "hr-1:50\n",
      "hr-1:45\n",
      "hr-1:40\n",
      "hr-1:35\n",
      "hr-1:30\n",
      "hr-1:25\n",
      "hr-1:20\n",
      "hr-1:15\n",
      "hr-1:10\n",
      "hr-1:05\n",
      "hr-1:00\n",
      "hr-0:55\n",
      "hr-0:50\n",
      "hr-0:45\n",
      "hr-0:40\n",
      "hr-0:35\n",
      "hr-0:30\n",
      "hr-0:25\n",
      "hr-0:20\n",
      "hr-0:15\n",
      "hr-0:10\n",
      "hr-0:05\n",
      "hr-0:00\n",
      "steps-1:55\n",
      "steps-1:50\n",
      "steps-1:45\n",
      "steps-1:40\n",
      "steps-1:35\n",
      "steps-1:30\n",
      "steps-1:25\n",
      "steps-1:20\n",
      "steps-1:15\n",
      "steps-1:10\n",
      "steps-1:05\n",
      "steps-1:00\n",
      "steps-0:55\n",
      "steps-0:50\n",
      "steps-0:45\n",
      "steps-0:40\n",
      "steps-0:35\n",
      "steps-0:30\n",
      "steps-0:25\n",
      "steps-0:20\n",
      "steps-0:15\n",
      "steps-0:10\n",
      "steps-0:05\n",
      "steps-0:00\n",
      "cals-1:55\n",
      "cals-1:50\n",
      "cals-1:45\n",
      "cals-1:40\n",
      "cals-1:35\n",
      "cals-1:30\n",
      "cals-1:25\n",
      "cals-1:20\n",
      "cals-1:15\n",
      "cals-1:10\n",
      "cals-1:05\n",
      "cals-1:00\n",
      "cals-0:55\n",
      "cals-0:50\n",
      "cals-0:45\n",
      "cals-0:40\n",
      "cals-0:35\n",
      "cals-0:30\n",
      "cals-0:25\n",
      "cals-0:20\n",
      "cals-0:15\n",
      "cals-0:10\n",
      "cals-0:05\n",
      "cals-0:00\n",
      "bg+1:00\n"
     ]
    }
   ],
   "source": [
    "for col in df.columns:\n",
    "    print(col)"
   ]
  },
  {
   "cell_type": "markdown",
   "metadata": {},
   "source": [
    "### Data Splitting"
   ]
  },
  {
   "cell_type": "code",
   "execution_count": 6,
   "metadata": {},
   "outputs": [],
   "source": [
    "train_df, temp_df = train_test_split(df, test_size=0.2, random_state=42)\n",
    "val_df, test_df = train_test_split(temp_df, test_size=0.5, random_state=42)"
   ]
  },
  {
   "cell_type": "code",
   "execution_count": 7,
   "metadata": {},
   "outputs": [
    {
     "name": "stdout",
     "output_type": "stream",
     "text": [
      "Train Shape: (283238, 146)\n",
      "Validation Shape: (35405, 146)\n",
      "Test Shape: (35405, 146)\n"
     ]
    }
   ],
   "source": [
    "print(f\"Train Shape: {train_df.shape}\")\n",
    "print(f\"Validation Shape: {val_df.shape}\")\n",
    "print(f\"Test Shape: {test_df.shape}\")"
   ]
  },
  {
   "cell_type": "markdown",
   "metadata": {},
   "source": [
    "### Dataset and DataLoader"
   ]
  },
  {
   "cell_type": "code",
   "execution_count": 8,
   "metadata": {},
   "outputs": [],
   "source": [
    "class BrisT1DDataset(Dataset):\n",
    "    def __init__(self, df, is_train=True):\n",
    "        \n",
    "        self.df = df\n",
    "        self.is_train = is_train\n",
    "        \n",
    "        if 'id' in self.df.columns:\n",
    "            self.ids = self.df['id'].values\n",
    "            self.df = self.df.drop(columns=['id'])\n",
    "        else:\n",
    "            self.ids = None\n",
    "        \n",
    "        if self.is_train and 'bg+1:00' in self.df.columns:\n",
    "            self.targets = self.df['bg+1:00'].values\n",
    "            self.df = self.df.drop(columns=['bg+1:00'])\n",
    "        else:\n",
    "            self.targets = None\n",
    "        \n",
    "        data = self.df.values.astype(np.float32)\n",
    "        if data.shape[1] != 144:\n",
    "            raise ValueError(f\"Expected 144, Real {data.shape[1]}\")\n",
    "        self.X = data.reshape(-1, 6, 24).transpose(0, 2, 1)\n",
    "        \n",
    "        if self.is_train:\n",
    "            self.y = self.targets.astype(np.float32).reshape(-1, 1)\n",
    "        else:\n",
    "            self.y = None\n",
    "\n",
    "    def __len__(self):\n",
    "        return self.X.shape[0]\n",
    "\n",
    "    def __getitem__(self, idx):\n",
    "        sample = torch.tensor(self.X[idx], dtype=torch.float32)\n",
    "        if self.is_train:\n",
    "            target = torch.tensor(self.y[idx], dtype=torch.float32)\n",
    "            return sample, target\n",
    "        else:\n",
    "            return sample"
   ]
  },
  {
   "cell_type": "code",
   "execution_count": 9,
   "metadata": {},
   "outputs": [],
   "source": [
    "train_dataset = BrisT1DDataset(train_df, is_train=True)\n",
    "val_dataset = BrisT1DDataset(val_df, is_train=True)\n",
    "test_dataset = BrisT1DDataset(test_df, is_train=True)"
   ]
  },
  {
   "cell_type": "code",
   "execution_count": 10,
   "metadata": {},
   "outputs": [],
   "source": [
    "batch_size = 256\n",
    "train_loader = DataLoader(train_dataset, batch_size=batch_size, shuffle=True)\n",
    "val_loader = DataLoader(val_dataset, batch_size=batch_size, shuffle=False)\n",
    "test_loader = DataLoader(test_dataset, batch_size=batch_size, shuffle=False)"
   ]
  },
  {
   "cell_type": "markdown",
   "metadata": {},
   "source": [
    "### Model"
   ]
  },
  {
   "cell_type": "code",
   "execution_count": 11,
   "metadata": {},
   "outputs": [],
   "source": [
    "class BrisT1DDPositionalEncoding(nn.Module):\n",
    "    def __init__(self, d_model, dropout=0.25, max_len=5000):\n",
    "        super().__init__()\n",
    "        self.dropout = nn.Dropout(p=dropout)\n",
    "        \n",
    "        pe = torch.zeros(max_len, d_model)\n",
    "        position = torch.arange(0, max_len, dtype=torch.float32).unsqueeze(1)\n",
    "        div_term = torch.exp(torch.arange(0, d_model, 2, dtype=torch.float32) * (-np.log(10000.0) / d_model))\n",
    "        pe[:, 0::2] = torch.sin(position * div_term)\n",
    "        pe[:, 1::2] = torch.cos(position * div_term)\n",
    "        pe = pe.unsqueeze(0)\n",
    "        self.register_buffer('pe', pe)\n",
    "        \n",
    "    def forward(self, x):\n",
    "        x = x + self.pe[:, :x.size(1)]\n",
    "        return self.dropout(x)"
   ]
  },
  {
   "cell_type": "code",
   "execution_count": 12,
   "metadata": {},
   "outputs": [],
   "source": [
    "class BrisT1DDTransformer(nn.Module):\n",
    "    def __init__(self, num_features=6, d_model=64, nhead=8, num_layers=2, dropout=0.25, seq_length=24):\n",
    "        super().__init__()\n",
    "        self.input_projection = nn.Linear(num_features, d_model)\n",
    "        self.positional_encoding = BrisT1DDPositionalEncoding(d_model, dropout, max_len=seq_length)\n",
    "        \n",
    "        encoder_layer = nn.TransformerEncoderLayer(d_model=d_model, nhead=nhead, dropout=dropout, batch_first=True)\n",
    "        self.transformer_encoder = nn.TransformerEncoder(encoder_layer, num_layers=num_layers)\n",
    "        self.dropout = nn.Dropout(dropout)\n",
    "        \n",
    "        self.fc = nn.Linear(d_model, 1)\n",
    "        \n",
    "    def forward(self, x):\n",
    "        x = self.input_projection(x)            \n",
    "        x = self.positional_encoding(x)           \n",
    "        x = self.transformer_encoder(x)           \n",
    "        x = x.mean(dim=1)                        \n",
    "        x = self.dropout(x)\n",
    "        out = self.fc(x)                        \n",
    "        return out"
   ]
  },
  {
   "cell_type": "code",
   "execution_count": 13,
   "metadata": {},
   "outputs": [
    {
     "name": "stdout",
     "output_type": "stream",
     "text": [
      "BrisT1DDTransformer(\n",
      "  (input_projection): Linear(in_features=6, out_features=64, bias=True)\n",
      "  (positional_encoding): BrisT1DDPositionalEncoding(\n",
      "    (dropout): Dropout(p=0.25, inplace=False)\n",
      "  )\n",
      "  (transformer_encoder): TransformerEncoder(\n",
      "    (layers): ModuleList(\n",
      "      (0-1): 2 x TransformerEncoderLayer(\n",
      "        (self_attn): MultiheadAttention(\n",
      "          (out_proj): NonDynamicallyQuantizableLinear(in_features=64, out_features=64, bias=True)\n",
      "        )\n",
      "        (linear1): Linear(in_features=64, out_features=2048, bias=True)\n",
      "        (dropout): Dropout(p=0.25, inplace=False)\n",
      "        (linear2): Linear(in_features=2048, out_features=64, bias=True)\n",
      "        (norm1): LayerNorm((64,), eps=1e-05, elementwise_affine=True)\n",
      "        (norm2): LayerNorm((64,), eps=1e-05, elementwise_affine=True)\n",
      "        (dropout1): Dropout(p=0.25, inplace=False)\n",
      "        (dropout2): Dropout(p=0.25, inplace=False)\n",
      "      )\n",
      "    )\n",
      "  )\n",
      "  (dropout): Dropout(p=0.25, inplace=False)\n",
      "  (fc): Linear(in_features=64, out_features=1, bias=True)\n",
      ")\n"
     ]
    }
   ],
   "source": [
    "model = BrisT1DDTransformer(num_features=6, d_model=64, nhead=8, num_layers=2,\n",
    "                            dropout=0.25, seq_length=24).to(device)\n",
    "print(model)"
   ]
  },
  {
   "cell_type": "markdown",
   "metadata": {},
   "source": [
    "#### Model Summary"
   ]
  },
  {
   "cell_type": "code",
   "execution_count": 14,
   "metadata": {},
   "outputs": [],
   "source": [
    "dummy_seq = torch.randn(1, 24, 6).to(device)"
   ]
  },
  {
   "cell_type": "code",
   "execution_count": 15,
   "metadata": {},
   "outputs": [
    {
     "name": "stdout",
     "output_type": "stream",
     "text": [
      "Model Summary:\n",
      "===============================================================================================\n",
      "Layer (type:depth-idx)                        Output Shape              Param #\n",
      "===============================================================================================\n",
      "BrisT1DDTransformer                           [1, 1]                    --\n",
      "├─Linear: 1-1                                 [1, 24, 64]               448\n",
      "├─BrisT1DDPositionalEncoding: 1-2             [1, 24, 64]               --\n",
      "│    └─Dropout: 2-1                           [1, 24, 64]               --\n",
      "├─TransformerEncoder: 1-3                     [1, 24, 64]               --\n",
      "│    └─ModuleList: 2-2                        --                        --\n",
      "│    │    └─TransformerEncoderLayer: 3-1      [1, 24, 64]               281,152\n",
      "│    │    └─TransformerEncoderLayer: 3-2      [1, 24, 64]               281,152\n",
      "├─Dropout: 1-4                                [1, 64]                   --\n",
      "├─Linear: 1-5                                 [1, 1]                    65\n",
      "===============================================================================================\n",
      "Total params: 562,817\n",
      "Trainable params: 562,817\n",
      "Non-trainable params: 0\n",
      "Total mult-adds (M): 0.53\n",
      "===============================================================================================\n",
      "Input size (MB): 0.00\n",
      "Forward/backward pass size (MB): 0.87\n",
      "Params size (MB): 2.12\n",
      "Estimated Total Size (MB): 2.99\n",
      "===============================================================================================\n"
     ]
    }
   ],
   "source": [
    "print(\"Model Summary:\")\n",
    "print(summary(model, input_data=[dummy_seq]))"
   ]
  },
  {
   "cell_type": "markdown",
   "metadata": {},
   "source": [
    "#### Model Computational Graph"
   ]
  },
  {
   "cell_type": "code",
   "execution_count": 16,
   "metadata": {},
   "outputs": [],
   "source": [
    "dummy_output = model(dummy_seq)\n",
    "dot = make_dot(dummy_output, params=dict(model.named_parameters()))"
   ]
  },
  {
   "cell_type": "code",
   "execution_count": 17,
   "metadata": {},
   "outputs": [
    {
     "name": "stdout",
     "output_type": "stream",
     "text": [
      "Model Computational Graph:\n"
     ]
    },
    {
     "data": {
      "image/svg+xml": [
       "<?xml version=\"1.0\" encoding=\"UTF-8\" standalone=\"no\"?>\n",
       "<!DOCTYPE svg PUBLIC \"-//W3C//DTD SVG 1.1//EN\"\n",
       " \"http://www.w3.org/Graphics/SVG/1.1/DTD/svg11.dtd\">\n",
       "<!-- Generated by graphviz version 12.2.1 (20241206.2353)\n",
       " -->\n",
       "<!-- Pages: 1 -->\n",
       "<svg width=\"990pt\" height=\"3445pt\"\n",
       " viewBox=\"0.00 0.00 989.94 3445.00\" xmlns=\"http://www.w3.org/2000/svg\" xmlns:xlink=\"http://www.w3.org/1999/xlink\">\n",
       "<g id=\"graph0\" class=\"graph\" transform=\"scale(0.73931 0.73931) rotate(0) translate(4 4655.75)\">\n",
       "<polygon fill=\"white\" stroke=\"none\" points=\"-4,4 -4,-4655.75 1335,-4655.75 1335,4 -4,4\"/>\n",
       "<!-- 2273449441408 -->\n",
       "<g id=\"node1\" class=\"node\">\n",
       "<title>2273449441408</title>\n",
       "<polygon fill=\"#caff70\" stroke=\"black\" points=\"850,-32.75 792,-32.75 792,0 850,0 850,-32.75\"/>\n",
       "<text text-anchor=\"middle\" x=\"821\" y=\"-7.25\" font-family=\"monospace\" font-size=\"10.00\"> (1, 1)</text>\n",
       "</g>\n",
       "<!-- 2272174698320 -->\n",
       "<g id=\"node2\" class=\"node\">\n",
       "<title>2272174698320</title>\n",
       "<polygon fill=\"lightgrey\" stroke=\"black\" points=\"871,-89.5 771,-89.5 771,-68.75 871,-68.75 871,-89.5\"/>\n",
       "<text text-anchor=\"middle\" x=\"821\" y=\"-76\" font-family=\"monospace\" font-size=\"10.00\">AddmmBackward0</text>\n",
       "</g>\n",
       "<!-- 2272174698320&#45;&gt;2273449441408 -->\n",
       "<g id=\"edge163\" class=\"edge\">\n",
       "<title>2272174698320&#45;&gt;2273449441408</title>\n",
       "<path fill=\"none\" stroke=\"black\" d=\"M821,-68.36C821,-61.89 821,-53.05 821,-44.55\"/>\n",
       "<polygon fill=\"black\" stroke=\"black\" points=\"824.5,-44.55 821,-34.55 817.5,-44.55 824.5,-44.55\"/>\n",
       "</g>\n",
       "<!-- 2272174697312 -->\n",
       "<g id=\"node3\" class=\"node\">\n",
       "<title>2272174697312</title>\n",
       "<polygon fill=\"lightgrey\" stroke=\"black\" points=\"729,-146.25 629,-146.25 629,-125.5 729,-125.5 729,-146.25\"/>\n",
       "<text text-anchor=\"middle\" x=\"679\" y=\"-132.75\" font-family=\"monospace\" font-size=\"10.00\">AccumulateGrad</text>\n",
       "</g>\n",
       "<!-- 2272174697312&#45;&gt;2272174698320 -->\n",
       "<g id=\"edge1\" class=\"edge\">\n",
       "<title>2272174697312&#45;&gt;2272174698320</title>\n",
       "<path fill=\"none\" stroke=\"black\" d=\"M704.39,-125.09C726.9,-116.41 760.03,-103.63 785.23,-93.92\"/>\n",
       "<polygon fill=\"black\" stroke=\"black\" points=\"786.35,-97.24 794.42,-90.37 783.83,-90.7 786.35,-97.24\"/>\n",
       "</g>\n",
       "<!-- 2272662241120 -->\n",
       "<g id=\"node4\" class=\"node\">\n",
       "<title>2272662241120</title>\n",
       "<polygon fill=\"lightblue\" stroke=\"black\" points=\"708,-215.75 650,-215.75 650,-182.25 708,-182.25 708,-215.75\"/>\n",
       "<text text-anchor=\"middle\" x=\"679\" y=\"-202.25\" font-family=\"monospace\" font-size=\"10.00\">fc.bias</text>\n",
       "<text text-anchor=\"middle\" x=\"679\" y=\"-189.5\" font-family=\"monospace\" font-size=\"10.00\"> (1)</text>\n",
       "</g>\n",
       "<!-- 2272662241120&#45;&gt;2272174697312 -->\n",
       "<g id=\"edge2\" class=\"edge\">\n",
       "<title>2272662241120&#45;&gt;2272174697312</title>\n",
       "<path fill=\"none\" stroke=\"black\" d=\"M679,-181.94C679,-174.6 679,-165.82 679,-157.96\"/>\n",
       "<polygon fill=\"black\" stroke=\"black\" points=\"682.5,-158.23 679,-148.23 675.5,-158.23 682.5,-158.23\"/>\n",
       "</g>\n",
       "<!-- 2272174696112 -->\n",
       "<g id=\"node5\" class=\"node\">\n",
       "<title>2272174696112</title>\n",
       "<polygon fill=\"lightgrey\" stroke=\"black\" points=\"895,-146.25 747,-146.25 747,-125.5 895,-125.5 895,-146.25\"/>\n",
       "<text text-anchor=\"middle\" x=\"821\" y=\"-132.75\" font-family=\"monospace\" font-size=\"10.00\">NativeDropoutBackward0</text>\n",
       "</g>\n",
       "<!-- 2272174696112&#45;&gt;2272174698320 -->\n",
       "<g id=\"edge3\" class=\"edge\">\n",
       "<title>2272174696112&#45;&gt;2272174698320</title>\n",
       "<path fill=\"none\" stroke=\"black\" d=\"M821,-125.09C821,-118.47 821,-109.47 821,-101.27\"/>\n",
       "<polygon fill=\"black\" stroke=\"black\" points=\"824.5,-101.34 821,-91.34 817.5,-101.34 824.5,-101.34\"/>\n",
       "</g>\n",
       "<!-- 2272174694720 -->\n",
       "<g id=\"node6\" class=\"node\">\n",
       "<title>2272174694720</title>\n",
       "<polygon fill=\"lightgrey\" stroke=\"black\" points=\"867,-209.38 773,-209.38 773,-188.62 867,-188.62 867,-209.38\"/>\n",
       "<text text-anchor=\"middle\" x=\"820\" y=\"-195.88\" font-family=\"monospace\" font-size=\"10.00\">MeanBackward1</text>\n",
       "</g>\n",
       "<!-- 2272174694720&#45;&gt;2272174696112 -->\n",
       "<g id=\"edge4\" class=\"edge\">\n",
       "<title>2272174694720&#45;&gt;2272174696112</title>\n",
       "<path fill=\"none\" stroke=\"black\" d=\"M820.16,-188.18C820.29,-180.02 820.49,-168.13 820.66,-157.85\"/>\n",
       "<polygon fill=\"black\" stroke=\"black\" points=\"824.15,-158.04 820.82,-147.98 817.16,-157.92 824.15,-158.04\"/>\n",
       "</g>\n",
       "<!-- 2272174700960 -->\n",
       "<g id=\"node7\" class=\"node\">\n",
       "<title>2272174700960</title>\n",
       "<polygon fill=\"lightgrey\" stroke=\"black\" points=\"900,-278.88 740,-278.88 740,-258.12 900,-258.12 900,-278.88\"/>\n",
       "<text text-anchor=\"middle\" x=\"820\" y=\"-265.38\" font-family=\"monospace\" font-size=\"10.00\">NativeLayerNormBackward0</text>\n",
       "</g>\n",
       "<!-- 2272174700960&#45;&gt;2272174694720 -->\n",
       "<g id=\"edge5\" class=\"edge\">\n",
       "<title>2272174700960&#45;&gt;2272174694720</title>\n",
       "<path fill=\"none\" stroke=\"black\" d=\"M820,-257.83C820,-248.21 820,-233.13 820,-220.79\"/>\n",
       "<polygon fill=\"black\" stroke=\"black\" points=\"823.5,-221.17 820,-211.17 816.5,-221.17 823.5,-221.17\"/>\n",
       "</g>\n",
       "<!-- 2272174694576 -->\n",
       "<g id=\"node8\" class=\"node\">\n",
       "<title>2272174694576</title>\n",
       "<polygon fill=\"lightgrey\" stroke=\"black\" points=\"705,-342 617,-342 617,-321.25 705,-321.25 705,-342\"/>\n",
       "<text text-anchor=\"middle\" x=\"661\" y=\"-328.5\" font-family=\"monospace\" font-size=\"10.00\">AddBackward0</text>\n",
       "</g>\n",
       "<!-- 2272174694576&#45;&gt;2272174700960 -->\n",
       "<g id=\"edge6\" class=\"edge\">\n",
       "<title>2272174694576&#45;&gt;2272174700960</title>\n",
       "<path fill=\"none\" stroke=\"black\" d=\"M686.55,-320.8C712.97,-310.65 754.46,-294.7 784.16,-283.28\"/>\n",
       "<polygon fill=\"black\" stroke=\"black\" points=\"785.03,-286.69 793.1,-279.84 782.51,-280.16 785.03,-286.69\"/>\n",
       "</g>\n",
       "<!-- 2272174696976 -->\n",
       "<g id=\"node9\" class=\"node\">\n",
       "<title>2272174696976</title>\n",
       "<polygon fill=\"lightgrey\" stroke=\"black\" points=\"724,-954.12 564,-954.12 564,-933.38 724,-933.38 724,-954.12\"/>\n",
       "<text text-anchor=\"middle\" x=\"644\" y=\"-940.62\" font-family=\"monospace\" font-size=\"10.00\">NativeLayerNormBackward0</text>\n",
       "</g>\n",
       "<!-- 2272174696976&#45;&gt;2272174694576 -->\n",
       "<g id=\"edge7\" class=\"edge\">\n",
       "<title>2272174696976&#45;&gt;2272174694576</title>\n",
       "<path fill=\"none\" stroke=\"black\" d=\"M646.36,-933.04C651.03,-912.97 661,-865.4 661,-824.88 661,-824.88 661,-824.88 661,-456.88 661,-420.67 661,-378.53 661,-353.8\"/>\n",
       "<polygon fill=\"black\" stroke=\"black\" points=\"664.5,-353.8 661,-343.8 657.5,-353.8 664.5,-353.8\"/>\n",
       "</g>\n",
       "<!-- 2272060743760 -->\n",
       "<g id=\"node143\" class=\"node\">\n",
       "<title>2272060743760</title>\n",
       "<polygon fill=\"lightgrey\" stroke=\"black\" points=\"583,-891 489,-891 489,-870.25 583,-870.25 583,-891\"/>\n",
       "<text text-anchor=\"middle\" x=\"536\" y=\"-877.5\" font-family=\"monospace\" font-size=\"10.00\">ViewBackward0</text>\n",
       "</g>\n",
       "<!-- 2272174696976&#45;&gt;2272060743760 -->\n",
       "<g id=\"edge149\" class=\"edge\">\n",
       "<title>2272174696976&#45;&gt;2272060743760</title>\n",
       "<path fill=\"none\" stroke=\"black\" d=\"M626.65,-932.93C609.56,-923.26 583.22,-908.35 563.32,-897.09\"/>\n",
       "<polygon fill=\"black\" stroke=\"black\" points=\"565.05,-894.05 554.63,-892.17 561.61,-900.14 565.05,-894.05\"/>\n",
       "</g>\n",
       "<!-- 2272174698032 -->\n",
       "<g id=\"node10\" class=\"node\">\n",
       "<title>2272174698032</title>\n",
       "<polygon fill=\"lightgrey\" stroke=\"black\" points=\"905,-1023.62 817,-1023.62 817,-1002.88 905,-1002.88 905,-1023.62\"/>\n",
       "<text text-anchor=\"middle\" x=\"861\" y=\"-1010.12\" font-family=\"monospace\" font-size=\"10.00\">AddBackward0</text>\n",
       "</g>\n",
       "<!-- 2272174698032&#45;&gt;2272174696976 -->\n",
       "<g id=\"edge8\" class=\"edge\">\n",
       "<title>2272174698032&#45;&gt;2272174696976</title>\n",
       "<path fill=\"none\" stroke=\"black\" d=\"M829.45,-1002.43C791.76,-990.71 728.56,-971.05 686.57,-957.99\"/>\n",
       "<polygon fill=\"black\" stroke=\"black\" points=\"687.63,-954.65 677.04,-955.03 685.55,-961.34 687.63,-954.65\"/>\n",
       "</g>\n",
       "<!-- 2272174700720 -->\n",
       "<g id=\"node11\" class=\"node\">\n",
       "<title>2272174700720</title>\n",
       "<polygon fill=\"lightgrey\" stroke=\"black\" points=\"1012,-2279.12 852,-2279.12 852,-2258.38 1012,-2258.38 1012,-2279.12\"/>\n",
       "<text text-anchor=\"middle\" x=\"932\" y=\"-2265.62\" font-family=\"monospace\" font-size=\"10.00\">NativeLayerNormBackward0</text>\n",
       "</g>\n",
       "<!-- 2272174700720&#45;&gt;2272174698032 -->\n",
       "<g id=\"edge9\" class=\"edge\">\n",
       "<title>2272174700720&#45;&gt;2272174698032</title>\n",
       "<path fill=\"none\" stroke=\"black\" d=\"M937.88,-2257.99C950.08,-2236.79 977,-2184.62 977,-2137.12 977,-2137.12 977,-2137.12 977,-1144.88 977,-1106.87 968.62,-1094.95 944,-1066 930.61,-1050.25 911.18,-1037.78 894.49,-1029.03\"/>\n",
       "<polygon fill=\"black\" stroke=\"black\" points=\"896.4,-1026.07 885.89,-1024.74 893.28,-1032.33 896.4,-1026.07\"/>\n",
       "</g>\n",
       "<!-- 2272060743328 -->\n",
       "<g id=\"node112\" class=\"node\">\n",
       "<title>2272060743328</title>\n",
       "<polygon fill=\"lightgrey\" stroke=\"black\" points=\"949,-2209.62 825,-2209.62 825,-2188.88 949,-2188.88 949,-2209.62\"/>\n",
       "<text text-anchor=\"middle\" x=\"887\" y=\"-2196.12\" font-family=\"monospace\" font-size=\"10.00\">TransposeBackward0</text>\n",
       "</g>\n",
       "<!-- 2272174700720&#45;&gt;2272060743328 -->\n",
       "<g id=\"edge115\" class=\"edge\">\n",
       "<title>2272174700720&#45;&gt;2272060743328</title>\n",
       "<path fill=\"none\" stroke=\"black\" d=\"M925.55,-2258.08C918.8,-2247.95 908.03,-2231.8 899.59,-2219.13\"/>\n",
       "<polygon fill=\"black\" stroke=\"black\" points=\"902.73,-2217.54 894.28,-2211.16 896.91,-2221.42 902.73,-2217.54\"/>\n",
       "</g>\n",
       "<!-- 2272174694384 -->\n",
       "<g id=\"node12\" class=\"node\">\n",
       "<title>2272174694384</title>\n",
       "<polygon fill=\"lightgrey\" stroke=\"black\" points=\"817,-2342.25 729,-2342.25 729,-2321.5 817,-2321.5 817,-2342.25\"/>\n",
       "<text text-anchor=\"middle\" x=\"773\" y=\"-2328.75\" font-family=\"monospace\" font-size=\"10.00\">AddBackward0</text>\n",
       "</g>\n",
       "<!-- 2272174694384&#45;&gt;2272174700720 -->\n",
       "<g id=\"edge10\" class=\"edge\">\n",
       "<title>2272174694384&#45;&gt;2272174700720</title>\n",
       "<path fill=\"none\" stroke=\"black\" d=\"M798.55,-2321.05C824.97,-2310.9 866.46,-2294.95 896.16,-2283.53\"/>\n",
       "<polygon fill=\"black\" stroke=\"black\" points=\"897.03,-2286.94 905.1,-2280.09 894.51,-2280.41 897.03,-2286.94\"/>\n",
       "</g>\n",
       "<!-- 2272174691696 -->\n",
       "<g id=\"node13\" class=\"node\">\n",
       "<title>2272174691696</title>\n",
       "<polygon fill=\"lightgrey\" stroke=\"black\" points=\"850,-2954.38 690,-2954.38 690,-2933.62 850,-2933.62 850,-2954.38\"/>\n",
       "<text text-anchor=\"middle\" x=\"770\" y=\"-2940.88\" font-family=\"monospace\" font-size=\"10.00\">NativeLayerNormBackward0</text>\n",
       "</g>\n",
       "<!-- 2272174691696&#45;&gt;2272174694384 -->\n",
       "<g id=\"edge11\" class=\"edge\">\n",
       "<title>2272174691696&#45;&gt;2272174694384</title>\n",
       "<path fill=\"none\" stroke=\"black\" d=\"M770.42,-2933.22C771.24,-2913.03 773,-2865.25 773,-2825.12 773,-2825.12 773,-2825.12 773,-2457.12 773,-2420.92 773,-2378.78 773,-2354.05\"/>\n",
       "<polygon fill=\"black\" stroke=\"black\" points=\"776.5,-2354.05 773,-2344.05 769.5,-2354.05 776.5,-2354.05\"/>\n",
       "</g>\n",
       "<!-- 2272174697504 -->\n",
       "<g id=\"node78\" class=\"node\">\n",
       "<title>2272174697504</title>\n",
       "<polygon fill=\"lightgrey\" stroke=\"black\" points=\"714,-2891.25 620,-2891.25 620,-2870.5 714,-2870.5 714,-2891.25\"/>\n",
       "<text text-anchor=\"middle\" x=\"667\" y=\"-2877.75\" font-family=\"monospace\" font-size=\"10.00\">ViewBackward0</text>\n",
       "</g>\n",
       "<!-- 2272174691696&#45;&gt;2272174697504 -->\n",
       "<g id=\"edge80\" class=\"edge\">\n",
       "<title>2272174691696&#45;&gt;2272174697504</title>\n",
       "<path fill=\"none\" stroke=\"black\" d=\"M753.45,-2933.18C737.23,-2923.55 712.26,-2908.73 693.32,-2897.49\"/>\n",
       "<polygon fill=\"black\" stroke=\"black\" points=\"695.2,-2894.54 684.81,-2892.44 691.62,-2900.56 695.2,-2894.54\"/>\n",
       "</g>\n",
       "<!-- 2272174692224 -->\n",
       "<g id=\"node14\" class=\"node\">\n",
       "<title>2272174692224</title>\n",
       "<polygon fill=\"lightgrey\" stroke=\"black\" points=\"1031,-3023.88 943,-3023.88 943,-3003.12 1031,-3003.12 1031,-3023.88\"/>\n",
       "<text text-anchor=\"middle\" x=\"987\" y=\"-3010.38\" font-family=\"monospace\" font-size=\"10.00\">AddBackward0</text>\n",
       "</g>\n",
       "<!-- 2272174692224&#45;&gt;2272174691696 -->\n",
       "<g id=\"edge12\" class=\"edge\">\n",
       "<title>2272174692224&#45;&gt;2272174691696</title>\n",
       "<path fill=\"none\" stroke=\"black\" d=\"M955.45,-3002.68C917.76,-2990.96 854.56,-2971.3 812.57,-2958.24\"/>\n",
       "<polygon fill=\"black\" stroke=\"black\" points=\"813.63,-2954.9 803.04,-2955.28 811.55,-2961.59 813.63,-2954.9\"/>\n",
       "</g>\n",
       "<!-- 2272174690544 -->\n",
       "<g id=\"node15\" class=\"node\">\n",
       "<title>2272174690544</title>\n",
       "<polygon fill=\"lightgrey\" stroke=\"black\" points=\"1220,-4279.38 1072,-4279.38 1072,-4258.62 1220,-4258.62 1220,-4279.38\"/>\n",
       "<text text-anchor=\"middle\" x=\"1146\" y=\"-4265.88\" font-family=\"monospace\" font-size=\"10.00\">NativeDropoutBackward0</text>\n",
       "</g>\n",
       "<!-- 2272174690544&#45;&gt;2272174692224 -->\n",
       "<g id=\"edge13\" class=\"edge\">\n",
       "<title>2272174690544&#45;&gt;2272174692224</title>\n",
       "<path fill=\"none\" stroke=\"black\" d=\"M1151.88,-4258.24C1164.08,-4237.04 1191,-4184.87 1191,-4137.38 1191,-4137.38 1191,-4137.38 1191,-3145.12 1191,-3074.26 1102.61,-3040.09 1042.19,-3025.01\"/>\n",
       "<polygon fill=\"black\" stroke=\"black\" points=\"1043.28,-3021.67 1032.74,-3022.76 1041.66,-3028.48 1043.28,-3021.67\"/>\n",
       "</g>\n",
       "<!-- 2272174695872 -->\n",
       "<g id=\"node47\" class=\"node\">\n",
       "<title>2272174695872</title>\n",
       "<polygon fill=\"lightgrey\" stroke=\"black\" points=\"1163,-4209.88 1039,-4209.88 1039,-4189.12 1163,-4189.12 1163,-4209.88\"/>\n",
       "<text text-anchor=\"middle\" x=\"1101\" y=\"-4196.38\" font-family=\"monospace\" font-size=\"10.00\">TransposeBackward0</text>\n",
       "</g>\n",
       "<!-- 2272174690544&#45;&gt;2272174695872 -->\n",
       "<g id=\"edge46\" class=\"edge\">\n",
       "<title>2272174690544&#45;&gt;2272174695872</title>\n",
       "<path fill=\"none\" stroke=\"black\" d=\"M1139.55,-4258.33C1132.8,-4248.2 1122.03,-4232.05 1113.59,-4219.38\"/>\n",
       "<polygon fill=\"black\" stroke=\"black\" points=\"1116.73,-4217.79 1108.28,-4211.41 1110.91,-4221.67 1116.73,-4217.79\"/>\n",
       "</g>\n",
       "<!-- 2272174694912 -->\n",
       "<g id=\"node16\" class=\"node\">\n",
       "<title>2272174694912</title>\n",
       "<polygon fill=\"lightgrey\" stroke=\"black\" points=\"1190,-4342.5 1102,-4342.5 1102,-4321.75 1190,-4321.75 1190,-4342.5\"/>\n",
       "<text text-anchor=\"middle\" x=\"1146\" y=\"-4329\" font-family=\"monospace\" font-size=\"10.00\">AddBackward0</text>\n",
       "</g>\n",
       "<!-- 2272174694912&#45;&gt;2272174690544 -->\n",
       "<g id=\"edge14\" class=\"edge\">\n",
       "<title>2272174694912&#45;&gt;2272174690544</title>\n",
       "<path fill=\"none\" stroke=\"black\" d=\"M1146,-4321.3C1146,-4313.15 1146,-4301.26 1146,-4290.98\"/>\n",
       "<polygon fill=\"black\" stroke=\"black\" points=\"1149.5,-4291.11 1146,-4281.11 1142.5,-4291.11 1149.5,-4291.11\"/>\n",
       "</g>\n",
       "<!-- 2272174696880 -->\n",
       "<g id=\"node17\" class=\"node\">\n",
       "<title>2272174696880</title>\n",
       "<polygon fill=\"lightgrey\" stroke=\"black\" points=\"1193,-4399.25 1099,-4399.25 1099,-4378.5 1193,-4378.5 1193,-4399.25\"/>\n",
       "<text text-anchor=\"middle\" x=\"1146\" y=\"-4385.75\" font-family=\"monospace\" font-size=\"10.00\">ViewBackward0</text>\n",
       "</g>\n",
       "<!-- 2272174696880&#45;&gt;2272174694912 -->\n",
       "<g id=\"edge15\" class=\"edge\">\n",
       "<title>2272174696880&#45;&gt;2272174694912</title>\n",
       "<path fill=\"none\" stroke=\"black\" d=\"M1146,-4378.09C1146,-4371.47 1146,-4362.47 1146,-4354.27\"/>\n",
       "<polygon fill=\"black\" stroke=\"black\" points=\"1149.5,-4354.34 1146,-4344.34 1142.5,-4354.34 1149.5,-4354.34\"/>\n",
       "</g>\n",
       "<!-- 2272174696784 -->\n",
       "<g id=\"node18\" class=\"node\">\n",
       "<title>2272174696784</title>\n",
       "<polygon fill=\"lightgrey\" stroke=\"black\" points=\"1196,-4456 1096,-4456 1096,-4435.25 1196,-4435.25 1196,-4456\"/>\n",
       "<text text-anchor=\"middle\" x=\"1146\" y=\"-4442.5\" font-family=\"monospace\" font-size=\"10.00\">AddmmBackward0</text>\n",
       "</g>\n",
       "<!-- 2272174696784&#45;&gt;2272174696880 -->\n",
       "<g id=\"edge16\" class=\"edge\">\n",
       "<title>2272174696784&#45;&gt;2272174696880</title>\n",
       "<path fill=\"none\" stroke=\"black\" d=\"M1146,-4434.84C1146,-4428.22 1146,-4419.22 1146,-4411.02\"/>\n",
       "<polygon fill=\"black\" stroke=\"black\" points=\"1149.5,-4411.09 1146,-4401.09 1142.5,-4411.09 1149.5,-4411.09\"/>\n",
       "</g>\n",
       "<!-- 2272174692752 -->\n",
       "<g id=\"node19\" class=\"node\">\n",
       "<title>2272174692752</title>\n",
       "<polygon fill=\"lightgrey\" stroke=\"black\" points=\"1135,-4512.75 1035,-4512.75 1035,-4492 1135,-4492 1135,-4512.75\"/>\n",
       "<text text-anchor=\"middle\" x=\"1085\" y=\"-4499.25\" font-family=\"monospace\" font-size=\"10.00\">AccumulateGrad</text>\n",
       "</g>\n",
       "<!-- 2272174692752&#45;&gt;2272174696784 -->\n",
       "<g id=\"edge17\" class=\"edge\">\n",
       "<title>2272174692752&#45;&gt;2272174696784</title>\n",
       "<path fill=\"none\" stroke=\"black\" d=\"M1095.91,-4491.59C1104.49,-4483.88 1116.67,-4472.95 1126.88,-4463.79\"/>\n",
       "<polygon fill=\"black\" stroke=\"black\" points=\"1128.96,-4466.62 1134.06,-4457.34 1124.28,-4461.41 1128.96,-4466.62\"/>\n",
       "</g>\n",
       "<!-- 2273449406240 -->\n",
       "<g id=\"node20\" class=\"node\">\n",
       "<title>2273449406240</title>\n",
       "<polygon fill=\"lightblue\" stroke=\"black\" points=\"1148,-4582.25 1006,-4582.25 1006,-4548.75 1148,-4548.75 1148,-4582.25\"/>\n",
       "<text text-anchor=\"middle\" x=\"1077\" y=\"-4568.75\" font-family=\"monospace\" font-size=\"10.00\">input_projection.bias</text>\n",
       "<text text-anchor=\"middle\" x=\"1077\" y=\"-4556\" font-family=\"monospace\" font-size=\"10.00\"> (64)</text>\n",
       "</g>\n",
       "<!-- 2273449406240&#45;&gt;2272174692752 -->\n",
       "<g id=\"edge18\" class=\"edge\">\n",
       "<title>2273449406240&#45;&gt;2272174692752</title>\n",
       "<path fill=\"none\" stroke=\"black\" d=\"M1079.1,-4548.44C1080.06,-4541.1 1081.21,-4532.32 1082.24,-4524.46\"/>\n",
       "<polygon fill=\"black\" stroke=\"black\" points=\"1085.69,-4525.09 1083.52,-4514.72 1078.75,-4524.18 1085.69,-4525.09\"/>\n",
       "</g>\n",
       "<!-- 2272174697552 -->\n",
       "<g id=\"node21\" class=\"node\">\n",
       "<title>2272174697552</title>\n",
       "<polygon fill=\"lightgrey\" stroke=\"black\" points=\"1245,-4512.75 1169,-4512.75 1169,-4492 1245,-4492 1245,-4512.75\"/>\n",
       "<text text-anchor=\"middle\" x=\"1207\" y=\"-4499.25\" font-family=\"monospace\" font-size=\"10.00\">TBackward0</text>\n",
       "</g>\n",
       "<!-- 2272174697552&#45;&gt;2272174696784 -->\n",
       "<g id=\"edge19\" class=\"edge\">\n",
       "<title>2272174697552&#45;&gt;2272174696784</title>\n",
       "<path fill=\"none\" stroke=\"black\" d=\"M1196.09,-4491.59C1187.51,-4483.88 1175.33,-4472.95 1165.12,-4463.79\"/>\n",
       "<polygon fill=\"black\" stroke=\"black\" points=\"1167.72,-4461.41 1157.94,-4457.34 1163.04,-4466.62 1167.72,-4461.41\"/>\n",
       "</g>\n",
       "<!-- 2272174696448 -->\n",
       "<g id=\"node22\" class=\"node\">\n",
       "<title>2272174696448</title>\n",
       "<polygon fill=\"lightgrey\" stroke=\"black\" points=\"1266,-4575.88 1166,-4575.88 1166,-4555.12 1266,-4555.12 1266,-4575.88\"/>\n",
       "<text text-anchor=\"middle\" x=\"1216\" y=\"-4562.38\" font-family=\"monospace\" font-size=\"10.00\">AccumulateGrad</text>\n",
       "</g>\n",
       "<!-- 2272174696448&#45;&gt;2272174697552 -->\n",
       "<g id=\"edge20\" class=\"edge\">\n",
       "<title>2272174696448&#45;&gt;2272174697552</title>\n",
       "<path fill=\"none\" stroke=\"black\" d=\"M1214.55,-4554.68C1213.35,-4546.52 1211.6,-4534.63 1210.09,-4524.35\"/>\n",
       "<polygon fill=\"black\" stroke=\"black\" points=\"1213.55,-4523.85 1208.63,-4514.47 1206.63,-4524.87 1213.55,-4523.85\"/>\n",
       "</g>\n",
       "<!-- 2273449441728 -->\n",
       "<g id=\"node23\" class=\"node\">\n",
       "<title>2273449441728</title>\n",
       "<polygon fill=\"lightblue\" stroke=\"black\" points=\"1293,-4651.75 1139,-4651.75 1139,-4618.25 1293,-4618.25 1293,-4651.75\"/>\n",
       "<text text-anchor=\"middle\" x=\"1216\" y=\"-4638.25\" font-family=\"monospace\" font-size=\"10.00\">input_projection.weight</text>\n",
       "<text text-anchor=\"middle\" x=\"1216\" y=\"-4625.5\" font-family=\"monospace\" font-size=\"10.00\"> (64, 6)</text>\n",
       "</g>\n",
       "<!-- 2273449441728&#45;&gt;2272174696448 -->\n",
       "<g id=\"edge21\" class=\"edge\">\n",
       "<title>2273449441728&#45;&gt;2272174696448</title>\n",
       "<path fill=\"none\" stroke=\"black\" d=\"M1216,-4618C1216,-4608.9 1216,-4597.39 1216,-4587.57\"/>\n",
       "<polygon fill=\"black\" stroke=\"black\" points=\"1219.5,-4587.84 1216,-4577.84 1212.5,-4587.84 1219.5,-4587.84\"/>\n",
       "</g>\n",
       "<!-- 2272174690496 -->\n",
       "<g id=\"node24\" class=\"node\">\n",
       "<title>2272174690496</title>\n",
       "<polygon fill=\"lightgrey\" stroke=\"black\" points=\"1061,-3093.38 913,-3093.38 913,-3072.62 1061,-3072.62 1061,-3093.38\"/>\n",
       "<text text-anchor=\"middle\" x=\"987\" y=\"-3079.88\" font-family=\"monospace\" font-size=\"10.00\">NativeDropoutBackward0</text>\n",
       "</g>\n",
       "<!-- 2272174690496&#45;&gt;2272174692224 -->\n",
       "<g id=\"edge22\" class=\"edge\">\n",
       "<title>2272174690496&#45;&gt;2272174692224</title>\n",
       "<path fill=\"none\" stroke=\"black\" d=\"M987,-3072.33C987,-3062.71 987,-3047.63 987,-3035.29\"/>\n",
       "<polygon fill=\"black\" stroke=\"black\" points=\"990.5,-3035.67 987,-3025.67 983.5,-3035.67 990.5,-3035.67\"/>\n",
       "</g>\n",
       "<!-- 2272174696736 -->\n",
       "<g id=\"node25\" class=\"node\">\n",
       "<title>2272174696736</title>\n",
       "<polygon fill=\"lightgrey\" stroke=\"black\" points=\"982,-3156.5 858,-3156.5 858,-3135.75 982,-3135.75 982,-3156.5\"/>\n",
       "<text text-anchor=\"middle\" x=\"920\" y=\"-3143\" font-family=\"monospace\" font-size=\"10.00\">TransposeBackward0</text>\n",
       "</g>\n",
       "<!-- 2272174696736&#45;&gt;2272174690496 -->\n",
       "<g id=\"edge23\" class=\"edge\">\n",
       "<title>2272174696736&#45;&gt;2272174690496</title>\n",
       "<path fill=\"none\" stroke=\"black\" d=\"M930.76,-3135.3C940.79,-3126.16 955.95,-3112.33 968.01,-3101.33\"/>\n",
       "<polygon fill=\"black\" stroke=\"black\" points=\"970.34,-3103.94 975.36,-3094.61 965.62,-3098.77 970.34,-3103.94\"/>\n",
       "</g>\n",
       "<!-- 2272174696304 -->\n",
       "<g id=\"node26\" class=\"node\">\n",
       "<title>2272174696304</title>\n",
       "<polygon fill=\"lightgrey\" stroke=\"black\" points=\"954,-3213.25 860,-3213.25 860,-3192.5 954,-3192.5 954,-3213.25\"/>\n",
       "<text text-anchor=\"middle\" x=\"907\" y=\"-3199.75\" font-family=\"monospace\" font-size=\"10.00\">ViewBackward0</text>\n",
       "</g>\n",
       "<!-- 2272174696304&#45;&gt;2272174696736 -->\n",
       "<g id=\"edge24\" class=\"edge\">\n",
       "<title>2272174696304&#45;&gt;2272174696736</title>\n",
       "<path fill=\"none\" stroke=\"black\" d=\"M909.32,-3192.09C910.91,-3185.39 913.08,-3176.26 915.05,-3167.98\"/>\n",
       "<polygon fill=\"black\" stroke=\"black\" points=\"918.44,-3168.84 917.35,-3158.3 911.63,-3167.22 918.44,-3168.84\"/>\n",
       "</g>\n",
       "<!-- 2272174688480 -->\n",
       "<g id=\"node27\" class=\"node\">\n",
       "<title>2272174688480</title>\n",
       "<polygon fill=\"lightgrey\" stroke=\"black\" points=\"931,-3270 831,-3270 831,-3249.25 931,-3249.25 931,-3270\"/>\n",
       "<text text-anchor=\"middle\" x=\"881\" y=\"-3256.5\" font-family=\"monospace\" font-size=\"10.00\">AddmmBackward0</text>\n",
       "</g>\n",
       "<!-- 2272174688480&#45;&gt;2272174696304 -->\n",
       "<g id=\"edge25\" class=\"edge\">\n",
       "<title>2272174688480&#45;&gt;2272174696304</title>\n",
       "<path fill=\"none\" stroke=\"black\" d=\"M885.65,-3248.84C888.94,-3241.91 893.47,-3232.37 897.51,-3223.86\"/>\n",
       "<polygon fill=\"black\" stroke=\"black\" points=\"900.61,-3225.48 901.74,-3214.95 894.29,-3222.48 900.61,-3225.48\"/>\n",
       "</g>\n",
       "<!-- 2272174686992 -->\n",
       "<g id=\"node28\" class=\"node\">\n",
       "<title>2272174686992</title>\n",
       "<polygon fill=\"lightgrey\" stroke=\"black\" points=\"1013,-3326.75 913,-3326.75 913,-3306 1013,-3306 1013,-3326.75\"/>\n",
       "<text text-anchor=\"middle\" x=\"963\" y=\"-3313.25\" font-family=\"monospace\" font-size=\"10.00\">AccumulateGrad</text>\n",
       "</g>\n",
       "<!-- 2272174686992&#45;&gt;2272174688480 -->\n",
       "<g id=\"edge26\" class=\"edge\">\n",
       "<title>2272174686992&#45;&gt;2272174688480</title>\n",
       "<path fill=\"none\" stroke=\"black\" d=\"M948.34,-3305.59C936.33,-3297.57 919.09,-3286.06 905.06,-3276.69\"/>\n",
       "<polygon fill=\"black\" stroke=\"black\" points=\"907.05,-3273.81 896.79,-3271.17 903.16,-3279.63 907.05,-3273.81\"/>\n",
       "</g>\n",
       "<!-- 2273449403280 -->\n",
       "<g id=\"node29\" class=\"node\">\n",
       "<title>2273449403280</title>\n",
       "<polygon fill=\"lightblue\" stroke=\"black\" points=\"1163,-3396.25 835,-3396.25 835,-3362.75 1163,-3362.75 1163,-3396.25\"/>\n",
       "<text text-anchor=\"middle\" x=\"999\" y=\"-3382.75\" font-family=\"monospace\" font-size=\"10.00\">transformer_encoder.layers.0.self_attn.out_proj.bias</text>\n",
       "<text text-anchor=\"middle\" x=\"999\" y=\"-3370\" font-family=\"monospace\" font-size=\"10.00\"> (64)</text>\n",
       "</g>\n",
       "<!-- 2273449403280&#45;&gt;2272174686992 -->\n",
       "<g id=\"edge27\" class=\"edge\">\n",
       "<title>2273449403280&#45;&gt;2272174686992</title>\n",
       "<path fill=\"none\" stroke=\"black\" d=\"M989.54,-3362.44C984.96,-3354.67 979.43,-3345.27 974.6,-3337.07\"/>\n",
       "<polygon fill=\"black\" stroke=\"black\" points=\"977.66,-3335.36 969.56,-3328.52 971.62,-3338.91 977.66,-3335.36\"/>\n",
       "</g>\n",
       "<!-- 2272174688432 -->\n",
       "<g id=\"node30\" class=\"node\">\n",
       "<title>2272174688432</title>\n",
       "<polygon fill=\"lightgrey\" stroke=\"black\" points=\"877,-3326.75 783,-3326.75 783,-3306 877,-3306 877,-3326.75\"/>\n",
       "<text text-anchor=\"middle\" x=\"830\" y=\"-3313.25\" font-family=\"monospace\" font-size=\"10.00\">ViewBackward0</text>\n",
       "</g>\n",
       "<!-- 2272174688432&#45;&gt;2272174688480 -->\n",
       "<g id=\"edge28\" class=\"edge\">\n",
       "<title>2272174688432&#45;&gt;2272174688480</title>\n",
       "<path fill=\"none\" stroke=\"black\" d=\"M839.12,-3305.59C846.08,-3298.11 855.87,-3287.61 864.23,-3278.63\"/>\n",
       "<polygon fill=\"black\" stroke=\"black\" points=\"866.67,-3281.14 870.93,-3271.44 861.55,-3276.37 866.67,-3281.14\"/>\n",
       "</g>\n",
       "<!-- 2272174690400 -->\n",
       "<g id=\"node31\" class=\"node\">\n",
       "<title>2272174690400</title>\n",
       "<polygon fill=\"lightgrey\" stroke=\"black\" points=\"817,-3389.88 705,-3389.88 705,-3369.12 817,-3369.12 817,-3389.88\"/>\n",
       "<text text-anchor=\"middle\" x=\"761\" y=\"-3376.38\" font-family=\"monospace\" font-size=\"10.00\">PermuteBackward0</text>\n",
       "</g>\n",
       "<!-- 2272174690400&#45;&gt;2272174688432 -->\n",
       "<g id=\"edge29\" class=\"edge\">\n",
       "<title>2272174690400&#45;&gt;2272174688432</title>\n",
       "<path fill=\"none\" stroke=\"black\" d=\"M772.09,-3368.68C782.51,-3359.45 798.33,-3345.43 810.8,-3334.38\"/>\n",
       "<polygon fill=\"black\" stroke=\"black\" points=\"812.87,-3337.22 818.04,-3327.97 808.23,-3331.98 812.87,-3337.22\"/>\n",
       "</g>\n",
       "<!-- 2272174687616 -->\n",
       "<g id=\"node32\" class=\"node\">\n",
       "<title>2272174687616</title>\n",
       "<polygon fill=\"lightgrey\" stroke=\"black\" points=\"997,-3459.38 723,-3459.38 723,-3438.62 997,-3438.62 997,-3459.38\"/>\n",
       "<text text-anchor=\"middle\" x=\"860\" y=\"-3445.88\" font-family=\"monospace\" font-size=\"10.00\">ScaledDotProductEfficientAttentionBackward0</text>\n",
       "</g>\n",
       "<!-- 2272174687616&#45;&gt;2272174690400 -->\n",
       "<g id=\"edge30\" class=\"edge\">\n",
       "<title>2272174687616&#45;&gt;2272174690400</title>\n",
       "<path fill=\"none\" stroke=\"black\" d=\"M845.82,-3438.33C829.95,-3427.51 804,-3409.82 784.97,-3396.84\"/>\n",
       "<polygon fill=\"black\" stroke=\"black\" points=\"786.96,-3393.97 776.73,-3391.23 783.02,-3399.75 786.96,-3393.97\"/>\n",
       "</g>\n",
       "<!-- 2272174687520 -->\n",
       "<g id=\"node33\" class=\"node\">\n",
       "<title>2272174687520</title>\n",
       "<polygon fill=\"lightgrey\" stroke=\"black\" points=\"907,-3522.5 813,-3522.5 813,-3501.75 907,-3501.75 907,-3522.5\"/>\n",
       "<text text-anchor=\"middle\" x=\"860\" y=\"-3509\" font-family=\"monospace\" font-size=\"10.00\">ViewBackward0</text>\n",
       "</g>\n",
       "<!-- 2272174687520&#45;&gt;2272174687616 -->\n",
       "<g id=\"edge31\" class=\"edge\">\n",
       "<title>2272174687520&#45;&gt;2272174687616</title>\n",
       "<path fill=\"none\" stroke=\"black\" d=\"M860,-3501.3C860,-3493.15 860,-3481.26 860,-3470.98\"/>\n",
       "<polygon fill=\"black\" stroke=\"black\" points=\"863.5,-3471.11 860,-3461.11 856.5,-3471.11 863.5,-3471.11\"/>\n",
       "</g>\n",
       "<!-- 2272174690064 -->\n",
       "<g id=\"node34\" class=\"node\">\n",
       "<title>2272174690064</title>\n",
       "<polygon fill=\"lightgrey\" stroke=\"black\" points=\"922,-3579.25 798,-3579.25 798,-3558.5 922,-3558.5 922,-3579.25\"/>\n",
       "<text text-anchor=\"middle\" x=\"860\" y=\"-3565.75\" font-family=\"monospace\" font-size=\"10.00\">TransposeBackward0</text>\n",
       "</g>\n",
       "<!-- 2272174690064&#45;&gt;2272174687520 -->\n",
       "<g id=\"edge32\" class=\"edge\">\n",
       "<title>2272174690064&#45;&gt;2272174687520</title>\n",
       "<path fill=\"none\" stroke=\"black\" d=\"M860,-3558.09C860,-3551.47 860,-3542.47 860,-3534.27\"/>\n",
       "<polygon fill=\"black\" stroke=\"black\" points=\"863.5,-3534.34 860,-3524.34 856.5,-3534.34 863.5,-3534.34\"/>\n",
       "</g>\n",
       "<!-- 2272174692896 -->\n",
       "<g id=\"node35\" class=\"node\">\n",
       "<title>2272174692896</title>\n",
       "<polygon fill=\"lightgrey\" stroke=\"black\" points=\"907,-3636 813,-3636 813,-3615.25 907,-3615.25 907,-3636\"/>\n",
       "<text text-anchor=\"middle\" x=\"860\" y=\"-3622.5\" font-family=\"monospace\" font-size=\"10.00\">ViewBackward0</text>\n",
       "</g>\n",
       "<!-- 2272174692896&#45;&gt;2272174690064 -->\n",
       "<g id=\"edge33\" class=\"edge\">\n",
       "<title>2272174692896&#45;&gt;2272174690064</title>\n",
       "<path fill=\"none\" stroke=\"black\" d=\"M860,-3614.84C860,-3608.22 860,-3599.22 860,-3591.02\"/>\n",
       "<polygon fill=\"black\" stroke=\"black\" points=\"863.5,-3591.09 860,-3581.09 856.5,-3591.09 863.5,-3591.09\"/>\n",
       "</g>\n",
       "<!-- 2272174693664 -->\n",
       "<g id=\"node36\" class=\"node\">\n",
       "<title>2272174693664</title>\n",
       "<polygon fill=\"lightgrey\" stroke=\"black\" points=\"913,-3692.75 807,-3692.75 807,-3672 913,-3672 913,-3692.75\"/>\n",
       "<text text-anchor=\"middle\" x=\"860\" y=\"-3679.25\" font-family=\"monospace\" font-size=\"10.00\">SelectBackward0</text>\n",
       "</g>\n",
       "<!-- 2272174693664&#45;&gt;2272174692896 -->\n",
       "<g id=\"edge34\" class=\"edge\">\n",
       "<title>2272174693664&#45;&gt;2272174692896</title>\n",
       "<path fill=\"none\" stroke=\"black\" d=\"M860,-3671.59C860,-3664.97 860,-3655.97 860,-3647.77\"/>\n",
       "<polygon fill=\"black\" stroke=\"black\" points=\"863.5,-3647.84 860,-3637.84 856.5,-3647.84 863.5,-3647.84\"/>\n",
       "</g>\n",
       "<!-- 2272174689296 -->\n",
       "<g id=\"node37\" class=\"node\">\n",
       "<title>2272174689296</title>\n",
       "<polygon fill=\"lightgrey\" stroke=\"black\" points=\"910,-3749.5 810,-3749.5 810,-3728.75 910,-3728.75 910,-3749.5\"/>\n",
       "<text text-anchor=\"middle\" x=\"860\" y=\"-3736\" font-family=\"monospace\" font-size=\"10.00\">CloneBackward0</text>\n",
       "</g>\n",
       "<!-- 2272174689296&#45;&gt;2272174693664 -->\n",
       "<g id=\"edge35\" class=\"edge\">\n",
       "<title>2272174689296&#45;&gt;2272174693664</title>\n",
       "<path fill=\"none\" stroke=\"black\" d=\"M860,-3728.34C860,-3721.72 860,-3712.72 860,-3704.52\"/>\n",
       "<polygon fill=\"black\" stroke=\"black\" points=\"863.5,-3704.59 860,-3694.59 856.5,-3704.59 863.5,-3704.59\"/>\n",
       "</g>\n",
       "<!-- 2272174686944 -->\n",
       "<g id=\"node54\" class=\"node\">\n",
       "<title>2272174686944</title>\n",
       "<polygon fill=\"lightgrey\" stroke=\"black\" points=\"1042,-3692.75 936,-3692.75 936,-3672 1042,-3672 1042,-3692.75\"/>\n",
       "<text text-anchor=\"middle\" x=\"989\" y=\"-3679.25\" font-family=\"monospace\" font-size=\"10.00\">SelectBackward0</text>\n",
       "</g>\n",
       "<!-- 2272174689296&#45;&gt;2272174686944 -->\n",
       "<g id=\"edge54\" class=\"edge\">\n",
       "<title>2272174689296&#45;&gt;2272174686944</title>\n",
       "<path fill=\"none\" stroke=\"black\" d=\"M883.06,-3728.34C903.24,-3719.77 932.8,-3707.23 955.57,-3697.56\"/>\n",
       "<polygon fill=\"black\" stroke=\"black\" points=\"956.91,-3700.8 964.74,-3693.67 954.17,-3694.35 956.91,-3700.8\"/>\n",
       "</g>\n",
       "<!-- 2272174686320 -->\n",
       "<g id=\"node58\" class=\"node\">\n",
       "<title>2272174686320</title>\n",
       "<polygon fill=\"lightgrey\" stroke=\"black\" points=\"780,-3692.75 674,-3692.75 674,-3672 780,-3672 780,-3692.75\"/>\n",
       "<text text-anchor=\"middle\" x=\"727\" y=\"-3679.25\" font-family=\"monospace\" font-size=\"10.00\">SelectBackward0</text>\n",
       "</g>\n",
       "<!-- 2272174689296&#45;&gt;2272174686320 -->\n",
       "<g id=\"edge59\" class=\"edge\">\n",
       "<title>2272174689296&#45;&gt;2272174686320</title>\n",
       "<path fill=\"none\" stroke=\"black\" d=\"M836.22,-3728.34C815.32,-3719.73 784.66,-3707.11 761.14,-3697.43\"/>\n",
       "<polygon fill=\"black\" stroke=\"black\" points=\"762.55,-3694.22 751.97,-3693.65 759.89,-3700.7 762.55,-3694.22\"/>\n",
       "</g>\n",
       "<!-- 2272174698704 -->\n",
       "<g id=\"node38\" class=\"node\">\n",
       "<title>2272174698704</title>\n",
       "<polygon fill=\"lightgrey\" stroke=\"black\" points=\"916,-3806.25 804,-3806.25 804,-3785.5 916,-3785.5 916,-3806.25\"/>\n",
       "<text text-anchor=\"middle\" x=\"860\" y=\"-3792.75\" font-family=\"monospace\" font-size=\"10.00\">SqueezeBackward1</text>\n",
       "</g>\n",
       "<!-- 2272174698704&#45;&gt;2272174689296 -->\n",
       "<g id=\"edge36\" class=\"edge\">\n",
       "<title>2272174698704&#45;&gt;2272174689296</title>\n",
       "<path fill=\"none\" stroke=\"black\" d=\"M860,-3785.09C860,-3778.47 860,-3769.47 860,-3761.27\"/>\n",
       "<polygon fill=\"black\" stroke=\"black\" points=\"863.5,-3761.34 860,-3751.34 856.5,-3761.34 863.5,-3761.34\"/>\n",
       "</g>\n",
       "<!-- 2272174686800 -->\n",
       "<g id=\"node39\" class=\"node\">\n",
       "<title>2272174686800</title>\n",
       "<polygon fill=\"lightgrey\" stroke=\"black\" points=\"922,-3863 798,-3863 798,-3842.25 922,-3842.25 922,-3863\"/>\n",
       "<text text-anchor=\"middle\" x=\"860\" y=\"-3849.5\" font-family=\"monospace\" font-size=\"10.00\">TransposeBackward0</text>\n",
       "</g>\n",
       "<!-- 2272174686800&#45;&gt;2272174698704 -->\n",
       "<g id=\"edge37\" class=\"edge\">\n",
       "<title>2272174686800&#45;&gt;2272174698704</title>\n",
       "<path fill=\"none\" stroke=\"black\" d=\"M860,-3841.84C860,-3835.22 860,-3826.22 860,-3818.02\"/>\n",
       "<polygon fill=\"black\" stroke=\"black\" points=\"863.5,-3818.09 860,-3808.09 856.5,-3818.09 863.5,-3818.09\"/>\n",
       "</g>\n",
       "<!-- 2272174690304 -->\n",
       "<g id=\"node40\" class=\"node\">\n",
       "<title>2272174690304</title>\n",
       "<polygon fill=\"lightgrey\" stroke=\"black\" points=\"922,-3919.75 798,-3919.75 798,-3899 922,-3899 922,-3919.75\"/>\n",
       "<text text-anchor=\"middle\" x=\"860\" y=\"-3906.25\" font-family=\"monospace\" font-size=\"10.00\">UnsqueezeBackward0</text>\n",
       "</g>\n",
       "<!-- 2272174690304&#45;&gt;2272174686800 -->\n",
       "<g id=\"edge38\" class=\"edge\">\n",
       "<title>2272174690304&#45;&gt;2272174686800</title>\n",
       "<path fill=\"none\" stroke=\"black\" d=\"M860,-3898.59C860,-3891.97 860,-3882.97 860,-3874.77\"/>\n",
       "<polygon fill=\"black\" stroke=\"black\" points=\"863.5,-3874.84 860,-3864.84 856.5,-3874.84 863.5,-3874.84\"/>\n",
       "</g>\n",
       "<!-- 2272174699088 -->\n",
       "<g id=\"node41\" class=\"node\">\n",
       "<title>2272174699088</title>\n",
       "<polygon fill=\"lightgrey\" stroke=\"black\" points=\"907,-3976.5 813,-3976.5 813,-3955.75 907,-3955.75 907,-3976.5\"/>\n",
       "<text text-anchor=\"middle\" x=\"860\" y=\"-3963\" font-family=\"monospace\" font-size=\"10.00\">ViewBackward0</text>\n",
       "</g>\n",
       "<!-- 2272174699088&#45;&gt;2272174690304 -->\n",
       "<g id=\"edge39\" class=\"edge\">\n",
       "<title>2272174699088&#45;&gt;2272174690304</title>\n",
       "<path fill=\"none\" stroke=\"black\" d=\"M860,-3955.34C860,-3948.72 860,-3939.72 860,-3931.52\"/>\n",
       "<polygon fill=\"black\" stroke=\"black\" points=\"863.5,-3931.59 860,-3921.59 856.5,-3931.59 863.5,-3931.59\"/>\n",
       "</g>\n",
       "<!-- 2272174686512 -->\n",
       "<g id=\"node42\" class=\"node\">\n",
       "<title>2272174686512</title>\n",
       "<polygon fill=\"lightgrey\" stroke=\"black\" points=\"907,-4033.25 813,-4033.25 813,-4012.5 907,-4012.5 907,-4033.25\"/>\n",
       "<text text-anchor=\"middle\" x=\"860\" y=\"-4019.75\" font-family=\"monospace\" font-size=\"10.00\">ViewBackward0</text>\n",
       "</g>\n",
       "<!-- 2272174686512&#45;&gt;2272174699088 -->\n",
       "<g id=\"edge40\" class=\"edge\">\n",
       "<title>2272174686512&#45;&gt;2272174699088</title>\n",
       "<path fill=\"none\" stroke=\"black\" d=\"M860,-4012.09C860,-4005.47 860,-3996.47 860,-3988.27\"/>\n",
       "<polygon fill=\"black\" stroke=\"black\" points=\"863.5,-3988.34 860,-3978.34 856.5,-3988.34 863.5,-3988.34\"/>\n",
       "</g>\n",
       "<!-- 2272174690592 -->\n",
       "<g id=\"node43\" class=\"node\">\n",
       "<title>2272174690592</title>\n",
       "<polygon fill=\"lightgrey\" stroke=\"black\" points=\"910,-4090 810,-4090 810,-4069.25 910,-4069.25 910,-4090\"/>\n",
       "<text text-anchor=\"middle\" x=\"860\" y=\"-4076.5\" font-family=\"monospace\" font-size=\"10.00\">AddmmBackward0</text>\n",
       "</g>\n",
       "<!-- 2272174690592&#45;&gt;2272174686512 -->\n",
       "<g id=\"edge41\" class=\"edge\">\n",
       "<title>2272174690592&#45;&gt;2272174686512</title>\n",
       "<path fill=\"none\" stroke=\"black\" d=\"M860,-4068.84C860,-4062.22 860,-4053.22 860,-4045.02\"/>\n",
       "<polygon fill=\"black\" stroke=\"black\" points=\"863.5,-4045.09 860,-4035.09 856.5,-4045.09 863.5,-4045.09\"/>\n",
       "</g>\n",
       "<!-- 2272174695824 -->\n",
       "<g id=\"node44\" class=\"node\">\n",
       "<title>2272174695824</title>\n",
       "<polygon fill=\"lightgrey\" stroke=\"black\" points=\"910,-4146.75 810,-4146.75 810,-4126 910,-4126 910,-4146.75\"/>\n",
       "<text text-anchor=\"middle\" x=\"860\" y=\"-4133.25\" font-family=\"monospace\" font-size=\"10.00\">AccumulateGrad</text>\n",
       "</g>\n",
       "<!-- 2272174695824&#45;&gt;2272174690592 -->\n",
       "<g id=\"edge42\" class=\"edge\">\n",
       "<title>2272174695824&#45;&gt;2272174690592</title>\n",
       "<path fill=\"none\" stroke=\"black\" d=\"M860,-4125.59C860,-4118.97 860,-4109.97 860,-4101.77\"/>\n",
       "<polygon fill=\"black\" stroke=\"black\" points=\"863.5,-4101.84 860,-4091.84 856.5,-4101.84 863.5,-4101.84\"/>\n",
       "</g>\n",
       "<!-- 2273449402880 -->\n",
       "<g id=\"node45\" class=\"node\">\n",
       "<title>2273449402880</title>\n",
       "<polygon fill=\"lightblue\" stroke=\"black\" points=\"1021,-4216.25 699,-4216.25 699,-4182.75 1021,-4182.75 1021,-4216.25\"/>\n",
       "<text text-anchor=\"middle\" x=\"860\" y=\"-4202.75\" font-family=\"monospace\" font-size=\"10.00\">transformer_encoder.layers.0.self_attn.in_proj_bias</text>\n",
       "<text text-anchor=\"middle\" x=\"860\" y=\"-4190\" font-family=\"monospace\" font-size=\"10.00\"> (192)</text>\n",
       "</g>\n",
       "<!-- 2273449402880&#45;&gt;2272174695824 -->\n",
       "<g id=\"edge43\" class=\"edge\">\n",
       "<title>2273449402880&#45;&gt;2272174695824</title>\n",
       "<path fill=\"none\" stroke=\"black\" d=\"M860,-4182.44C860,-4175.1 860,-4166.32 860,-4158.46\"/>\n",
       "<polygon fill=\"black\" stroke=\"black\" points=\"863.5,-4158.73 860,-4148.73 856.5,-4158.73 863.5,-4158.73\"/>\n",
       "</g>\n",
       "<!-- 2272174691600 -->\n",
       "<g id=\"node46\" class=\"node\">\n",
       "<title>2272174691600</title>\n",
       "<polygon fill=\"lightgrey\" stroke=\"black\" points=\"1085,-4146.75 991,-4146.75 991,-4126 1085,-4126 1085,-4146.75\"/>\n",
       "<text text-anchor=\"middle\" x=\"1038\" y=\"-4133.25\" font-family=\"monospace\" font-size=\"10.00\">ViewBackward0</text>\n",
       "</g>\n",
       "<!-- 2272174691600&#45;&gt;2272174690592 -->\n",
       "<g id=\"edge44\" class=\"edge\">\n",
       "<title>2272174691600&#45;&gt;2272174690592</title>\n",
       "<path fill=\"none\" stroke=\"black\" d=\"M1006.18,-4125.59C977.28,-4116.7 934.45,-4103.52 902.61,-4093.73\"/>\n",
       "<polygon fill=\"black\" stroke=\"black\" points=\"903.88,-4090.46 893.29,-4090.87 901.82,-4097.15 903.88,-4090.46\"/>\n",
       "</g>\n",
       "<!-- 2272174695872&#45;&gt;2272174691600 -->\n",
       "<g id=\"edge45\" class=\"edge\">\n",
       "<title>2272174695872&#45;&gt;2272174691600</title>\n",
       "<path fill=\"none\" stroke=\"black\" d=\"M1090.88,-4188.68C1081.45,-4179.54 1067.2,-4165.7 1055.86,-4154.7\"/>\n",
       "<polygon fill=\"black\" stroke=\"black\" points=\"1058.59,-4152.48 1048.98,-4148.02 1053.72,-4157.5 1058.59,-4152.48\"/>\n",
       "</g>\n",
       "<!-- 2272174691360 -->\n",
       "<g id=\"node48\" class=\"node\">\n",
       "<title>2272174691360</title>\n",
       "<polygon fill=\"lightgrey\" stroke=\"black\" points=\"731,-4146.75 655,-4146.75 655,-4126 731,-4126 731,-4146.75\"/>\n",
       "<text text-anchor=\"middle\" x=\"693\" y=\"-4133.25\" font-family=\"monospace\" font-size=\"10.00\">TBackward0</text>\n",
       "</g>\n",
       "<!-- 2272174691360&#45;&gt;2272174690592 -->\n",
       "<g id=\"edge47\" class=\"edge\">\n",
       "<title>2272174691360&#45;&gt;2272174690592</title>\n",
       "<path fill=\"none\" stroke=\"black\" d=\"M722.86,-4125.59C749.73,-4116.78 789.45,-4103.75 819.24,-4093.99\"/>\n",
       "<polygon fill=\"black\" stroke=\"black\" points=\"820.27,-4097.33 828.68,-4090.89 818.09,-4090.68 820.27,-4097.33\"/>\n",
       "</g>\n",
       "<!-- 2272174700624 -->\n",
       "<g id=\"node49\" class=\"node\">\n",
       "<title>2272174700624</title>\n",
       "<polygon fill=\"lightgrey\" stroke=\"black\" points=\"681,-4209.88 581,-4209.88 581,-4189.12 681,-4189.12 681,-4209.88\"/>\n",
       "<text text-anchor=\"middle\" x=\"631\" y=\"-4196.38\" font-family=\"monospace\" font-size=\"10.00\">AccumulateGrad</text>\n",
       "</g>\n",
       "<!-- 2272174700624&#45;&gt;2272174691360 -->\n",
       "<g id=\"edge48\" class=\"edge\">\n",
       "<title>2272174700624&#45;&gt;2272174691360</title>\n",
       "<path fill=\"none\" stroke=\"black\" d=\"M640.96,-4188.68C650.14,-4179.63 663.99,-4165.97 675.09,-4155.03\"/>\n",
       "<polygon fill=\"black\" stroke=\"black\" points=\"677.53,-4157.55 682.19,-4148.03 672.61,-4152.56 677.53,-4157.55\"/>\n",
       "</g>\n",
       "<!-- 2273449403120 -->\n",
       "<g id=\"node50\" class=\"node\">\n",
       "<title>2273449403120</title>\n",
       "<polygon fill=\"lightblue\" stroke=\"black\" points=\"798,-4285.75 464,-4285.75 464,-4252.25 798,-4252.25 798,-4285.75\"/>\n",
       "<text text-anchor=\"middle\" x=\"631\" y=\"-4272.25\" font-family=\"monospace\" font-size=\"10.00\">transformer_encoder.layers.0.self_attn.in_proj_weight</text>\n",
       "<text text-anchor=\"middle\" x=\"631\" y=\"-4259.5\" font-family=\"monospace\" font-size=\"10.00\"> (192, 64)</text>\n",
       "</g>\n",
       "<!-- 2273449403120&#45;&gt;2272174700624 -->\n",
       "<g id=\"edge49\" class=\"edge\">\n",
       "<title>2273449403120&#45;&gt;2272174700624</title>\n",
       "<path fill=\"none\" stroke=\"black\" d=\"M631,-4252C631,-4242.9 631,-4231.39 631,-4221.57\"/>\n",
       "<polygon fill=\"black\" stroke=\"black\" points=\"634.5,-4221.84 631,-4211.84 627.5,-4221.84 634.5,-4221.84\"/>\n",
       "</g>\n",
       "<!-- 2272174687568 -->\n",
       "<g id=\"node51\" class=\"node\">\n",
       "<title>2272174687568</title>\n",
       "<polygon fill=\"lightgrey\" stroke=\"black\" points=\"1034,-3522.5 940,-3522.5 940,-3501.75 1034,-3501.75 1034,-3522.5\"/>\n",
       "<text text-anchor=\"middle\" x=\"987\" y=\"-3509\" font-family=\"monospace\" font-size=\"10.00\">ViewBackward0</text>\n",
       "</g>\n",
       "<!-- 2272174687568&#45;&gt;2272174687616 -->\n",
       "<g id=\"edge50\" class=\"edge\">\n",
       "<title>2272174687568&#45;&gt;2272174687616</title>\n",
       "<path fill=\"none\" stroke=\"black\" d=\"M966.6,-3501.3C946.04,-3491.41 914.09,-3476.03 890.52,-3464.69\"/>\n",
       "<polygon fill=\"black\" stroke=\"black\" points=\"892.25,-3461.64 881.72,-3460.45 889.21,-3467.94 892.25,-3461.64\"/>\n",
       "</g>\n",
       "<!-- 2272174693712 -->\n",
       "<g id=\"node52\" class=\"node\">\n",
       "<title>2272174693712</title>\n",
       "<polygon fill=\"lightgrey\" stroke=\"black\" points=\"1064,-3579.25 940,-3579.25 940,-3558.5 1064,-3558.5 1064,-3579.25\"/>\n",
       "<text text-anchor=\"middle\" x=\"1002\" y=\"-3565.75\" font-family=\"monospace\" font-size=\"10.00\">TransposeBackward0</text>\n",
       "</g>\n",
       "<!-- 2272174693712&#45;&gt;2272174687568 -->\n",
       "<g id=\"edge51\" class=\"edge\">\n",
       "<title>2272174693712&#45;&gt;2272174687568</title>\n",
       "<path fill=\"none\" stroke=\"black\" d=\"M999.32,-3558.09C997.46,-3551.31 994.92,-3542.05 992.63,-3533.69\"/>\n",
       "<polygon fill=\"black\" stroke=\"black\" points=\"996.08,-3533.01 990.06,-3524.29 989.33,-3534.86 996.08,-3533.01\"/>\n",
       "</g>\n",
       "<!-- 2272174699040 -->\n",
       "<g id=\"node53\" class=\"node\">\n",
       "<title>2272174699040</title>\n",
       "<polygon fill=\"lightgrey\" stroke=\"black\" points=\"1045,-3636 951,-3636 951,-3615.25 1045,-3615.25 1045,-3636\"/>\n",
       "<text text-anchor=\"middle\" x=\"998\" y=\"-3622.5\" font-family=\"monospace\" font-size=\"10.00\">ViewBackward0</text>\n",
       "</g>\n",
       "<!-- 2272174699040&#45;&gt;2272174693712 -->\n",
       "<g id=\"edge52\" class=\"edge\">\n",
       "<title>2272174699040&#45;&gt;2272174693712</title>\n",
       "<path fill=\"none\" stroke=\"black\" d=\"M998.72,-3614.84C999.2,-3608.22 999.86,-3599.22 1000.46,-3591.02\"/>\n",
       "<polygon fill=\"black\" stroke=\"black\" points=\"1003.94,-3591.32 1001.18,-3581.09 996.96,-3590.81 1003.94,-3591.32\"/>\n",
       "</g>\n",
       "<!-- 2272174686944&#45;&gt;2272174699040 -->\n",
       "<g id=\"edge53\" class=\"edge\">\n",
       "<title>2272174686944&#45;&gt;2272174699040</title>\n",
       "<path fill=\"none\" stroke=\"black\" d=\"M990.61,-3671.59C991.71,-3664.89 993.21,-3655.76 994.57,-3647.48\"/>\n",
       "<polygon fill=\"black\" stroke=\"black\" points=\"997.99,-3648.26 996.16,-3637.82 991.08,-3647.12 997.99,-3648.26\"/>\n",
       "</g>\n",
       "<!-- 2272174691456 -->\n",
       "<g id=\"node55\" class=\"node\">\n",
       "<title>2272174691456</title>\n",
       "<polygon fill=\"lightgrey\" stroke=\"black\" points=\"780,-3522.5 686,-3522.5 686,-3501.75 780,-3501.75 780,-3522.5\"/>\n",
       "<text text-anchor=\"middle\" x=\"733\" y=\"-3509\" font-family=\"monospace\" font-size=\"10.00\">ViewBackward0</text>\n",
       "</g>\n",
       "<!-- 2272174691456&#45;&gt;2272174687616 -->\n",
       "<g id=\"edge55\" class=\"edge\">\n",
       "<title>2272174691456&#45;&gt;2272174687616</title>\n",
       "<path fill=\"none\" stroke=\"black\" d=\"M753.4,-3501.3C773.96,-3491.41 805.91,-3476.03 829.48,-3464.69\"/>\n",
       "<polygon fill=\"black\" stroke=\"black\" points=\"830.79,-3467.94 838.28,-3460.45 827.75,-3461.64 830.79,-3467.94\"/>\n",
       "</g>\n",
       "<!-- 2272174686848 -->\n",
       "<g id=\"node56\" class=\"node\">\n",
       "<title>2272174686848</title>\n",
       "<polygon fill=\"lightgrey\" stroke=\"black\" points=\"780,-3579.25 656,-3579.25 656,-3558.5 780,-3558.5 780,-3579.25\"/>\n",
       "<text text-anchor=\"middle\" x=\"718\" y=\"-3565.75\" font-family=\"monospace\" font-size=\"10.00\">TransposeBackward0</text>\n",
       "</g>\n",
       "<!-- 2272174686848&#45;&gt;2272174691456 -->\n",
       "<g id=\"edge56\" class=\"edge\">\n",
       "<title>2272174686848&#45;&gt;2272174691456</title>\n",
       "<path fill=\"none\" stroke=\"black\" d=\"M720.68,-3558.09C722.54,-3551.31 725.08,-3542.05 727.37,-3533.69\"/>\n",
       "<polygon fill=\"black\" stroke=\"black\" points=\"730.67,-3534.86 729.94,-3524.29 723.92,-3533.01 730.67,-3534.86\"/>\n",
       "</g>\n",
       "<!-- 2272174687040 -->\n",
       "<g id=\"node57\" class=\"node\">\n",
       "<title>2272174687040</title>\n",
       "<polygon fill=\"lightgrey\" stroke=\"black\" points=\"769,-3636 675,-3636 675,-3615.25 769,-3615.25 769,-3636\"/>\n",
       "<text text-anchor=\"middle\" x=\"722\" y=\"-3622.5\" font-family=\"monospace\" font-size=\"10.00\">ViewBackward0</text>\n",
       "</g>\n",
       "<!-- 2272174687040&#45;&gt;2272174686848 -->\n",
       "<g id=\"edge57\" class=\"edge\">\n",
       "<title>2272174687040&#45;&gt;2272174686848</title>\n",
       "<path fill=\"none\" stroke=\"black\" d=\"M721.28,-3614.84C720.8,-3608.22 720.14,-3599.22 719.54,-3591.02\"/>\n",
       "<polygon fill=\"black\" stroke=\"black\" points=\"723.04,-3590.81 718.82,-3581.09 716.06,-3591.32 723.04,-3590.81\"/>\n",
       "</g>\n",
       "<!-- 2272174686320&#45;&gt;2272174687040 -->\n",
       "<g id=\"edge58\" class=\"edge\">\n",
       "<title>2272174686320&#45;&gt;2272174687040</title>\n",
       "<path fill=\"none\" stroke=\"black\" d=\"M726.11,-3671.59C725.5,-3664.97 724.68,-3655.97 723.93,-3647.77\"/>\n",
       "<polygon fill=\"black\" stroke=\"black\" points=\"727.42,-3647.48 723.02,-3637.84 720.45,-3648.11 727.42,-3647.48\"/>\n",
       "</g>\n",
       "<!-- 2272174695488 -->\n",
       "<g id=\"node59\" class=\"node\">\n",
       "<title>2272174695488</title>\n",
       "<polygon fill=\"lightgrey\" stroke=\"black\" points=\"693,-3326.75 617,-3326.75 617,-3306 693,-3306 693,-3326.75\"/>\n",
       "<text text-anchor=\"middle\" x=\"655\" y=\"-3313.25\" font-family=\"monospace\" font-size=\"10.00\">TBackward0</text>\n",
       "</g>\n",
       "<!-- 2272174695488&#45;&gt;2272174688480 -->\n",
       "<g id=\"edge60\" class=\"edge\">\n",
       "<title>2272174695488&#45;&gt;2272174688480</title>\n",
       "<path fill=\"none\" stroke=\"black\" d=\"M693.34,-3306.09C730.83,-3297 788.17,-3283.11 829.6,-3273.08\"/>\n",
       "<polygon fill=\"black\" stroke=\"black\" points=\"830.2,-3276.53 839.09,-3270.78 828.55,-3269.73 830.2,-3276.53\"/>\n",
       "</g>\n",
       "<!-- 2272174691504 -->\n",
       "<g id=\"node60\" class=\"node\">\n",
       "<title>2272174691504</title>\n",
       "<polygon fill=\"lightgrey\" stroke=\"black\" points=\"636,-3389.88 536,-3389.88 536,-3369.12 636,-3369.12 636,-3389.88\"/>\n",
       "<text text-anchor=\"middle\" x=\"586\" y=\"-3376.38\" font-family=\"monospace\" font-size=\"10.00\">AccumulateGrad</text>\n",
       "</g>\n",
       "<!-- 2272174691504&#45;&gt;2272174695488 -->\n",
       "<g id=\"edge61\" class=\"edge\">\n",
       "<title>2272174691504&#45;&gt;2272174695488</title>\n",
       "<path fill=\"none\" stroke=\"black\" d=\"M597.09,-3368.68C607.51,-3359.45 623.33,-3345.43 635.8,-3334.38\"/>\n",
       "<polygon fill=\"black\" stroke=\"black\" points=\"637.87,-3337.22 643.04,-3327.97 633.23,-3331.98 637.87,-3337.22\"/>\n",
       "</g>\n",
       "<!-- 2273449403360 -->\n",
       "<g id=\"node61\" class=\"node\">\n",
       "<title>2273449403360</title>\n",
       "<polygon fill=\"lightblue\" stroke=\"black\" points=\"705,-3465.75 365,-3465.75 365,-3432.25 705,-3432.25 705,-3465.75\"/>\n",
       "<text text-anchor=\"middle\" x=\"535\" y=\"-3452.25\" font-family=\"monospace\" font-size=\"10.00\">transformer_encoder.layers.0.self_attn.out_proj.weight</text>\n",
       "<text text-anchor=\"middle\" x=\"535\" y=\"-3439.5\" font-family=\"monospace\" font-size=\"10.00\"> (64, 64)</text>\n",
       "</g>\n",
       "<!-- 2273449403360&#45;&gt;2272174691504 -->\n",
       "<g id=\"edge62\" class=\"edge\">\n",
       "<title>2273449403360&#45;&gt;2272174691504</title>\n",
       "<path fill=\"none\" stroke=\"black\" d=\"M547.09,-3432C554.5,-3422.19 564.02,-3409.59 571.79,-3399.3\"/>\n",
       "<polygon fill=\"black\" stroke=\"black\" points=\"574.43,-3401.62 577.67,-3391.53 568.85,-3397.4 574.43,-3401.62\"/>\n",
       "</g>\n",
       "<!-- 2272174689824 -->\n",
       "<g id=\"node62\" class=\"node\">\n",
       "<title>2272174689824</title>\n",
       "<polygon fill=\"lightgrey\" stroke=\"black\" points=\"648,-3023.88 548,-3023.88 548,-3003.12 648,-3003.12 648,-3023.88\"/>\n",
       "<text text-anchor=\"middle\" x=\"598\" y=\"-3010.38\" font-family=\"monospace\" font-size=\"10.00\">AccumulateGrad</text>\n",
       "</g>\n",
       "<!-- 2272174689824&#45;&gt;2272174691696 -->\n",
       "<g id=\"edge63\" class=\"edge\">\n",
       "<title>2272174689824&#45;&gt;2272174691696</title>\n",
       "<path fill=\"none\" stroke=\"black\" d=\"M623.01,-3002.68C652.31,-2991.19 701.06,-2972.05 734.32,-2959\"/>\n",
       "<polygon fill=\"black\" stroke=\"black\" points=\"735.52,-2962.29 743.55,-2955.38 732.96,-2955.77 735.52,-2962.29\"/>\n",
       "</g>\n",
       "<!-- 2273449402400 -->\n",
       "<g id=\"node63\" class=\"node\">\n",
       "<title>2273449402400</title>\n",
       "<polygon fill=\"lightblue\" stroke=\"black\" points=\"627,-3099.75 365,-3099.75 365,-3066.25 627,-3066.25 627,-3099.75\"/>\n",
       "<text text-anchor=\"middle\" x=\"496\" y=\"-3086.25\" font-family=\"monospace\" font-size=\"10.00\">transformer_encoder.layers.0.norm1.weight</text>\n",
       "<text text-anchor=\"middle\" x=\"496\" y=\"-3073.5\" font-family=\"monospace\" font-size=\"10.00\"> (64)</text>\n",
       "</g>\n",
       "<!-- 2273449402400&#45;&gt;2272174689824 -->\n",
       "<g id=\"edge64\" class=\"edge\">\n",
       "<title>2273449402400&#45;&gt;2272174689824</title>\n",
       "<path fill=\"none\" stroke=\"black\" d=\"M520.43,-3065.83C536.64,-3055.11 557.8,-3041.1 573.93,-3030.43\"/>\n",
       "<polygon fill=\"black\" stroke=\"black\" points=\"575.56,-3033.54 581.97,-3025.11 571.7,-3027.71 575.56,-3033.54\"/>\n",
       "</g>\n",
       "<!-- 2272174696544 -->\n",
       "<g id=\"node64\" class=\"node\">\n",
       "<title>2272174696544</title>\n",
       "<polygon fill=\"lightgrey\" stroke=\"black\" points=\"820,-3023.88 720,-3023.88 720,-3003.12 820,-3003.12 820,-3023.88\"/>\n",
       "<text text-anchor=\"middle\" x=\"770\" y=\"-3010.38\" font-family=\"monospace\" font-size=\"10.00\">AccumulateGrad</text>\n",
       "</g>\n",
       "<!-- 2272174696544&#45;&gt;2272174691696 -->\n",
       "<g id=\"edge65\" class=\"edge\">\n",
       "<title>2272174696544&#45;&gt;2272174691696</title>\n",
       "<path fill=\"none\" stroke=\"black\" d=\"M770,-3002.83C770,-2993.21 770,-2978.13 770,-2965.79\"/>\n",
       "<polygon fill=\"black\" stroke=\"black\" points=\"773.5,-2966.17 770,-2956.17 766.5,-2966.17 773.5,-2966.17\"/>\n",
       "</g>\n",
       "<!-- 2273449405360 -->\n",
       "<g id=\"node65\" class=\"node\">\n",
       "<title>2273449405360</title>\n",
       "<polygon fill=\"lightblue\" stroke=\"black\" points=\"895,-3099.75 645,-3099.75 645,-3066.25 895,-3066.25 895,-3099.75\"/>\n",
       "<text text-anchor=\"middle\" x=\"770\" y=\"-3086.25\" font-family=\"monospace\" font-size=\"10.00\">transformer_encoder.layers.0.norm1.bias</text>\n",
       "<text text-anchor=\"middle\" x=\"770\" y=\"-3073.5\" font-family=\"monospace\" font-size=\"10.00\"> (64)</text>\n",
       "</g>\n",
       "<!-- 2273449405360&#45;&gt;2272174696544 -->\n",
       "<g id=\"edge66\" class=\"edge\">\n",
       "<title>2273449405360&#45;&gt;2272174696544</title>\n",
       "<path fill=\"none\" stroke=\"black\" d=\"M770,-3066C770,-3056.9 770,-3045.39 770,-3035.57\"/>\n",
       "<polygon fill=\"black\" stroke=\"black\" points=\"773.5,-3035.84 770,-3025.84 766.5,-3035.84 773.5,-3035.84\"/>\n",
       "</g>\n",
       "<!-- 2272174696688 -->\n",
       "<g id=\"node66\" class=\"node\">\n",
       "<title>2272174696688</title>\n",
       "<polygon fill=\"lightgrey\" stroke=\"black\" points=\"696,-2405.38 548,-2405.38 548,-2384.62 696,-2384.62 696,-2405.38\"/>\n",
       "<text text-anchor=\"middle\" x=\"622\" y=\"-2391.88\" font-family=\"monospace\" font-size=\"10.00\">NativeDropoutBackward0</text>\n",
       "</g>\n",
       "<!-- 2272174696688&#45;&gt;2272174694384 -->\n",
       "<g id=\"edge67\" class=\"edge\">\n",
       "<title>2272174696688&#45;&gt;2272174694384</title>\n",
       "<path fill=\"none\" stroke=\"black\" d=\"M646.26,-2384.18C671.14,-2374.11 710.06,-2358.35 738.22,-2346.96\"/>\n",
       "<polygon fill=\"black\" stroke=\"black\" points=\"739.44,-2350.24 747.4,-2343.24 736.81,-2343.75 739.44,-2350.24\"/>\n",
       "</g>\n",
       "<!-- 2272174696832 -->\n",
       "<g id=\"node67\" class=\"node\">\n",
       "<title>2272174696832</title>\n",
       "<polygon fill=\"lightgrey\" stroke=\"black\" points=\"620,-2468.5 526,-2468.5 526,-2447.75 620,-2447.75 620,-2468.5\"/>\n",
       "<text text-anchor=\"middle\" x=\"573\" y=\"-2455\" font-family=\"monospace\" font-size=\"10.00\">ViewBackward0</text>\n",
       "</g>\n",
       "<!-- 2272174696832&#45;&gt;2272174696688 -->\n",
       "<g id=\"edge68\" class=\"edge\">\n",
       "<title>2272174696832&#45;&gt;2272174696688</title>\n",
       "<path fill=\"none\" stroke=\"black\" d=\"M580.87,-2447.3C587.99,-2438.43 598.64,-2425.14 607.32,-2414.31\"/>\n",
       "<polygon fill=\"black\" stroke=\"black\" points=\"609.84,-2416.77 613.36,-2406.78 604.38,-2412.39 609.84,-2416.77\"/>\n",
       "</g>\n",
       "<!-- 2272174688528 -->\n",
       "<g id=\"node68\" class=\"node\">\n",
       "<title>2272174688528</title>\n",
       "<polygon fill=\"lightgrey\" stroke=\"black\" points=\"537,-2525.25 437,-2525.25 437,-2504.5 537,-2504.5 537,-2525.25\"/>\n",
       "<text text-anchor=\"middle\" x=\"487\" y=\"-2511.75\" font-family=\"monospace\" font-size=\"10.00\">AddmmBackward0</text>\n",
       "</g>\n",
       "<!-- 2272174688528&#45;&gt;2272174696832 -->\n",
       "<g id=\"edge69\" class=\"edge\">\n",
       "<title>2272174688528&#45;&gt;2272174696832</title>\n",
       "<path fill=\"none\" stroke=\"black\" d=\"M502.38,-2504.09C515.09,-2495.99 533.4,-2484.33 548.19,-2474.92\"/>\n",
       "<polygon fill=\"black\" stroke=\"black\" points=\"549.93,-2477.96 556.48,-2469.64 546.17,-2472.06 549.93,-2477.96\"/>\n",
       "</g>\n",
       "<!-- 2272174687664 -->\n",
       "<g id=\"node69\" class=\"node\">\n",
       "<title>2272174687664</title>\n",
       "<polygon fill=\"lightgrey\" stroke=\"black\" points=\"627,-2582 527,-2582 527,-2561.25 627,-2561.25 627,-2582\"/>\n",
       "<text text-anchor=\"middle\" x=\"577\" y=\"-2568.5\" font-family=\"monospace\" font-size=\"10.00\">AccumulateGrad</text>\n",
       "</g>\n",
       "<!-- 2272174687664&#45;&gt;2272174688528 -->\n",
       "<g id=\"edge70\" class=\"edge\">\n",
       "<title>2272174687664&#45;&gt;2272174688528</title>\n",
       "<path fill=\"none\" stroke=\"black\" d=\"M560.91,-2560.84C547.47,-2552.66 528.07,-2540.86 512.51,-2531.4\"/>\n",
       "<polygon fill=\"black\" stroke=\"black\" points=\"514.61,-2528.57 504.24,-2526.37 510.97,-2534.55 514.61,-2528.57\"/>\n",
       "</g>\n",
       "<!-- 2273449402800 -->\n",
       "<g id=\"node70\" class=\"node\">\n",
       "<title>2273449402800</title>\n",
       "<polygon fill=\"lightblue\" stroke=\"black\" points=\"745,-2651.5 483,-2651.5 483,-2618 745,-2618 745,-2651.5\"/>\n",
       "<text text-anchor=\"middle\" x=\"614\" y=\"-2638\" font-family=\"monospace\" font-size=\"10.00\">transformer_encoder.layers.0.linear2.bias</text>\n",
       "<text text-anchor=\"middle\" x=\"614\" y=\"-2625.25\" font-family=\"monospace\" font-size=\"10.00\"> (64)</text>\n",
       "</g>\n",
       "<!-- 2273449402800&#45;&gt;2272174687664 -->\n",
       "<g id=\"edge71\" class=\"edge\">\n",
       "<title>2273449402800&#45;&gt;2272174687664</title>\n",
       "<path fill=\"none\" stroke=\"black\" d=\"M604.28,-2617.69C599.52,-2609.83 593.76,-2600.31 588.75,-2592.04\"/>\n",
       "<polygon fill=\"black\" stroke=\"black\" points=\"591.91,-2590.5 583.74,-2583.76 585.93,-2594.13 591.91,-2590.5\"/>\n",
       "</g>\n",
       "<!-- 2272174688576 -->\n",
       "<g id=\"node71\" class=\"node\">\n",
       "<title>2272174688576</title>\n",
       "<polygon fill=\"lightgrey\" stroke=\"black\" points=\"491,-2582 397,-2582 397,-2561.25 491,-2561.25 491,-2582\"/>\n",
       "<text text-anchor=\"middle\" x=\"444\" y=\"-2568.5\" font-family=\"monospace\" font-size=\"10.00\">ViewBackward0</text>\n",
       "</g>\n",
       "<!-- 2272174688576&#45;&gt;2272174688528 -->\n",
       "<g id=\"edge72\" class=\"edge\">\n",
       "<title>2272174688576&#45;&gt;2272174688528</title>\n",
       "<path fill=\"none\" stroke=\"black\" d=\"M451.69,-2560.84C457.44,-2553.52 465.47,-2543.29 472.42,-2534.44\"/>\n",
       "<polygon fill=\"black\" stroke=\"black\" points=\"475.02,-2536.8 478.44,-2526.77 469.51,-2532.47 475.02,-2536.8\"/>\n",
       "</g>\n",
       "<!-- 2272174693616 -->\n",
       "<g id=\"node72\" class=\"node\">\n",
       "<title>2272174693616</title>\n",
       "<polygon fill=\"lightgrey\" stroke=\"black\" points=\"465,-2645.12 317,-2645.12 317,-2624.38 465,-2624.38 465,-2645.12\"/>\n",
       "<text text-anchor=\"middle\" x=\"391\" y=\"-2631.62\" font-family=\"monospace\" font-size=\"10.00\">NativeDropoutBackward0</text>\n",
       "</g>\n",
       "<!-- 2272174693616&#45;&gt;2272174688576 -->\n",
       "<g id=\"edge73\" class=\"edge\">\n",
       "<title>2272174693616&#45;&gt;2272174688576</title>\n",
       "<path fill=\"none\" stroke=\"black\" d=\"M399.52,-2623.93C407.29,-2614.97 418.97,-2601.49 428.41,-2590.6\"/>\n",
       "<polygon fill=\"black\" stroke=\"black\" points=\"430.78,-2593.21 434.69,-2583.36 425.49,-2588.63 430.78,-2593.21\"/>\n",
       "</g>\n",
       "<!-- 2272174695776 -->\n",
       "<g id=\"node73\" class=\"node\">\n",
       "<title>2272174695776</title>\n",
       "<polygon fill=\"lightgrey\" stroke=\"black\" points=\"544,-2714.62 450,-2714.62 450,-2693.88 544,-2693.88 544,-2714.62\"/>\n",
       "<text text-anchor=\"middle\" x=\"497\" y=\"-2701.12\" font-family=\"monospace\" font-size=\"10.00\">ReluBackward0</text>\n",
       "</g>\n",
       "<!-- 2272174695776&#45;&gt;2272174693616 -->\n",
       "<g id=\"edge74\" class=\"edge\">\n",
       "<title>2272174695776&#45;&gt;2272174693616</title>\n",
       "<path fill=\"none\" stroke=\"black\" d=\"M481.81,-2693.58C464.67,-2682.66 436.52,-2664.74 416.1,-2651.73\"/>\n",
       "<polygon fill=\"black\" stroke=\"black\" points=\"418.1,-2648.85 407.78,-2646.44 414.34,-2654.76 418.1,-2648.85\"/>\n",
       "</g>\n",
       "<!-- 2272174700672 -->\n",
       "<g id=\"node74\" class=\"node\">\n",
       "<title>2272174700672</title>\n",
       "<polygon fill=\"lightgrey\" stroke=\"black\" points=\"550,-2777.75 456,-2777.75 456,-2757 550,-2757 550,-2777.75\"/>\n",
       "<text text-anchor=\"middle\" x=\"503\" y=\"-2764.25\" font-family=\"monospace\" font-size=\"10.00\">ViewBackward0</text>\n",
       "</g>\n",
       "<!-- 2272174700672&#45;&gt;2272174695776 -->\n",
       "<g id=\"edge75\" class=\"edge\">\n",
       "<title>2272174700672&#45;&gt;2272174695776</title>\n",
       "<path fill=\"none\" stroke=\"black\" d=\"M502.04,-2756.55C501.24,-2748.4 500.07,-2736.51 499.06,-2726.23\"/>\n",
       "<polygon fill=\"black\" stroke=\"black\" points=\"502.55,-2725.96 498.09,-2716.35 495.58,-2726.65 502.55,-2725.96\"/>\n",
       "</g>\n",
       "<!-- 2272174689104 -->\n",
       "<g id=\"node75\" class=\"node\">\n",
       "<title>2272174689104</title>\n",
       "<polygon fill=\"lightgrey\" stroke=\"black\" points=\"565,-2834.5 465,-2834.5 465,-2813.75 565,-2813.75 565,-2834.5\"/>\n",
       "<text text-anchor=\"middle\" x=\"515\" y=\"-2821\" font-family=\"monospace\" font-size=\"10.00\">AddmmBackward0</text>\n",
       "</g>\n",
       "<!-- 2272174689104&#45;&gt;2272174700672 -->\n",
       "<g id=\"edge76\" class=\"edge\">\n",
       "<title>2272174689104&#45;&gt;2272174700672</title>\n",
       "<path fill=\"none\" stroke=\"black\" d=\"M512.85,-2813.34C511.39,-2806.64 509.39,-2797.51 507.57,-2789.23\"/>\n",
       "<polygon fill=\"black\" stroke=\"black\" points=\"511.01,-2788.58 505.45,-2779.56 504.17,-2790.07 511.01,-2788.58\"/>\n",
       "</g>\n",
       "<!-- 2272174693040 -->\n",
       "<g id=\"node76\" class=\"node\">\n",
       "<title>2272174693040</title>\n",
       "<polygon fill=\"lightgrey\" stroke=\"black\" points=\"567,-2891.25 467,-2891.25 467,-2870.5 567,-2870.5 567,-2891.25\"/>\n",
       "<text text-anchor=\"middle\" x=\"517\" y=\"-2877.75\" font-family=\"monospace\" font-size=\"10.00\">AccumulateGrad</text>\n",
       "</g>\n",
       "<!-- 2272174693040&#45;&gt;2272174689104 -->\n",
       "<g id=\"edge77\" class=\"edge\">\n",
       "<title>2272174693040&#45;&gt;2272174689104</title>\n",
       "<path fill=\"none\" stroke=\"black\" d=\"M516.64,-2870.09C516.4,-2863.47 516.07,-2854.47 515.77,-2846.27\"/>\n",
       "<polygon fill=\"black\" stroke=\"black\" points=\"519.27,-2846.21 515.41,-2836.34 512.28,-2846.46 519.27,-2846.21\"/>\n",
       "</g>\n",
       "<!-- 2273449402320 -->\n",
       "<g id=\"node77\" class=\"node\">\n",
       "<title>2273449402320</title>\n",
       "<polygon fill=\"lightblue\" stroke=\"black\" points=\"671,-2960.75 409,-2960.75 409,-2927.25 671,-2927.25 671,-2960.75\"/>\n",
       "<text text-anchor=\"middle\" x=\"540\" y=\"-2947.25\" font-family=\"monospace\" font-size=\"10.00\">transformer_encoder.layers.0.linear1.bias</text>\n",
       "<text text-anchor=\"middle\" x=\"540\" y=\"-2934.5\" font-family=\"monospace\" font-size=\"10.00\"> (2048)</text>\n",
       "</g>\n",
       "<!-- 2273449402320&#45;&gt;2272174693040 -->\n",
       "<g id=\"edge78\" class=\"edge\">\n",
       "<title>2273449402320&#45;&gt;2272174693040</title>\n",
       "<path fill=\"none\" stroke=\"black\" d=\"M533.96,-2926.94C531.13,-2919.43 527.73,-2910.4 524.72,-2902.4\"/>\n",
       "<polygon fill=\"black\" stroke=\"black\" points=\"528.03,-2901.26 521.24,-2893.13 521.48,-2903.73 528.03,-2901.26\"/>\n",
       "</g>\n",
       "<!-- 2272174697504&#45;&gt;2272174689104 -->\n",
       "<g id=\"edge79\" class=\"edge\">\n",
       "<title>2272174697504&#45;&gt;2272174689104</title>\n",
       "<path fill=\"none\" stroke=\"black\" d=\"M639.83,-2870.09C615.58,-2861.36 579.85,-2848.48 552.82,-2838.75\"/>\n",
       "<polygon fill=\"black\" stroke=\"black\" points=\"554.21,-2835.53 543.62,-2835.43 551.84,-2842.12 554.21,-2835.53\"/>\n",
       "</g>\n",
       "<!-- 2272174700000 -->\n",
       "<g id=\"node79\" class=\"node\">\n",
       "<title>2272174700000</title>\n",
       "<polygon fill=\"lightgrey\" stroke=\"black\" points=\"414,-2891.25 338,-2891.25 338,-2870.5 414,-2870.5 414,-2891.25\"/>\n",
       "<text text-anchor=\"middle\" x=\"376\" y=\"-2877.75\" font-family=\"monospace\" font-size=\"10.00\">TBackward0</text>\n",
       "</g>\n",
       "<!-- 2272174700000&#45;&gt;2272174689104 -->\n",
       "<g id=\"edge81\" class=\"edge\">\n",
       "<title>2272174700000&#45;&gt;2272174689104</title>\n",
       "<path fill=\"none\" stroke=\"black\" d=\"M400.85,-2870.09C422.89,-2861.41 455.32,-2848.63 479.98,-2838.92\"/>\n",
       "<polygon fill=\"black\" stroke=\"black\" points=\"480.93,-2842.3 488.96,-2835.38 478.37,-2835.79 480.93,-2842.3\"/>\n",
       "</g>\n",
       "<!-- 2272174698416 -->\n",
       "<g id=\"node80\" class=\"node\">\n",
       "<title>2272174698416</title>\n",
       "<polygon fill=\"lightgrey\" stroke=\"black\" points=\"391,-2954.38 291,-2954.38 291,-2933.62 391,-2933.62 391,-2954.38\"/>\n",
       "<text text-anchor=\"middle\" x=\"341\" y=\"-2940.88\" font-family=\"monospace\" font-size=\"10.00\">AccumulateGrad</text>\n",
       "</g>\n",
       "<!-- 2272174698416&#45;&gt;2272174700000 -->\n",
       "<g id=\"edge82\" class=\"edge\">\n",
       "<title>2272174698416&#45;&gt;2272174700000</title>\n",
       "<path fill=\"none\" stroke=\"black\" d=\"M346.62,-2933.18C351.55,-2924.57 358.86,-2911.81 364.95,-2901.17\"/>\n",
       "<polygon fill=\"black\" stroke=\"black\" points=\"367.82,-2903.2 369.75,-2892.78 361.75,-2899.72 367.82,-2903.2\"/>\n",
       "</g>\n",
       "<!-- 2273449403520 -->\n",
       "<g id=\"node81\" class=\"node\">\n",
       "<title>2273449403520</title>\n",
       "<polygon fill=\"lightblue\" stroke=\"black\" points=\"478,-3030.25 204,-3030.25 204,-2996.75 478,-2996.75 478,-3030.25\"/>\n",
       "<text text-anchor=\"middle\" x=\"341\" y=\"-3016.75\" font-family=\"monospace\" font-size=\"10.00\">transformer_encoder.layers.0.linear1.weight</text>\n",
       "<text text-anchor=\"middle\" x=\"341\" y=\"-3004\" font-family=\"monospace\" font-size=\"10.00\"> (2048, 64)</text>\n",
       "</g>\n",
       "<!-- 2273449403520&#45;&gt;2272174698416 -->\n",
       "<g id=\"edge83\" class=\"edge\">\n",
       "<title>2273449403520&#45;&gt;2272174698416</title>\n",
       "<path fill=\"none\" stroke=\"black\" d=\"M341,-2996.5C341,-2987.4 341,-2975.89 341,-2966.07\"/>\n",
       "<polygon fill=\"black\" stroke=\"black\" points=\"344.5,-2966.34 341,-2956.34 337.5,-2966.34 344.5,-2966.34\"/>\n",
       "</g>\n",
       "<!-- 2272174693136 -->\n",
       "<g id=\"node82\" class=\"node\">\n",
       "<title>2272174693136</title>\n",
       "<polygon fill=\"lightgrey\" stroke=\"black\" points=\"306,-2582 230,-2582 230,-2561.25 306,-2561.25 306,-2582\"/>\n",
       "<text text-anchor=\"middle\" x=\"268\" y=\"-2568.5\" font-family=\"monospace\" font-size=\"10.00\">TBackward0</text>\n",
       "</g>\n",
       "<!-- 2272174693136&#45;&gt;2272174688528 -->\n",
       "<g id=\"edge84\" class=\"edge\">\n",
       "<title>2272174693136&#45;&gt;2272174688528</title>\n",
       "<path fill=\"none\" stroke=\"black\" d=\"M306.4,-2561.03C342.54,-2551.99 396.88,-2538.4 436.52,-2528.5\"/>\n",
       "<polygon fill=\"black\" stroke=\"black\" points=\"437.22,-2531.93 446.07,-2526.11 435.52,-2525.14 437.22,-2531.93\"/>\n",
       "</g>\n",
       "<!-- 2272174692944 -->\n",
       "<g id=\"node83\" class=\"node\">\n",
       "<title>2272174692944</title>\n",
       "<polygon fill=\"lightgrey\" stroke=\"black\" points=\"299,-2645.12 199,-2645.12 199,-2624.38 299,-2624.38 299,-2645.12\"/>\n",
       "<text text-anchor=\"middle\" x=\"249\" y=\"-2631.62\" font-family=\"monospace\" font-size=\"10.00\">AccumulateGrad</text>\n",
       "</g>\n",
       "<!-- 2272174692944&#45;&gt;2272174693136 -->\n",
       "<g id=\"edge85\" class=\"edge\">\n",
       "<title>2272174692944&#45;&gt;2272174693136</title>\n",
       "<path fill=\"none\" stroke=\"black\" d=\"M252.05,-2623.93C254.64,-2615.59 258.45,-2603.36 261.69,-2592.93\"/>\n",
       "<polygon fill=\"black\" stroke=\"black\" points=\"264.94,-2594.25 264.57,-2583.67 258.26,-2592.18 264.94,-2594.25\"/>\n",
       "</g>\n",
       "<!-- 2273449406320 -->\n",
       "<g id=\"node84\" class=\"node\">\n",
       "<title>2273449406320</title>\n",
       "<polygon fill=\"lightblue\" stroke=\"black\" points=\"386,-2721 112,-2721 112,-2687.5 386,-2687.5 386,-2721\"/>\n",
       "<text text-anchor=\"middle\" x=\"249\" y=\"-2707.5\" font-family=\"monospace\" font-size=\"10.00\">transformer_encoder.layers.0.linear2.weight</text>\n",
       "<text text-anchor=\"middle\" x=\"249\" y=\"-2694.75\" font-family=\"monospace\" font-size=\"10.00\"> (64, 2048)</text>\n",
       "</g>\n",
       "<!-- 2273449406320&#45;&gt;2272174692944 -->\n",
       "<g id=\"edge86\" class=\"edge\">\n",
       "<title>2273449406320&#45;&gt;2272174692944</title>\n",
       "<path fill=\"none\" stroke=\"black\" d=\"M249,-2687.25C249,-2678.15 249,-2666.64 249,-2656.82\"/>\n",
       "<polygon fill=\"black\" stroke=\"black\" points=\"252.5,-2657.09 249,-2647.09 245.5,-2657.09 252.5,-2657.09\"/>\n",
       "</g>\n",
       "<!-- 2272174690688 -->\n",
       "<g id=\"node85\" class=\"node\">\n",
       "<title>2272174690688</title>\n",
       "<polygon fill=\"lightgrey\" stroke=\"black\" points=\"982,-2342.25 882,-2342.25 882,-2321.5 982,-2321.5 982,-2342.25\"/>\n",
       "<text text-anchor=\"middle\" x=\"932\" y=\"-2328.75\" font-family=\"monospace\" font-size=\"10.00\">AccumulateGrad</text>\n",
       "</g>\n",
       "<!-- 2272174690688&#45;&gt;2272174700720 -->\n",
       "<g id=\"edge87\" class=\"edge\">\n",
       "<title>2272174690688&#45;&gt;2272174700720</title>\n",
       "<path fill=\"none\" stroke=\"black\" d=\"M932,-2321.05C932,-2312.9 932,-2301.01 932,-2290.73\"/>\n",
       "<polygon fill=\"black\" stroke=\"black\" points=\"935.5,-2290.86 932,-2280.86 928.5,-2290.86 935.5,-2290.86\"/>\n",
       "</g>\n",
       "<!-- 2273449403200 -->\n",
       "<g id=\"node86\" class=\"node\">\n",
       "<title>2273449403200</title>\n",
       "<polygon fill=\"lightblue\" stroke=\"black\" points=\"1063,-2411.75 801,-2411.75 801,-2378.25 1063,-2378.25 1063,-2411.75\"/>\n",
       "<text text-anchor=\"middle\" x=\"932\" y=\"-2398.25\" font-family=\"monospace\" font-size=\"10.00\">transformer_encoder.layers.0.norm2.weight</text>\n",
       "<text text-anchor=\"middle\" x=\"932\" y=\"-2385.5\" font-family=\"monospace\" font-size=\"10.00\"> (64)</text>\n",
       "</g>\n",
       "<!-- 2273449403200&#45;&gt;2272174690688 -->\n",
       "<g id=\"edge88\" class=\"edge\">\n",
       "<title>2273449403200&#45;&gt;2272174690688</title>\n",
       "<path fill=\"none\" stroke=\"black\" d=\"M932,-2377.94C932,-2370.6 932,-2361.82 932,-2353.96\"/>\n",
       "<polygon fill=\"black\" stroke=\"black\" points=\"935.5,-2354.23 932,-2344.23 928.5,-2354.23 935.5,-2354.23\"/>\n",
       "</g>\n",
       "<!-- 2272174694768 -->\n",
       "<g id=\"node87\" class=\"node\">\n",
       "<title>2272174694768</title>\n",
       "<polygon fill=\"lightgrey\" stroke=\"black\" points=\"1178,-2342.25 1078,-2342.25 1078,-2321.5 1178,-2321.5 1178,-2342.25\"/>\n",
       "<text text-anchor=\"middle\" x=\"1128\" y=\"-2328.75\" font-family=\"monospace\" font-size=\"10.00\">AccumulateGrad</text>\n",
       "</g>\n",
       "<!-- 2272174694768&#45;&gt;2272174700720 -->\n",
       "<g id=\"edge89\" class=\"edge\">\n",
       "<title>2272174694768&#45;&gt;2272174700720</title>\n",
       "<path fill=\"none\" stroke=\"black\" d=\"M1096.51,-2321.05C1063.36,-2310.72 1011,-2294.39 974.27,-2282.93\"/>\n",
       "<polygon fill=\"black\" stroke=\"black\" points=\"975.45,-2279.63 964.86,-2280 973.36,-2286.32 975.45,-2279.63\"/>\n",
       "</g>\n",
       "<!-- 2273449402480 -->\n",
       "<g id=\"node88\" class=\"node\">\n",
       "<title>2273449402480</title>\n",
       "<polygon fill=\"lightblue\" stroke=\"black\" points=\"1331,-2411.75 1081,-2411.75 1081,-2378.25 1331,-2378.25 1331,-2411.75\"/>\n",
       "<text text-anchor=\"middle\" x=\"1206\" y=\"-2398.25\" font-family=\"monospace\" font-size=\"10.00\">transformer_encoder.layers.0.norm2.bias</text>\n",
       "<text text-anchor=\"middle\" x=\"1206\" y=\"-2385.5\" font-family=\"monospace\" font-size=\"10.00\"> (64)</text>\n",
       "</g>\n",
       "<!-- 2273449402480&#45;&gt;2272174694768 -->\n",
       "<g id=\"edge90\" class=\"edge\">\n",
       "<title>2273449402480&#45;&gt;2272174694768</title>\n",
       "<path fill=\"none\" stroke=\"black\" d=\"M1185.51,-2377.94C1174.36,-2369.21 1160.6,-2358.42 1149.33,-2349.59\"/>\n",
       "<polygon fill=\"black\" stroke=\"black\" points=\"1151.78,-2347.06 1141.75,-2343.65 1147.46,-2352.57 1151.78,-2347.06\"/>\n",
       "</g>\n",
       "<!-- 2272174702448 -->\n",
       "<g id=\"node89\" class=\"node\">\n",
       "<title>2272174702448</title>\n",
       "<polygon fill=\"lightgrey\" stroke=\"black\" points=\"935,-1093.12 787,-1093.12 787,-1072.38 935,-1072.38 935,-1093.12\"/>\n",
       "<text text-anchor=\"middle\" x=\"861\" y=\"-1079.62\" font-family=\"monospace\" font-size=\"10.00\">NativeDropoutBackward0</text>\n",
       "</g>\n",
       "<!-- 2272174702448&#45;&gt;2272174698032 -->\n",
       "<g id=\"edge91\" class=\"edge\">\n",
       "<title>2272174702448&#45;&gt;2272174698032</title>\n",
       "<path fill=\"none\" stroke=\"black\" d=\"M861,-1072.08C861,-1062.46 861,-1047.38 861,-1035.04\"/>\n",
       "<polygon fill=\"black\" stroke=\"black\" points=\"864.5,-1035.42 861,-1025.42 857.5,-1035.42 864.5,-1035.42\"/>\n",
       "</g>\n",
       "<!-- 2272174690448 -->\n",
       "<g id=\"node90\" class=\"node\">\n",
       "<title>2272174690448</title>\n",
       "<polygon fill=\"lightgrey\" stroke=\"black\" points=\"910,-1156.25 786,-1156.25 786,-1135.5 910,-1135.5 910,-1156.25\"/>\n",
       "<text text-anchor=\"middle\" x=\"848\" y=\"-1142.75\" font-family=\"monospace\" font-size=\"10.00\">TransposeBackward0</text>\n",
       "</g>\n",
       "<!-- 2272174690448&#45;&gt;2272174702448 -->\n",
       "<g id=\"edge92\" class=\"edge\">\n",
       "<title>2272174690448&#45;&gt;2272174702448</title>\n",
       "<path fill=\"none\" stroke=\"black\" d=\"M850.09,-1135.05C851.84,-1126.81 854.41,-1114.75 856.61,-1104.39\"/>\n",
       "<polygon fill=\"black\" stroke=\"black\" points=\"859.99,-1105.33 858.64,-1094.83 853.14,-1103.88 859.99,-1105.33\"/>\n",
       "</g>\n",
       "<!-- 2272174690112 -->\n",
       "<g id=\"node91\" class=\"node\">\n",
       "<title>2272174690112</title>\n",
       "<polygon fill=\"lightgrey\" stroke=\"black\" points=\"843,-1213 749,-1213 749,-1192.25 843,-1192.25 843,-1213\"/>\n",
       "<text text-anchor=\"middle\" x=\"796\" y=\"-1199.5\" font-family=\"monospace\" font-size=\"10.00\">ViewBackward0</text>\n",
       "</g>\n",
       "<!-- 2272174690112&#45;&gt;2272174690448 -->\n",
       "<g id=\"edge93\" class=\"edge\">\n",
       "<title>2272174690112&#45;&gt;2272174690448</title>\n",
       "<path fill=\"none\" stroke=\"black\" d=\"M805.3,-1191.84C812.4,-1184.36 822.37,-1173.86 830.9,-1164.88\"/>\n",
       "<polygon fill=\"black\" stroke=\"black\" points=\"833.39,-1167.34 837.74,-1157.68 828.32,-1162.52 833.39,-1167.34\"/>\n",
       "</g>\n",
       "<!-- 2272174702208 -->\n",
       "<g id=\"node92\" class=\"node\">\n",
       "<title>2272174702208</title>\n",
       "<polygon fill=\"lightgrey\" stroke=\"black\" points=\"742,-1269.75 642,-1269.75 642,-1249 742,-1249 742,-1269.75\"/>\n",
       "<text text-anchor=\"middle\" x=\"692\" y=\"-1256.25\" font-family=\"monospace\" font-size=\"10.00\">AddmmBackward0</text>\n",
       "</g>\n",
       "<!-- 2272174702208&#45;&gt;2272174690112 -->\n",
       "<g id=\"edge94\" class=\"edge\">\n",
       "<title>2272174702208&#45;&gt;2272174690112</title>\n",
       "<path fill=\"none\" stroke=\"black\" d=\"M710.59,-1248.59C726.42,-1240.26 749.4,-1228.16 767.54,-1218.61\"/>\n",
       "<polygon fill=\"black\" stroke=\"black\" points=\"769.01,-1221.79 776.23,-1214.03 765.75,-1215.59 769.01,-1221.79\"/>\n",
       "</g>\n",
       "<!-- 2272174691312 -->\n",
       "<g id=\"node93\" class=\"node\">\n",
       "<title>2272174691312</title>\n",
       "<polygon fill=\"lightgrey\" stroke=\"black\" points=\"789,-1326.5 689,-1326.5 689,-1305.75 789,-1305.75 789,-1326.5\"/>\n",
       "<text text-anchor=\"middle\" x=\"739\" y=\"-1313\" font-family=\"monospace\" font-size=\"10.00\">AccumulateGrad</text>\n",
       "</g>\n",
       "<!-- 2272174691312&#45;&gt;2272174702208 -->\n",
       "<g id=\"edge95\" class=\"edge\">\n",
       "<title>2272174691312&#45;&gt;2272174702208</title>\n",
       "<path fill=\"none\" stroke=\"black\" d=\"M730.6,-1305.34C724.25,-1297.94 715.35,-1287.57 707.7,-1278.66\"/>\n",
       "<polygon fill=\"black\" stroke=\"black\" points=\"710.49,-1276.53 701.32,-1271.23 705.17,-1281.09 710.49,-1276.53\"/>\n",
       "</g>\n",
       "<!-- 2273449402000 -->\n",
       "<g id=\"node94\" class=\"node\">\n",
       "<title>2273449402000</title>\n",
       "<polygon fill=\"lightblue\" stroke=\"black\" points=\"949,-1396 621,-1396 621,-1362.5 949,-1362.5 949,-1396\"/>\n",
       "<text text-anchor=\"middle\" x=\"785\" y=\"-1382.5\" font-family=\"monospace\" font-size=\"10.00\">transformer_encoder.layers.1.self_attn.out_proj.bias</text>\n",
       "<text text-anchor=\"middle\" x=\"785\" y=\"-1369.75\" font-family=\"monospace\" font-size=\"10.00\"> (64)</text>\n",
       "</g>\n",
       "<!-- 2273449402000&#45;&gt;2272174691312 -->\n",
       "<g id=\"edge96\" class=\"edge\">\n",
       "<title>2273449402000&#45;&gt;2272174691312</title>\n",
       "<path fill=\"none\" stroke=\"black\" d=\"M772.91,-1362.19C766.87,-1354.16 759.51,-1344.38 753.2,-1335.99\"/>\n",
       "<polygon fill=\"black\" stroke=\"black\" points=\"756.13,-1334.06 747.32,-1328.18 750.53,-1338.27 756.13,-1334.06\"/>\n",
       "</g>\n",
       "<!-- 2272174694096 -->\n",
       "<g id=\"node95\" class=\"node\">\n",
       "<title>2272174694096</title>\n",
       "<polygon fill=\"lightgrey\" stroke=\"black\" points=\"620,-1326.5 526,-1326.5 526,-1305.75 620,-1305.75 620,-1326.5\"/>\n",
       "<text text-anchor=\"middle\" x=\"573\" y=\"-1313\" font-family=\"monospace\" font-size=\"10.00\">ViewBackward0</text>\n",
       "</g>\n",
       "<!-- 2272174694096&#45;&gt;2272174702208 -->\n",
       "<g id=\"edge97\" class=\"edge\">\n",
       "<title>2272174694096&#45;&gt;2272174702208</title>\n",
       "<path fill=\"none\" stroke=\"black\" d=\"M594.27,-1305.34C612.72,-1296.85 639.66,-1284.45 660.59,-1274.83\"/>\n",
       "<polygon fill=\"black\" stroke=\"black\" points=\"661.91,-1278.07 669.53,-1270.71 658.99,-1271.71 661.91,-1278.07\"/>\n",
       "</g>\n",
       "<!-- 2272174695008 -->\n",
       "<g id=\"node96\" class=\"node\">\n",
       "<title>2272174695008</title>\n",
       "<polygon fill=\"lightgrey\" stroke=\"black\" points=\"603,-1389.62 491,-1389.62 491,-1368.88 603,-1368.88 603,-1389.62\"/>\n",
       "<text text-anchor=\"middle\" x=\"547\" y=\"-1376.12\" font-family=\"monospace\" font-size=\"10.00\">PermuteBackward0</text>\n",
       "</g>\n",
       "<!-- 2272174695008&#45;&gt;2272174694096 -->\n",
       "<g id=\"edge98\" class=\"edge\">\n",
       "<title>2272174695008&#45;&gt;2272174694096</title>\n",
       "<path fill=\"none\" stroke=\"black\" d=\"M551.18,-1368.43C554.76,-1360 560.04,-1347.59 564.51,-1337.09\"/>\n",
       "<polygon fill=\"black\" stroke=\"black\" points=\"567.63,-1338.68 568.33,-1328.11 561.19,-1335.94 567.63,-1338.68\"/>\n",
       "</g>\n",
       "<!-- 2272174695104 -->\n",
       "<g id=\"node97\" class=\"node\">\n",
       "<title>2272174695104</title>\n",
       "<polygon fill=\"lightgrey\" stroke=\"black\" points=\"783,-1459.12 509,-1459.12 509,-1438.38 783,-1438.38 783,-1459.12\"/>\n",
       "<text text-anchor=\"middle\" x=\"646\" y=\"-1445.62\" font-family=\"monospace\" font-size=\"10.00\">ScaledDotProductEfficientAttentionBackward0</text>\n",
       "</g>\n",
       "<!-- 2272174695104&#45;&gt;2272174695008 -->\n",
       "<g id=\"edge99\" class=\"edge\">\n",
       "<title>2272174695104&#45;&gt;2272174695008</title>\n",
       "<path fill=\"none\" stroke=\"black\" d=\"M631.82,-1438.08C615.95,-1427.26 590,-1409.57 570.97,-1396.59\"/>\n",
       "<polygon fill=\"black\" stroke=\"black\" points=\"572.96,-1393.72 562.73,-1390.98 569.02,-1399.5 572.96,-1393.72\"/>\n",
       "</g>\n",
       "<!-- 2272174689920 -->\n",
       "<g id=\"node98\" class=\"node\">\n",
       "<title>2272174689920</title>\n",
       "<polygon fill=\"lightgrey\" stroke=\"black\" points=\"693,-1522.25 599,-1522.25 599,-1501.5 693,-1501.5 693,-1522.25\"/>\n",
       "<text text-anchor=\"middle\" x=\"646\" y=\"-1508.75\" font-family=\"monospace\" font-size=\"10.00\">ViewBackward0</text>\n",
       "</g>\n",
       "<!-- 2272174689920&#45;&gt;2272174695104 -->\n",
       "<g id=\"edge100\" class=\"edge\">\n",
       "<title>2272174689920&#45;&gt;2272174695104</title>\n",
       "<path fill=\"none\" stroke=\"black\" d=\"M646,-1501.05C646,-1492.9 646,-1481.01 646,-1470.73\"/>\n",
       "<polygon fill=\"black\" stroke=\"black\" points=\"649.5,-1470.86 646,-1460.86 642.5,-1470.86 649.5,-1470.86\"/>\n",
       "</g>\n",
       "<!-- 2272174691792 -->\n",
       "<g id=\"node99\" class=\"node\">\n",
       "<title>2272174691792</title>\n",
       "<polygon fill=\"lightgrey\" stroke=\"black\" points=\"708,-1579 584,-1579 584,-1558.25 708,-1558.25 708,-1579\"/>\n",
       "<text text-anchor=\"middle\" x=\"646\" y=\"-1565.5\" font-family=\"monospace\" font-size=\"10.00\">TransposeBackward0</text>\n",
       "</g>\n",
       "<!-- 2272174691792&#45;&gt;2272174689920 -->\n",
       "<g id=\"edge101\" class=\"edge\">\n",
       "<title>2272174691792&#45;&gt;2272174689920</title>\n",
       "<path fill=\"none\" stroke=\"black\" d=\"M646,-1557.84C646,-1551.22 646,-1542.22 646,-1534.02\"/>\n",
       "<polygon fill=\"black\" stroke=\"black\" points=\"649.5,-1534.09 646,-1524.09 642.5,-1534.09 649.5,-1534.09\"/>\n",
       "</g>\n",
       "<!-- 2272174694528 -->\n",
       "<g id=\"node100\" class=\"node\">\n",
       "<title>2272174694528</title>\n",
       "<polygon fill=\"lightgrey\" stroke=\"black\" points=\"693,-1635.75 599,-1635.75 599,-1615 693,-1615 693,-1635.75\"/>\n",
       "<text text-anchor=\"middle\" x=\"646\" y=\"-1622.25\" font-family=\"monospace\" font-size=\"10.00\">ViewBackward0</text>\n",
       "</g>\n",
       "<!-- 2272174694528&#45;&gt;2272174691792 -->\n",
       "<g id=\"edge102\" class=\"edge\">\n",
       "<title>2272174694528&#45;&gt;2272174691792</title>\n",
       "<path fill=\"none\" stroke=\"black\" d=\"M646,-1614.59C646,-1607.97 646,-1598.97 646,-1590.77\"/>\n",
       "<polygon fill=\"black\" stroke=\"black\" points=\"649.5,-1590.84 646,-1580.84 642.5,-1590.84 649.5,-1590.84\"/>\n",
       "</g>\n",
       "<!-- 2272174696256 -->\n",
       "<g id=\"node101\" class=\"node\">\n",
       "<title>2272174696256</title>\n",
       "<polygon fill=\"lightgrey\" stroke=\"black\" points=\"699,-1692.5 593,-1692.5 593,-1671.75 699,-1671.75 699,-1692.5\"/>\n",
       "<text text-anchor=\"middle\" x=\"646\" y=\"-1679\" font-family=\"monospace\" font-size=\"10.00\">SelectBackward0</text>\n",
       "</g>\n",
       "<!-- 2272174696256&#45;&gt;2272174694528 -->\n",
       "<g id=\"edge103\" class=\"edge\">\n",
       "<title>2272174696256&#45;&gt;2272174694528</title>\n",
       "<path fill=\"none\" stroke=\"black\" d=\"M646,-1671.34C646,-1664.72 646,-1655.72 646,-1647.52\"/>\n",
       "<polygon fill=\"black\" stroke=\"black\" points=\"649.5,-1647.59 646,-1637.59 642.5,-1647.59 649.5,-1647.59\"/>\n",
       "</g>\n",
       "<!-- 2272174689872 -->\n",
       "<g id=\"node102\" class=\"node\">\n",
       "<title>2272174689872</title>\n",
       "<polygon fill=\"lightgrey\" stroke=\"black\" points=\"696,-1749.25 596,-1749.25 596,-1728.5 696,-1728.5 696,-1749.25\"/>\n",
       "<text text-anchor=\"middle\" x=\"646\" y=\"-1735.75\" font-family=\"monospace\" font-size=\"10.00\">CloneBackward0</text>\n",
       "</g>\n",
       "<!-- 2272174689872&#45;&gt;2272174696256 -->\n",
       "<g id=\"edge104\" class=\"edge\">\n",
       "<title>2272174689872&#45;&gt;2272174696256</title>\n",
       "<path fill=\"none\" stroke=\"black\" d=\"M646,-1728.09C646,-1721.47 646,-1712.47 646,-1704.27\"/>\n",
       "<polygon fill=\"black\" stroke=\"black\" points=\"649.5,-1704.34 646,-1694.34 642.5,-1704.34 649.5,-1704.34\"/>\n",
       "</g>\n",
       "<!-- 2272174699856 -->\n",
       "<g id=\"node119\" class=\"node\">\n",
       "<title>2272174699856</title>\n",
       "<polygon fill=\"lightgrey\" stroke=\"black\" points=\"828,-1692.5 722,-1692.5 722,-1671.75 828,-1671.75 828,-1692.5\"/>\n",
       "<text text-anchor=\"middle\" x=\"775\" y=\"-1679\" font-family=\"monospace\" font-size=\"10.00\">SelectBackward0</text>\n",
       "</g>\n",
       "<!-- 2272174689872&#45;&gt;2272174699856 -->\n",
       "<g id=\"edge123\" class=\"edge\">\n",
       "<title>2272174689872&#45;&gt;2272174699856</title>\n",
       "<path fill=\"none\" stroke=\"black\" d=\"M669.06,-1728.09C689.24,-1719.52 718.8,-1706.98 741.57,-1697.31\"/>\n",
       "<polygon fill=\"black\" stroke=\"black\" points=\"742.91,-1700.55 750.74,-1693.42 740.17,-1694.1 742.91,-1700.55\"/>\n",
       "</g>\n",
       "<!-- 2272174692608 -->\n",
       "<g id=\"node123\" class=\"node\">\n",
       "<title>2272174692608</title>\n",
       "<polygon fill=\"lightgrey\" stroke=\"black\" points=\"566,-1692.5 460,-1692.5 460,-1671.75 566,-1671.75 566,-1692.5\"/>\n",
       "<text text-anchor=\"middle\" x=\"513\" y=\"-1679\" font-family=\"monospace\" font-size=\"10.00\">SelectBackward0</text>\n",
       "</g>\n",
       "<!-- 2272174689872&#45;&gt;2272174692608 -->\n",
       "<g id=\"edge128\" class=\"edge\">\n",
       "<title>2272174689872&#45;&gt;2272174692608</title>\n",
       "<path fill=\"none\" stroke=\"black\" d=\"M622.22,-1728.09C601.32,-1719.48 570.66,-1706.86 547.14,-1697.18\"/>\n",
       "<polygon fill=\"black\" stroke=\"black\" points=\"548.55,-1693.97 537.97,-1693.4 545.89,-1700.45 548.55,-1693.97\"/>\n",
       "</g>\n",
       "<!-- 2272174688000 -->\n",
       "<g id=\"node103\" class=\"node\">\n",
       "<title>2272174688000</title>\n",
       "<polygon fill=\"lightgrey\" stroke=\"black\" points=\"702,-1806 590,-1806 590,-1785.25 702,-1785.25 702,-1806\"/>\n",
       "<text text-anchor=\"middle\" x=\"646\" y=\"-1792.5\" font-family=\"monospace\" font-size=\"10.00\">SqueezeBackward1</text>\n",
       "</g>\n",
       "<!-- 2272174688000&#45;&gt;2272174689872 -->\n",
       "<g id=\"edge105\" class=\"edge\">\n",
       "<title>2272174688000&#45;&gt;2272174689872</title>\n",
       "<path fill=\"none\" stroke=\"black\" d=\"M646,-1784.84C646,-1778.22 646,-1769.22 646,-1761.02\"/>\n",
       "<polygon fill=\"black\" stroke=\"black\" points=\"649.5,-1761.09 646,-1751.09 642.5,-1761.09 649.5,-1761.09\"/>\n",
       "</g>\n",
       "<!-- 2272174692800 -->\n",
       "<g id=\"node104\" class=\"node\">\n",
       "<title>2272174692800</title>\n",
       "<polygon fill=\"lightgrey\" stroke=\"black\" points=\"708,-1862.75 584,-1862.75 584,-1842 708,-1842 708,-1862.75\"/>\n",
       "<text text-anchor=\"middle\" x=\"646\" y=\"-1849.25\" font-family=\"monospace\" font-size=\"10.00\">TransposeBackward0</text>\n",
       "</g>\n",
       "<!-- 2272174692800&#45;&gt;2272174688000 -->\n",
       "<g id=\"edge106\" class=\"edge\">\n",
       "<title>2272174692800&#45;&gt;2272174688000</title>\n",
       "<path fill=\"none\" stroke=\"black\" d=\"M646,-1841.59C646,-1834.97 646,-1825.97 646,-1817.77\"/>\n",
       "<polygon fill=\"black\" stroke=\"black\" points=\"649.5,-1817.84 646,-1807.84 642.5,-1817.84 649.5,-1817.84\"/>\n",
       "</g>\n",
       "<!-- 2272174697408 -->\n",
       "<g id=\"node105\" class=\"node\">\n",
       "<title>2272174697408</title>\n",
       "<polygon fill=\"lightgrey\" stroke=\"black\" points=\"708,-1919.5 584,-1919.5 584,-1898.75 708,-1898.75 708,-1919.5\"/>\n",
       "<text text-anchor=\"middle\" x=\"646\" y=\"-1906\" font-family=\"monospace\" font-size=\"10.00\">UnsqueezeBackward0</text>\n",
       "</g>\n",
       "<!-- 2272174697408&#45;&gt;2272174692800 -->\n",
       "<g id=\"edge107\" class=\"edge\">\n",
       "<title>2272174697408&#45;&gt;2272174692800</title>\n",
       "<path fill=\"none\" stroke=\"black\" d=\"M646,-1898.34C646,-1891.72 646,-1882.72 646,-1874.52\"/>\n",
       "<polygon fill=\"black\" stroke=\"black\" points=\"649.5,-1874.59 646,-1864.59 642.5,-1874.59 649.5,-1874.59\"/>\n",
       "</g>\n",
       "<!-- 2272174692080 -->\n",
       "<g id=\"node106\" class=\"node\">\n",
       "<title>2272174692080</title>\n",
       "<polygon fill=\"lightgrey\" stroke=\"black\" points=\"693,-1976.25 599,-1976.25 599,-1955.5 693,-1955.5 693,-1976.25\"/>\n",
       "<text text-anchor=\"middle\" x=\"646\" y=\"-1962.75\" font-family=\"monospace\" font-size=\"10.00\">ViewBackward0</text>\n",
       "</g>\n",
       "<!-- 2272174692080&#45;&gt;2272174697408 -->\n",
       "<g id=\"edge108\" class=\"edge\">\n",
       "<title>2272174692080&#45;&gt;2272174697408</title>\n",
       "<path fill=\"none\" stroke=\"black\" d=\"M646,-1955.09C646,-1948.47 646,-1939.47 646,-1931.27\"/>\n",
       "<polygon fill=\"black\" stroke=\"black\" points=\"649.5,-1931.34 646,-1921.34 642.5,-1931.34 649.5,-1931.34\"/>\n",
       "</g>\n",
       "<!-- 2272060740544 -->\n",
       "<g id=\"node107\" class=\"node\">\n",
       "<title>2272060740544</title>\n",
       "<polygon fill=\"lightgrey\" stroke=\"black\" points=\"693,-2033 599,-2033 599,-2012.25 693,-2012.25 693,-2033\"/>\n",
       "<text text-anchor=\"middle\" x=\"646\" y=\"-2019.5\" font-family=\"monospace\" font-size=\"10.00\">ViewBackward0</text>\n",
       "</g>\n",
       "<!-- 2272060740544&#45;&gt;2272174692080 -->\n",
       "<g id=\"edge109\" class=\"edge\">\n",
       "<title>2272060740544&#45;&gt;2272174692080</title>\n",
       "<path fill=\"none\" stroke=\"black\" d=\"M646,-2011.84C646,-2005.22 646,-1996.22 646,-1988.02\"/>\n",
       "<polygon fill=\"black\" stroke=\"black\" points=\"649.5,-1988.09 646,-1978.09 642.5,-1988.09 649.5,-1988.09\"/>\n",
       "</g>\n",
       "<!-- 2272060741936 -->\n",
       "<g id=\"node108\" class=\"node\">\n",
       "<title>2272060741936</title>\n",
       "<polygon fill=\"lightgrey\" stroke=\"black\" points=\"696,-2089.75 596,-2089.75 596,-2069 696,-2069 696,-2089.75\"/>\n",
       "<text text-anchor=\"middle\" x=\"646\" y=\"-2076.25\" font-family=\"monospace\" font-size=\"10.00\">AddmmBackward0</text>\n",
       "</g>\n",
       "<!-- 2272060741936&#45;&gt;2272060740544 -->\n",
       "<g id=\"edge110\" class=\"edge\">\n",
       "<title>2272060741936&#45;&gt;2272060740544</title>\n",
       "<path fill=\"none\" stroke=\"black\" d=\"M646,-2068.59C646,-2061.97 646,-2052.97 646,-2044.77\"/>\n",
       "<polygon fill=\"black\" stroke=\"black\" points=\"649.5,-2044.84 646,-2034.84 642.5,-2044.84 649.5,-2044.84\"/>\n",
       "</g>\n",
       "<!-- 2272060741744 -->\n",
       "<g id=\"node109\" class=\"node\">\n",
       "<title>2272060741744</title>\n",
       "<polygon fill=\"lightgrey\" stroke=\"black\" points=\"696,-2146.5 596,-2146.5 596,-2125.75 696,-2125.75 696,-2146.5\"/>\n",
       "<text text-anchor=\"middle\" x=\"646\" y=\"-2133\" font-family=\"monospace\" font-size=\"10.00\">AccumulateGrad</text>\n",
       "</g>\n",
       "<!-- 2272060741744&#45;&gt;2272060741936 -->\n",
       "<g id=\"edge111\" class=\"edge\">\n",
       "<title>2272060741744&#45;&gt;2272060741936</title>\n",
       "<path fill=\"none\" stroke=\"black\" d=\"M646,-2125.34C646,-2118.72 646,-2109.72 646,-2101.52\"/>\n",
       "<polygon fill=\"black\" stroke=\"black\" points=\"649.5,-2101.59 646,-2091.59 642.5,-2101.59 649.5,-2101.59\"/>\n",
       "</g>\n",
       "<!-- 2273449401680 -->\n",
       "<g id=\"node110\" class=\"node\">\n",
       "<title>2273449401680</title>\n",
       "<polygon fill=\"lightblue\" stroke=\"black\" points=\"807,-2216 485,-2216 485,-2182.5 807,-2182.5 807,-2216\"/>\n",
       "<text text-anchor=\"middle\" x=\"646\" y=\"-2202.5\" font-family=\"monospace\" font-size=\"10.00\">transformer_encoder.layers.1.self_attn.in_proj_bias</text>\n",
       "<text text-anchor=\"middle\" x=\"646\" y=\"-2189.75\" font-family=\"monospace\" font-size=\"10.00\"> (192)</text>\n",
       "</g>\n",
       "<!-- 2273449401680&#45;&gt;2272060741744 -->\n",
       "<g id=\"edge112\" class=\"edge\">\n",
       "<title>2273449401680&#45;&gt;2272060741744</title>\n",
       "<path fill=\"none\" stroke=\"black\" d=\"M646,-2182.19C646,-2174.85 646,-2166.07 646,-2158.21\"/>\n",
       "<polygon fill=\"black\" stroke=\"black\" points=\"649.5,-2158.48 646,-2148.48 642.5,-2158.48 649.5,-2158.48\"/>\n",
       "</g>\n",
       "<!-- 2272060741888 -->\n",
       "<g id=\"node111\" class=\"node\">\n",
       "<title>2272060741888</title>\n",
       "<polygon fill=\"lightgrey\" stroke=\"black\" points=\"871,-2146.5 777,-2146.5 777,-2125.75 871,-2125.75 871,-2146.5\"/>\n",
       "<text text-anchor=\"middle\" x=\"824\" y=\"-2133\" font-family=\"monospace\" font-size=\"10.00\">ViewBackward0</text>\n",
       "</g>\n",
       "<!-- 2272060741888&#45;&gt;2272060741936 -->\n",
       "<g id=\"edge113\" class=\"edge\">\n",
       "<title>2272060741888&#45;&gt;2272060741936</title>\n",
       "<path fill=\"none\" stroke=\"black\" d=\"M792.18,-2125.34C763.28,-2116.45 720.45,-2103.27 688.61,-2093.48\"/>\n",
       "<polygon fill=\"black\" stroke=\"black\" points=\"689.88,-2090.21 679.29,-2090.62 687.82,-2096.9 689.88,-2090.21\"/>\n",
       "</g>\n",
       "<!-- 2272060743328&#45;&gt;2272060741888 -->\n",
       "<g id=\"edge114\" class=\"edge\">\n",
       "<title>2272060743328&#45;&gt;2272060741888</title>\n",
       "<path fill=\"none\" stroke=\"black\" d=\"M876.88,-2188.43C867.45,-2179.29 853.2,-2165.45 841.86,-2154.45\"/>\n",
       "<polygon fill=\"black\" stroke=\"black\" points=\"844.59,-2152.23 834.98,-2147.77 839.72,-2157.25 844.59,-2152.23\"/>\n",
       "</g>\n",
       "<!-- 2272060737280 -->\n",
       "<g id=\"node113\" class=\"node\">\n",
       "<title>2272060737280</title>\n",
       "<polygon fill=\"lightgrey\" stroke=\"black\" points=\"517,-2146.5 441,-2146.5 441,-2125.75 517,-2125.75 517,-2146.5\"/>\n",
       "<text text-anchor=\"middle\" x=\"479\" y=\"-2133\" font-family=\"monospace\" font-size=\"10.00\">TBackward0</text>\n",
       "</g>\n",
       "<!-- 2272060737280&#45;&gt;2272060741936 -->\n",
       "<g id=\"edge116\" class=\"edge\">\n",
       "<title>2272060737280&#45;&gt;2272060741936</title>\n",
       "<path fill=\"none\" stroke=\"black\" d=\"M508.86,-2125.34C535.73,-2116.53 575.45,-2103.5 605.24,-2093.74\"/>\n",
       "<polygon fill=\"black\" stroke=\"black\" points=\"606.27,-2097.08 614.68,-2090.64 604.09,-2090.43 606.27,-2097.08\"/>\n",
       "</g>\n",
       "<!-- 2272060743088 -->\n",
       "<g id=\"node114\" class=\"node\">\n",
       "<title>2272060743088</title>\n",
       "<polygon fill=\"lightgrey\" stroke=\"black\" points=\"467,-2209.62 367,-2209.62 367,-2188.88 467,-2188.88 467,-2209.62\"/>\n",
       "<text text-anchor=\"middle\" x=\"417\" y=\"-2196.12\" font-family=\"monospace\" font-size=\"10.00\">AccumulateGrad</text>\n",
       "</g>\n",
       "<!-- 2272060743088&#45;&gt;2272060737280 -->\n",
       "<g id=\"edge117\" class=\"edge\">\n",
       "<title>2272060743088&#45;&gt;2272060737280</title>\n",
       "<path fill=\"none\" stroke=\"black\" d=\"M426.96,-2188.43C436.14,-2179.38 449.99,-2165.72 461.09,-2154.78\"/>\n",
       "<polygon fill=\"black\" stroke=\"black\" points=\"463.53,-2157.3 468.19,-2147.78 458.61,-2152.31 463.53,-2157.3\"/>\n",
       "</g>\n",
       "<!-- 2273449401760 -->\n",
       "<g id=\"node115\" class=\"node\">\n",
       "<title>2273449401760</title>\n",
       "<polygon fill=\"lightblue\" stroke=\"black\" points=\"584,-2285.5 250,-2285.5 250,-2252 584,-2252 584,-2285.5\"/>\n",
       "<text text-anchor=\"middle\" x=\"417\" y=\"-2272\" font-family=\"monospace\" font-size=\"10.00\">transformer_encoder.layers.1.self_attn.in_proj_weight</text>\n",
       "<text text-anchor=\"middle\" x=\"417\" y=\"-2259.25\" font-family=\"monospace\" font-size=\"10.00\"> (192, 64)</text>\n",
       "</g>\n",
       "<!-- 2273449401760&#45;&gt;2272060743088 -->\n",
       "<g id=\"edge118\" class=\"edge\">\n",
       "<title>2273449401760&#45;&gt;2272060743088</title>\n",
       "<path fill=\"none\" stroke=\"black\" d=\"M417,-2251.75C417,-2242.65 417,-2231.14 417,-2221.32\"/>\n",
       "<polygon fill=\"black\" stroke=\"black\" points=\"420.5,-2221.59 417,-2211.59 413.5,-2221.59 420.5,-2221.59\"/>\n",
       "</g>\n",
       "<!-- 2272174698128 -->\n",
       "<g id=\"node116\" class=\"node\">\n",
       "<title>2272174698128</title>\n",
       "<polygon fill=\"lightgrey\" stroke=\"black\" points=\"820,-1522.25 726,-1522.25 726,-1501.5 820,-1501.5 820,-1522.25\"/>\n",
       "<text text-anchor=\"middle\" x=\"773\" y=\"-1508.75\" font-family=\"monospace\" font-size=\"10.00\">ViewBackward0</text>\n",
       "</g>\n",
       "<!-- 2272174698128&#45;&gt;2272174695104 -->\n",
       "<g id=\"edge119\" class=\"edge\">\n",
       "<title>2272174698128&#45;&gt;2272174695104</title>\n",
       "<path fill=\"none\" stroke=\"black\" d=\"M752.6,-1501.05C732.04,-1491.16 700.09,-1475.78 676.52,-1464.44\"/>\n",
       "<polygon fill=\"black\" stroke=\"black\" points=\"678.25,-1461.39 667.72,-1460.2 675.21,-1467.69 678.25,-1461.39\"/>\n",
       "</g>\n",
       "<!-- 2272174696064 -->\n",
       "<g id=\"node117\" class=\"node\">\n",
       "<title>2272174696064</title>\n",
       "<polygon fill=\"lightgrey\" stroke=\"black\" points=\"850,-1579 726,-1579 726,-1558.25 850,-1558.25 850,-1579\"/>\n",
       "<text text-anchor=\"middle\" x=\"788\" y=\"-1565.5\" font-family=\"monospace\" font-size=\"10.00\">TransposeBackward0</text>\n",
       "</g>\n",
       "<!-- 2272174696064&#45;&gt;2272174698128 -->\n",
       "<g id=\"edge120\" class=\"edge\">\n",
       "<title>2272174696064&#45;&gt;2272174698128</title>\n",
       "<path fill=\"none\" stroke=\"black\" d=\"M785.32,-1557.84C783.46,-1551.06 780.92,-1541.8 778.63,-1533.44\"/>\n",
       "<polygon fill=\"black\" stroke=\"black\" points=\"782.08,-1532.76 776.06,-1524.04 775.33,-1534.61 782.08,-1532.76\"/>\n",
       "</g>\n",
       "<!-- 2272174695440 -->\n",
       "<g id=\"node118\" class=\"node\">\n",
       "<title>2272174695440</title>\n",
       "<polygon fill=\"lightgrey\" stroke=\"black\" points=\"831,-1635.75 737,-1635.75 737,-1615 831,-1615 831,-1635.75\"/>\n",
       "<text text-anchor=\"middle\" x=\"784\" y=\"-1622.25\" font-family=\"monospace\" font-size=\"10.00\">ViewBackward0</text>\n",
       "</g>\n",
       "<!-- 2272174695440&#45;&gt;2272174696064 -->\n",
       "<g id=\"edge121\" class=\"edge\">\n",
       "<title>2272174695440&#45;&gt;2272174696064</title>\n",
       "<path fill=\"none\" stroke=\"black\" d=\"M784.72,-1614.59C785.2,-1607.97 785.86,-1598.97 786.46,-1590.77\"/>\n",
       "<polygon fill=\"black\" stroke=\"black\" points=\"789.94,-1591.07 787.18,-1580.84 782.96,-1590.56 789.94,-1591.07\"/>\n",
       "</g>\n",
       "<!-- 2272174699856&#45;&gt;2272174695440 -->\n",
       "<g id=\"edge122\" class=\"edge\">\n",
       "<title>2272174699856&#45;&gt;2272174695440</title>\n",
       "<path fill=\"none\" stroke=\"black\" d=\"M776.61,-1671.34C777.71,-1664.64 779.21,-1655.51 780.57,-1647.23\"/>\n",
       "<polygon fill=\"black\" stroke=\"black\" points=\"783.99,-1648.01 782.16,-1637.57 777.08,-1646.87 783.99,-1648.01\"/>\n",
       "</g>\n",
       "<!-- 2272174690160 -->\n",
       "<g id=\"node120\" class=\"node\">\n",
       "<title>2272174690160</title>\n",
       "<polygon fill=\"lightgrey\" stroke=\"black\" points=\"566,-1522.25 472,-1522.25 472,-1501.5 566,-1501.5 566,-1522.25\"/>\n",
       "<text text-anchor=\"middle\" x=\"519\" y=\"-1508.75\" font-family=\"monospace\" font-size=\"10.00\">ViewBackward0</text>\n",
       "</g>\n",
       "<!-- 2272174690160&#45;&gt;2272174695104 -->\n",
       "<g id=\"edge124\" class=\"edge\">\n",
       "<title>2272174690160&#45;&gt;2272174695104</title>\n",
       "<path fill=\"none\" stroke=\"black\" d=\"M539.4,-1501.05C559.96,-1491.16 591.91,-1475.78 615.48,-1464.44\"/>\n",
       "<polygon fill=\"black\" stroke=\"black\" points=\"616.79,-1467.69 624.28,-1460.2 613.75,-1461.39 616.79,-1467.69\"/>\n",
       "</g>\n",
       "<!-- 2272174696400 -->\n",
       "<g id=\"node121\" class=\"node\">\n",
       "<title>2272174696400</title>\n",
       "<polygon fill=\"lightgrey\" stroke=\"black\" points=\"566,-1579 442,-1579 442,-1558.25 566,-1558.25 566,-1579\"/>\n",
       "<text text-anchor=\"middle\" x=\"504\" y=\"-1565.5\" font-family=\"monospace\" font-size=\"10.00\">TransposeBackward0</text>\n",
       "</g>\n",
       "<!-- 2272174696400&#45;&gt;2272174690160 -->\n",
       "<g id=\"edge125\" class=\"edge\">\n",
       "<title>2272174696400&#45;&gt;2272174690160</title>\n",
       "<path fill=\"none\" stroke=\"black\" d=\"M506.68,-1557.84C508.54,-1551.06 511.08,-1541.8 513.37,-1533.44\"/>\n",
       "<polygon fill=\"black\" stroke=\"black\" points=\"516.67,-1534.61 515.94,-1524.04 509.92,-1532.76 516.67,-1534.61\"/>\n",
       "</g>\n",
       "<!-- 2272174694480 -->\n",
       "<g id=\"node122\" class=\"node\">\n",
       "<title>2272174694480</title>\n",
       "<polygon fill=\"lightgrey\" stroke=\"black\" points=\"555,-1635.75 461,-1635.75 461,-1615 555,-1615 555,-1635.75\"/>\n",
       "<text text-anchor=\"middle\" x=\"508\" y=\"-1622.25\" font-family=\"monospace\" font-size=\"10.00\">ViewBackward0</text>\n",
       "</g>\n",
       "<!-- 2272174694480&#45;&gt;2272174696400 -->\n",
       "<g id=\"edge126\" class=\"edge\">\n",
       "<title>2272174694480&#45;&gt;2272174696400</title>\n",
       "<path fill=\"none\" stroke=\"black\" d=\"M507.28,-1614.59C506.8,-1607.97 506.14,-1598.97 505.54,-1590.77\"/>\n",
       "<polygon fill=\"black\" stroke=\"black\" points=\"509.04,-1590.56 504.82,-1580.84 502.06,-1591.07 509.04,-1590.56\"/>\n",
       "</g>\n",
       "<!-- 2272174692608&#45;&gt;2272174694480 -->\n",
       "<g id=\"edge127\" class=\"edge\">\n",
       "<title>2272174692608&#45;&gt;2272174694480</title>\n",
       "<path fill=\"none\" stroke=\"black\" d=\"M512.11,-1671.34C511.5,-1664.72 510.68,-1655.72 509.93,-1647.52\"/>\n",
       "<polygon fill=\"black\" stroke=\"black\" points=\"513.42,-1647.23 509.02,-1637.59 506.45,-1647.86 513.42,-1647.23\"/>\n",
       "</g>\n",
       "<!-- 2272174691984 -->\n",
       "<g id=\"node124\" class=\"node\">\n",
       "<title>2272174691984</title>\n",
       "<polygon fill=\"lightgrey\" stroke=\"black\" points=\"498,-1326.5 422,-1326.5 422,-1305.75 498,-1305.75 498,-1326.5\"/>\n",
       "<text text-anchor=\"middle\" x=\"460\" y=\"-1313\" font-family=\"monospace\" font-size=\"10.00\">TBackward0</text>\n",
       "</g>\n",
       "<!-- 2272174691984&#45;&gt;2272174702208 -->\n",
       "<g id=\"edge129\" class=\"edge\">\n",
       "<title>2272174691984&#45;&gt;2272174702208</title>\n",
       "<path fill=\"none\" stroke=\"black\" d=\"M498.31,-1306.08C536.82,-1297 596.49,-1282.92 639.42,-1272.78\"/>\n",
       "<polygon fill=\"black\" stroke=\"black\" points=\"640.1,-1276.22 649.02,-1270.52 638.49,-1269.41 640.1,-1276.22\"/>\n",
       "</g>\n",
       "<!-- 2272174692032 -->\n",
       "<g id=\"node125\" class=\"node\">\n",
       "<title>2272174692032</title>\n",
       "<polygon fill=\"lightgrey\" stroke=\"black\" points=\"422,-1389.62 322,-1389.62 322,-1368.88 422,-1368.88 422,-1389.62\"/>\n",
       "<text text-anchor=\"middle\" x=\"372\" y=\"-1376.12\" font-family=\"monospace\" font-size=\"10.00\">AccumulateGrad</text>\n",
       "</g>\n",
       "<!-- 2272174692032&#45;&gt;2272174691984 -->\n",
       "<g id=\"edge130\" class=\"edge\">\n",
       "<title>2272174692032&#45;&gt;2272174691984</title>\n",
       "<path fill=\"none\" stroke=\"black\" d=\"M386.14,-1368.43C399.74,-1358.98 420.54,-1344.53 436.61,-1333.37\"/>\n",
       "<polygon fill=\"black\" stroke=\"black\" points=\"438.44,-1336.36 444.65,-1327.78 434.44,-1330.62 438.44,-1336.36\"/>\n",
       "</g>\n",
       "<!-- 2273449403440 -->\n",
       "<g id=\"node126\" class=\"node\">\n",
       "<title>2273449403440</title>\n",
       "<polygon fill=\"lightblue\" stroke=\"black\" points=\"491,-1465.5 151,-1465.5 151,-1432 491,-1432 491,-1465.5\"/>\n",
       "<text text-anchor=\"middle\" x=\"321\" y=\"-1452\" font-family=\"monospace\" font-size=\"10.00\">transformer_encoder.layers.1.self_attn.out_proj.weight</text>\n",
       "<text text-anchor=\"middle\" x=\"321\" y=\"-1439.25\" font-family=\"monospace\" font-size=\"10.00\"> (64, 64)</text>\n",
       "</g>\n",
       "<!-- 2273449403440&#45;&gt;2272174692032 -->\n",
       "<g id=\"edge131\" class=\"edge\">\n",
       "<title>2273449403440&#45;&gt;2272174692032</title>\n",
       "<path fill=\"none\" stroke=\"black\" d=\"M333.09,-1431.75C340.5,-1421.94 350.02,-1409.34 357.79,-1399.05\"/>\n",
       "<polygon fill=\"black\" stroke=\"black\" points=\"360.43,-1401.37 363.67,-1391.28 354.85,-1397.15 360.43,-1401.37\"/>\n",
       "</g>\n",
       "<!-- 2272174687760 -->\n",
       "<g id=\"node127\" class=\"node\">\n",
       "<title>2272174687760</title>\n",
       "<polygon fill=\"lightgrey\" stroke=\"black\" points=\"507,-1023.62 407,-1023.62 407,-1002.88 507,-1002.88 507,-1023.62\"/>\n",
       "<text text-anchor=\"middle\" x=\"457\" y=\"-1010.12\" font-family=\"monospace\" font-size=\"10.00\">AccumulateGrad</text>\n",
       "</g>\n",
       "<!-- 2272174687760&#45;&gt;2272174696976 -->\n",
       "<g id=\"edge132\" class=\"edge\">\n",
       "<title>2272174687760&#45;&gt;2272174696976</title>\n",
       "<path fill=\"none\" stroke=\"black\" d=\"M484.19,-1002.43C516.32,-990.84 569.97,-971.47 606.15,-958.41\"/>\n",
       "<polygon fill=\"black\" stroke=\"black\" points=\"607.13,-961.78 615.35,-955.09 604.76,-955.19 607.13,-961.78\"/>\n",
       "</g>\n",
       "<!-- 2273449402720 -->\n",
       "<g id=\"node128\" class=\"node\">\n",
       "<title>2273449402720</title>\n",
       "<polygon fill=\"lightblue\" stroke=\"black\" points=\"501,-1099.5 239,-1099.5 239,-1066 501,-1066 501,-1099.5\"/>\n",
       "<text text-anchor=\"middle\" x=\"370\" y=\"-1086\" font-family=\"monospace\" font-size=\"10.00\">transformer_encoder.layers.1.norm1.weight</text>\n",
       "<text text-anchor=\"middle\" x=\"370\" y=\"-1073.25\" font-family=\"monospace\" font-size=\"10.00\"> (64)</text>\n",
       "</g>\n",
       "<!-- 2273449402720&#45;&gt;2272174687760 -->\n",
       "<g id=\"edge133\" class=\"edge\">\n",
       "<title>2273449402720&#45;&gt;2272174687760</title>\n",
       "<path fill=\"none\" stroke=\"black\" d=\"M390.62,-1065.75C404.17,-1055.24 421.87,-1041.51 435.58,-1030.87\"/>\n",
       "<polygon fill=\"black\" stroke=\"black\" points=\"437.39,-1033.89 443.14,-1025 433.1,-1028.36 437.39,-1033.89\"/>\n",
       "</g>\n",
       "<!-- 2272174696208 -->\n",
       "<g id=\"node129\" class=\"node\">\n",
       "<title>2272174696208</title>\n",
       "<polygon fill=\"lightgrey\" stroke=\"black\" points=\"694,-1023.62 594,-1023.62 594,-1002.88 694,-1002.88 694,-1023.62\"/>\n",
       "<text text-anchor=\"middle\" x=\"644\" y=\"-1010.12\" font-family=\"monospace\" font-size=\"10.00\">AccumulateGrad</text>\n",
       "</g>\n",
       "<!-- 2272174696208&#45;&gt;2272174696976 -->\n",
       "<g id=\"edge134\" class=\"edge\">\n",
       "<title>2272174696208&#45;&gt;2272174696976</title>\n",
       "<path fill=\"none\" stroke=\"black\" d=\"M644,-1002.58C644,-992.96 644,-977.88 644,-965.54\"/>\n",
       "<polygon fill=\"black\" stroke=\"black\" points=\"647.5,-965.92 644,-955.92 640.5,-965.92 647.5,-965.92\"/>\n",
       "</g>\n",
       "<!-- 2273449401280 -->\n",
       "<g id=\"node130\" class=\"node\">\n",
       "<title>2273449401280</title>\n",
       "<polygon fill=\"lightblue\" stroke=\"black\" points=\"769,-1099.5 519,-1099.5 519,-1066 769,-1066 769,-1099.5\"/>\n",
       "<text text-anchor=\"middle\" x=\"644\" y=\"-1086\" font-family=\"monospace\" font-size=\"10.00\">transformer_encoder.layers.1.norm1.bias</text>\n",
       "<text text-anchor=\"middle\" x=\"644\" y=\"-1073.25\" font-family=\"monospace\" font-size=\"10.00\"> (64)</text>\n",
       "</g>\n",
       "<!-- 2273449401280&#45;&gt;2272174696208 -->\n",
       "<g id=\"edge135\" class=\"edge\">\n",
       "<title>2273449401280&#45;&gt;2272174696208</title>\n",
       "<path fill=\"none\" stroke=\"black\" d=\"M644,-1065.75C644,-1056.65 644,-1045.14 644,-1035.32\"/>\n",
       "<polygon fill=\"black\" stroke=\"black\" points=\"647.5,-1035.59 644,-1025.59 640.5,-1035.59 647.5,-1035.59\"/>\n",
       "</g>\n",
       "<!-- 2272174694000 -->\n",
       "<g id=\"node131\" class=\"node\">\n",
       "<title>2272174694000</title>\n",
       "<polygon fill=\"lightgrey\" stroke=\"black\" points=\"567,-405.12 419,-405.12 419,-384.38 567,-384.38 567,-405.12\"/>\n",
       "<text text-anchor=\"middle\" x=\"493\" y=\"-391.62\" font-family=\"monospace\" font-size=\"10.00\">NativeDropoutBackward0</text>\n",
       "</g>\n",
       "<!-- 2272174694000&#45;&gt;2272174694576 -->\n",
       "<g id=\"edge136\" class=\"edge\">\n",
       "<title>2272174694000&#45;&gt;2272174694576</title>\n",
       "<path fill=\"none\" stroke=\"black\" d=\"M519.99,-383.93C548.04,-373.73 592.13,-357.68 623.54,-346.25\"/>\n",
       "<polygon fill=\"black\" stroke=\"black\" points=\"624.45,-349.65 632.65,-342.94 622.06,-343.07 624.45,-349.65\"/>\n",
       "</g>\n",
       "<!-- 2272174700528 -->\n",
       "<g id=\"node132\" class=\"node\">\n",
       "<title>2272174700528</title>\n",
       "<polygon fill=\"lightgrey\" stroke=\"black\" points=\"474,-468.25 380,-468.25 380,-447.5 474,-447.5 474,-468.25\"/>\n",
       "<text text-anchor=\"middle\" x=\"427\" y=\"-454.75\" font-family=\"monospace\" font-size=\"10.00\">ViewBackward0</text>\n",
       "</g>\n",
       "<!-- 2272174700528&#45;&gt;2272174694000 -->\n",
       "<g id=\"edge137\" class=\"edge\">\n",
       "<title>2272174700528&#45;&gt;2272174694000</title>\n",
       "<path fill=\"none\" stroke=\"black\" d=\"M437.6,-447.05C447.48,-437.91 462.41,-424.08 474.29,-413.08\"/>\n",
       "<polygon fill=\"black\" stroke=\"black\" points=\"476.57,-415.74 481.53,-406.37 471.81,-410.6 476.57,-415.74\"/>\n",
       "</g>\n",
       "<!-- 2272174689440 -->\n",
       "<g id=\"node133\" class=\"node\">\n",
       "<title>2272174689440</title>\n",
       "<polygon fill=\"lightgrey\" stroke=\"black\" points=\"449,-525 349,-525 349,-504.25 449,-504.25 449,-525\"/>\n",
       "<text text-anchor=\"middle\" x=\"399\" y=\"-511.5\" font-family=\"monospace\" font-size=\"10.00\">AddmmBackward0</text>\n",
       "</g>\n",
       "<!-- 2272174689440&#45;&gt;2272174700528 -->\n",
       "<g id=\"edge138\" class=\"edge\">\n",
       "<title>2272174689440&#45;&gt;2272174700528</title>\n",
       "<path fill=\"none\" stroke=\"black\" d=\"M404.01,-503.84C407.59,-496.83 412.54,-487.16 416.92,-478.58\"/>\n",
       "<polygon fill=\"black\" stroke=\"black\" points=\"419.91,-480.42 421.35,-469.93 413.68,-477.24 419.91,-480.42\"/>\n",
       "</g>\n",
       "<!-- 2272174687472 -->\n",
       "<g id=\"node134\" class=\"node\">\n",
       "<title>2272174687472</title>\n",
       "<polygon fill=\"lightgrey\" stroke=\"black\" points=\"515,-581.75 415,-581.75 415,-561 515,-561 515,-581.75\"/>\n",
       "<text text-anchor=\"middle\" x=\"465\" y=\"-568.25\" font-family=\"monospace\" font-size=\"10.00\">AccumulateGrad</text>\n",
       "</g>\n",
       "<!-- 2272174687472&#45;&gt;2272174689440 -->\n",
       "<g id=\"edge139\" class=\"edge\">\n",
       "<title>2272174687472&#45;&gt;2272174689440</title>\n",
       "<path fill=\"none\" stroke=\"black\" d=\"M453.2,-560.59C443.82,-552.8 430.46,-541.72 419.36,-532.51\"/>\n",
       "<polygon fill=\"black\" stroke=\"black\" points=\"421.79,-529.99 411.86,-526.29 417.32,-535.37 421.79,-529.99\"/>\n",
       "</g>\n",
       "<!-- 2273449401600 -->\n",
       "<g id=\"node135\" class=\"node\">\n",
       "<title>2273449401600</title>\n",
       "<polygon fill=\"lightblue\" stroke=\"black\" points=\"633,-651.25 371,-651.25 371,-617.75 633,-617.75 633,-651.25\"/>\n",
       "<text text-anchor=\"middle\" x=\"502\" y=\"-637.75\" font-family=\"monospace\" font-size=\"10.00\">transformer_encoder.layers.1.linear2.bias</text>\n",
       "<text text-anchor=\"middle\" x=\"502\" y=\"-625\" font-family=\"monospace\" font-size=\"10.00\"> (64)</text>\n",
       "</g>\n",
       "<!-- 2273449401600&#45;&gt;2272174687472 -->\n",
       "<g id=\"edge140\" class=\"edge\">\n",
       "<title>2273449401600&#45;&gt;2272174687472</title>\n",
       "<path fill=\"none\" stroke=\"black\" d=\"M492.28,-617.44C487.52,-609.58 481.76,-600.06 476.75,-591.79\"/>\n",
       "<polygon fill=\"black\" stroke=\"black\" points=\"479.91,-590.25 471.74,-583.51 473.93,-593.88 479.91,-590.25\"/>\n",
       "</g>\n",
       "<!-- 2272174688384 -->\n",
       "<g id=\"node136\" class=\"node\">\n",
       "<title>2272174688384</title>\n",
       "<polygon fill=\"lightgrey\" stroke=\"black\" points=\"379,-581.75 285,-581.75 285,-561 379,-561 379,-581.75\"/>\n",
       "<text text-anchor=\"middle\" x=\"332\" y=\"-568.25\" font-family=\"monospace\" font-size=\"10.00\">ViewBackward0</text>\n",
       "</g>\n",
       "<!-- 2272174688384&#45;&gt;2272174689440 -->\n",
       "<g id=\"edge141\" class=\"edge\">\n",
       "<title>2272174688384&#45;&gt;2272174689440</title>\n",
       "<path fill=\"none\" stroke=\"black\" d=\"M343.98,-560.59C353.51,-552.8 367.06,-541.72 378.33,-532.51\"/>\n",
       "<polygon fill=\"black\" stroke=\"black\" points=\"380.42,-535.32 385.95,-526.29 376,-529.9 380.42,-535.32\"/>\n",
       "</g>\n",
       "<!-- 2272174686752 -->\n",
       "<g id=\"node137\" class=\"node\">\n",
       "<title>2272174686752</title>\n",
       "<polygon fill=\"lightgrey\" stroke=\"black\" points=\"353,-644.88 205,-644.88 205,-624.12 353,-624.12 353,-644.88\"/>\n",
       "<text text-anchor=\"middle\" x=\"279\" y=\"-631.38\" font-family=\"monospace\" font-size=\"10.00\">NativeDropoutBackward0</text>\n",
       "</g>\n",
       "<!-- 2272174686752&#45;&gt;2272174688384 -->\n",
       "<g id=\"edge142\" class=\"edge\">\n",
       "<title>2272174686752&#45;&gt;2272174688384</title>\n",
       "<path fill=\"none\" stroke=\"black\" d=\"M287.52,-623.68C295.29,-614.72 306.97,-601.24 316.41,-590.35\"/>\n",
       "<polygon fill=\"black\" stroke=\"black\" points=\"318.78,-592.96 322.69,-583.11 313.49,-588.38 318.78,-592.96\"/>\n",
       "</g>\n",
       "<!-- 2272060741696 -->\n",
       "<g id=\"node138\" class=\"node\">\n",
       "<title>2272060741696</title>\n",
       "<polygon fill=\"lightgrey\" stroke=\"black\" points=\"386,-714.38 292,-714.38 292,-693.62 386,-693.62 386,-714.38\"/>\n",
       "<text text-anchor=\"middle\" x=\"339\" y=\"-700.88\" font-family=\"monospace\" font-size=\"10.00\">ReluBackward0</text>\n",
       "</g>\n",
       "<!-- 2272060741696&#45;&gt;2272174686752 -->\n",
       "<g id=\"edge143\" class=\"edge\">\n",
       "<title>2272060741696&#45;&gt;2272174686752</title>\n",
       "<path fill=\"none\" stroke=\"black\" d=\"M330.4,-693.33C321.23,-683 306.47,-666.4 295.12,-653.63\"/>\n",
       "<polygon fill=\"black\" stroke=\"black\" points=\"297.85,-651.43 288.59,-646.28 292.61,-656.08 297.85,-651.43\"/>\n",
       "</g>\n",
       "<!-- 2272060743904 -->\n",
       "<g id=\"node139\" class=\"node\">\n",
       "<title>2272060743904</title>\n",
       "<polygon fill=\"lightgrey\" stroke=\"black\" points=\"391,-777.5 297,-777.5 297,-756.75 391,-756.75 391,-777.5\"/>\n",
       "<text text-anchor=\"middle\" x=\"344\" y=\"-764\" font-family=\"monospace\" font-size=\"10.00\">ViewBackward0</text>\n",
       "</g>\n",
       "<!-- 2272060743904&#45;&gt;2272060741696 -->\n",
       "<g id=\"edge144\" class=\"edge\">\n",
       "<title>2272060743904&#45;&gt;2272060741696</title>\n",
       "<path fill=\"none\" stroke=\"black\" d=\"M343.2,-756.3C342.53,-748.15 341.56,-736.26 340.72,-725.98\"/>\n",
       "<polygon fill=\"black\" stroke=\"black\" points=\"344.21,-725.78 339.91,-716.1 337.24,-726.36 344.21,-725.78\"/>\n",
       "</g>\n",
       "<!-- 2272060743280 -->\n",
       "<g id=\"node140\" class=\"node\">\n",
       "<title>2272060743280</title>\n",
       "<polygon fill=\"lightgrey\" stroke=\"black\" points=\"403,-834.25 303,-834.25 303,-813.5 403,-813.5 403,-834.25\"/>\n",
       "<text text-anchor=\"middle\" x=\"353\" y=\"-820.75\" font-family=\"monospace\" font-size=\"10.00\">AddmmBackward0</text>\n",
       "</g>\n",
       "<!-- 2272060743280&#45;&gt;2272060743904 -->\n",
       "<g id=\"edge145\" class=\"edge\">\n",
       "<title>2272060743280&#45;&gt;2272060743904</title>\n",
       "<path fill=\"none\" stroke=\"black\" d=\"M351.39,-813.09C350.29,-806.39 348.79,-797.26 347.43,-788.98\"/>\n",
       "<polygon fill=\"black\" stroke=\"black\" points=\"350.92,-788.62 345.84,-779.32 344.01,-789.76 350.92,-788.62\"/>\n",
       "</g>\n",
       "<!-- 2272060743712 -->\n",
       "<g id=\"node141\" class=\"node\">\n",
       "<title>2272060743712</title>\n",
       "<polygon fill=\"lightgrey\" stroke=\"black\" points=\"421,-891 321,-891 321,-870.25 421,-870.25 421,-891\"/>\n",
       "<text text-anchor=\"middle\" x=\"371\" y=\"-877.5\" font-family=\"monospace\" font-size=\"10.00\">AccumulateGrad</text>\n",
       "</g>\n",
       "<!-- 2272060743712&#45;&gt;2272060743280 -->\n",
       "<g id=\"edge146\" class=\"edge\">\n",
       "<title>2272060743712&#45;&gt;2272060743280</title>\n",
       "<path fill=\"none\" stroke=\"black\" d=\"M367.78,-869.84C365.56,-863.06 362.51,-853.8 359.76,-845.44\"/>\n",
       "<polygon fill=\"black\" stroke=\"black\" points=\"363.11,-844.42 356.66,-836.02 356.46,-846.61 363.11,-844.42\"/>\n",
       "</g>\n",
       "<!-- 2273449401120 -->\n",
       "<g id=\"node142\" class=\"node\">\n",
       "<title>2273449401120</title>\n",
       "<polygon fill=\"lightblue\" stroke=\"black\" points=\"530,-960.5 268,-960.5 268,-927 530,-927 530,-960.5\"/>\n",
       "<text text-anchor=\"middle\" x=\"399\" y=\"-947\" font-family=\"monospace\" font-size=\"10.00\">transformer_encoder.layers.1.linear1.bias</text>\n",
       "<text text-anchor=\"middle\" x=\"399\" y=\"-934.25\" font-family=\"monospace\" font-size=\"10.00\"> (2048)</text>\n",
       "</g>\n",
       "<!-- 2273449401120&#45;&gt;2272060743712 -->\n",
       "<g id=\"edge147\" class=\"edge\">\n",
       "<title>2273449401120&#45;&gt;2272060743712</title>\n",
       "<path fill=\"none\" stroke=\"black\" d=\"M391.64,-926.69C388.16,-919.09 383.97,-909.94 380.27,-901.87\"/>\n",
       "<polygon fill=\"black\" stroke=\"black\" points=\"383.49,-900.48 376.14,-892.84 377.12,-903.39 383.49,-900.48\"/>\n",
       "</g>\n",
       "<!-- 2272060743760&#45;&gt;2272060743280 -->\n",
       "<g id=\"edge148\" class=\"edge\">\n",
       "<title>2272060743760&#45;&gt;2272060743280</title>\n",
       "<path fill=\"none\" stroke=\"black\" d=\"M503.28,-869.84C473.45,-860.91 429.16,-847.66 396.38,-837.85\"/>\n",
       "<polygon fill=\"black\" stroke=\"black\" points=\"397.78,-834.62 387.19,-835.1 395.77,-841.32 397.78,-834.62\"/>\n",
       "</g>\n",
       "<!-- 2272060740496 -->\n",
       "<g id=\"node144\" class=\"node\">\n",
       "<title>2272060740496</title>\n",
       "<polygon fill=\"lightgrey\" stroke=\"black\" points=\"275,-891 199,-891 199,-870.25 275,-870.25 275,-891\"/>\n",
       "<text text-anchor=\"middle\" x=\"237\" y=\"-877.5\" font-family=\"monospace\" font-size=\"10.00\">TBackward0</text>\n",
       "</g>\n",
       "<!-- 2272060740496&#45;&gt;2272060743280 -->\n",
       "<g id=\"edge150\" class=\"edge\">\n",
       "<title>2272060740496&#45;&gt;2272060743280</title>\n",
       "<path fill=\"none\" stroke=\"black\" d=\"M257.74,-869.84C275.64,-861.39 301.74,-849.07 322.1,-839.46\"/>\n",
       "<polygon fill=\"black\" stroke=\"black\" points=\"323.52,-842.66 331.07,-835.22 320.54,-836.33 323.52,-842.66\"/>\n",
       "</g>\n",
       "<!-- 2272060744336 -->\n",
       "<g id=\"node145\" class=\"node\">\n",
       "<title>2272060744336</title>\n",
       "<polygon fill=\"lightgrey\" stroke=\"black\" points=\"250,-954.12 150,-954.12 150,-933.38 250,-933.38 250,-954.12\"/>\n",
       "<text text-anchor=\"middle\" x=\"200\" y=\"-940.62\" font-family=\"monospace\" font-size=\"10.00\">AccumulateGrad</text>\n",
       "</g>\n",
       "<!-- 2272060744336&#45;&gt;2272060740496 -->\n",
       "<g id=\"edge151\" class=\"edge\">\n",
       "<title>2272060744336&#45;&gt;2272060740496</title>\n",
       "<path fill=\"none\" stroke=\"black\" d=\"M205.94,-932.93C211.15,-924.32 218.88,-911.56 225.32,-900.92\"/>\n",
       "<polygon fill=\"black\" stroke=\"black\" points=\"228.22,-902.88 230.41,-892.51 222.24,-899.26 228.22,-902.88\"/>\n",
       "</g>\n",
       "<!-- 2273449403600 -->\n",
       "<g id=\"node146\" class=\"node\">\n",
       "<title>2273449403600</title>\n",
       "<polygon fill=\"lightblue\" stroke=\"black\" points=\"337,-1030 63,-1030 63,-996.5 337,-996.5 337,-1030\"/>\n",
       "<text text-anchor=\"middle\" x=\"200\" y=\"-1016.5\" font-family=\"monospace\" font-size=\"10.00\">transformer_encoder.layers.1.linear1.weight</text>\n",
       "<text text-anchor=\"middle\" x=\"200\" y=\"-1003.75\" font-family=\"monospace\" font-size=\"10.00\"> (2048, 64)</text>\n",
       "</g>\n",
       "<!-- 2273449403600&#45;&gt;2272060744336 -->\n",
       "<g id=\"edge152\" class=\"edge\">\n",
       "<title>2273449403600&#45;&gt;2272060744336</title>\n",
       "<path fill=\"none\" stroke=\"black\" d=\"M200,-996.25C200,-987.15 200,-975.64 200,-965.82\"/>\n",
       "<polygon fill=\"black\" stroke=\"black\" points=\"203.5,-966.09 200,-956.09 196.5,-966.09 203.5,-966.09\"/>\n",
       "</g>\n",
       "<!-- 2272174701968 -->\n",
       "<g id=\"node147\" class=\"node\">\n",
       "<title>2272174701968</title>\n",
       "<polygon fill=\"lightgrey\" stroke=\"black\" points=\"194,-581.75 118,-581.75 118,-561 194,-561 194,-581.75\"/>\n",
       "<text text-anchor=\"middle\" x=\"156\" y=\"-568.25\" font-family=\"monospace\" font-size=\"10.00\">TBackward0</text>\n",
       "</g>\n",
       "<!-- 2272174701968&#45;&gt;2272174689440 -->\n",
       "<g id=\"edge153\" class=\"edge\">\n",
       "<title>2272174701968&#45;&gt;2272174689440</title>\n",
       "<path fill=\"none\" stroke=\"black\" d=\"M194.24,-561.76C234.53,-552.68 298.36,-538.3 344.04,-528.01\"/>\n",
       "<polygon fill=\"black\" stroke=\"black\" points=\"344.77,-531.43 353.76,-525.82 343.24,-524.6 344.77,-531.43\"/>\n",
       "</g>\n",
       "<!-- 2272174692992 -->\n",
       "<g id=\"node148\" class=\"node\">\n",
       "<title>2272174692992</title>\n",
       "<polygon fill=\"lightgrey\" stroke=\"black\" points=\"187,-644.88 87,-644.88 87,-624.12 187,-624.12 187,-644.88\"/>\n",
       "<text text-anchor=\"middle\" x=\"137\" y=\"-631.38\" font-family=\"monospace\" font-size=\"10.00\">AccumulateGrad</text>\n",
       "</g>\n",
       "<!-- 2272174692992&#45;&gt;2272174701968 -->\n",
       "<g id=\"edge154\" class=\"edge\">\n",
       "<title>2272174692992&#45;&gt;2272174701968</title>\n",
       "<path fill=\"none\" stroke=\"black\" d=\"M140.05,-623.68C142.64,-615.34 146.45,-603.11 149.69,-592.68\"/>\n",
       "<polygon fill=\"black\" stroke=\"black\" points=\"152.94,-594 152.57,-583.42 146.26,-591.93 152.94,-594\"/>\n",
       "</g>\n",
       "<!-- 2273449403040 -->\n",
       "<g id=\"node149\" class=\"node\">\n",
       "<title>2273449403040</title>\n",
       "<polygon fill=\"lightblue\" stroke=\"black\" points=\"274,-720.75 0,-720.75 0,-687.25 274,-687.25 274,-720.75\"/>\n",
       "<text text-anchor=\"middle\" x=\"137\" y=\"-707.25\" font-family=\"monospace\" font-size=\"10.00\">transformer_encoder.layers.1.linear2.weight</text>\n",
       "<text text-anchor=\"middle\" x=\"137\" y=\"-694.5\" font-family=\"monospace\" font-size=\"10.00\"> (64, 2048)</text>\n",
       "</g>\n",
       "<!-- 2273449403040&#45;&gt;2272174692992 -->\n",
       "<g id=\"edge155\" class=\"edge\">\n",
       "<title>2273449403040&#45;&gt;2272174692992</title>\n",
       "<path fill=\"none\" stroke=\"black\" d=\"M137,-687C137,-677.9 137,-666.39 137,-656.57\"/>\n",
       "<polygon fill=\"black\" stroke=\"black\" points=\"140.5,-656.84 137,-646.84 133.5,-656.84 140.5,-656.84\"/>\n",
       "</g>\n",
       "<!-- 2272174693808 -->\n",
       "<g id=\"node150\" class=\"node\">\n",
       "<title>2272174693808</title>\n",
       "<polygon fill=\"lightgrey\" stroke=\"black\" points=\"870,-342 770,-342 770,-321.25 870,-321.25 870,-342\"/>\n",
       "<text text-anchor=\"middle\" x=\"820\" y=\"-328.5\" font-family=\"monospace\" font-size=\"10.00\">AccumulateGrad</text>\n",
       "</g>\n",
       "<!-- 2272174693808&#45;&gt;2272174700960 -->\n",
       "<g id=\"edge156\" class=\"edge\">\n",
       "<title>2272174693808&#45;&gt;2272174700960</title>\n",
       "<path fill=\"none\" stroke=\"black\" d=\"M820,-320.8C820,-312.65 820,-300.76 820,-290.48\"/>\n",
       "<polygon fill=\"black\" stroke=\"black\" points=\"823.5,-290.61 820,-280.61 816.5,-290.61 823.5,-290.61\"/>\n",
       "</g>\n",
       "<!-- 2273449402240 -->\n",
       "<g id=\"node151\" class=\"node\">\n",
       "<title>2273449402240</title>\n",
       "<polygon fill=\"lightblue\" stroke=\"black\" points=\"951,-411.5 689,-411.5 689,-378 951,-378 951,-411.5\"/>\n",
       "<text text-anchor=\"middle\" x=\"820\" y=\"-398\" font-family=\"monospace\" font-size=\"10.00\">transformer_encoder.layers.1.norm2.weight</text>\n",
       "<text text-anchor=\"middle\" x=\"820\" y=\"-385.25\" font-family=\"monospace\" font-size=\"10.00\"> (64)</text>\n",
       "</g>\n",
       "<!-- 2273449402240&#45;&gt;2272174693808 -->\n",
       "<g id=\"edge157\" class=\"edge\">\n",
       "<title>2273449402240&#45;&gt;2272174693808</title>\n",
       "<path fill=\"none\" stroke=\"black\" d=\"M820,-377.69C820,-370.35 820,-361.57 820,-353.71\"/>\n",
       "<polygon fill=\"black\" stroke=\"black\" points=\"823.5,-353.98 820,-343.98 816.5,-353.98 823.5,-353.98\"/>\n",
       "</g>\n",
       "<!-- 2272174692320 -->\n",
       "<g id=\"node152\" class=\"node\">\n",
       "<title>2272174692320</title>\n",
       "<polygon fill=\"lightgrey\" stroke=\"black\" points=\"1066,-342 966,-342 966,-321.25 1066,-321.25 1066,-342\"/>\n",
       "<text text-anchor=\"middle\" x=\"1016\" y=\"-328.5\" font-family=\"monospace\" font-size=\"10.00\">AccumulateGrad</text>\n",
       "</g>\n",
       "<!-- 2272174692320&#45;&gt;2272174700960 -->\n",
       "<g id=\"edge158\" class=\"edge\">\n",
       "<title>2272174692320&#45;&gt;2272174700960</title>\n",
       "<path fill=\"none\" stroke=\"black\" d=\"M984.51,-320.8C951.36,-310.47 899,-294.14 862.27,-282.68\"/>\n",
       "<polygon fill=\"black\" stroke=\"black\" points=\"863.45,-279.38 852.86,-279.75 861.36,-286.07 863.45,-279.38\"/>\n",
       "</g>\n",
       "<!-- 2273449402160 -->\n",
       "<g id=\"node153\" class=\"node\">\n",
       "<title>2273449402160</title>\n",
       "<polygon fill=\"lightblue\" stroke=\"black\" points=\"1219,-411.5 969,-411.5 969,-378 1219,-378 1219,-411.5\"/>\n",
       "<text text-anchor=\"middle\" x=\"1094\" y=\"-398\" font-family=\"monospace\" font-size=\"10.00\">transformer_encoder.layers.1.norm2.bias</text>\n",
       "<text text-anchor=\"middle\" x=\"1094\" y=\"-385.25\" font-family=\"monospace\" font-size=\"10.00\"> (64)</text>\n",
       "</g>\n",
       "<!-- 2273449402160&#45;&gt;2272174692320 -->\n",
       "<g id=\"edge159\" class=\"edge\">\n",
       "<title>2273449402160&#45;&gt;2272174692320</title>\n",
       "<path fill=\"none\" stroke=\"black\" d=\"M1073.51,-377.69C1062.36,-368.96 1048.6,-358.17 1037.33,-349.34\"/>\n",
       "<polygon fill=\"black\" stroke=\"black\" points=\"1039.78,-346.81 1029.75,-343.4 1035.46,-352.32 1039.78,-346.81\"/>\n",
       "</g>\n",
       "<!-- 2272174698512 -->\n",
       "<g id=\"node154\" class=\"node\">\n",
       "<title>2272174698512</title>\n",
       "<polygon fill=\"lightgrey\" stroke=\"black\" points=\"989,-146.25 913,-146.25 913,-125.5 989,-125.5 989,-146.25\"/>\n",
       "<text text-anchor=\"middle\" x=\"951\" y=\"-132.75\" font-family=\"monospace\" font-size=\"10.00\">TBackward0</text>\n",
       "</g>\n",
       "<!-- 2272174698512&#45;&gt;2272174698320 -->\n",
       "<g id=\"edge160\" class=\"edge\">\n",
       "<title>2272174698512&#45;&gt;2272174698320</title>\n",
       "<path fill=\"none\" stroke=\"black\" d=\"M927.76,-125.09C907.33,-116.48 877.36,-103.86 854.37,-94.18\"/>\n",
       "<polygon fill=\"black\" stroke=\"black\" points=\"856.01,-91.07 845.44,-90.42 853.29,-97.52 856.01,-91.07\"/>\n",
       "</g>\n",
       "<!-- 2272174686272 -->\n",
       "<g id=\"node155\" class=\"node\">\n",
       "<title>2272174686272</title>\n",
       "<polygon fill=\"lightgrey\" stroke=\"black\" points=\"1002,-209.38 902,-209.38 902,-188.62 1002,-188.62 1002,-209.38\"/>\n",
       "<text text-anchor=\"middle\" x=\"952\" y=\"-195.88\" font-family=\"monospace\" font-size=\"10.00\">AccumulateGrad</text>\n",
       "</g>\n",
       "<!-- 2272174686272&#45;&gt;2272174698512 -->\n",
       "<g id=\"edge161\" class=\"edge\">\n",
       "<title>2272174686272&#45;&gt;2272174698512</title>\n",
       "<path fill=\"none\" stroke=\"black\" d=\"M951.84,-188.18C951.71,-180.02 951.51,-168.13 951.34,-157.85\"/>\n",
       "<polygon fill=\"black\" stroke=\"black\" points=\"954.84,-157.92 951.18,-147.98 947.85,-158.04 954.84,-157.92\"/>\n",
       "</g>\n",
       "<!-- 2273449427648 -->\n",
       "<g id=\"node156\" class=\"node\">\n",
       "<title>2273449427648</title>\n",
       "<polygon fill=\"lightblue\" stroke=\"black\" points=\"988,-285.25 918,-285.25 918,-251.75 988,-251.75 988,-285.25\"/>\n",
       "<text text-anchor=\"middle\" x=\"953\" y=\"-271.75\" font-family=\"monospace\" font-size=\"10.00\">fc.weight</text>\n",
       "<text text-anchor=\"middle\" x=\"953\" y=\"-259\" font-family=\"monospace\" font-size=\"10.00\"> (1, 64)</text>\n",
       "</g>\n",
       "<!-- 2273449427648&#45;&gt;2272174686272 -->\n",
       "<g id=\"edge162\" class=\"edge\">\n",
       "<title>2273449427648&#45;&gt;2272174686272</title>\n",
       "<path fill=\"none\" stroke=\"black\" d=\"M952.76,-251.5C952.63,-242.4 952.46,-230.89 952.31,-221.07\"/>\n",
       "<polygon fill=\"black\" stroke=\"black\" points=\"955.82,-221.28 952.17,-211.34 948.82,-221.39 955.82,-221.28\"/>\n",
       "</g>\n",
       "</g>\n",
       "</svg>\n"
      ],
      "text/plain": [
       "<graphviz.graphs.Digraph at 0x211082a4dc0>"
      ]
     },
     "metadata": {},
     "output_type": "display_data"
    }
   ],
   "source": [
    "print(\"Model Computational Graph:\")\n",
    "display(dot)"
   ]
  },
  {
   "cell_type": "markdown",
   "metadata": {},
   "source": [
    "### Training"
   ]
  },
  {
   "cell_type": "code",
   "execution_count": 18,
   "metadata": {},
   "outputs": [],
   "source": [
    "epochs = 100\n",
    "criterion = nn.MSELoss()\n",
    "optimizer = optim.Adam(model.parameters(), lr=1e-3)\n",
    "patience = 10"
   ]
  },
  {
   "cell_type": "code",
   "execution_count": 19,
   "metadata": {},
   "outputs": [],
   "source": [
    "train_losses = []\n",
    "val_losses = []\n",
    "best_val_loss = float(\"inf\")\n",
    "epochs_no_improve = 0"
   ]
  },
  {
   "cell_type": "code",
   "execution_count": 20,
   "metadata": {},
   "outputs": [
    {
     "name": "stderr",
     "output_type": "stream",
     "text": [
      "                                                                            \r"
     ]
    },
    {
     "name": "stdout",
     "output_type": "stream",
     "text": [
      "Epoch: 1/100 | Train Loss: 0.5428 | Val Loss: 0.4766\n"
     ]
    },
    {
     "name": "stderr",
     "output_type": "stream",
     "text": [
      "                                                                            \r"
     ]
    },
    {
     "name": "stdout",
     "output_type": "stream",
     "text": [
      "Epoch: 2/100 | Train Loss: 0.4786 | Val Loss: 0.4395\n"
     ]
    },
    {
     "name": "stderr",
     "output_type": "stream",
     "text": [
      "                                                                            \r"
     ]
    },
    {
     "name": "stdout",
     "output_type": "stream",
     "text": [
      "Epoch: 3/100 | Train Loss: 0.4666 | Val Loss: 0.4504\n",
      "Early Stopping: 1/10\n"
     ]
    },
    {
     "name": "stderr",
     "output_type": "stream",
     "text": [
      "                                                                            \r"
     ]
    },
    {
     "name": "stdout",
     "output_type": "stream",
     "text": [
      "Epoch: 4/100 | Train Loss: 0.4581 | Val Loss: 0.4364\n"
     ]
    },
    {
     "name": "stderr",
     "output_type": "stream",
     "text": [
      "                                                                            \r"
     ]
    },
    {
     "name": "stdout",
     "output_type": "stream",
     "text": [
      "Epoch: 5/100 | Train Loss: 0.4535 | Val Loss: 0.4285\n"
     ]
    },
    {
     "name": "stderr",
     "output_type": "stream",
     "text": [
      "                                                                            \r"
     ]
    },
    {
     "name": "stdout",
     "output_type": "stream",
     "text": [
      "Epoch: 6/100 | Train Loss: 0.4482 | Val Loss: 0.4209\n"
     ]
    },
    {
     "name": "stderr",
     "output_type": "stream",
     "text": [
      "                                                                           \r"
     ]
    },
    {
     "name": "stdout",
     "output_type": "stream",
     "text": [
      "Epoch: 7/100 | Train Loss: 0.4446 | Val Loss: 0.4253\n",
      "Early Stopping: 1/10\n"
     ]
    },
    {
     "name": "stderr",
     "output_type": "stream",
     "text": [
      "                                                                           \r"
     ]
    },
    {
     "name": "stdout",
     "output_type": "stream",
     "text": [
      "Epoch: 8/100 | Train Loss: 0.4408 | Val Loss: 0.4229\n",
      "Early Stopping: 2/10\n"
     ]
    },
    {
     "name": "stderr",
     "output_type": "stream",
     "text": [
      "                                                                            \r"
     ]
    },
    {
     "name": "stdout",
     "output_type": "stream",
     "text": [
      "Epoch: 9/100 | Train Loss: 0.4351 | Val Loss: 0.4137\n"
     ]
    },
    {
     "name": "stderr",
     "output_type": "stream",
     "text": [
      "                                                                            \r"
     ]
    },
    {
     "name": "stdout",
     "output_type": "stream",
     "text": [
      "Epoch: 10/100 | Train Loss: 0.4317 | Val Loss: 0.4054\n"
     ]
    },
    {
     "name": "stderr",
     "output_type": "stream",
     "text": [
      "                                                                             \r"
     ]
    },
    {
     "name": "stdout",
     "output_type": "stream",
     "text": [
      "Epoch: 11/100 | Train Loss: 0.4300 | Val Loss: 0.4228\n",
      "Early Stopping: 1/10\n"
     ]
    },
    {
     "name": "stderr",
     "output_type": "stream",
     "text": [
      "                                                                             \r"
     ]
    },
    {
     "name": "stdout",
     "output_type": "stream",
     "text": [
      "Epoch: 12/100 | Train Loss: 0.4258 | Val Loss: 0.4104\n",
      "Early Stopping: 2/10\n"
     ]
    },
    {
     "name": "stderr",
     "output_type": "stream",
     "text": [
      "                                                                             \r"
     ]
    },
    {
     "name": "stdout",
     "output_type": "stream",
     "text": [
      "Epoch: 13/100 | Train Loss: 0.4224 | Val Loss: 0.4032\n"
     ]
    },
    {
     "name": "stderr",
     "output_type": "stream",
     "text": [
      "                                                                             \r"
     ]
    },
    {
     "name": "stdout",
     "output_type": "stream",
     "text": [
      "Epoch: 14/100 | Train Loss: 0.4192 | Val Loss: 0.4220\n",
      "Early Stopping: 1/10\n"
     ]
    },
    {
     "name": "stderr",
     "output_type": "stream",
     "text": [
      "                                                                             \r"
     ]
    },
    {
     "name": "stdout",
     "output_type": "stream",
     "text": [
      "Epoch: 15/100 | Train Loss: 0.4153 | Val Loss: 0.3915\n"
     ]
    },
    {
     "name": "stderr",
     "output_type": "stream",
     "text": [
      "                                                                             \r"
     ]
    },
    {
     "name": "stdout",
     "output_type": "stream",
     "text": [
      "Epoch: 16/100 | Train Loss: 0.4118 | Val Loss: 0.4065\n",
      "Early Stopping: 1/10\n"
     ]
    },
    {
     "name": "stderr",
     "output_type": "stream",
     "text": [
      "                                                                             \r"
     ]
    },
    {
     "name": "stdout",
     "output_type": "stream",
     "text": [
      "Epoch: 17/100 | Train Loss: 0.4078 | Val Loss: 0.3896\n"
     ]
    },
    {
     "name": "stderr",
     "output_type": "stream",
     "text": [
      "                                                                             \r"
     ]
    },
    {
     "name": "stdout",
     "output_type": "stream",
     "text": [
      "Epoch: 18/100 | Train Loss: 0.4031 | Val Loss: 0.3951\n",
      "Early Stopping: 1/10\n"
     ]
    },
    {
     "name": "stderr",
     "output_type": "stream",
     "text": [
      "                                                                             \r"
     ]
    },
    {
     "name": "stdout",
     "output_type": "stream",
     "text": [
      "Epoch: 19/100 | Train Loss: 0.4003 | Val Loss: 0.4050\n",
      "Early Stopping: 2/10\n"
     ]
    },
    {
     "name": "stderr",
     "output_type": "stream",
     "text": [
      "                                                                             \r"
     ]
    },
    {
     "name": "stdout",
     "output_type": "stream",
     "text": [
      "Epoch: 20/100 | Train Loss: 0.3964 | Val Loss: 0.3913\n",
      "Early Stopping: 3/10\n"
     ]
    },
    {
     "name": "stderr",
     "output_type": "stream",
     "text": [
      "                                                                             \r"
     ]
    },
    {
     "name": "stdout",
     "output_type": "stream",
     "text": [
      "Epoch: 21/100 | Train Loss: 0.3926 | Val Loss: 0.3709\n"
     ]
    },
    {
     "name": "stderr",
     "output_type": "stream",
     "text": [
      "                                                                             \r"
     ]
    },
    {
     "name": "stdout",
     "output_type": "stream",
     "text": [
      "Epoch: 22/100 | Train Loss: 0.3874 | Val Loss: 0.3871\n",
      "Early Stopping: 1/10\n"
     ]
    },
    {
     "name": "stderr",
     "output_type": "stream",
     "text": [
      "                                                                             \r"
     ]
    },
    {
     "name": "stdout",
     "output_type": "stream",
     "text": [
      "Epoch: 23/100 | Train Loss: 0.3832 | Val Loss: 0.3753\n",
      "Early Stopping: 2/10\n"
     ]
    },
    {
     "name": "stderr",
     "output_type": "stream",
     "text": [
      "                                                                             \r"
     ]
    },
    {
     "name": "stdout",
     "output_type": "stream",
     "text": [
      "Epoch: 24/100 | Train Loss: 0.3779 | Val Loss: 0.3697\n"
     ]
    },
    {
     "name": "stderr",
     "output_type": "stream",
     "text": [
      "                                                                             \r"
     ]
    },
    {
     "name": "stdout",
     "output_type": "stream",
     "text": [
      "Epoch: 25/100 | Train Loss: 0.3763 | Val Loss: 0.3604\n"
     ]
    },
    {
     "name": "stderr",
     "output_type": "stream",
     "text": [
      "                                                                             \r"
     ]
    },
    {
     "name": "stdout",
     "output_type": "stream",
     "text": [
      "Epoch: 26/100 | Train Loss: 0.3707 | Val Loss: 0.3534\n"
     ]
    },
    {
     "name": "stderr",
     "output_type": "stream",
     "text": [
      "                                                                             \r"
     ]
    },
    {
     "name": "stdout",
     "output_type": "stream",
     "text": [
      "Epoch: 27/100 | Train Loss: 0.3665 | Val Loss: 0.3633\n",
      "Early Stopping: 1/10\n"
     ]
    },
    {
     "name": "stderr",
     "output_type": "stream",
     "text": [
      "                                                                             \r"
     ]
    },
    {
     "name": "stdout",
     "output_type": "stream",
     "text": [
      "Epoch: 28/100 | Train Loss: 0.3625 | Val Loss: 0.3647\n",
      "Early Stopping: 2/10\n"
     ]
    },
    {
     "name": "stderr",
     "output_type": "stream",
     "text": [
      "                                                                             \r"
     ]
    },
    {
     "name": "stdout",
     "output_type": "stream",
     "text": [
      "Epoch: 29/100 | Train Loss: 0.3590 | Val Loss: 0.3581\n",
      "Early Stopping: 3/10\n"
     ]
    },
    {
     "name": "stderr",
     "output_type": "stream",
     "text": [
      "                                                                             \r"
     ]
    },
    {
     "name": "stdout",
     "output_type": "stream",
     "text": [
      "Epoch: 30/100 | Train Loss: 0.3546 | Val Loss: 0.3372\n"
     ]
    },
    {
     "name": "stderr",
     "output_type": "stream",
     "text": [
      "                                                                             \r"
     ]
    },
    {
     "name": "stdout",
     "output_type": "stream",
     "text": [
      "Epoch: 31/100 | Train Loss: 0.3493 | Val Loss: 0.3525\n",
      "Early Stopping: 1/10\n"
     ]
    },
    {
     "name": "stderr",
     "output_type": "stream",
     "text": [
      "                                                                             \r"
     ]
    },
    {
     "name": "stdout",
     "output_type": "stream",
     "text": [
      "Epoch: 32/100 | Train Loss: 0.3450 | Val Loss: 0.3666\n",
      "Early Stopping: 2/10\n"
     ]
    },
    {
     "name": "stderr",
     "output_type": "stream",
     "text": [
      "                                                                             \r"
     ]
    },
    {
     "name": "stdout",
     "output_type": "stream",
     "text": [
      "Epoch: 33/100 | Train Loss: 0.3414 | Val Loss: 0.3484\n",
      "Early Stopping: 3/10\n"
     ]
    },
    {
     "name": "stderr",
     "output_type": "stream",
     "text": [
      "                                                                             \r"
     ]
    },
    {
     "name": "stdout",
     "output_type": "stream",
     "text": [
      "Epoch: 34/100 | Train Loss: 0.3367 | Val Loss: 0.3666\n",
      "Early Stopping: 4/10\n"
     ]
    },
    {
     "name": "stderr",
     "output_type": "stream",
     "text": [
      "                                                                             \r"
     ]
    },
    {
     "name": "stdout",
     "output_type": "stream",
     "text": [
      "Epoch: 35/100 | Train Loss: 0.3334 | Val Loss: 0.3562\n",
      "Early Stopping: 5/10\n"
     ]
    },
    {
     "name": "stderr",
     "output_type": "stream",
     "text": [
      "                                                                             \r"
     ]
    },
    {
     "name": "stdout",
     "output_type": "stream",
     "text": [
      "Epoch: 36/100 | Train Loss: 0.3294 | Val Loss: 0.3791\n",
      "Early Stopping: 6/10\n"
     ]
    },
    {
     "name": "stderr",
     "output_type": "stream",
     "text": [
      "                                                                             \r"
     ]
    },
    {
     "name": "stdout",
     "output_type": "stream",
     "text": [
      "Epoch: 37/100 | Train Loss: 0.3257 | Val Loss: 0.3439\n",
      "Early Stopping: 7/10\n"
     ]
    },
    {
     "name": "stderr",
     "output_type": "stream",
     "text": [
      "                                                                             \r"
     ]
    },
    {
     "name": "stdout",
     "output_type": "stream",
     "text": [
      "Epoch: 38/100 | Train Loss: 0.3210 | Val Loss: 0.3330\n"
     ]
    },
    {
     "name": "stderr",
     "output_type": "stream",
     "text": [
      "                                                                            \r"
     ]
    },
    {
     "name": "stdout",
     "output_type": "stream",
     "text": [
      "Epoch: 39/100 | Train Loss: 0.3181 | Val Loss: 0.3327\n"
     ]
    },
    {
     "name": "stderr",
     "output_type": "stream",
     "text": [
      "                                                                             \r"
     ]
    },
    {
     "name": "stdout",
     "output_type": "stream",
     "text": [
      "Epoch: 40/100 | Train Loss: 0.3127 | Val Loss: 0.3411\n",
      "Early Stopping: 1/10\n"
     ]
    },
    {
     "name": "stderr",
     "output_type": "stream",
     "text": [
      "                                                                             \r"
     ]
    },
    {
     "name": "stdout",
     "output_type": "stream",
     "text": [
      "Epoch: 41/100 | Train Loss: 0.3105 | Val Loss: 0.3412\n",
      "Early Stopping: 2/10\n"
     ]
    },
    {
     "name": "stderr",
     "output_type": "stream",
     "text": [
      "                                                                             \r"
     ]
    },
    {
     "name": "stdout",
     "output_type": "stream",
     "text": [
      "Epoch: 42/100 | Train Loss: 0.3069 | Val Loss: 0.3313\n"
     ]
    },
    {
     "name": "stderr",
     "output_type": "stream",
     "text": [
      "                                                                            \r"
     ]
    },
    {
     "name": "stdout",
     "output_type": "stream",
     "text": [
      "Epoch: 43/100 | Train Loss: 0.3028 | Val Loss: 0.3291\n"
     ]
    },
    {
     "name": "stderr",
     "output_type": "stream",
     "text": [
      "                                                                             \r"
     ]
    },
    {
     "name": "stdout",
     "output_type": "stream",
     "text": [
      "Epoch: 44/100 | Train Loss: 0.3008 | Val Loss: 0.3472\n",
      "Early Stopping: 1/10\n"
     ]
    },
    {
     "name": "stderr",
     "output_type": "stream",
     "text": [
      "                                                                             \r"
     ]
    },
    {
     "name": "stdout",
     "output_type": "stream",
     "text": [
      "Epoch: 45/100 | Train Loss: 0.2979 | Val Loss: 0.3234\n"
     ]
    },
    {
     "name": "stderr",
     "output_type": "stream",
     "text": [
      "                                                                             \r"
     ]
    },
    {
     "name": "stdout",
     "output_type": "stream",
     "text": [
      "Epoch: 46/100 | Train Loss: 0.2940 | Val Loss: 0.3330\n",
      "Early Stopping: 1/10\n"
     ]
    },
    {
     "name": "stderr",
     "output_type": "stream",
     "text": [
      "                                                                            \r"
     ]
    },
    {
     "name": "stdout",
     "output_type": "stream",
     "text": [
      "Epoch: 47/100 | Train Loss: 0.2906 | Val Loss: 0.3254\n",
      "Early Stopping: 2/10\n"
     ]
    },
    {
     "name": "stderr",
     "output_type": "stream",
     "text": [
      "                                                                             \r"
     ]
    },
    {
     "name": "stdout",
     "output_type": "stream",
     "text": [
      "Epoch: 48/100 | Train Loss: 0.2872 | Val Loss: 0.3049\n"
     ]
    },
    {
     "name": "stderr",
     "output_type": "stream",
     "text": [
      "                                                                             \r"
     ]
    },
    {
     "name": "stdout",
     "output_type": "stream",
     "text": [
      "Epoch: 49/100 | Train Loss: 0.2858 | Val Loss: 0.3210\n",
      "Early Stopping: 1/10\n"
     ]
    },
    {
     "name": "stderr",
     "output_type": "stream",
     "text": [
      "                                                                             \r"
     ]
    },
    {
     "name": "stdout",
     "output_type": "stream",
     "text": [
      "Epoch: 50/100 | Train Loss: 0.2817 | Val Loss: 0.3261\n",
      "Early Stopping: 2/10\n"
     ]
    },
    {
     "name": "stderr",
     "output_type": "stream",
     "text": [
      "                                                                             \r"
     ]
    },
    {
     "name": "stdout",
     "output_type": "stream",
     "text": [
      "Epoch: 51/100 | Train Loss: 0.2800 | Val Loss: 0.3157\n",
      "Early Stopping: 3/10\n"
     ]
    },
    {
     "name": "stderr",
     "output_type": "stream",
     "text": [
      "                                                                             \r"
     ]
    },
    {
     "name": "stdout",
     "output_type": "stream",
     "text": [
      "Epoch: 52/100 | Train Loss: 0.2781 | Val Loss: 0.3562\n",
      "Early Stopping: 4/10\n"
     ]
    },
    {
     "name": "stderr",
     "output_type": "stream",
     "text": [
      "                                                                             \r"
     ]
    },
    {
     "name": "stdout",
     "output_type": "stream",
     "text": [
      "Epoch: 53/100 | Train Loss: 0.2735 | Val Loss: 0.3456\n",
      "Early Stopping: 5/10\n"
     ]
    },
    {
     "name": "stderr",
     "output_type": "stream",
     "text": [
      "                                                                             \r"
     ]
    },
    {
     "name": "stdout",
     "output_type": "stream",
     "text": [
      "Epoch: 54/100 | Train Loss: 0.2709 | Val Loss: 0.3226\n",
      "Early Stopping: 6/10\n"
     ]
    },
    {
     "name": "stderr",
     "output_type": "stream",
     "text": [
      "                                                                             \r"
     ]
    },
    {
     "name": "stdout",
     "output_type": "stream",
     "text": [
      "Epoch: 55/100 | Train Loss: 0.2698 | Val Loss: 0.3324\n",
      "Early Stopping: 7/10\n"
     ]
    },
    {
     "name": "stderr",
     "output_type": "stream",
     "text": [
      "                                                                             \r"
     ]
    },
    {
     "name": "stdout",
     "output_type": "stream",
     "text": [
      "Epoch: 56/100 | Train Loss: 0.2665 | Val Loss: 0.3021\n"
     ]
    },
    {
     "name": "stderr",
     "output_type": "stream",
     "text": [
      "                                                                             \r"
     ]
    },
    {
     "name": "stdout",
     "output_type": "stream",
     "text": [
      "Epoch: 57/100 | Train Loss: 0.2645 | Val Loss: 0.3222\n",
      "Early Stopping: 1/10\n"
     ]
    },
    {
     "name": "stderr",
     "output_type": "stream",
     "text": [
      "                                                                            \r"
     ]
    },
    {
     "name": "stdout",
     "output_type": "stream",
     "text": [
      "Epoch: 58/100 | Train Loss: 0.2612 | Val Loss: 0.3201\n",
      "Early Stopping: 2/10\n"
     ]
    },
    {
     "name": "stderr",
     "output_type": "stream",
     "text": [
      "                                                                             \r"
     ]
    },
    {
     "name": "stdout",
     "output_type": "stream",
     "text": [
      "Epoch: 59/100 | Train Loss: 0.2607 | Val Loss: 0.3205\n",
      "Early Stopping: 3/10\n"
     ]
    },
    {
     "name": "stderr",
     "output_type": "stream",
     "text": [
      "                                                                             \r"
     ]
    },
    {
     "name": "stdout",
     "output_type": "stream",
     "text": [
      "Epoch: 60/100 | Train Loss: 0.2579 | Val Loss: 0.3202\n",
      "Early Stopping: 4/10\n"
     ]
    },
    {
     "name": "stderr",
     "output_type": "stream",
     "text": [
      "                                                                             \r"
     ]
    },
    {
     "name": "stdout",
     "output_type": "stream",
     "text": [
      "Epoch: 61/100 | Train Loss: 0.2551 | Val Loss: 0.3264\n",
      "Early Stopping: 5/10\n"
     ]
    },
    {
     "name": "stderr",
     "output_type": "stream",
     "text": [
      "                                                                             \r"
     ]
    },
    {
     "name": "stdout",
     "output_type": "stream",
     "text": [
      "Epoch: 62/100 | Train Loss: 0.2531 | Val Loss: 0.3290\n",
      "Early Stopping: 6/10\n"
     ]
    },
    {
     "name": "stderr",
     "output_type": "stream",
     "text": [
      "                                                                            \r"
     ]
    },
    {
     "name": "stdout",
     "output_type": "stream",
     "text": [
      "Epoch: 63/100 | Train Loss: 0.2502 | Val Loss: 0.3326\n",
      "Early Stopping: 7/10\n"
     ]
    },
    {
     "name": "stderr",
     "output_type": "stream",
     "text": [
      "                                                                            \r"
     ]
    },
    {
     "name": "stdout",
     "output_type": "stream",
     "text": [
      "Epoch: 64/100 | Train Loss: 0.2482 | Val Loss: 0.3172\n",
      "Early Stopping: 8/10\n"
     ]
    },
    {
     "name": "stderr",
     "output_type": "stream",
     "text": [
      "                                                                            \r"
     ]
    },
    {
     "name": "stdout",
     "output_type": "stream",
     "text": [
      "Epoch: 65/100 | Train Loss: 0.2473 | Val Loss: 0.3040\n",
      "Early Stopping: 9/10\n"
     ]
    },
    {
     "name": "stderr",
     "output_type": "stream",
     "text": [
      "                                                                            "
     ]
    },
    {
     "name": "stdout",
     "output_type": "stream",
     "text": [
      "Epoch: 66/100 | Train Loss: 0.2454 | Val Loss: 0.3069\n",
      "Early Stopping: 10/10\n",
      "Early Stopping!\n"
     ]
    },
    {
     "name": "stderr",
     "output_type": "stream",
     "text": [
      "\r"
     ]
    }
   ],
   "source": [
    "train_losses = []\n",
    "val_losses = []\n",
    "best_val_loss = float(\"inf\")\n",
    "epochs_no_improve = 0\n",
    "\n",
    "for epoch in range(epochs):\n",
    "    model.train()\n",
    "    running_train_loss = 0.0\n",
    "    # Training\n",
    "    for X_batch, y_batch in tqdm(train_loader, desc=f\"Epoch {epoch+1}/{epochs} [Training]\", leave=False):\n",
    "        X_batch = X_batch.to(device)\n",
    "        y_batch = y_batch.to(device)\n",
    "        \n",
    "        optimizer.zero_grad()\n",
    "        outputs = model(X_batch)\n",
    "        loss = criterion(outputs, y_batch)\n",
    "        loss.backward()\n",
    "        optimizer.step()\n",
    "        \n",
    "        running_train_loss += loss.item() * X_batch.size(0)\n",
    "        \n",
    "    epoch_train_loss = running_train_loss / len(train_loader.dataset)\n",
    "    train_losses.append(epoch_train_loss)\n",
    "    \n",
    "    # Validation\n",
    "    model.eval()\n",
    "    running_val_loss = 0.0\n",
    "    with torch.no_grad():\n",
    "        for X_val, y_val in tqdm(val_loader, desc=f\"Epoch {epoch+1}/{epochs} [Validation]\", leave=False):\n",
    "            X_val = X_val.to(device)\n",
    "            y_val = y_val.to(device)\n",
    "            outputs = model(X_val)\n",
    "            loss = criterion(outputs, y_val)\n",
    "            running_val_loss += loss.item() * X_val.size(0)\n",
    "    epoch_val_loss = running_val_loss / len(val_loader.dataset)\n",
    "    val_losses.append(epoch_val_loss)\n",
    "    \n",
    "    print(f\"Epoch: {epoch+1}/{epochs} | Train Loss: {epoch_train_loss:.4f} | Val Loss: {epoch_val_loss:.4f}\")\n",
    "    \n",
    "    if epoch_val_loss < best_val_loss:\n",
    "        best_val_loss = epoch_val_loss\n",
    "        epochs_no_improve = 0\n",
    "        torch.save(model.state_dict(), './.export/checkpoint-aug-tf.pt')\n",
    "    else:\n",
    "        epochs_no_improve += 1\n",
    "        print(f\"Early Stopping: {epochs_no_improve}/{patience}\")\n",
    "        \n",
    "    if epochs_no_improve >= patience:\n",
    "        print(\"Early Stopping!\")\n",
    "        break"
   ]
  },
  {
   "cell_type": "code",
   "execution_count": 21,
   "metadata": {},
   "outputs": [
    {
     "data": {
      "image/png": "[encoded data removed]",
      "text/plain": [
       "<Figure size 1500x1000 with 1 Axes>"
      ]
     },
     "metadata": {},
     "output_type": "display_data"
    }
   ],
   "source": [
    "plt.figure(figsize=(15, 10))\n",
    "plt.plot(train_losses, label=\"Train Loss\")\n",
    "plt.plot(val_losses, label=\"Validation Loss\")\n",
    "plt.xlabel(\"Epoch\")\n",
    "plt.ylabel(\"Loss\")\n",
    "plt.title(\"Train Loss vs Validation Loss\")\n",
    "plt.legend()\n",
    "plt.show()"
   ]
  },
  {
   "cell_type": "markdown",
   "metadata": {},
   "source": [
    "### Evaluation"
   ]
  },
  {
   "cell_type": "code",
   "execution_count": 22,
   "metadata": {},
   "outputs": [
    {
     "name": "stderr",
     "output_type": "stream",
     "text": [
      "C:\\Users\\ASUS\\AppData\\Local\\Temp\\ipykernel_37372\\2047877440.py:1: FutureWarning: You are using `torch.load` with `weights_only=False` (the current default value), which uses the default pickle module implicitly. It is possible to construct malicious pickle data which will execute arbitrary code during unpickling (See https://github.com/pytorch/pytorch/blob/main/SECURITY.md#untrusted-models for more details). In a future release, the default value for `weights_only` will be flipped to `True`. This limits the functions that could be executed during unpickling. Arbitrary objects will no longer be allowed to be loaded via this mode unless they are explicitly allowlisted by the user via `torch.serialization.add_safe_globals`. We recommend you start setting `weights_only=True` for any use case where you don't have full control of the loaded file. Please open an issue on GitHub for any issues related to this experimental feature.\n",
      "  model.load_state_dict(torch.load('./.export/checkpoint-aug-tf.pt'))\n"
     ]
    },
    {
     "data": {
      "text/plain": [
       "<All keys matched successfully>"
      ]
     },
     "execution_count": 22,
     "metadata": {},
     "output_type": "execute_result"
    }
   ],
   "source": [
    "model.load_state_dict(torch.load('./.export/checkpoint-aug-tf.pt'))"
   ]
  },
  {
   "cell_type": "code",
   "execution_count": 23,
   "metadata": {},
   "outputs": [],
   "source": [
    "def rmse(pred, target):\n",
    "    return np.sqrt(np.mean((pred - target)**2))\n",
    "\n",
    "def mae(pred, target):\n",
    "    return np.mean(np.abs(pred - target))\n",
    "\n",
    "def mard(pred, target):\n",
    "    return np.mean(np.abs(pred - target) / (np.abs(target) + 1e-6))\n",
    "\n",
    "def mbe(pred, target):\n",
    "    return np.mean(pred - target)\n",
    "\n",
    "def mape(pred, target):\n",
    "    return np.mean(np.abs((target - pred) / (target + 1e-6))) * 100\n",
    "\n",
    "def pearson_r(pred, target):\n",
    "    return np.corrcoef(pred, target)[0, 1]\n",
    "\n",
    "def ccc(pred, target):\n",
    "    pred_mean = np.mean(pred)\n",
    "    target_mean = np.mean(target)\n",
    "    pred_var = np.var(pred)\n",
    "    target_var = np.var(target)\n",
    "    covariance = np.mean((pred - pred_mean) * (target - target_mean))\n",
    "    return (2 * covariance) / (pred_var + target_var + (pred_mean - target_mean)**2 + 1e-6)"
   ]
  },
  {
   "cell_type": "code",
   "execution_count": 24,
   "metadata": {},
   "outputs": [
    {
     "name": "stderr",
     "output_type": "stream",
     "text": [
      "Evaluation: 100%|██████████| 139/139 [00:01<00:00, 88.60it/s]\n"
     ]
    }
   ],
   "source": [
    "model.eval()\n",
    "preds = []\n",
    "preds_targets = []\n",
    "\n",
    "with torch.no_grad():\n",
    "    for x_seq, targets in tqdm(test_loader, desc=\"Evaluation\"):\n",
    "        x_seq = x_seq.to(device)\n",
    "        targets = targets.to(device)\n",
    "        outputs = model(x_seq)\n",
    "        preds.append(outputs.cpu().numpy())\n",
    "        preds_targets.append(targets.cpu().numpy())\n",
    "        \n",
    "preds = np.concatenate(preds)\n",
    "preds_targets = np.concatenate(preds_targets)\n",
    "\n",
    "target_scaler = joblib.load('./.data/target_scaler_aug.pkl')\n",
    "all_preds = target_scaler.inverse_transform(preds.reshape(-1, 1)).flatten()\n",
    "all_targets = target_scaler.inverse_transform(preds_targets.reshape(-1, 1)).flatten()\n",
    "\n",
    "residuals = all_preds - all_targets"
   ]
  },
  {
   "cell_type": "code",
   "execution_count": 25,
   "metadata": {},
   "outputs": [
    {
     "data": {
      "image/png": "[encoded data removed]",
      "text/plain": [
       "<Figure size 1500x1000 with 1 Axes>"
      ]
     },
     "metadata": {},
     "output_type": "display_data"
    }
   ],
   "source": [
    "plt.figure(figsize=(15, 10))\n",
    "plt.scatter(all_targets, all_preds, alpha=0.4)\n",
    "plt.plot([all_targets.min(), all_targets.max()], [all_targets.min(), all_targets.max()], 'r--')\n",
    "plt.xlabel(\"Actual\")\n",
    "plt.ylabel(\"Predicted\")\n",
    "plt.title(\"Actual Glucose vs Predicted Glucose\")\n",
    "plt.grid(True)\n",
    "plt.show()"
   ]
  },
  {
   "cell_type": "code",
   "execution_count": 26,
   "metadata": {},
   "outputs": [
    {
     "data": {
      "image/png": "[encoded data removed]",
      "text/plain": [
       "<Figure size 1500x1000 with 1 Axes>"
      ]
     },
     "metadata": {},
     "output_type": "display_data"
    }
   ],
   "source": [
    "plt.figure(figsize=(15, 10))\n",
    "plt.hist(residuals, bins=50)\n",
    "plt.title(\"Residual\")\n",
    "plt.xlabel(\"Error\")\n",
    "plt.ylabel(\"Frequency\")\n",
    "plt.grid(True)\n",
    "plt.show()"
   ]
  },
  {
   "cell_type": "code",
   "execution_count": 27,
   "metadata": {},
   "outputs": [],
   "source": [
    "from sklearn.metrics import r2_score\n",
    "test_r2 = r2_score(all_targets, all_preds)"
   ]
  },
  {
   "cell_type": "code",
   "execution_count": 28,
   "metadata": {},
   "outputs": [],
   "source": [
    "from sklearn.metrics import explained_variance_score\n",
    "test_expl_var = explained_variance_score(all_targets, all_preds)"
   ]
  },
  {
   "cell_type": "code",
   "execution_count": 29,
   "metadata": {},
   "outputs": [],
   "source": [
    "test_rmse = rmse(all_preds, all_targets)\n",
    "test_mae = mae(all_preds, all_targets)\n",
    "test_mard = mard(all_preds, all_targets)\n",
    "\n",
    "test_mbe = mbe(all_preds, all_targets)\n",
    "test_r2 = r2_score(all_targets, all_preds)\n",
    "test_expl_var = explained_variance_score(all_targets, all_preds)\n",
    "test_mape = mape(all_preds, all_targets)\n",
    "test_ccc = ccc(all_preds, all_targets)"
   ]
  },
  {
   "cell_type": "code",
   "execution_count": 30,
   "metadata": {},
   "outputs": [
    {
     "name": "stdout",
     "output_type": "stream",
     "text": [
      "Test RMSE: 1.6569\n",
      "Test MSE: 2.7453\n",
      "Test MAE: 1.2314\n",
      "Test MARD: 0.1559\n",
      "Test MBE: -0.3141\n",
      "Test R²: 0.6908\n",
      "Test Explained Variance: 0.7019\n",
      "Test MAPE: 15.59%\n",
      "Test CCC: 0.8604\n"
     ]
    }
   ],
   "source": [
    "print(f\"Test RMSE: {test_rmse:.4f}\")\n",
    "print(f\"Test MSE: {test_rmse**2:.4f}\")\n",
    "print(f\"Test MAE: {test_mae:.4f}\")\n",
    "print(f\"Test MARD: {test_mard:.4f}\")\n",
    "print(f\"Test MBE: {test_mbe:.4f}\")\n",
    "print(f\"Test R²: {test_r2:.4f}\")\n",
    "print(f\"Test Explained Variance: {test_expl_var:.4f}\")\n",
    "print(f\"Test MAPE: {test_mape:.2f}%\")\n",
    "print(f\"Test CCC: {test_ccc:.4f}\")"
   ]
  },
  {
   "cell_type": "markdown",
   "metadata": {},
   "source": [
    "### Inference"
   ]
  },
  {
   "cell_type": "code",
   "execution_count": 31,
   "metadata": {},
   "outputs": [],
   "source": [
    "df_test = pd.read_csv(\"./.data/test_aug.csv\")"
   ]
  },
  {
   "cell_type": "code",
   "execution_count": 32,
   "metadata": {},
   "outputs": [
    {
     "name": "stdout",
     "output_type": "stream",
     "text": [
      "            id   bg-1:55   bg-1:50   bg-1:45   bg-1:40   bg-1:35   bg-1:30  \\\n",
      "0     p01_8459  1.498370  1.484493  1.503679  1.531703  1.553799  1.622914   \n",
      "1     p01_8460 -0.486487 -0.648439 -0.811465 -0.926369 -1.035974 -1.140981   \n",
      "2     p01_8461 -1.101087 -1.091123 -1.083243 -1.078102 -1.066323 -1.050196   \n",
      "3     p01_8462 -1.564556 -1.609264 -1.656996 -1.624340 -1.582254 -1.534382   \n",
      "4     p01_8463 -1.443651 -1.533807 -1.626799 -1.664802 -1.693533 -1.715952   \n",
      "...        ...       ...       ...       ...       ...       ...       ...   \n",
      "3639   p24_256 -0.748448 -0.598134 -0.509490 -0.481286 -0.600973 -0.535748   \n",
      "3640   p24_257 -0.839126 -0.598134 -0.388700 -0.329553 -0.297484 -0.354179   \n",
      "3641   p24_258  0.339697  0.337539  0.305844  0.277379  0.218447  0.220792   \n",
      "3642   p24_259 -0.476411 -0.477402 -0.479292 -0.450939 -0.388531 -0.354179   \n",
      "3643   p24_260 -0.929805 -0.960330 -0.871860 -0.875791 -0.843764 -0.747580   \n",
      "\n",
      "       bg-1:25   bg-1:20   bg-1:15  ...  cals-0:45  cals-0:40  cals-0:35  \\\n",
      "0     1.700165  1.775949  1.729645  ...  -0.247523  -0.251865  -0.248967   \n",
      "1    -1.202542 -1.262447 -1.322404  ...   0.759588  -0.116549   0.405977   \n",
      "2    -1.111517 -1.171295 -1.231147  ...   1.728017   1.526771   0.444182   \n",
      "3    -1.394708 -1.252319 -1.109470  ...  -0.261338  -0.265815  -0.262611   \n",
      "4    -1.738582 -1.758718 -1.778690  ...   0.495722  -0.265815  -0.262611   \n",
      "...        ...       ...       ...  ...        ...        ...        ...   \n",
      "3639 -0.565363 -0.533232 -0.622765  ...  -0.340084  -0.356491  -0.351302   \n",
      "3640 -0.413653 -0.472464 -0.470669  ...  -0.351136  -0.356491  -0.351302   \n",
      "3641  0.223527  0.195983  0.168132  ...  -0.351136  -0.356491  -0.351302   \n",
      "3642 -0.322627 -0.259776 -0.288155  ...  -0.351136  -0.356491  -0.351302   \n",
      "3643 -0.686730 -0.594000 -0.531508  ...  -0.351136  -0.356491  -0.351302   \n",
      "\n",
      "      cals-0:30  cals-0:25  cals-0:20  cals-0:15  cals-0:10  cals-0:05  \\\n",
      "0     -0.264326  -0.254861  -0.257506  -0.261643  -0.261728  -0.241118   \n",
      "1      1.013454   1.367675   1.431673   2.345712   3.318882   2.496592   \n",
      "2      2.599471   0.806465   0.030891  -0.015424   0.179755   1.827127   \n",
      "3     -0.236304  -0.240653  -0.243299  -0.261643  -0.261728  -0.241118   \n",
      "4     -0.264326  -0.240653  -0.257506  -0.261643  -0.261728  -0.255036   \n",
      "...         ...        ...        ...        ...        ...        ...   \n",
      "3639  -0.355396  -0.347212  -0.338484  -0.189058  -0.352253  -0.345504   \n",
      "3640  -0.320369  -0.300326  -0.327119   0.106973  -0.086249  -0.323235   \n",
      "3641  -0.355396  -0.347212  -0.349849  -0.354153  -0.352253  -0.345504   \n",
      "3642  -0.355396  -0.347212  -0.349849  -0.354153  -0.352253  -0.345504   \n",
      "3643  -0.355396  -0.347212  -0.327119  -0.354153  -0.341112  -0.345504   \n",
      "\n",
      "      cals-0:00  \n",
      "0     -0.073821  \n",
      "1      3.537840  \n",
      "2      0.487719  \n",
      "3     -0.246392  \n",
      "4     -0.246392  \n",
      "...         ...  \n",
      "3639  -0.324460  \n",
      "3640  -0.176542  \n",
      "3641  -0.335417  \n",
      "3642  -0.335417  \n",
      "3643  -0.335417  \n",
      "\n",
      "[3644 rows x 145 columns]\n"
     ]
    }
   ],
   "source": [
    "print(df_test)"
   ]
  },
  {
   "cell_type": "code",
   "execution_count": 33,
   "metadata": {},
   "outputs": [
    {
     "name": "stdout",
     "output_type": "stream",
     "text": [
      "id\n",
      "bg-1:55\n",
      "bg-1:50\n",
      "bg-1:45\n",
      "bg-1:40\n",
      "bg-1:35\n",
      "bg-1:30\n",
      "bg-1:25\n",
      "bg-1:20\n",
      "bg-1:15\n",
      "bg-1:10\n",
      "bg-1:05\n",
      "bg-1:00\n",
      "bg-0:55\n",
      "bg-0:50\n",
      "bg-0:45\n",
      "bg-0:40\n",
      "bg-0:35\n",
      "bg-0:30\n",
      "bg-0:25\n",
      "bg-0:20\n",
      "bg-0:15\n",
      "bg-0:10\n",
      "bg-0:05\n",
      "bg-0:00\n",
      "insulin-1:55\n",
      "insulin-1:50\n",
      "insulin-1:45\n",
      "insulin-1:40\n",
      "insulin-1:35\n",
      "insulin-1:30\n",
      "insulin-1:25\n",
      "insulin-1:20\n",
      "insulin-1:15\n",
      "insulin-1:10\n",
      "insulin-1:05\n",
      "insulin-1:00\n",
      "insulin-0:55\n",
      "insulin-0:50\n",
      "insulin-0:45\n",
      "insulin-0:40\n",
      "insulin-0:35\n",
      "insulin-0:30\n",
      "insulin-0:25\n",
      "insulin-0:20\n",
      "insulin-0:15\n",
      "insulin-0:10\n",
      "insulin-0:05\n",
      "insulin-0:00\n",
      "carbs-1:55\n",
      "carbs-1:50\n",
      "carbs-1:45\n",
      "carbs-1:40\n",
      "carbs-1:35\n",
      "carbs-1:30\n",
      "carbs-1:25\n",
      "carbs-1:20\n",
      "carbs-1:15\n",
      "carbs-1:10\n",
      "carbs-1:05\n",
      "carbs-1:00\n",
      "carbs-0:55\n",
      "carbs-0:50\n",
      "carbs-0:45\n",
      "carbs-0:40\n",
      "carbs-0:35\n",
      "carbs-0:30\n",
      "carbs-0:25\n",
      "carbs-0:20\n",
      "carbs-0:15\n",
      "carbs-0:10\n",
      "carbs-0:05\n",
      "carbs-0:00\n",
      "hr-1:55\n",
      "hr-1:50\n",
      "hr-1:45\n",
      "hr-1:40\n",
      "hr-1:35\n",
      "hr-1:30\n",
      "hr-1:25\n",
      "hr-1:20\n",
      "hr-1:15\n",
      "hr-1:10\n",
      "hr-1:05\n",
      "hr-1:00\n",
      "hr-0:55\n",
      "hr-0:50\n",
      "hr-0:45\n",
      "hr-0:40\n",
      "hr-0:35\n",
      "hr-0:30\n",
      "hr-0:25\n",
      "hr-0:20\n",
      "hr-0:15\n",
      "hr-0:10\n",
      "hr-0:05\n",
      "hr-0:00\n",
      "steps-1:55\n",
      "steps-1:50\n",
      "steps-1:45\n",
      "steps-1:40\n",
      "steps-1:35\n",
      "steps-1:30\n",
      "steps-1:25\n",
      "steps-1:20\n",
      "steps-1:15\n",
      "steps-1:10\n",
      "steps-1:05\n",
      "steps-1:00\n",
      "steps-0:55\n",
      "steps-0:50\n",
      "steps-0:45\n",
      "steps-0:40\n",
      "steps-0:35\n",
      "steps-0:30\n",
      "steps-0:25\n",
      "steps-0:20\n",
      "steps-0:15\n",
      "steps-0:10\n",
      "steps-0:05\n",
      "steps-0:00\n",
      "cals-1:55\n",
      "cals-1:50\n",
      "cals-1:45\n",
      "cals-1:40\n",
      "cals-1:35\n",
      "cals-1:30\n",
      "cals-1:25\n",
      "cals-1:20\n",
      "cals-1:15\n",
      "cals-1:10\n",
      "cals-1:05\n",
      "cals-1:00\n",
      "cals-0:55\n",
      "cals-0:50\n",
      "cals-0:45\n",
      "cals-0:40\n",
      "cals-0:35\n",
      "cals-0:30\n",
      "cals-0:25\n",
      "cals-0:20\n",
      "cals-0:15\n",
      "cals-0:10\n",
      "cals-0:05\n",
      "cals-0:00\n"
     ]
    }
   ],
   "source": [
    "for col in df_test.columns:\n",
    "    print(col)"
   ]
  },
  {
   "cell_type": "code",
   "execution_count": 34,
   "metadata": {},
   "outputs": [],
   "source": [
    "meta_data = ['id']\n",
    "df_test_meta = df_test[meta_data]\n",
    "df_test.drop(columns=meta_data, inplace=True)"
   ]
  },
  {
   "cell_type": "code",
   "execution_count": 35,
   "metadata": {},
   "outputs": [],
   "source": [
    "infer_test_dataset = BrisT1DDataset(df_test, is_train=False)\n",
    "infer_test_loader = DataLoader(infer_test_dataset, batch_size=256, shuffle=False)"
   ]
  },
  {
   "cell_type": "code",
   "execution_count": 36,
   "metadata": {},
   "outputs": [
    {
     "name": "stderr",
     "output_type": "stream",
     "text": [
      "C:\\Users\\ASUS\\AppData\\Local\\Temp\\ipykernel_37372\\2047877440.py:1: FutureWarning: You are using `torch.load` with `weights_only=False` (the current default value), which uses the default pickle module implicitly. It is possible to construct malicious pickle data which will execute arbitrary code during unpickling (See https://github.com/pytorch/pytorch/blob/main/SECURITY.md#untrusted-models for more details). In a future release, the default value for `weights_only` will be flipped to `True`. This limits the functions that could be executed during unpickling. Arbitrary objects will no longer be allowed to be loaded via this mode unless they are explicitly allowlisted by the user via `torch.serialization.add_safe_globals`. We recommend you start setting `weights_only=True` for any use case where you don't have full control of the loaded file. Please open an issue on GitHub for any issues related to this experimental feature.\n",
      "  model.load_state_dict(torch.load('./.export/checkpoint-aug-tf.pt'))\n"
     ]
    },
    {
     "data": {
      "text/plain": [
       "<All keys matched successfully>"
      ]
     },
     "execution_count": 36,
     "metadata": {},
     "output_type": "execute_result"
    }
   ],
   "source": [
    "model.load_state_dict(torch.load('./.export/checkpoint-aug-tf.pt'))"
   ]
  },
  {
   "cell_type": "code",
   "execution_count": 37,
   "metadata": {},
   "outputs": [
    {
     "name": "stderr",
     "output_type": "stream",
     "text": [
      "Inference: 100%|██████████| 15/15 [00:00<00:00, 111.99it/s]\n"
     ]
    }
   ],
   "source": [
    "model.eval()\n",
    "\n",
    "all_preds = []\n",
    "with torch.no_grad():\n",
    "    for x_seq in tqdm(infer_test_loader, desc=\"Inference\"):\n",
    "        x_seq = x_seq.to(device)\n",
    "        outputs = model(x_seq)\n",
    "        all_preds.append(outputs.cpu().numpy())\n",
    "\n",
    "all_preds = np.concatenate(all_preds)"
   ]
  },
  {
   "cell_type": "code",
   "execution_count": 38,
   "metadata": {},
   "outputs": [],
   "source": [
    "target_scaler = joblib.load('./.data/target_scaler_aug.pkl')\n",
    "all_preds_original = target_scaler.inverse_transform(all_preds.reshape(-1, 1)).flatten()\n",
    "\n",
    "df_predictions = pd.DataFrame(all_preds_original, columns=[\"bg+1:00\"])\n",
    "df_results = pd.concat([df_test_meta.reset_index(drop=True), df_predictions], axis=1)\n",
    "df_results.to_csv(\"./.export/test_submission_aug_tf.csv\", index=False)"
   ]
  },
  {
   "cell_type": "markdown",
   "metadata": {},
   "source": [
    "### Submission"
   ]
  },
  {
   "cell_type": "code",
   "execution_count": 39,
   "metadata": {},
   "outputs": [
    {
     "name": "stdout",
     "output_type": "stream",
     "text": [
      "Warning: Looks like you're using an outdated API Version, please consider updating (server 1.7.4.2 / client 1.6.17)\n",
      "Successfully submitted to BrisT1D Blood Glucose Prediction Competition\n"
     ]
    },
    {
     "name": "stderr",
     "output_type": "stream",
     "text": [
      "\n",
      "  0%|          | 0.00/68.0k [00:00<?, ?B/s]\n",
      "100%|██████████| 68.0k/68.0k [00:00<00:00, 78.8kB/s]\n"
     ]
    }
   ],
   "source": [
    "!kaggle competitions submit -c brist1d -f ./.export/test_submission_aug_tf.csv -m \"BrisT1D Submission: Transformer\""
   ]
  },
  {
   "cell_type": "code",
   "execution_count": 40,
   "metadata": {},
   "outputs": [
    {
     "data": {
      "image/png": "[encoded data removed]",
      "text/plain": [
       "<IPython.core.display.Image object>"
      ]
     },
     "metadata": {},
     "output_type": "display_data"
    }
   ],
   "source": [
    "display(Image(filename='./.export/test_submission_aug_tf.png'))"
   ]
  }
 ],
 "metadata": {
  "kernelspec": {
   "display_name": "ai",
   "language": "python",
   "name": "python3"
  },
  "language_info": {
   "codemirror_mode": {
    "name": "ipython",
    "version": 3
   },
   "file_extension": ".py",
   "mimetype": "text/x-python",
   "name": "python",
   "nbconvert_exporter": "python",
   "pygments_lexer": "ipython3",
   "version": "3.10.15"
  }
 },
 "nbformat": 4,
 "nbformat_minor": 2
}
