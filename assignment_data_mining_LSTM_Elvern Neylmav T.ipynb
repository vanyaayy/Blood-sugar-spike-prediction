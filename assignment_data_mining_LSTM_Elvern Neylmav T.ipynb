{
 "cells": [
  {
   "cell_type": "code",
   "execution_count": 1,
   "metadata": {},
   "outputs": [],
   "source": [
    "import os\n",
    "import joblib\n",
    "from tqdm import tqdm\n",
    "from IPython.display import Image, display\n",
    "\n",
    "import torch\n",
    "import torch.nn as nn\n",
    "import torch.optim as optim\n",
    "from torch.utils.data import Dataset, DataLoader\n",
    "\n",
    "from torchinfo import summary\n",
    "from torchviz import make_dot\n",
    "\n",
    "import numpy as np\n",
    "import pandas as pd\n",
    "import matplotlib.pyplot as plt\n",
    "from sklearn.model_selection import train_test_split\n",
    "from sklearn.linear_model import LinearRegression"
   ]
  },
  {
   "cell_type": "code",
   "execution_count": 2,
   "metadata": {},
   "outputs": [
    {
     "name": "stdout",
     "output_type": "stream",
     "text": [
      "cuda:0\n"
     ]
    }
   ],
   "source": [
    "device = torch.device('cuda:0' if torch.cuda.is_available() else 'cpu')\n",
    "print(device)"
   ]
  },
  {
   "cell_type": "markdown",
   "metadata": {},
   "source": [
    "## LSTM"
   ]
  },
  {
   "cell_type": "markdown",
   "metadata": {},
   "source": [
    "### Data Importing"
   ]
  },
  {
   "cell_type": "code",
   "execution_count": 3,
   "metadata": {},
   "outputs": [],
   "source": [
    "df = pd.read_csv(\"./.data/train_aug.csv\")"
   ]
  },
  {
   "cell_type": "code",
   "execution_count": 4,
   "metadata": {},
   "outputs": [
    {
     "name": "stdout",
     "output_type": "stream",
     "text": [
      "               id   bg-1:55   bg-1:50   bg-1:45   bg-1:40   bg-1:35   bg-1:30  \\\n",
      "0           p01_0  3.094944  3.205389  3.313624  3.339701  3.361018  3.379836   \n",
      "1           p01_1  3.340175  3.361399  3.380423  3.339701  3.294160  3.246258   \n",
      "2           p01_2  3.340175  3.294538  3.246826  3.172513  3.093589  3.012496   \n",
      "3           p01_3  3.172972  3.093953  3.013033  3.038763  3.060160  3.079285   \n",
      "4           p01_4  3.039210  3.060522  3.079831  3.061055  3.037874  3.012496   \n",
      "...           ...       ...       ...       ...       ...       ...       ...   \n",
      "354043  p12_25294 -0.156654 -0.156741 -0.210417 -0.177942 -0.285088 -0.383573   \n",
      "354044  p12_25295 -0.153169 -0.205252 -0.177643 -0.291374 -0.403435 -0.453188   \n",
      "354045  p12_25296 -0.182927 -0.187252 -0.292545 -0.392158 -0.450797 -0.517543   \n",
      "354046  p12_25297 -0.197369 -0.276990 -0.399657 -0.454536 -0.553658 -0.620565   \n",
      "354047  p12_25298 -0.285812 -0.385110 -0.459777 -0.539657 -0.641673 -0.682555   \n",
      "\n",
      "         bg-1:25   bg-1:20   bg-1:15  ...  cals-0:40  cals-0:35  cals-0:30  \\\n",
      "0       3.338933  3.293539  3.245391  ...  -0.926874  -0.926882  -0.926398   \n",
      "1       3.171777  3.093001  3.011687  ...  -0.926874  -0.926882  -0.926398   \n",
      "2       3.038052  3.059578  3.078460  ...  -0.926874  -0.926882  -0.926398   \n",
      "3       3.060340  3.037296  3.011687  ...  -0.926874  -0.926882  -0.926398   \n",
      "4       2.893184  2.769913  2.644439  ...  -0.926874  -0.926882  -0.926398   \n",
      "...          ...       ...       ...  ...        ...        ...        ...   \n",
      "354043 -0.473646 -0.538073 -0.610615  ...  -0.100883  -0.080838  -0.087646   \n",
      "354044 -0.513859 -0.636717 -0.699959  ...  -0.095323  -0.104037  -0.099799   \n",
      "354045 -0.620554 -0.700161 -0.688252  ...  -0.103077  -0.074952  -0.073638   \n",
      "354046 -0.694644 -0.703642 -0.729878  ...  -0.099145  -0.092949  -0.106937   \n",
      "354047 -0.692473 -0.739546 -0.662342  ...  -0.083156  -0.093320  -0.086732   \n",
      "\n",
      "        cals-0:25  cals-0:20  cals-0:15  cals-0:10  cals-0:05  cals-0:00  \\\n",
      "0       -0.926665  -0.926847  -0.926319  -0.926788  -0.926934  -0.926666   \n",
      "1       -0.926665  -0.926847  -0.926319  -0.926788  -0.926934  -0.926666   \n",
      "2       -0.926665  -0.926847  -0.926319  -0.926788  -0.926934  -0.926666   \n",
      "3       -0.926665  -0.926847  -0.926319  -0.926788  -0.926934  -0.926666   \n",
      "4       -0.926665  -0.926847  -0.926319  -0.926788  -0.926934  -0.926666   \n",
      "...           ...        ...        ...        ...        ...        ...   \n",
      "354043  -0.091884  -0.090523  -0.079124  -0.076122  -0.096153  -0.099765   \n",
      "354044  -0.093713  -0.083648  -0.107739  -0.095875  -0.104877  -0.082400   \n",
      "354045  -0.077983  -0.085458  -0.101358  -0.082567  -0.108277  -0.084940   \n",
      "354046  -0.103298  -0.093036  -0.105657  -0.106096  -0.105887  -0.080050   \n",
      "354047  -0.100113  -0.066275  -0.100903  -0.114029  -0.090980  -0.108061   \n",
      "\n",
      "         bg+1:00  \n",
      "0       1.709709  \n",
      "1       1.509468  \n",
      "2       2.410552  \n",
      "3       2.176938  \n",
      "4       1.476095  \n",
      "...          ...  \n",
      "354043  0.942119  \n",
      "354044  0.875372  \n",
      "354045  0.808625  \n",
      "354046  0.741878  \n",
      "354047  0.641757  \n",
      "\n",
      "[354048 rows x 146 columns]\n"
     ]
    }
   ],
   "source": [
    "print(df)"
   ]
  },
  {
   "cell_type": "code",
   "execution_count": 5,
   "metadata": {},
   "outputs": [
    {
     "name": "stdout",
     "output_type": "stream",
     "text": [
      "id\n",
      "bg-1:55\n",
      "bg-1:50\n",
      "bg-1:45\n",
      "bg-1:40\n",
      "bg-1:35\n",
      "bg-1:30\n",
      "bg-1:25\n",
      "bg-1:20\n",
      "bg-1:15\n",
      "bg-1:10\n",
      "bg-1:05\n",
      "bg-1:00\n",
      "bg-0:55\n",
      "bg-0:50\n",
      "bg-0:45\n",
      "bg-0:40\n",
      "bg-0:35\n",
      "bg-0:30\n",
      "bg-0:25\n",
      "bg-0:20\n",
      "bg-0:15\n",
      "bg-0:10\n",
      "bg-0:05\n",
      "bg-0:00\n",
      "insulin-1:55\n",
      "insulin-1:50\n",
      "insulin-1:45\n",
      "insulin-1:40\n",
      "insulin-1:35\n",
      "insulin-1:30\n",
      "insulin-1:25\n",
      "insulin-1:20\n",
      "insulin-1:15\n",
      "insulin-1:10\n",
      "insulin-1:05\n",
      "insulin-1:00\n",
      "insulin-0:55\n",
      "insulin-0:50\n",
      "insulin-0:45\n",
      "insulin-0:40\n",
      "insulin-0:35\n",
      "insulin-0:30\n",
      "insulin-0:25\n",
      "insulin-0:20\n",
      "insulin-0:15\n",
      "insulin-0:10\n",
      "insulin-0:05\n",
      "insulin-0:00\n",
      "carbs-1:55\n",
      "carbs-1:50\n",
      "carbs-1:45\n",
      "carbs-1:40\n",
      "carbs-1:35\n",
      "carbs-1:30\n",
      "carbs-1:25\n",
      "carbs-1:20\n",
      "carbs-1:15\n",
      "carbs-1:10\n",
      "carbs-1:05\n",
      "carbs-1:00\n",
      "carbs-0:55\n",
      "carbs-0:50\n",
      "carbs-0:45\n",
      "carbs-0:40\n",
      "carbs-0:35\n",
      "carbs-0:30\n",
      "carbs-0:25\n",
      "carbs-0:20\n",
      "carbs-0:15\n",
      "carbs-0:10\n",
      "carbs-0:05\n",
      "carbs-0:00\n",
      "hr-1:55\n",
      "hr-1:50\n",
      "hr-1:45\n",
      "hr-1:40\n",
      "hr-1:35\n",
      "hr-1:30\n",
      "hr-1:25\n",
      "hr-1:20\n",
      "hr-1:15\n",
      "hr-1:10\n",
      "hr-1:05\n",
      "hr-1:00\n",
      "hr-0:55\n",
      "hr-0:50\n",
      "hr-0:45\n",
      "hr-0:40\n",
      "hr-0:35\n",
      "hr-0:30\n",
      "hr-0:25\n",
      "hr-0:20\n",
      "hr-0:15\n",
      "hr-0:10\n",
      "hr-0:05\n",
      "hr-0:00\n",
      "steps-1:55\n",
      "steps-1:50\n",
      "steps-1:45\n",
      "steps-1:40\n",
      "steps-1:35\n",
      "steps-1:30\n",
      "steps-1:25\n",
      "steps-1:20\n",
      "steps-1:15\n",
      "steps-1:10\n",
      "steps-1:05\n",
      "steps-1:00\n",
      "steps-0:55\n",
      "steps-0:50\n",
      "steps-0:45\n",
      "steps-0:40\n",
      "steps-0:35\n",
      "steps-0:30\n",
      "steps-0:25\n",
      "steps-0:20\n",
      "steps-0:15\n",
      "steps-0:10\n",
      "steps-0:05\n",
      "steps-0:00\n",
      "cals-1:55\n",
      "cals-1:50\n",
      "cals-1:45\n",
      "cals-1:40\n",
      "cals-1:35\n",
      "cals-1:30\n",
      "cals-1:25\n",
      "cals-1:20\n",
      "cals-1:15\n",
      "cals-1:10\n",
      "cals-1:05\n",
      "cals-1:00\n",
      "cals-0:55\n",
      "cals-0:50\n",
      "cals-0:45\n",
      "cals-0:40\n",
      "cals-0:35\n",
      "cals-0:30\n",
      "cals-0:25\n",
      "cals-0:20\n",
      "cals-0:15\n",
      "cals-0:10\n",
      "cals-0:05\n",
      "cals-0:00\n",
      "bg+1:00\n"
     ]
    }
   ],
   "source": [
    "for col in df.columns:\n",
    "    print(col)"
   ]
  },
  {
   "cell_type": "markdown",
   "metadata": {},
   "source": [
    "### Data Splitting"
   ]
  },
  {
   "cell_type": "code",
   "execution_count": 6,
   "metadata": {},
   "outputs": [],
   "source": [
    "train_df, temp_df = train_test_split(df, test_size=0.2, random_state=42)\n",
    "val_df, test_df = train_test_split(temp_df, test_size=0.5, random_state=42)"
   ]
  },
  {
   "cell_type": "code",
   "execution_count": 7,
   "metadata": {},
   "outputs": [
    {
     "name": "stdout",
     "output_type": "stream",
     "text": [
      "Train Shape: (283238, 146)\n",
      "Validation Shape: (35405, 146)\n",
      "Test Shape: (35405, 146)\n"
     ]
    }
   ],
   "source": [
    "print(f\"Train Shape: {train_df.shape}\")\n",
    "print(f\"Validation Shape: {val_df.shape}\")\n",
    "print(f\"Test Shape: {test_df.shape}\")"
   ]
  },
  {
   "cell_type": "markdown",
   "metadata": {},
   "source": [
    "### Dataset and DataLoader"
   ]
  },
  {
   "cell_type": "code",
   "execution_count": 8,
   "metadata": {},
   "outputs": [],
   "source": [
    "class BrisT1DDataset(Dataset):\n",
    "    def __init__(self, df, is_train=True):\n",
    "        \n",
    "        self.df = df\n",
    "        self.is_train = is_train\n",
    "        \n",
    "        if 'id' in self.df.columns:\n",
    "            self.ids = self.df['id'].values\n",
    "            self.df = self.df.drop(columns=['id'])\n",
    "        else:\n",
    "            self.ids = None\n",
    "        \n",
    "        \n",
    "        if self.is_train and 'bg+1:00' in self.df.columns:\n",
    "            self.targets = self.df['bg+1:00'].values\n",
    "            self.df = self.df.drop(columns=['bg+1:00'])\n",
    "        else:\n",
    "            self.targets = None\n",
    "        \n",
    "        \n",
    "        data = self.df.values.astype(np.float32)\n",
    "        if data.shape[1] != 144:\n",
    "            raise ValueError(f\"Expected 144, Real  {data.shape[1]}\")\n",
    "\n",
    "        self.X = data.reshape(-1, 6, 24).transpose(0, 2, 1)\n",
    "        \n",
    "        if self.is_train:\n",
    "            self.y = self.targets.astype(np.float32).reshape(-1, 1)\n",
    "        else:\n",
    "            self.y = None\n",
    "\n",
    "    def __len__(self):\n",
    "        return self.X.shape[0]\n",
    "\n",
    "    def __getitem__(self, idx):\n",
    "        sample = torch.tensor(self.X[idx], dtype=torch.float32)\n",
    "        if self.is_train:\n",
    "            target = torch.tensor(self.y[idx], dtype=torch.float32)\n",
    "            return sample, target\n",
    "        else:\n",
    "            return sample"
   ]
  },
  {
   "cell_type": "code",
   "execution_count": 9,
   "metadata": {},
   "outputs": [],
   "source": [
    "train_dataset = BrisT1DDataset(train_df, is_train=True)\n",
    "val_dataset = BrisT1DDataset(val_df, is_train=True)\n",
    "test_dataset = BrisT1DDataset(test_df, is_train=True)"
   ]
  },
  {
   "cell_type": "code",
   "execution_count": 10,
   "metadata": {},
   "outputs": [],
   "source": [
    "batch_size = 256\n",
    "train_loader = DataLoader(train_dataset, batch_size=batch_size, shuffle=True)\n",
    "val_loader = DataLoader(val_dataset, batch_size=batch_size, shuffle=False)\n",
    "test_loader = DataLoader(test_dataset, batch_size=batch_size, shuffle=False)"
   ]
  },
  {
   "cell_type": "markdown",
   "metadata": {},
   "source": [
    "### Model"
   ]
  },
  {
   "cell_type": "code",
   "execution_count": 11,
   "metadata": {},
   "outputs": [],
   "source": [
    "class BrisT1DLSTM(nn.Module):\n",
    "    def __init__(self, input_size=6, hidden_size=64, num_layers=2, dropout=0.25):\n",
    "        super().__init__()\n",
    "        self.lstm = nn.LSTM(input_size, hidden_size, num_layers,\n",
    "                            batch_first=True, dropout=dropout)\n",
    "        self.fc1 = nn.Linear(hidden_size, 32)\n",
    "        self.dropout = nn.Dropout(dropout)\n",
    "        self.fc2 = nn.Linear(32, 1)\n",
    "\n",
    "    def forward(self, x):\n",
    "        out, _ = self.lstm(x)\n",
    "        out = out[:, -1, :]\n",
    "        out = self.dropout(out)\n",
    "        out = self.fc1(out)\n",
    "        out = torch.relu(out)\n",
    "        out = self.dropout(out)\n",
    "        out = self.fc2(out)\n",
    "        return out"
   ]
  },
  {
   "cell_type": "code",
   "execution_count": 12,
   "metadata": {},
   "outputs": [
    {
     "name": "stdout",
     "output_type": "stream",
     "text": [
      "BrisT1DLSTM(\n",
      "  (lstm): LSTM(6, 64, num_layers=2, batch_first=True, dropout=0.25)\n",
      "  (fc1): Linear(in_features=64, out_features=32, bias=True)\n",
      "  (dropout): Dropout(p=0.25, inplace=False)\n",
      "  (fc2): Linear(in_features=32, out_features=1, bias=True)\n",
      ")\n"
     ]
    }
   ],
   "source": [
    "model = BrisT1DLSTM(input_size=6, hidden_size=64, num_layers=2, dropout=0.25).to(device)\n",
    "print(model)"
   ]
  },
  {
   "cell_type": "markdown",
   "metadata": {},
   "source": [
    "#### Model Summary"
   ]
  },
  {
   "cell_type": "code",
   "execution_count": 13,
   "metadata": {},
   "outputs": [],
   "source": [
    "dummy_seq = torch.randn(1, 24, 6).to(device)"
   ]
  },
  {
   "cell_type": "code",
   "execution_count": 14,
   "metadata": {},
   "outputs": [
    {
     "name": "stdout",
     "output_type": "stream",
     "text": [
      "Model Summary:\n",
      "==========================================================================================\n",
      "Layer (type:depth-idx)                   Output Shape              Param #\n",
      "==========================================================================================\n",
      "BrisT1DLSTM                              [1, 1]                    --\n",
      "├─LSTM: 1-1                              [1, 24, 64]               51,712\n",
      "├─Dropout: 1-2                           [1, 64]                   --\n",
      "├─Linear: 1-3                            [1, 32]                   2,080\n",
      "├─Dropout: 1-4                           [1, 32]                   --\n",
      "├─Linear: 1-5                            [1, 1]                    33\n",
      "==========================================================================================\n",
      "Total params: 53,825\n",
      "Trainable params: 53,825\n",
      "Non-trainable params: 0\n",
      "Total mult-adds (M): 1.24\n",
      "==========================================================================================\n",
      "Input size (MB): 0.00\n",
      "Forward/backward pass size (MB): 0.01\n",
      "Params size (MB): 0.22\n",
      "Estimated Total Size (MB): 0.23\n",
      "==========================================================================================\n"
     ]
    }
   ],
   "source": [
    "print(\"Model Summary:\")\n",
    "print(summary(model, input_data=[dummy_seq]))"
   ]
  },
  {
   "cell_type": "markdown",
   "metadata": {},
   "source": [
    "#### Model Computational Graph"
   ]
  },
  {
   "cell_type": "code",
   "execution_count": 15,
   "metadata": {},
   "outputs": [],
   "source": [
    "dummy_output = model(dummy_seq)\n",
    "dot = make_dot(dummy_output, params=dict(model.named_parameters()))"
   ]
  },
  {
   "cell_type": "code",
   "execution_count": 16,
   "metadata": {},
   "outputs": [
    {
     "name": "stdout",
     "output_type": "stream",
     "text": [
      "Model Computational Graph:\n"
     ]
    },
    {
     "data": {
      "image/svg+xml": [
       "<?xml version=\"1.0\" encoding=\"UTF-8\" standalone=\"no\"?>\n",
       "<!DOCTYPE svg PUBLIC \"-//W3C//DTD SVG 1.1//EN\"\n",
       " \"http://www.w3.org/Graphics/SVG/1.1/DTD/svg11.dtd\">\n",
       "<!-- Generated by graphviz version 12.2.1 (20241206.2353)\n",
       " -->\n",
       "<!-- Pages: 1 -->\n",
       "<svg width=\"864pt\" height=\"611pt\"\n",
       " viewBox=\"0.00 0.00 864.00 611.30\" xmlns=\"http://www.w3.org/2000/svg\" xmlns:xlink=\"http://www.w3.org/1999/xlink\">\n",
       "<g id=\"graph0\" class=\"graph\" transform=\"scale(0.838835 0.838835) rotate(0) translate(4 724.75)\">\n",
       "<polygon fill=\"white\" stroke=\"none\" points=\"-4,4 -4,-724.75 1026,-724.75 1026,4 -4,4\"/>\n",
       "<!-- 3200165715440 -->\n",
       "<g id=\"node1\" class=\"node\">\n",
       "<title>3200165715440</title>\n",
       "<polygon fill=\"#caff70\" stroke=\"black\" points=\"544,-32.75 486,-32.75 486,0 544,0 544,-32.75\"/>\n",
       "<text text-anchor=\"middle\" x=\"515\" y=\"-7.25\" font-family=\"monospace\" font-size=\"10.00\"> (1, 1)</text>\n",
       "</g>\n",
       "<!-- 3200166299440 -->\n",
       "<g id=\"node2\" class=\"node\">\n",
       "<title>3200166299440</title>\n",
       "<polygon fill=\"lightgrey\" stroke=\"black\" points=\"565,-89.5 465,-89.5 465,-68.75 565,-68.75 565,-89.5\"/>\n",
       "<text text-anchor=\"middle\" x=\"515\" y=\"-76\" font-family=\"monospace\" font-size=\"10.00\">AddmmBackward0</text>\n",
       "</g>\n",
       "<!-- 3200166299440&#45;&gt;3200165715440 -->\n",
       "<g id=\"edge35\" class=\"edge\">\n",
       "<title>3200166299440&#45;&gt;3200165715440</title>\n",
       "<path fill=\"none\" stroke=\"black\" d=\"M515,-68.36C515,-61.89 515,-53.05 515,-44.55\"/>\n",
       "<polygon fill=\"black\" stroke=\"black\" points=\"518.5,-44.55 515,-34.55 511.5,-44.55 518.5,-44.55\"/>\n",
       "</g>\n",
       "<!-- 3200166303472 -->\n",
       "<g id=\"node3\" class=\"node\">\n",
       "<title>3200166303472</title>\n",
       "<polygon fill=\"lightgrey\" stroke=\"black\" points=\"423,-146.25 323,-146.25 323,-125.5 423,-125.5 423,-146.25\"/>\n",
       "<text text-anchor=\"middle\" x=\"373\" y=\"-132.75\" font-family=\"monospace\" font-size=\"10.00\">AccumulateGrad</text>\n",
       "</g>\n",
       "<!-- 3200166303472&#45;&gt;3200166299440 -->\n",
       "<g id=\"edge1\" class=\"edge\">\n",
       "<title>3200166303472&#45;&gt;3200166299440</title>\n",
       "<path fill=\"none\" stroke=\"black\" d=\"M398.39,-125.09C420.9,-116.41 454.03,-103.63 479.23,-93.92\"/>\n",
       "<polygon fill=\"black\" stroke=\"black\" points=\"480.35,-97.24 488.42,-90.37 477.83,-90.7 480.35,-97.24\"/>\n",
       "</g>\n",
       "<!-- 3201442673056 -->\n",
       "<g id=\"node4\" class=\"node\">\n",
       "<title>3201442673056</title>\n",
       "<polygon fill=\"lightblue\" stroke=\"black\" points=\"405,-215.75 341,-215.75 341,-182.25 405,-182.25 405,-215.75\"/>\n",
       "<text text-anchor=\"middle\" x=\"373\" y=\"-202.25\" font-family=\"monospace\" font-size=\"10.00\">fc2.bias</text>\n",
       "<text text-anchor=\"middle\" x=\"373\" y=\"-189.5\" font-family=\"monospace\" font-size=\"10.00\"> (1)</text>\n",
       "</g>\n",
       "<!-- 3201442673056&#45;&gt;3200166303472 -->\n",
       "<g id=\"edge2\" class=\"edge\">\n",
       "<title>3201442673056&#45;&gt;3200166303472</title>\n",
       "<path fill=\"none\" stroke=\"black\" d=\"M373,-181.94C373,-174.6 373,-165.82 373,-157.96\"/>\n",
       "<polygon fill=\"black\" stroke=\"black\" points=\"376.5,-158.23 373,-148.23 369.5,-158.23 376.5,-158.23\"/>\n",
       "</g>\n",
       "<!-- 3200166305104 -->\n",
       "<g id=\"node5\" class=\"node\">\n",
       "<title>3200166305104</title>\n",
       "<polygon fill=\"lightgrey\" stroke=\"black\" points=\"589,-146.25 441,-146.25 441,-125.5 589,-125.5 589,-146.25\"/>\n",
       "<text text-anchor=\"middle\" x=\"515\" y=\"-132.75\" font-family=\"monospace\" font-size=\"10.00\">NativeDropoutBackward0</text>\n",
       "</g>\n",
       "<!-- 3200166305104&#45;&gt;3200166299440 -->\n",
       "<g id=\"edge3\" class=\"edge\">\n",
       "<title>3200166305104&#45;&gt;3200166299440</title>\n",
       "<path fill=\"none\" stroke=\"black\" d=\"M515,-125.09C515,-118.47 515,-109.47 515,-101.27\"/>\n",
       "<polygon fill=\"black\" stroke=\"black\" points=\"518.5,-101.34 515,-91.34 511.5,-101.34 518.5,-101.34\"/>\n",
       "</g>\n",
       "<!-- 3200166312160 -->\n",
       "<g id=\"node6\" class=\"node\">\n",
       "<title>3200166312160</title>\n",
       "<polygon fill=\"lightgrey\" stroke=\"black\" points=\"562,-209.38 468,-209.38 468,-188.62 562,-188.62 562,-209.38\"/>\n",
       "<text text-anchor=\"middle\" x=\"515\" y=\"-195.88\" font-family=\"monospace\" font-size=\"10.00\">ReluBackward0</text>\n",
       "</g>\n",
       "<!-- 3200166312160&#45;&gt;3200166305104 -->\n",
       "<g id=\"edge4\" class=\"edge\">\n",
       "<title>3200166312160&#45;&gt;3200166305104</title>\n",
       "<path fill=\"none\" stroke=\"black\" d=\"M515,-188.18C515,-180.02 515,-168.13 515,-157.85\"/>\n",
       "<polygon fill=\"black\" stroke=\"black\" points=\"518.5,-157.98 515,-147.98 511.5,-157.98 518.5,-157.98\"/>\n",
       "</g>\n",
       "<!-- 3200166308704 -->\n",
       "<g id=\"node7\" class=\"node\">\n",
       "<title>3200166308704</title>\n",
       "<polygon fill=\"lightgrey\" stroke=\"black\" points=\"565,-278.88 465,-278.88 465,-258.12 565,-258.12 565,-278.88\"/>\n",
       "<text text-anchor=\"middle\" x=\"515\" y=\"-265.38\" font-family=\"monospace\" font-size=\"10.00\">AddmmBackward0</text>\n",
       "</g>\n",
       "<!-- 3200166308704&#45;&gt;3200166312160 -->\n",
       "<g id=\"edge5\" class=\"edge\">\n",
       "<title>3200166308704&#45;&gt;3200166312160</title>\n",
       "<path fill=\"none\" stroke=\"black\" d=\"M515,-257.83C515,-248.21 515,-233.13 515,-220.79\"/>\n",
       "<polygon fill=\"black\" stroke=\"black\" points=\"518.5,-221.17 515,-211.17 511.5,-221.17 518.5,-221.17\"/>\n",
       "</g>\n",
       "<!-- 3200166310432 -->\n",
       "<g id=\"node8\" class=\"node\">\n",
       "<title>3200166310432</title>\n",
       "<polygon fill=\"lightgrey\" stroke=\"black\" points=\"423,-342 323,-342 323,-321.25 423,-321.25 423,-342\"/>\n",
       "<text text-anchor=\"middle\" x=\"373\" y=\"-328.5\" font-family=\"monospace\" font-size=\"10.00\">AccumulateGrad</text>\n",
       "</g>\n",
       "<!-- 3200166310432&#45;&gt;3200166308704 -->\n",
       "<g id=\"edge6\" class=\"edge\">\n",
       "<title>3200166310432&#45;&gt;3200166308704</title>\n",
       "<path fill=\"none\" stroke=\"black\" d=\"M395.81,-320.8C419.1,-310.78 455.49,-295.12 481.94,-283.73\"/>\n",
       "<polygon fill=\"black\" stroke=\"black\" points=\"483.05,-287.06 490.85,-279.89 480.28,-280.63 483.05,-287.06\"/>\n",
       "</g>\n",
       "<!-- 3201442664496 -->\n",
       "<g id=\"node9\" class=\"node\">\n",
       "<title>3201442664496</title>\n",
       "<polygon fill=\"lightblue\" stroke=\"black\" points=\"405,-411.5 341,-411.5 341,-378 405,-378 405,-411.5\"/>\n",
       "<text text-anchor=\"middle\" x=\"373\" y=\"-398\" font-family=\"monospace\" font-size=\"10.00\">fc1.bias</text>\n",
       "<text text-anchor=\"middle\" x=\"373\" y=\"-385.25\" font-family=\"monospace\" font-size=\"10.00\"> (32)</text>\n",
       "</g>\n",
       "<!-- 3201442664496&#45;&gt;3200166310432 -->\n",
       "<g id=\"edge7\" class=\"edge\">\n",
       "<title>3201442664496&#45;&gt;3200166310432</title>\n",
       "<path fill=\"none\" stroke=\"black\" d=\"M373,-377.69C373,-370.35 373,-361.57 373,-353.71\"/>\n",
       "<polygon fill=\"black\" stroke=\"black\" points=\"376.5,-353.98 373,-343.98 369.5,-353.98 376.5,-353.98\"/>\n",
       "</g>\n",
       "<!-- 3200166301408 -->\n",
       "<g id=\"node10\" class=\"node\">\n",
       "<title>3200166301408</title>\n",
       "<polygon fill=\"lightgrey\" stroke=\"black\" points=\"589,-342 441,-342 441,-321.25 589,-321.25 589,-342\"/>\n",
       "<text text-anchor=\"middle\" x=\"515\" y=\"-328.5\" font-family=\"monospace\" font-size=\"10.00\">NativeDropoutBackward0</text>\n",
       "</g>\n",
       "<!-- 3200166301408&#45;&gt;3200166308704 -->\n",
       "<g id=\"edge8\" class=\"edge\">\n",
       "<title>3200166301408&#45;&gt;3200166308704</title>\n",
       "<path fill=\"none\" stroke=\"black\" d=\"M515,-320.8C515,-312.65 515,-300.76 515,-290.48\"/>\n",
       "<polygon fill=\"black\" stroke=\"black\" points=\"518.5,-290.61 515,-280.61 511.5,-290.61 518.5,-290.61\"/>\n",
       "</g>\n",
       "<!-- 3200166305008 -->\n",
       "<g id=\"node11\" class=\"node\">\n",
       "<title>3200166305008</title>\n",
       "<polygon fill=\"lightgrey\" stroke=\"black\" points=\"565,-405.12 465,-405.12 465,-384.38 565,-384.38 565,-405.12\"/>\n",
       "<text text-anchor=\"middle\" x=\"515\" y=\"-391.62\" font-family=\"monospace\" font-size=\"10.00\">SliceBackward0</text>\n",
       "</g>\n",
       "<!-- 3200166305008&#45;&gt;3200166301408 -->\n",
       "<g id=\"edge9\" class=\"edge\">\n",
       "<title>3200166305008&#45;&gt;3200166301408</title>\n",
       "<path fill=\"none\" stroke=\"black\" d=\"M515,-383.93C515,-375.77 515,-363.88 515,-353.6\"/>\n",
       "<polygon fill=\"black\" stroke=\"black\" points=\"518.5,-353.73 515,-343.73 511.5,-353.73 518.5,-353.73\"/>\n",
       "</g>\n",
       "<!-- 3200166302224 -->\n",
       "<g id=\"node12\" class=\"node\">\n",
       "<title>3200166302224</title>\n",
       "<polygon fill=\"lightgrey\" stroke=\"black\" points=\"568,-474.62 462,-474.62 462,-453.88 568,-453.88 568,-474.62\"/>\n",
       "<text text-anchor=\"middle\" x=\"515\" y=\"-461.12\" font-family=\"monospace\" font-size=\"10.00\">SelectBackward0</text>\n",
       "</g>\n",
       "<!-- 3200166302224&#45;&gt;3200166305008 -->\n",
       "<g id=\"edge10\" class=\"edge\">\n",
       "<title>3200166302224&#45;&gt;3200166305008</title>\n",
       "<path fill=\"none\" stroke=\"black\" d=\"M515,-453.58C515,-443.96 515,-428.88 515,-416.54\"/>\n",
       "<polygon fill=\"black\" stroke=\"black\" points=\"518.5,-416.92 515,-406.92 511.5,-416.92 518.5,-416.92\"/>\n",
       "</g>\n",
       "<!-- 3200166301360 -->\n",
       "<g id=\"node13\" class=\"node\">\n",
       "<title>3200166301360</title>\n",
       "<polygon fill=\"lightgrey\" stroke=\"black\" points=\"565,-537.75 465,-537.75 465,-517 565,-517 565,-537.75\"/>\n",
       "<text text-anchor=\"middle\" x=\"515\" y=\"-524.25\" font-family=\"monospace\" font-size=\"10.00\">SliceBackward0</text>\n",
       "</g>\n",
       "<!-- 3200166301360&#45;&gt;3200166302224 -->\n",
       "<g id=\"edge11\" class=\"edge\">\n",
       "<title>3200166301360&#45;&gt;3200166302224</title>\n",
       "<path fill=\"none\" stroke=\"black\" d=\"M515,-516.55C515,-508.4 515,-496.51 515,-486.23\"/>\n",
       "<polygon fill=\"black\" stroke=\"black\" points=\"518.5,-486.36 515,-476.36 511.5,-486.36 518.5,-486.36\"/>\n",
       "</g>\n",
       "<!-- 3200166301312 -->\n",
       "<g id=\"node14\" class=\"node\">\n",
       "<title>3200166301312</title>\n",
       "<polygon fill=\"lightgrey\" stroke=\"black\" points=\"574,-594.5 456,-594.5 456,-573.75 574,-573.75 574,-594.5\"/>\n",
       "<text text-anchor=\"middle\" x=\"515\" y=\"-581\" font-family=\"monospace\" font-size=\"10.00\">CudnnRnnBackward0</text>\n",
       "</g>\n",
       "<!-- 3200166301312&#45;&gt;3200166301360 -->\n",
       "<g id=\"edge12\" class=\"edge\">\n",
       "<title>3200166301312&#45;&gt;3200166301360</title>\n",
       "<path fill=\"none\" stroke=\"black\" d=\"M515,-573.34C515,-566.72 515,-557.72 515,-549.52\"/>\n",
       "<polygon fill=\"black\" stroke=\"black\" points=\"518.5,-549.59 515,-539.59 511.5,-549.59 518.5,-549.59\"/>\n",
       "</g>\n",
       "<!-- 3200166302176 -->\n",
       "<g id=\"node15\" class=\"node\">\n",
       "<title>3200166302176</title>\n",
       "<polygon fill=\"lightgrey\" stroke=\"black\" points=\"121,-651.25 21,-651.25 21,-630.5 121,-630.5 121,-651.25\"/>\n",
       "<text text-anchor=\"middle\" x=\"71\" y=\"-637.75\" font-family=\"monospace\" font-size=\"10.00\">AccumulateGrad</text>\n",
       "</g>\n",
       "<!-- 3200166302176&#45;&gt;3200166301312 -->\n",
       "<g id=\"edge13\" class=\"edge\">\n",
       "<title>3200166302176&#45;&gt;3200166301312</title>\n",
       "<path fill=\"none\" stroke=\"black\" d=\"M121.07,-633.7C200.13,-623.95 354.14,-604.96 444.39,-593.83\"/>\n",
       "<polygon fill=\"black\" stroke=\"black\" points=\"444.61,-597.33 454.11,-592.63 443.76,-590.38 444.61,-597.33\"/>\n",
       "</g>\n",
       "<!-- 3201442726112 -->\n",
       "<g id=\"node16\" class=\"node\">\n",
       "<title>3201442726112</title>\n",
       "<polygon fill=\"lightblue\" stroke=\"black\" points=\"118,-720.75 0,-720.75 0,-687.25 118,-687.25 118,-720.75\"/>\n",
       "<text text-anchor=\"middle\" x=\"59\" y=\"-707.25\" font-family=\"monospace\" font-size=\"10.00\">lstm.weight_ih_l0</text>\n",
       "<text text-anchor=\"middle\" x=\"59\" y=\"-694.5\" font-family=\"monospace\" font-size=\"10.00\"> (256, 6)</text>\n",
       "</g>\n",
       "<!-- 3201442726112&#45;&gt;3200166302176 -->\n",
       "<g id=\"edge14\" class=\"edge\">\n",
       "<title>3201442726112&#45;&gt;3200166302176</title>\n",
       "<path fill=\"none\" stroke=\"black\" d=\"M62.15,-686.94C63.59,-679.6 65.32,-670.82 66.86,-662.96\"/>\n",
       "<polygon fill=\"black\" stroke=\"black\" points=\"70.28,-663.69 68.78,-653.2 63.42,-662.34 70.28,-663.69\"/>\n",
       "</g>\n",
       "<!-- 3200166301264 -->\n",
       "<g id=\"node17\" class=\"node\">\n",
       "<title>3200166301264</title>\n",
       "<polygon fill=\"lightgrey\" stroke=\"black\" points=\"257,-651.25 157,-651.25 157,-630.5 257,-630.5 257,-651.25\"/>\n",
       "<text text-anchor=\"middle\" x=\"207\" y=\"-637.75\" font-family=\"monospace\" font-size=\"10.00\">AccumulateGrad</text>\n",
       "</g>\n",
       "<!-- 3200166301264&#45;&gt;3200166301312 -->\n",
       "<g id=\"edge15\" class=\"edge\">\n",
       "<title>3200166301264&#45;&gt;3200166301312</title>\n",
       "<path fill=\"none\" stroke=\"black\" d=\"M257.17,-630.96C309.27,-621.7 391.04,-607.16 448.49,-596.95\"/>\n",
       "<polygon fill=\"black\" stroke=\"black\" points=\"448.92,-600.43 458.15,-595.23 447.7,-593.53 448.92,-600.43\"/>\n",
       "</g>\n",
       "<!-- 3200055098192 -->\n",
       "<g id=\"node18\" class=\"node\">\n",
       "<title>3200055098192</title>\n",
       "<polygon fill=\"lightblue\" stroke=\"black\" points=\"254,-720.75 136,-720.75 136,-687.25 254,-687.25 254,-720.75\"/>\n",
       "<text text-anchor=\"middle\" x=\"195\" y=\"-707.25\" font-family=\"monospace\" font-size=\"10.00\">lstm.weight_hh_l0</text>\n",
       "<text text-anchor=\"middle\" x=\"195\" y=\"-694.5\" font-family=\"monospace\" font-size=\"10.00\"> (256, 64)</text>\n",
       "</g>\n",
       "<!-- 3200055098192&#45;&gt;3200166301264 -->\n",
       "<g id=\"edge16\" class=\"edge\">\n",
       "<title>3200055098192&#45;&gt;3200166301264</title>\n",
       "<path fill=\"none\" stroke=\"black\" d=\"M198.15,-686.94C199.59,-679.6 201.32,-670.82 202.86,-662.96\"/>\n",
       "<polygon fill=\"black\" stroke=\"black\" points=\"206.28,-663.69 204.78,-653.2 199.42,-662.34 206.28,-663.69\"/>\n",
       "</g>\n",
       "<!-- 3200166300256 -->\n",
       "<g id=\"node19\" class=\"node\">\n",
       "<title>3200166300256</title>\n",
       "<polygon fill=\"lightgrey\" stroke=\"black\" points=\"384,-651.25 284,-651.25 284,-630.5 384,-630.5 384,-651.25\"/>\n",
       "<text text-anchor=\"middle\" x=\"334\" y=\"-637.75\" font-family=\"monospace\" font-size=\"10.00\">AccumulateGrad</text>\n",
       "</g>\n",
       "<!-- 3200166300256&#45;&gt;3200166301312 -->\n",
       "<g id=\"edge17\" class=\"edge\">\n",
       "<title>3200166300256&#45;&gt;3200166301312</title>\n",
       "<path fill=\"none\" stroke=\"black\" d=\"M366.36,-630.09C395.74,-621.2 439.3,-608.02 471.67,-598.23\"/>\n",
       "<polygon fill=\"black\" stroke=\"black\" points=\"472.61,-601.6 481.17,-595.36 470.58,-594.9 472.61,-601.6\"/>\n",
       "</g>\n",
       "<!-- 3201530642976 -->\n",
       "<g id=\"node20\" class=\"node\">\n",
       "<title>3201530642976</title>\n",
       "<polygon fill=\"lightblue\" stroke=\"black\" points=\"378,-720.75 272,-720.75 272,-687.25 378,-687.25 378,-720.75\"/>\n",
       "<text text-anchor=\"middle\" x=\"325\" y=\"-707.25\" font-family=\"monospace\" font-size=\"10.00\">lstm.bias_ih_l0</text>\n",
       "<text text-anchor=\"middle\" x=\"325\" y=\"-694.5\" font-family=\"monospace\" font-size=\"10.00\"> (256)</text>\n",
       "</g>\n",
       "<!-- 3201530642976&#45;&gt;3200166300256 -->\n",
       "<g id=\"edge18\" class=\"edge\">\n",
       "<title>3201530642976&#45;&gt;3200166300256</title>\n",
       "<path fill=\"none\" stroke=\"black\" d=\"M327.36,-686.94C328.44,-679.6 329.74,-670.82 330.9,-662.96\"/>\n",
       "<polygon fill=\"black\" stroke=\"black\" points=\"334.34,-663.62 332.33,-653.21 327.41,-662.6 334.34,-663.62\"/>\n",
       "</g>\n",
       "<!-- 3200166302272 -->\n",
       "<g id=\"node21\" class=\"node\">\n",
       "<title>3200166302272</title>\n",
       "<polygon fill=\"lightgrey\" stroke=\"black\" points=\"505,-651.25 405,-651.25 405,-630.5 505,-630.5 505,-651.25\"/>\n",
       "<text text-anchor=\"middle\" x=\"455\" y=\"-637.75\" font-family=\"monospace\" font-size=\"10.00\">AccumulateGrad</text>\n",
       "</g>\n",
       "<!-- 3200166302272&#45;&gt;3200166301312 -->\n",
       "<g id=\"edge19\" class=\"edge\">\n",
       "<title>3200166302272&#45;&gt;3200166301312</title>\n",
       "<path fill=\"none\" stroke=\"black\" d=\"M465.73,-630.09C474.09,-622.46 485.91,-611.67 495.88,-602.57\"/>\n",
       "<polygon fill=\"black\" stroke=\"black\" points=\"498.22,-605.17 503.25,-595.85 493.5,-600 498.22,-605.17\"/>\n",
       "</g>\n",
       "<!-- 3201442666816 -->\n",
       "<g id=\"node22\" class=\"node\">\n",
       "<title>3201442666816</title>\n",
       "<polygon fill=\"lightblue\" stroke=\"black\" points=\"502,-720.75 396,-720.75 396,-687.25 502,-687.25 502,-720.75\"/>\n",
       "<text text-anchor=\"middle\" x=\"449\" y=\"-707.25\" font-family=\"monospace\" font-size=\"10.00\">lstm.bias_hh_l0</text>\n",
       "<text text-anchor=\"middle\" x=\"449\" y=\"-694.5\" font-family=\"monospace\" font-size=\"10.00\"> (256)</text>\n",
       "</g>\n",
       "<!-- 3201442666816&#45;&gt;3200166302272 -->\n",
       "<g id=\"edge20\" class=\"edge\">\n",
       "<title>3201442666816&#45;&gt;3200166302272</title>\n",
       "<path fill=\"none\" stroke=\"black\" d=\"M450.58,-686.94C451.3,-679.6 452.16,-670.82 452.93,-662.96\"/>\n",
       "<polygon fill=\"black\" stroke=\"black\" points=\"456.39,-663.52 453.89,-653.22 449.43,-662.83 456.39,-663.52\"/>\n",
       "</g>\n",
       "<!-- 3200166301792 -->\n",
       "<g id=\"node23\" class=\"node\">\n",
       "<title>3200166301792</title>\n",
       "<polygon fill=\"lightgrey\" stroke=\"black\" points=\"626,-651.25 526,-651.25 526,-630.5 626,-630.5 626,-651.25\"/>\n",
       "<text text-anchor=\"middle\" x=\"576\" y=\"-637.75\" font-family=\"monospace\" font-size=\"10.00\">AccumulateGrad</text>\n",
       "</g>\n",
       "<!-- 3200166301792&#45;&gt;3200166301312 -->\n",
       "<g id=\"edge21\" class=\"edge\">\n",
       "<title>3200166301792&#45;&gt;3200166301312</title>\n",
       "<path fill=\"none\" stroke=\"black\" d=\"M565.09,-630.09C556.51,-622.38 544.33,-611.45 534.12,-602.29\"/>\n",
       "<polygon fill=\"black\" stroke=\"black\" points=\"536.72,-599.91 526.94,-595.84 532.04,-605.12 536.72,-599.91\"/>\n",
       "</g>\n",
       "<!-- 3201442664816 -->\n",
       "<g id=\"node24\" class=\"node\">\n",
       "<title>3201442664816</title>\n",
       "<polygon fill=\"lightblue\" stroke=\"black\" points=\"638,-720.75 520,-720.75 520,-687.25 638,-687.25 638,-720.75\"/>\n",
       "<text text-anchor=\"middle\" x=\"579\" y=\"-707.25\" font-family=\"monospace\" font-size=\"10.00\">lstm.weight_ih_l1</text>\n",
       "<text text-anchor=\"middle\" x=\"579\" y=\"-694.5\" font-family=\"monospace\" font-size=\"10.00\"> (256, 64)</text>\n",
       "</g>\n",
       "<!-- 3201442664816&#45;&gt;3200166301792 -->\n",
       "<g id=\"edge22\" class=\"edge\">\n",
       "<title>3201442664816&#45;&gt;3200166301792</title>\n",
       "<path fill=\"none\" stroke=\"black\" d=\"M578.21,-686.94C577.85,-679.6 577.42,-670.82 577.03,-662.96\"/>\n",
       "<polygon fill=\"black\" stroke=\"black\" points=\"580.54,-663.05 576.56,-653.23 573.55,-663.39 580.54,-663.05\"/>\n",
       "</g>\n",
       "<!-- 3200166301552 -->\n",
       "<g id=\"node25\" class=\"node\">\n",
       "<title>3200166301552</title>\n",
       "<polygon fill=\"lightgrey\" stroke=\"black\" points=\"754,-651.25 654,-651.25 654,-630.5 754,-630.5 754,-651.25\"/>\n",
       "<text text-anchor=\"middle\" x=\"704\" y=\"-637.75\" font-family=\"monospace\" font-size=\"10.00\">AccumulateGrad</text>\n",
       "</g>\n",
       "<!-- 3200166301552&#45;&gt;3200166301312 -->\n",
       "<g id=\"edge23\" class=\"edge\">\n",
       "<title>3200166301552&#45;&gt;3200166301312</title>\n",
       "<path fill=\"none\" stroke=\"black\" d=\"M670.21,-630.09C639.4,-621.16 593.65,-607.91 559.8,-598.1\"/>\n",
       "<polygon fill=\"black\" stroke=\"black\" points=\"560.85,-594.76 550.27,-595.34 558.9,-601.49 560.85,-594.76\"/>\n",
       "</g>\n",
       "<!-- 3201442671296 -->\n",
       "<g id=\"node26\" class=\"node\">\n",
       "<title>3201442671296</title>\n",
       "<polygon fill=\"lightblue\" stroke=\"black\" points=\"774,-720.75 656,-720.75 656,-687.25 774,-687.25 774,-720.75\"/>\n",
       "<text text-anchor=\"middle\" x=\"715\" y=\"-707.25\" font-family=\"monospace\" font-size=\"10.00\">lstm.weight_hh_l1</text>\n",
       "<text text-anchor=\"middle\" x=\"715\" y=\"-694.5\" font-family=\"monospace\" font-size=\"10.00\"> (256, 64)</text>\n",
       "</g>\n",
       "<!-- 3201442671296&#45;&gt;3200166301552 -->\n",
       "<g id=\"edge24\" class=\"edge\">\n",
       "<title>3201442671296&#45;&gt;3200166301552</title>\n",
       "<path fill=\"none\" stroke=\"black\" d=\"M712.11,-686.94C710.79,-679.6 709.21,-670.82 707.79,-662.96\"/>\n",
       "<polygon fill=\"black\" stroke=\"black\" points=\"711.26,-662.43 706.04,-653.21 704.37,-663.67 711.26,-662.43\"/>\n",
       "</g>\n",
       "<!-- 3200166301888 -->\n",
       "<g id=\"node27\" class=\"node\">\n",
       "<title>3200166301888</title>\n",
       "<polygon fill=\"lightgrey\" stroke=\"black\" points=\"883,-651.25 783,-651.25 783,-630.5 883,-630.5 883,-651.25\"/>\n",
       "<text text-anchor=\"middle\" x=\"833\" y=\"-637.75\" font-family=\"monospace\" font-size=\"10.00\">AccumulateGrad</text>\n",
       "</g>\n",
       "<!-- 3200166301888&#45;&gt;3200166301312 -->\n",
       "<g id=\"edge25\" class=\"edge\">\n",
       "<title>3200166301888&#45;&gt;3200166301312</title>\n",
       "<path fill=\"none\" stroke=\"black\" d=\"M782.61,-631.2C728.81,-621.94 643.23,-607.2 583.37,-596.9\"/>\n",
       "<polygon fill=\"black\" stroke=\"black\" points=\"584.08,-593.47 573.63,-595.22 582.89,-600.37 584.08,-593.47\"/>\n",
       "</g>\n",
       "<!-- 3201442664656 -->\n",
       "<g id=\"node28\" class=\"node\">\n",
       "<title>3201442664656</title>\n",
       "<polygon fill=\"lightblue\" stroke=\"black\" points=\"898,-720.75 792,-720.75 792,-687.25 898,-687.25 898,-720.75\"/>\n",
       "<text text-anchor=\"middle\" x=\"845\" y=\"-707.25\" font-family=\"monospace\" font-size=\"10.00\">lstm.bias_ih_l1</text>\n",
       "<text text-anchor=\"middle\" x=\"845\" y=\"-694.5\" font-family=\"monospace\" font-size=\"10.00\"> (256)</text>\n",
       "</g>\n",
       "<!-- 3201442664656&#45;&gt;3200166301888 -->\n",
       "<g id=\"edge26\" class=\"edge\">\n",
       "<title>3201442664656&#45;&gt;3200166301888</title>\n",
       "<path fill=\"none\" stroke=\"black\" d=\"M841.85,-686.94C840.41,-679.6 838.68,-670.82 837.14,-662.96\"/>\n",
       "<polygon fill=\"black\" stroke=\"black\" points=\"840.58,-662.34 835.22,-653.2 833.72,-663.69 840.58,-662.34\"/>\n",
       "</g>\n",
       "<!-- 3200166301984 -->\n",
       "<g id=\"node29\" class=\"node\">\n",
       "<title>3200166301984</title>\n",
       "<polygon fill=\"lightgrey\" stroke=\"black\" points=\"1010,-651.25 910,-651.25 910,-630.5 1010,-630.5 1010,-651.25\"/>\n",
       "<text text-anchor=\"middle\" x=\"960\" y=\"-637.75\" font-family=\"monospace\" font-size=\"10.00\">AccumulateGrad</text>\n",
       "</g>\n",
       "<!-- 3200166301984&#45;&gt;3200166301312 -->\n",
       "<g id=\"edge27\" class=\"edge\">\n",
       "<title>3200166301984&#45;&gt;3200166301312</title>\n",
       "<path fill=\"none\" stroke=\"black\" d=\"M909.51,-632.82C903.61,-632.02 897.67,-631.23 892,-630.5 785.35,-616.73 661.54,-602.09 585.74,-593.27\"/>\n",
       "<polygon fill=\"black\" stroke=\"black\" points=\"586.3,-589.81 575.96,-592.14 585.49,-596.77 586.3,-589.81\"/>\n",
       "</g>\n",
       "<!-- 3201442671376 -->\n",
       "<g id=\"node30\" class=\"node\">\n",
       "<title>3201442671376</title>\n",
       "<polygon fill=\"lightblue\" stroke=\"black\" points=\"1022,-720.75 916,-720.75 916,-687.25 1022,-687.25 1022,-720.75\"/>\n",
       "<text text-anchor=\"middle\" x=\"969\" y=\"-707.25\" font-family=\"monospace\" font-size=\"10.00\">lstm.bias_hh_l1</text>\n",
       "<text text-anchor=\"middle\" x=\"969\" y=\"-694.5\" font-family=\"monospace\" font-size=\"10.00\"> (256)</text>\n",
       "</g>\n",
       "<!-- 3201442671376&#45;&gt;3200166301984 -->\n",
       "<g id=\"edge28\" class=\"edge\">\n",
       "<title>3201442671376&#45;&gt;3200166301984</title>\n",
       "<path fill=\"none\" stroke=\"black\" d=\"M966.64,-686.94C965.56,-679.6 964.26,-670.82 963.1,-662.96\"/>\n",
       "<polygon fill=\"black\" stroke=\"black\" points=\"966.59,-662.6 961.67,-653.21 959.66,-663.62 966.59,-662.6\"/>\n",
       "</g>\n",
       "<!-- 3200166301648 -->\n",
       "<g id=\"node31\" class=\"node\">\n",
       "<title>3200166301648</title>\n",
       "<polygon fill=\"lightgrey\" stroke=\"black\" points=\"683,-342 607,-342 607,-321.25 683,-321.25 683,-342\"/>\n",
       "<text text-anchor=\"middle\" x=\"645\" y=\"-328.5\" font-family=\"monospace\" font-size=\"10.00\">TBackward0</text>\n",
       "</g>\n",
       "<!-- 3200166301648&#45;&gt;3200166308704 -->\n",
       "<g id=\"edge29\" class=\"edge\">\n",
       "<title>3200166301648&#45;&gt;3200166308704</title>\n",
       "<path fill=\"none\" stroke=\"black\" d=\"M624.11,-320.8C603.08,-310.91 570.37,-295.53 546.24,-284.19\"/>\n",
       "<polygon fill=\"black\" stroke=\"black\" points=\"547.74,-281.03 537.2,-279.94 544.76,-287.36 547.74,-281.03\"/>\n",
       "</g>\n",
       "<!-- 3200166301456 -->\n",
       "<g id=\"node32\" class=\"node\">\n",
       "<title>3200166301456</title>\n",
       "<polygon fill=\"lightgrey\" stroke=\"black\" points=\"695,-405.12 595,-405.12 595,-384.38 695,-384.38 695,-405.12\"/>\n",
       "<text text-anchor=\"middle\" x=\"645\" y=\"-391.62\" font-family=\"monospace\" font-size=\"10.00\">AccumulateGrad</text>\n",
       "</g>\n",
       "<!-- 3200166301456&#45;&gt;3200166301648 -->\n",
       "<g id=\"edge30\" class=\"edge\">\n",
       "<title>3200166301456&#45;&gt;3200166301648</title>\n",
       "<path fill=\"none\" stroke=\"black\" d=\"M645,-383.93C645,-375.77 645,-363.88 645,-353.6\"/>\n",
       "<polygon fill=\"black\" stroke=\"black\" points=\"648.5,-353.73 645,-343.73 641.5,-353.73 648.5,-353.73\"/>\n",
       "</g>\n",
       "<!-- 3201442664416 -->\n",
       "<g id=\"node33\" class=\"node\">\n",
       "<title>3201442664416</title>\n",
       "<polygon fill=\"lightblue\" stroke=\"black\" points=\"683,-481 607,-481 607,-447.5 683,-447.5 683,-481\"/>\n",
       "<text text-anchor=\"middle\" x=\"645\" y=\"-467.5\" font-family=\"monospace\" font-size=\"10.00\">fc1.weight</text>\n",
       "<text text-anchor=\"middle\" x=\"645\" y=\"-454.75\" font-family=\"monospace\" font-size=\"10.00\"> (32, 64)</text>\n",
       "</g>\n",
       "<!-- 3201442664416&#45;&gt;3200166301456 -->\n",
       "<g id=\"edge31\" class=\"edge\">\n",
       "<title>3201442664416&#45;&gt;3200166301456</title>\n",
       "<path fill=\"none\" stroke=\"black\" d=\"M645,-447.25C645,-438.15 645,-426.64 645,-416.82\"/>\n",
       "<polygon fill=\"black\" stroke=\"black\" points=\"648.5,-417.09 645,-407.09 641.5,-417.09 648.5,-417.09\"/>\n",
       "</g>\n",
       "<!-- 3200166299248 -->\n",
       "<g id=\"node34\" class=\"node\">\n",
       "<title>3200166299248</title>\n",
       "<polygon fill=\"lightgrey\" stroke=\"black\" points=\"683,-146.25 607,-146.25 607,-125.5 683,-125.5 683,-146.25\"/>\n",
       "<text text-anchor=\"middle\" x=\"645\" y=\"-132.75\" font-family=\"monospace\" font-size=\"10.00\">TBackward0</text>\n",
       "</g>\n",
       "<!-- 3200166299248&#45;&gt;3200166299440 -->\n",
       "<g id=\"edge32\" class=\"edge\">\n",
       "<title>3200166299248&#45;&gt;3200166299440</title>\n",
       "<path fill=\"none\" stroke=\"black\" d=\"M621.76,-125.09C601.33,-116.48 571.36,-103.86 548.37,-94.18\"/>\n",
       "<polygon fill=\"black\" stroke=\"black\" points=\"550.01,-91.07 539.44,-90.42 547.29,-97.52 550.01,-91.07\"/>\n",
       "</g>\n",
       "<!-- 3200166299008 -->\n",
       "<g id=\"node35\" class=\"node\">\n",
       "<title>3200166299008</title>\n",
       "<polygon fill=\"lightgrey\" stroke=\"black\" points=\"695,-209.38 595,-209.38 595,-188.62 695,-188.62 695,-209.38\"/>\n",
       "<text text-anchor=\"middle\" x=\"645\" y=\"-195.88\" font-family=\"monospace\" font-size=\"10.00\">AccumulateGrad</text>\n",
       "</g>\n",
       "<!-- 3200166299008&#45;&gt;3200166299248 -->\n",
       "<g id=\"edge33\" class=\"edge\">\n",
       "<title>3200166299008&#45;&gt;3200166299248</title>\n",
       "<path fill=\"none\" stroke=\"black\" d=\"M645,-188.18C645,-180.02 645,-168.13 645,-157.85\"/>\n",
       "<polygon fill=\"black\" stroke=\"black\" points=\"648.5,-157.98 645,-147.98 641.5,-157.98 648.5,-157.98\"/>\n",
       "</g>\n",
       "<!-- 3201442671216 -->\n",
       "<g id=\"node36\" class=\"node\">\n",
       "<title>3201442671216</title>\n",
       "<polygon fill=\"lightblue\" stroke=\"black\" points=\"683,-285.25 607,-285.25 607,-251.75 683,-251.75 683,-285.25\"/>\n",
       "<text text-anchor=\"middle\" x=\"645\" y=\"-271.75\" font-family=\"monospace\" font-size=\"10.00\">fc2.weight</text>\n",
       "<text text-anchor=\"middle\" x=\"645\" y=\"-259\" font-family=\"monospace\" font-size=\"10.00\"> (1, 32)</text>\n",
       "</g>\n",
       "<!-- 3201442671216&#45;&gt;3200166299008 -->\n",
       "<g id=\"edge34\" class=\"edge\">\n",
       "<title>3201442671216&#45;&gt;3200166299008</title>\n",
       "<path fill=\"none\" stroke=\"black\" d=\"M645,-251.5C645,-242.4 645,-230.89 645,-221.07\"/>\n",
       "<polygon fill=\"black\" stroke=\"black\" points=\"648.5,-221.34 645,-211.34 641.5,-221.34 648.5,-221.34\"/>\n",
       "</g>\n",
       "</g>\n",
       "</svg>\n"
      ],
      "text/plain": [
       "<graphviz.graphs.Digraph at 0x2e918c68550>"
      ]
     },
     "metadata": {},
     "output_type": "display_data"
    }
   ],
   "source": [
    "print(\"Model Computational Graph:\")\n",
    "display(dot)"
   ]
  },
  {
   "cell_type": "markdown",
   "metadata": {},
   "source": [
    "### Training"
   ]
  },
  {
   "cell_type": "code",
   "execution_count": 17,
   "metadata": {},
   "outputs": [],
   "source": [
    "epochs = 100\n",
    "criterion = nn.MSELoss()\n",
    "optimizer = optim.Adam(model.parameters(), lr=1e-3)\n",
    "patience = 10"
   ]
  },
  {
   "cell_type": "code",
   "execution_count": 18,
   "metadata": {},
   "outputs": [],
   "source": [
    "train_losses = []\n",
    "val_losses = []\n",
    "best_val_loss = float(\"inf\")\n",
    "epochs_no_improve = 0"
   ]
  },
  {
   "cell_type": "code",
   "execution_count": 19,
   "metadata": {},
   "outputs": [
    {
     "name": "stderr",
     "output_type": "stream",
     "text": [
      "Epoch 1/100 [Training]:   0%|          | 0/1107 [00:00<?, ?it/s]"
     ]
    },
    {
     "name": "stderr",
     "output_type": "stream",
     "text": [
      "                                                                            \r"
     ]
    },
    {
     "name": "stdout",
     "output_type": "stream",
     "text": [
      "Epoch: 1/100 | Train Loss: 0.5059 | Val Loss: 0.4471\n"
     ]
    },
    {
     "name": "stderr",
     "output_type": "stream",
     "text": [
      "                                                                            \r"
     ]
    },
    {
     "name": "stdout",
     "output_type": "stream",
     "text": [
      "Epoch: 2/100 | Train Loss: 0.4635 | Val Loss: 0.4356\n"
     ]
    },
    {
     "name": "stderr",
     "output_type": "stream",
     "text": [
      "                                                                            \r"
     ]
    },
    {
     "name": "stdout",
     "output_type": "stream",
     "text": [
      "Epoch: 3/100 | Train Loss: 0.4513 | Val Loss: 0.4341\n"
     ]
    },
    {
     "name": "stderr",
     "output_type": "stream",
     "text": [
      "                                                                            \r"
     ]
    },
    {
     "name": "stdout",
     "output_type": "stream",
     "text": [
      "Epoch: 4/100 | Train Loss: 0.4417 | Val Loss: 0.4140\n"
     ]
    },
    {
     "name": "stderr",
     "output_type": "stream",
     "text": [
      "                                                                            \r"
     ]
    },
    {
     "name": "stdout",
     "output_type": "stream",
     "text": [
      "Epoch: 5/100 | Train Loss: 0.4334 | Val Loss: 0.4081\n"
     ]
    },
    {
     "name": "stderr",
     "output_type": "stream",
     "text": [
      "                                                                            \r"
     ]
    },
    {
     "name": "stdout",
     "output_type": "stream",
     "text": [
      "Epoch: 6/100 | Train Loss: 0.4261 | Val Loss: 0.4026\n"
     ]
    },
    {
     "name": "stderr",
     "output_type": "stream",
     "text": [
      "                                                                            \r"
     ]
    },
    {
     "name": "stdout",
     "output_type": "stream",
     "text": [
      "Epoch: 7/100 | Train Loss: 0.4175 | Val Loss: 0.3955\n"
     ]
    },
    {
     "name": "stderr",
     "output_type": "stream",
     "text": [
      "                                                                            \r"
     ]
    },
    {
     "name": "stdout",
     "output_type": "stream",
     "text": [
      "Epoch: 8/100 | Train Loss: 0.4089 | Val Loss: 0.3864\n"
     ]
    },
    {
     "name": "stderr",
     "output_type": "stream",
     "text": [
      "                                                                            \r"
     ]
    },
    {
     "name": "stdout",
     "output_type": "stream",
     "text": [
      "Epoch: 9/100 | Train Loss: 0.4000 | Val Loss: 0.3802\n"
     ]
    },
    {
     "name": "stderr",
     "output_type": "stream",
     "text": [
      "                                                                             \r"
     ]
    },
    {
     "name": "stdout",
     "output_type": "stream",
     "text": [
      "Epoch: 10/100 | Train Loss: 0.3928 | Val Loss: 0.3666\n"
     ]
    },
    {
     "name": "stderr",
     "output_type": "stream",
     "text": [
      "                                                                             \r"
     ]
    },
    {
     "name": "stdout",
     "output_type": "stream",
     "text": [
      "Epoch: 11/100 | Train Loss: 0.3833 | Val Loss: 0.3605\n"
     ]
    },
    {
     "name": "stderr",
     "output_type": "stream",
     "text": [
      "                                                                             \r"
     ]
    },
    {
     "name": "stdout",
     "output_type": "stream",
     "text": [
      "Epoch: 12/100 | Train Loss: 0.3737 | Val Loss: 0.3509\n"
     ]
    },
    {
     "name": "stderr",
     "output_type": "stream",
     "text": [
      "                                                                             \r"
     ]
    },
    {
     "name": "stdout",
     "output_type": "stream",
     "text": [
      "Epoch: 13/100 | Train Loss: 0.3644 | Val Loss: 0.3442\n"
     ]
    },
    {
     "name": "stderr",
     "output_type": "stream",
     "text": [
      "                                                                             \r"
     ]
    },
    {
     "name": "stdout",
     "output_type": "stream",
     "text": [
      "Epoch: 14/100 | Train Loss: 0.3554 | Val Loss: 0.3303\n"
     ]
    },
    {
     "name": "stderr",
     "output_type": "stream",
     "text": [
      "                                                                             \r"
     ]
    },
    {
     "name": "stdout",
     "output_type": "stream",
     "text": [
      "Epoch: 15/100 | Train Loss: 0.3463 | Val Loss: 0.3265\n"
     ]
    },
    {
     "name": "stderr",
     "output_type": "stream",
     "text": [
      "                                                                             \r"
     ]
    },
    {
     "name": "stdout",
     "output_type": "stream",
     "text": [
      "Epoch: 16/100 | Train Loss: 0.3382 | Val Loss: 0.3137\n"
     ]
    },
    {
     "name": "stderr",
     "output_type": "stream",
     "text": [
      "                                                                             \r"
     ]
    },
    {
     "name": "stdout",
     "output_type": "stream",
     "text": [
      "Epoch: 17/100 | Train Loss: 0.3290 | Val Loss: 0.3042\n"
     ]
    },
    {
     "name": "stderr",
     "output_type": "stream",
     "text": [
      "                                                                             \r"
     ]
    },
    {
     "name": "stdout",
     "output_type": "stream",
     "text": [
      "Epoch: 18/100 | Train Loss: 0.3209 | Val Loss: 0.2994\n"
     ]
    },
    {
     "name": "stderr",
     "output_type": "stream",
     "text": [
      "                                                                             \r"
     ]
    },
    {
     "name": "stdout",
     "output_type": "stream",
     "text": [
      "Epoch: 19/100 | Train Loss: 0.3133 | Val Loss: 0.2941\n"
     ]
    },
    {
     "name": "stderr",
     "output_type": "stream",
     "text": [
      "                                                                             \r"
     ]
    },
    {
     "name": "stdout",
     "output_type": "stream",
     "text": [
      "Epoch: 20/100 | Train Loss: 0.3063 | Val Loss: 0.2808\n"
     ]
    },
    {
     "name": "stderr",
     "output_type": "stream",
     "text": [
      "                                                                             \r"
     ]
    },
    {
     "name": "stdout",
     "output_type": "stream",
     "text": [
      "Epoch: 21/100 | Train Loss: 0.2986 | Val Loss: 0.2786\n"
     ]
    },
    {
     "name": "stderr",
     "output_type": "stream",
     "text": [
      "                                                                             \r"
     ]
    },
    {
     "name": "stdout",
     "output_type": "stream",
     "text": [
      "Epoch: 22/100 | Train Loss: 0.2919 | Val Loss: 0.2689\n"
     ]
    },
    {
     "name": "stderr",
     "output_type": "stream",
     "text": [
      "                                                                             \r"
     ]
    },
    {
     "name": "stdout",
     "output_type": "stream",
     "text": [
      "Epoch: 23/100 | Train Loss: 0.2860 | Val Loss: 0.2651\n"
     ]
    },
    {
     "name": "stderr",
     "output_type": "stream",
     "text": [
      "                                                                             \r"
     ]
    },
    {
     "name": "stdout",
     "output_type": "stream",
     "text": [
      "Epoch: 24/100 | Train Loss: 0.2794 | Val Loss: 0.2575\n"
     ]
    },
    {
     "name": "stderr",
     "output_type": "stream",
     "text": [
      "                                                                             \r"
     ]
    },
    {
     "name": "stdout",
     "output_type": "stream",
     "text": [
      "Epoch: 25/100 | Train Loss: 0.2740 | Val Loss: 0.2525\n"
     ]
    },
    {
     "name": "stderr",
     "output_type": "stream",
     "text": [
      "                                                                             \r"
     ]
    },
    {
     "name": "stdout",
     "output_type": "stream",
     "text": [
      "Epoch: 26/100 | Train Loss: 0.2688 | Val Loss: 0.2439\n"
     ]
    },
    {
     "name": "stderr",
     "output_type": "stream",
     "text": [
      "                                                                             \r"
     ]
    },
    {
     "name": "stdout",
     "output_type": "stream",
     "text": [
      "Epoch: 27/100 | Train Loss: 0.2631 | Val Loss: 0.2403\n"
     ]
    },
    {
     "name": "stderr",
     "output_type": "stream",
     "text": [
      "                                                                             \r"
     ]
    },
    {
     "name": "stdout",
     "output_type": "stream",
     "text": [
      "Epoch: 28/100 | Train Loss: 0.2587 | Val Loss: 0.2330\n"
     ]
    },
    {
     "name": "stderr",
     "output_type": "stream",
     "text": [
      "                                                                             \r"
     ]
    },
    {
     "name": "stdout",
     "output_type": "stream",
     "text": [
      "Epoch: 29/100 | Train Loss: 0.2537 | Val Loss: 0.2299\n"
     ]
    },
    {
     "name": "stderr",
     "output_type": "stream",
     "text": [
      "                                                                             \r"
     ]
    },
    {
     "name": "stdout",
     "output_type": "stream",
     "text": [
      "Epoch: 30/100 | Train Loss: 0.2504 | Val Loss: 0.2284\n"
     ]
    },
    {
     "name": "stderr",
     "output_type": "stream",
     "text": [
      "                                                                             \r"
     ]
    },
    {
     "name": "stdout",
     "output_type": "stream",
     "text": [
      "Epoch: 31/100 | Train Loss: 0.2469 | Val Loss: 0.2211\n"
     ]
    },
    {
     "name": "stderr",
     "output_type": "stream",
     "text": [
      "                                                                             \r"
     ]
    },
    {
     "name": "stdout",
     "output_type": "stream",
     "text": [
      "Epoch: 32/100 | Train Loss: 0.2422 | Val Loss: 0.2153\n"
     ]
    },
    {
     "name": "stderr",
     "output_type": "stream",
     "text": [
      "                                                                             \r"
     ]
    },
    {
     "name": "stdout",
     "output_type": "stream",
     "text": [
      "Epoch: 33/100 | Train Loss: 0.2398 | Val Loss: 0.2113\n"
     ]
    },
    {
     "name": "stderr",
     "output_type": "stream",
     "text": [
      "                                                                             \r"
     ]
    },
    {
     "name": "stdout",
     "output_type": "stream",
     "text": [
      "Epoch: 34/100 | Train Loss: 0.2348 | Val Loss: 0.2097\n"
     ]
    },
    {
     "name": "stderr",
     "output_type": "stream",
     "text": [
      "                                                                             \r"
     ]
    },
    {
     "name": "stdout",
     "output_type": "stream",
     "text": [
      "Epoch: 35/100 | Train Loss: 0.2324 | Val Loss: 0.2060\n"
     ]
    },
    {
     "name": "stderr",
     "output_type": "stream",
     "text": [
      "                                                                             \r"
     ]
    },
    {
     "name": "stdout",
     "output_type": "stream",
     "text": [
      "Epoch: 36/100 | Train Loss: 0.2291 | Val Loss: 0.2022\n"
     ]
    },
    {
     "name": "stderr",
     "output_type": "stream",
     "text": [
      "                                                                             \r"
     ]
    },
    {
     "name": "stdout",
     "output_type": "stream",
     "text": [
      "Epoch: 37/100 | Train Loss: 0.2275 | Val Loss: 0.1995\n"
     ]
    },
    {
     "name": "stderr",
     "output_type": "stream",
     "text": [
      "                                                                             \r"
     ]
    },
    {
     "name": "stdout",
     "output_type": "stream",
     "text": [
      "Epoch: 38/100 | Train Loss: 0.2225 | Val Loss: 0.1988\n"
     ]
    },
    {
     "name": "stderr",
     "output_type": "stream",
     "text": [
      "                                                                             \r"
     ]
    },
    {
     "name": "stdout",
     "output_type": "stream",
     "text": [
      "Epoch: 39/100 | Train Loss: 0.2203 | Val Loss: 0.1959\n"
     ]
    },
    {
     "name": "stderr",
     "output_type": "stream",
     "text": [
      "                                                                             \r"
     ]
    },
    {
     "name": "stdout",
     "output_type": "stream",
     "text": [
      "Epoch: 40/100 | Train Loss: 0.2185 | Val Loss: 0.1927\n"
     ]
    },
    {
     "name": "stderr",
     "output_type": "stream",
     "text": [
      "                                                                             \r"
     ]
    },
    {
     "name": "stdout",
     "output_type": "stream",
     "text": [
      "Epoch: 41/100 | Train Loss: 0.2160 | Val Loss: 0.1912\n"
     ]
    },
    {
     "name": "stderr",
     "output_type": "stream",
     "text": [
      "                                                                             \r"
     ]
    },
    {
     "name": "stdout",
     "output_type": "stream",
     "text": [
      "Epoch: 42/100 | Train Loss: 0.2138 | Val Loss: 0.1859\n"
     ]
    },
    {
     "name": "stderr",
     "output_type": "stream",
     "text": [
      "                                                                             \r"
     ]
    },
    {
     "name": "stdout",
     "output_type": "stream",
     "text": [
      "Epoch: 43/100 | Train Loss: 0.2126 | Val Loss: 0.1859\n"
     ]
    },
    {
     "name": "stderr",
     "output_type": "stream",
     "text": [
      "                                                                             \r"
     ]
    },
    {
     "name": "stdout",
     "output_type": "stream",
     "text": [
      "Epoch: 44/100 | Train Loss: 0.2093 | Val Loss: 0.1813\n"
     ]
    },
    {
     "name": "stderr",
     "output_type": "stream",
     "text": [
      "                                                                             \r"
     ]
    },
    {
     "name": "stdout",
     "output_type": "stream",
     "text": [
      "Epoch: 45/100 | Train Loss: 0.2071 | Val Loss: 0.1859\n",
      "Early Stopping: 1/10\n"
     ]
    },
    {
     "name": "stderr",
     "output_type": "stream",
     "text": [
      "                                                                             \r"
     ]
    },
    {
     "name": "stdout",
     "output_type": "stream",
     "text": [
      "Epoch: 46/100 | Train Loss: 0.2048 | Val Loss: 0.1765\n"
     ]
    },
    {
     "name": "stderr",
     "output_type": "stream",
     "text": [
      "                                                                             \r"
     ]
    },
    {
     "name": "stdout",
     "output_type": "stream",
     "text": [
      "Epoch: 47/100 | Train Loss: 0.2037 | Val Loss: 0.1771\n",
      "Early Stopping: 1/10\n"
     ]
    },
    {
     "name": "stderr",
     "output_type": "stream",
     "text": [
      "                                                                             \r"
     ]
    },
    {
     "name": "stdout",
     "output_type": "stream",
     "text": [
      "Epoch: 48/100 | Train Loss: 0.2025 | Val Loss: 0.1742\n"
     ]
    },
    {
     "name": "stderr",
     "output_type": "stream",
     "text": [
      "                                                                             \r"
     ]
    },
    {
     "name": "stdout",
     "output_type": "stream",
     "text": [
      "Epoch: 49/100 | Train Loss: 0.2000 | Val Loss: 0.1782\n",
      "Early Stopping: 1/10\n"
     ]
    },
    {
     "name": "stderr",
     "output_type": "stream",
     "text": [
      "                                                                             \r"
     ]
    },
    {
     "name": "stdout",
     "output_type": "stream",
     "text": [
      "Epoch: 50/100 | Train Loss: 0.1979 | Val Loss: 0.1717\n"
     ]
    },
    {
     "name": "stderr",
     "output_type": "stream",
     "text": [
      "                                                                             \r"
     ]
    },
    {
     "name": "stdout",
     "output_type": "stream",
     "text": [
      "Epoch: 51/100 | Train Loss: 0.1966 | Val Loss: 0.1694\n"
     ]
    },
    {
     "name": "stderr",
     "output_type": "stream",
     "text": [
      "                                                                             \r"
     ]
    },
    {
     "name": "stdout",
     "output_type": "stream",
     "text": [
      "Epoch: 52/100 | Train Loss: 0.1952 | Val Loss: 0.1699\n",
      "Early Stopping: 1/10\n"
     ]
    },
    {
     "name": "stderr",
     "output_type": "stream",
     "text": [
      "                                                                             \r"
     ]
    },
    {
     "name": "stdout",
     "output_type": "stream",
     "text": [
      "Epoch: 53/100 | Train Loss: 0.1943 | Val Loss: 0.1665\n"
     ]
    },
    {
     "name": "stderr",
     "output_type": "stream",
     "text": [
      "                                                                             \r"
     ]
    },
    {
     "name": "stdout",
     "output_type": "stream",
     "text": [
      "Epoch: 54/100 | Train Loss: 0.1929 | Val Loss: 0.1670\n",
      "Early Stopping: 1/10\n"
     ]
    },
    {
     "name": "stderr",
     "output_type": "stream",
     "text": [
      "                                                                             \r"
     ]
    },
    {
     "name": "stdout",
     "output_type": "stream",
     "text": [
      "Epoch: 55/100 | Train Loss: 0.1903 | Val Loss: 0.1625\n"
     ]
    },
    {
     "name": "stderr",
     "output_type": "stream",
     "text": [
      "                                                                             \r"
     ]
    },
    {
     "name": "stdout",
     "output_type": "stream",
     "text": [
      "Epoch: 56/100 | Train Loss: 0.1892 | Val Loss: 0.1622\n"
     ]
    },
    {
     "name": "stderr",
     "output_type": "stream",
     "text": [
      "                                                                             \r"
     ]
    },
    {
     "name": "stdout",
     "output_type": "stream",
     "text": [
      "Epoch: 57/100 | Train Loss: 0.1882 | Val Loss: 0.1600\n"
     ]
    },
    {
     "name": "stderr",
     "output_type": "stream",
     "text": [
      "                                                                             \r"
     ]
    },
    {
     "name": "stdout",
     "output_type": "stream",
     "text": [
      "Epoch: 58/100 | Train Loss: 0.1875 | Val Loss: 0.1620\n",
      "Early Stopping: 1/10\n"
     ]
    },
    {
     "name": "stderr",
     "output_type": "stream",
     "text": [
      "                                                                             \r"
     ]
    },
    {
     "name": "stdout",
     "output_type": "stream",
     "text": [
      "Epoch: 59/100 | Train Loss: 0.1857 | Val Loss: 0.1594\n"
     ]
    },
    {
     "name": "stderr",
     "output_type": "stream",
     "text": [
      "                                                                             \r"
     ]
    },
    {
     "name": "stdout",
     "output_type": "stream",
     "text": [
      "Epoch: 60/100 | Train Loss: 0.1846 | Val Loss: 0.1576\n"
     ]
    },
    {
     "name": "stderr",
     "output_type": "stream",
     "text": [
      "                                                                             \r"
     ]
    },
    {
     "name": "stdout",
     "output_type": "stream",
     "text": [
      "Epoch: 61/100 | Train Loss: 0.1846 | Val Loss: 0.1563\n"
     ]
    },
    {
     "name": "stderr",
     "output_type": "stream",
     "text": [
      "                                                                             \r"
     ]
    },
    {
     "name": "stdout",
     "output_type": "stream",
     "text": [
      "Epoch: 62/100 | Train Loss: 0.1831 | Val Loss: 0.1534\n"
     ]
    },
    {
     "name": "stderr",
     "output_type": "stream",
     "text": [
      "                                                                             \r"
     ]
    },
    {
     "name": "stdout",
     "output_type": "stream",
     "text": [
      "Epoch: 63/100 | Train Loss: 0.1817 | Val Loss: 0.1518\n"
     ]
    },
    {
     "name": "stderr",
     "output_type": "stream",
     "text": [
      "                                                                             \r"
     ]
    },
    {
     "name": "stdout",
     "output_type": "stream",
     "text": [
      "Epoch: 64/100 | Train Loss: 0.1798 | Val Loss: 0.1584\n",
      "Early Stopping: 1/10\n"
     ]
    },
    {
     "name": "stderr",
     "output_type": "stream",
     "text": [
      "                                                                             \r"
     ]
    },
    {
     "name": "stdout",
     "output_type": "stream",
     "text": [
      "Epoch: 65/100 | Train Loss: 0.1793 | Val Loss: 0.1534\n",
      "Early Stopping: 2/10\n"
     ]
    },
    {
     "name": "stderr",
     "output_type": "stream",
     "text": [
      "                                                                             \r"
     ]
    },
    {
     "name": "stdout",
     "output_type": "stream",
     "text": [
      "Epoch: 66/100 | Train Loss: 0.1788 | Val Loss: 0.1484\n"
     ]
    },
    {
     "name": "stderr",
     "output_type": "stream",
     "text": [
      "                                                                             \r"
     ]
    },
    {
     "name": "stdout",
     "output_type": "stream",
     "text": [
      "Epoch: 67/100 | Train Loss: 0.1776 | Val Loss: 0.1484\n"
     ]
    },
    {
     "name": "stderr",
     "output_type": "stream",
     "text": [
      "                                                                             \r"
     ]
    },
    {
     "name": "stdout",
     "output_type": "stream",
     "text": [
      "Epoch: 68/100 | Train Loss: 0.1760 | Val Loss: 0.1499\n",
      "Early Stopping: 1/10\n"
     ]
    },
    {
     "name": "stderr",
     "output_type": "stream",
     "text": [
      "                                                                             \r"
     ]
    },
    {
     "name": "stdout",
     "output_type": "stream",
     "text": [
      "Epoch: 69/100 | Train Loss: 0.1759 | Val Loss: 0.1510\n",
      "Early Stopping: 2/10\n"
     ]
    },
    {
     "name": "stderr",
     "output_type": "stream",
     "text": [
      "                                                                             \r"
     ]
    },
    {
     "name": "stdout",
     "output_type": "stream",
     "text": [
      "Epoch: 70/100 | Train Loss: 0.1754 | Val Loss: 0.1444\n"
     ]
    },
    {
     "name": "stderr",
     "output_type": "stream",
     "text": [
      "                                                                             \r"
     ]
    },
    {
     "name": "stdout",
     "output_type": "stream",
     "text": [
      "Epoch: 71/100 | Train Loss: 0.1740 | Val Loss: 0.1436\n"
     ]
    },
    {
     "name": "stderr",
     "output_type": "stream",
     "text": [
      "                                                                             \r"
     ]
    },
    {
     "name": "stdout",
     "output_type": "stream",
     "text": [
      "Epoch: 72/100 | Train Loss: 0.1741 | Val Loss: 0.1461\n",
      "Early Stopping: 1/10\n"
     ]
    },
    {
     "name": "stderr",
     "output_type": "stream",
     "text": [
      "                                                                             \r"
     ]
    },
    {
     "name": "stdout",
     "output_type": "stream",
     "text": [
      "Epoch: 73/100 | Train Loss: 0.1723 | Val Loss: 0.1487\n",
      "Early Stopping: 2/10\n"
     ]
    },
    {
     "name": "stderr",
     "output_type": "stream",
     "text": [
      "                                                                             \r"
     ]
    },
    {
     "name": "stdout",
     "output_type": "stream",
     "text": [
      "Epoch: 74/100 | Train Loss: 0.1718 | Val Loss: 0.1413\n"
     ]
    },
    {
     "name": "stderr",
     "output_type": "stream",
     "text": [
      "                                                                             \r"
     ]
    },
    {
     "name": "stdout",
     "output_type": "stream",
     "text": [
      "Epoch: 75/100 | Train Loss: 0.1709 | Val Loss: 0.1419\n",
      "Early Stopping: 1/10\n"
     ]
    },
    {
     "name": "stderr",
     "output_type": "stream",
     "text": [
      "                                                                             \r"
     ]
    },
    {
     "name": "stdout",
     "output_type": "stream",
     "text": [
      "Epoch: 76/100 | Train Loss: 0.1712 | Val Loss: 0.1384\n"
     ]
    },
    {
     "name": "stderr",
     "output_type": "stream",
     "text": [
      "                                                                             \r"
     ]
    },
    {
     "name": "stdout",
     "output_type": "stream",
     "text": [
      "Epoch: 77/100 | Train Loss: 0.1704 | Val Loss: 0.1465\n",
      "Early Stopping: 1/10\n"
     ]
    },
    {
     "name": "stderr",
     "output_type": "stream",
     "text": [
      "                                                                             \r"
     ]
    },
    {
     "name": "stdout",
     "output_type": "stream",
     "text": [
      "Epoch: 78/100 | Train Loss: 0.1681 | Val Loss: 0.1415\n",
      "Early Stopping: 2/10\n"
     ]
    },
    {
     "name": "stderr",
     "output_type": "stream",
     "text": [
      "                                                                             \r"
     ]
    },
    {
     "name": "stdout",
     "output_type": "stream",
     "text": [
      "Epoch: 79/100 | Train Loss: 0.1680 | Val Loss: 0.1431\n",
      "Early Stopping: 3/10\n"
     ]
    },
    {
     "name": "stderr",
     "output_type": "stream",
     "text": [
      "                                                                             \r"
     ]
    },
    {
     "name": "stdout",
     "output_type": "stream",
     "text": [
      "Epoch: 80/100 | Train Loss: 0.1683 | Val Loss: 0.1400\n",
      "Early Stopping: 4/10\n"
     ]
    },
    {
     "name": "stderr",
     "output_type": "stream",
     "text": [
      "                                                                             \r"
     ]
    },
    {
     "name": "stdout",
     "output_type": "stream",
     "text": [
      "Epoch: 81/100 | Train Loss: 0.1662 | Val Loss: 0.1366\n"
     ]
    },
    {
     "name": "stderr",
     "output_type": "stream",
     "text": [
      "                                                                             \r"
     ]
    },
    {
     "name": "stdout",
     "output_type": "stream",
     "text": [
      "Epoch: 82/100 | Train Loss: 0.1657 | Val Loss: 0.1356\n"
     ]
    },
    {
     "name": "stderr",
     "output_type": "stream",
     "text": [
      "                                                                             \r"
     ]
    },
    {
     "name": "stdout",
     "output_type": "stream",
     "text": [
      "Epoch: 83/100 | Train Loss: 0.1667 | Val Loss: 0.1393\n",
      "Early Stopping: 1/10\n"
     ]
    },
    {
     "name": "stderr",
     "output_type": "stream",
     "text": [
      "                                                                             \r"
     ]
    },
    {
     "name": "stdout",
     "output_type": "stream",
     "text": [
      "Epoch: 84/100 | Train Loss: 0.1647 | Val Loss: 0.1351\n"
     ]
    },
    {
     "name": "stderr",
     "output_type": "stream",
     "text": [
      "                                                                             \r"
     ]
    },
    {
     "name": "stdout",
     "output_type": "stream",
     "text": [
      "Epoch: 85/100 | Train Loss: 0.1647 | Val Loss: 0.1393\n",
      "Early Stopping: 1/10\n"
     ]
    },
    {
     "name": "stderr",
     "output_type": "stream",
     "text": [
      "                                                                             \r"
     ]
    },
    {
     "name": "stdout",
     "output_type": "stream",
     "text": [
      "Epoch: 86/100 | Train Loss: 0.1634 | Val Loss: 0.1340\n"
     ]
    },
    {
     "name": "stderr",
     "output_type": "stream",
     "text": [
      "                                                                             \r"
     ]
    },
    {
     "name": "stdout",
     "output_type": "stream",
     "text": [
      "Epoch: 87/100 | Train Loss: 0.1633 | Val Loss: 0.1362\n",
      "Early Stopping: 1/10\n"
     ]
    },
    {
     "name": "stderr",
     "output_type": "stream",
     "text": [
      "                                                                             \r"
     ]
    },
    {
     "name": "stdout",
     "output_type": "stream",
     "text": [
      "Epoch: 88/100 | Train Loss: 0.1624 | Val Loss: 0.1351\n",
      "Early Stopping: 2/10\n"
     ]
    },
    {
     "name": "stderr",
     "output_type": "stream",
     "text": [
      "                                                                             \r"
     ]
    },
    {
     "name": "stdout",
     "output_type": "stream",
     "text": [
      "Epoch: 89/100 | Train Loss: 0.1628 | Val Loss: 0.1395\n",
      "Early Stopping: 3/10\n"
     ]
    },
    {
     "name": "stderr",
     "output_type": "stream",
     "text": [
      "                                                                             \r"
     ]
    },
    {
     "name": "stdout",
     "output_type": "stream",
     "text": [
      "Epoch: 90/100 | Train Loss: 0.1616 | Val Loss: 0.1315\n"
     ]
    },
    {
     "name": "stderr",
     "output_type": "stream",
     "text": [
      "                                                                             \r"
     ]
    },
    {
     "name": "stdout",
     "output_type": "stream",
     "text": [
      "Epoch: 91/100 | Train Loss: 0.1608 | Val Loss: 0.1337\n",
      "Early Stopping: 1/10\n"
     ]
    },
    {
     "name": "stderr",
     "output_type": "stream",
     "text": [
      "                                                                             \r"
     ]
    },
    {
     "name": "stdout",
     "output_type": "stream",
     "text": [
      "Epoch: 92/100 | Train Loss: 0.1604 | Val Loss: 0.1358\n",
      "Early Stopping: 2/10\n"
     ]
    },
    {
     "name": "stderr",
     "output_type": "stream",
     "text": [
      "                                                                             \r"
     ]
    },
    {
     "name": "stdout",
     "output_type": "stream",
     "text": [
      "Epoch: 93/100 | Train Loss: 0.1592 | Val Loss: 0.1305\n"
     ]
    },
    {
     "name": "stderr",
     "output_type": "stream",
     "text": [
      "                                                                             \r"
     ]
    },
    {
     "name": "stdout",
     "output_type": "stream",
     "text": [
      "Epoch: 94/100 | Train Loss: 0.1595 | Val Loss: 0.1320\n",
      "Early Stopping: 1/10\n"
     ]
    },
    {
     "name": "stderr",
     "output_type": "stream",
     "text": [
      "                                                                             \r"
     ]
    },
    {
     "name": "stdout",
     "output_type": "stream",
     "text": [
      "Epoch: 95/100 | Train Loss: 0.1598 | Val Loss: 0.1304\n"
     ]
    },
    {
     "name": "stderr",
     "output_type": "stream",
     "text": [
      "                                                                             \r"
     ]
    },
    {
     "name": "stdout",
     "output_type": "stream",
     "text": [
      "Epoch: 96/100 | Train Loss: 0.1591 | Val Loss: 0.1309\n",
      "Early Stopping: 1/10\n"
     ]
    },
    {
     "name": "stderr",
     "output_type": "stream",
     "text": [
      "                                                                             \r"
     ]
    },
    {
     "name": "stdout",
     "output_type": "stream",
     "text": [
      "Epoch: 97/100 | Train Loss: 0.1586 | Val Loss: 0.1328\n",
      "Early Stopping: 2/10\n"
     ]
    },
    {
     "name": "stderr",
     "output_type": "stream",
     "text": [
      "                                                                             \r"
     ]
    },
    {
     "name": "stdout",
     "output_type": "stream",
     "text": [
      "Epoch: 98/100 | Train Loss: 0.1583 | Val Loss: 0.1288\n"
     ]
    },
    {
     "name": "stderr",
     "output_type": "stream",
     "text": [
      "                                                                             \r"
     ]
    },
    {
     "name": "stdout",
     "output_type": "stream",
     "text": [
      "Epoch: 99/100 | Train Loss: 0.1571 | Val Loss: 0.1311\n",
      "Early Stopping: 1/10\n"
     ]
    },
    {
     "name": "stderr",
     "output_type": "stream",
     "text": [
      "                                                                              "
     ]
    },
    {
     "name": "stdout",
     "output_type": "stream",
     "text": [
      "Epoch: 100/100 | Train Loss: 0.1571 | Val Loss: 0.1275\n"
     ]
    },
    {
     "name": "stderr",
     "output_type": "stream",
     "text": [
      "\r"
     ]
    }
   ],
   "source": [
    "train_losses = []\n",
    "val_losses = []\n",
    "best_val_loss = float(\"inf\")\n",
    "epochs_no_improve = 0\n",
    "\n",
    "for epoch in range(epochs):\n",
    "    # Training\n",
    "    model.train()\n",
    "    running_train_loss = 0.0\n",
    "    for X_batch, y_batch in tqdm(train_loader, desc=f\"Epoch {epoch+1}/{epochs} [Training]\", leave=False):\n",
    "        X_batch = X_batch.to(device)\n",
    "        y_batch = y_batch.to(device)\n",
    "        \n",
    "        optimizer.zero_grad()\n",
    "        outputs = model(X_batch)\n",
    "        loss = criterion(outputs, y_batch)\n",
    "        loss.backward()\n",
    "        optimizer.step()\n",
    "        \n",
    "        running_train_loss += loss.item() * X_batch.size(0)\n",
    "        \n",
    "    epoch_train_loss = running_train_loss / len(train_loader.dataset)\n",
    "    train_losses.append(epoch_train_loss)\n",
    "    \n",
    "    # Validation\n",
    "    model.eval()\n",
    "    running_val_loss = 0.0\n",
    "    with torch.no_grad():\n",
    "        for X_val, y_val in tqdm(val_loader, desc=f\"Epoch {epoch+1}/{epochs} [Validation]\", leave=False):\n",
    "            X_val = X_val.to(device)\n",
    "            y_val = y_val.to(device)\n",
    "            outputs = model(X_val)\n",
    "            loss = criterion(outputs, y_val)\n",
    "            running_val_loss += loss.item() * X_val.size(0)\n",
    "    epoch_val_loss = running_val_loss / len(val_loader.dataset)\n",
    "    val_losses.append(epoch_val_loss)\n",
    "    \n",
    "    print(f\"Epoch: {epoch+1}/{epochs} | Train Loss: {epoch_train_loss:.4f} | Val Loss: {epoch_val_loss:.4f}\")\n",
    "    \n",
    "    if epoch_val_loss < best_val_loss:\n",
    "        best_val_loss = epoch_val_loss\n",
    "        epochs_no_improve = 0\n",
    "        torch.save(model.state_dict(), './.export/checkpoint-aug-lstm.pt')\n",
    "    else:\n",
    "        epochs_no_improve += 1\n",
    "        print(f\"Early Stopping: {epochs_no_improve}/{patience}\")\n",
    "        \n",
    "    if epochs_no_improve >= patience:\n",
    "        print(\"Early Stopping!\")\n",
    "        break"
   ]
  },
  {
   "cell_type": "code",
   "execution_count": 20,
   "metadata": {},
   "outputs": [
    {
     "data": {
      "image/png": "[encoded data removed]",
      "text/plain": [
       "<Figure size 1500x1000 with 1 Axes>"
      ]
     },
     "metadata": {},
     "output_type": "display_data"
    }
   ],
   "source": [
    "plt.figure(figsize=(15, 10))\n",
    "plt.plot(train_losses, label=\"Train Loss\")\n",
    "plt.plot(val_losses, label=\"Validation Loss\")\n",
    "plt.xlabel(\"Epoch\")\n",
    "plt.ylabel(\"Loss\")\n",
    "plt.title(\"Train Loss vs Validation Loss\")\n",
    "plt.legend()\n",
    "plt.show()"
   ]
  },
  {
   "cell_type": "markdown",
   "metadata": {},
   "source": [
    "### Evaluation"
   ]
  },
  {
   "cell_type": "code",
   "execution_count": 21,
   "metadata": {},
   "outputs": [
    {
     "name": "stderr",
     "output_type": "stream",
     "text": [
      "C:\\Users\\ASUS\\AppData\\Local\\Temp\\ipykernel_33960\\3260620653.py:1: FutureWarning: You are using `torch.load` with `weights_only=False` (the current default value), which uses the default pickle module implicitly. It is possible to construct malicious pickle data which will execute arbitrary code during unpickling (See https://github.com/pytorch/pytorch/blob/main/SECURITY.md#untrusted-models for more details). In a future release, the default value for `weights_only` will be flipped to `True`. This limits the functions that could be executed during unpickling. Arbitrary objects will no longer be allowed to be loaded via this mode unless they are explicitly allowlisted by the user via `torch.serialization.add_safe_globals`. We recommend you start setting `weights_only=True` for any use case where you don't have full control of the loaded file. Please open an issue on GitHub for any issues related to this experimental feature.\n",
      "  model.load_state_dict(torch.load('./.export/checkpoint-aug-lstm.pt'))\n"
     ]
    },
    {
     "data": {
      "text/plain": [
       "<All keys matched successfully>"
      ]
     },
     "execution_count": 21,
     "metadata": {},
     "output_type": "execute_result"
    }
   ],
   "source": [
    "model.load_state_dict(torch.load('./.export/checkpoint-aug-lstm.pt'))"
   ]
  },
  {
   "cell_type": "code",
   "execution_count": 22,
   "metadata": {},
   "outputs": [],
   "source": [
    "def rmse(pred, target):\n",
    "    return np.sqrt(np.mean((pred - target)**2))\n",
    "\n",
    "def mae(pred, target):\n",
    "    return np.mean(np.abs(pred - target))\n",
    "\n",
    "def mard(pred, target):\n",
    "    return np.mean(np.abs(pred - target) / (np.abs(target) + 1e-6))\n",
    "\n",
    "def mbe(pred, target):\n",
    "    return np.mean(pred - target)\n",
    "\n",
    "def mape(pred, target):\n",
    "    return np.mean(np.abs((target - pred) / (target + 1e-6))) * 100\n",
    "\n",
    "def pearson_r(pred, target):\n",
    "    return np.corrcoef(pred, target)[0, 1]\n",
    "\n",
    "def ccc(pred, target):\n",
    "    pred_mean = np.mean(pred)\n",
    "    target_mean = np.mean(target)\n",
    "    pred_var = np.var(pred)\n",
    "    target_var = np.var(target)\n",
    "    covariance = np.mean((pred - pred_mean) * (target - target_mean))\n",
    "    return (2 * covariance) / (pred_var + target_var + (pred_mean - target_mean)**2 + 1e-6)"
   ]
  },
  {
   "cell_type": "code",
   "execution_count": 23,
   "metadata": {},
   "outputs": [
    {
     "name": "stderr",
     "output_type": "stream",
     "text": [
      "Evaluation: 100%|██████████| 139/139 [00:00<00:00, 195.17it/s]\n"
     ]
    }
   ],
   "source": [
    "model.eval()\n",
    "preds = []\n",
    "preds_targets = []\n",
    "\n",
    "with torch.no_grad():\n",
    "    for x_seq, targets in tqdm(test_loader, desc=\"Evaluation\"):\n",
    "        x_seq = x_seq.to(device)\n",
    "        targets = targets.to(device)\n",
    "        outputs = model(x_seq)\n",
    "        preds.append(outputs.cpu().numpy())\n",
    "        preds_targets.append(targets.cpu().numpy())\n",
    "        \n",
    "preds = np.concatenate(preds)\n",
    "preds_targets = np.concatenate(preds_targets)"
   ]
  },
  {
   "cell_type": "code",
   "execution_count": 24,
   "metadata": {},
   "outputs": [],
   "source": [
    "target_scaler = joblib.load('./.data/target_scaler_aug.pkl')\n",
    "all_preds = target_scaler.inverse_transform(preds.reshape(-1, 1)).flatten()\n",
    "all_targets = target_scaler.inverse_transform(preds_targets.reshape(-1, 1)).flatten()"
   ]
  },
  {
   "cell_type": "code",
   "execution_count": 25,
   "metadata": {},
   "outputs": [],
   "source": [
    "# calibration_model = LinearRegression()\n",
    "# calibration_model.fit(all_preds.reshape(-1, 1), all_targets)\n",
    "# calibrated_val_preds = calibration_model.predict(all_preds.reshape(-1, 1))\n",
    "\n",
    "# all_preds = calibrated_val_preds"
   ]
  },
  {
   "cell_type": "code",
   "execution_count": 26,
   "metadata": {},
   "outputs": [],
   "source": [
    "residuals = all_preds - all_targets"
   ]
  },
  {
   "cell_type": "code",
   "execution_count": 27,
   "metadata": {},
   "outputs": [
    {
     "data": {
      "image/png": "[encoded data removed]",
      "text/plain": [
       "<Figure size 1500x1000 with 1 Axes>"
      ]
     },
     "metadata": {},
     "output_type": "display_data"
    }
   ],
   "source": [
    "plt.figure(figsize=(15, 10))\n",
    "plt.scatter(all_targets, all_preds, alpha=0.4)\n",
    "plt.plot([all_targets.min(), all_targets.max()], [all_targets.min(), all_targets.max()], 'r--')\n",
    "plt.xlabel(\"Actual\")\n",
    "plt.ylabel(\"Predicted\")\n",
    "plt.title(\"Actual Glucose vs Predicted Glucose\")\n",
    "plt.grid(True)\n",
    "plt.show()"
   ]
  },
  {
   "cell_type": "code",
   "execution_count": 28,
   "metadata": {},
   "outputs": [
    {
     "data": {
      "image/png": "[encoded data removed]",
      "text/plain": [
       "<Figure size 1500x1000 with 1 Axes>"
      ]
     },
     "metadata": {},
     "output_type": "display_data"
    }
   ],
   "source": [
    "plt.figure(figsize=(15, 10))\n",
    "plt.hist(residuals, bins=50)\n",
    "plt.title(\"Residual\")\n",
    "plt.xlabel(\"Error\")\n",
    "plt.ylabel(\"Frequency\")\n",
    "plt.grid(True)\n",
    "plt.show()"
   ]
  },
  {
   "cell_type": "code",
   "execution_count": 29,
   "metadata": {},
   "outputs": [],
   "source": [
    "from sklearn.metrics import r2_score\n",
    "test_r2 = r2_score(all_targets, all_preds)"
   ]
  },
  {
   "cell_type": "code",
   "execution_count": 30,
   "metadata": {},
   "outputs": [],
   "source": [
    "from sklearn.metrics import explained_variance_score\n",
    "test_expl_var = explained_variance_score(all_targets, all_preds)"
   ]
  },
  {
   "cell_type": "code",
   "execution_count": 31,
   "metadata": {},
   "outputs": [],
   "source": [
    "test_rmse = rmse(all_preds, all_targets)\n",
    "test_mae = mae(all_preds, all_targets)\n",
    "test_mard = mard(all_preds, all_targets)\n",
    "\n",
    "test_mbe = mbe(all_preds, all_targets)\n",
    "test_r2 = r2_score(all_targets, all_preds)\n",
    "test_expl_var = explained_variance_score(all_targets, all_preds)\n",
    "test_mape = mape(all_preds, all_targets)\n",
    "test_ccc = ccc(all_preds, all_targets)"
   ]
  },
  {
   "cell_type": "code",
   "execution_count": 32,
   "metadata": {},
   "outputs": [
    {
     "name": "stdout",
     "output_type": "stream",
     "text": [
      "Test RMSE: 1.0638\n",
      "Test MSE: 1.1316\n",
      "Test MAE: 0.7941\n",
      "Test MARD: 0.1074\n",
      "Test MBE: -0.0225\n",
      "Test R²: 0.8725\n",
      "Test Explained Variance: 0.8726\n",
      "Test MAPE: 10.74%\n",
      "Test CCC: 0.9291\n"
     ]
    }
   ],
   "source": [
    "print(f\"Test RMSE: {test_rmse:.4f}\")\n",
    "print(f\"Test MSE: {test_rmse**2:.4f}\")\n",
    "print(f\"Test MAE: {test_mae:.4f}\")\n",
    "print(f\"Test MARD: {test_mard:.4f}\")\n",
    "print(f\"Test MBE: {test_mbe:.4f}\")\n",
    "print(f\"Test R²: {test_r2:.4f}\")\n",
    "print(f\"Test Explained Variance: {test_expl_var:.4f}\")\n",
    "print(f\"Test MAPE: {test_mape:.2f}%\")\n",
    "print(f\"Test CCC: {test_ccc:.4f}\")"
   ]
  },
  {
   "cell_type": "markdown",
   "metadata": {},
   "source": [
    "### Inference"
   ]
  },
  {
   "cell_type": "code",
   "execution_count": 33,
   "metadata": {},
   "outputs": [],
   "source": [
    "df_test = pd.read_csv(\"./.data/test_aug.csv\")"
   ]
  },
  {
   "cell_type": "code",
   "execution_count": 34,
   "metadata": {},
   "outputs": [
    {
     "name": "stdout",
     "output_type": "stream",
     "text": [
      "            id   bg-1:55   bg-1:50   bg-1:45   bg-1:40   bg-1:35   bg-1:30  \\\n",
      "0     p01_8459  1.498370  1.484493  1.503679  1.531703  1.553799  1.622914   \n",
      "1     p01_8460 -0.486487 -0.648439 -0.811465 -0.926369 -1.035974 -1.140981   \n",
      "2     p01_8461 -1.101087 -1.091123 -1.083243 -1.078102 -1.066323 -1.050196   \n",
      "3     p01_8462 -1.564556 -1.609264 -1.656996 -1.624340 -1.582254 -1.534382   \n",
      "4     p01_8463 -1.443651 -1.533807 -1.626799 -1.664802 -1.693533 -1.715952   \n",
      "...        ...       ...       ...       ...       ...       ...       ...   \n",
      "3639   p24_256 -0.748448 -0.598134 -0.509490 -0.481286 -0.600973 -0.535748   \n",
      "3640   p24_257 -0.839126 -0.598134 -0.388700 -0.329553 -0.297484 -0.354179   \n",
      "3641   p24_258  0.339697  0.337539  0.305844  0.277379  0.218447  0.220792   \n",
      "3642   p24_259 -0.476411 -0.477402 -0.479292 -0.450939 -0.388531 -0.354179   \n",
      "3643   p24_260 -0.929805 -0.960330 -0.871860 -0.875791 -0.843764 -0.747580   \n",
      "\n",
      "       bg-1:25   bg-1:20   bg-1:15  ...  cals-0:45  cals-0:40  cals-0:35  \\\n",
      "0     1.700165  1.775949  1.729645  ...  -0.247523  -0.251865  -0.248967   \n",
      "1    -1.202542 -1.262447 -1.322404  ...   0.759588  -0.116549   0.405977   \n",
      "2    -1.111517 -1.171295 -1.231147  ...   1.728017   1.526771   0.444182   \n",
      "3    -1.394708 -1.252319 -1.109470  ...  -0.261338  -0.265815  -0.262611   \n",
      "4    -1.738582 -1.758718 -1.778690  ...   0.495722  -0.265815  -0.262611   \n",
      "...        ...       ...       ...  ...        ...        ...        ...   \n",
      "3639 -0.565363 -0.533232 -0.622765  ...  -0.340084  -0.356491  -0.351302   \n",
      "3640 -0.413653 -0.472464 -0.470669  ...  -0.351136  -0.356491  -0.351302   \n",
      "3641  0.223527  0.195983  0.168132  ...  -0.351136  -0.356491  -0.351302   \n",
      "3642 -0.322627 -0.259776 -0.288155  ...  -0.351136  -0.356491  -0.351302   \n",
      "3643 -0.686730 -0.594000 -0.531508  ...  -0.351136  -0.356491  -0.351302   \n",
      "\n",
      "      cals-0:30  cals-0:25  cals-0:20  cals-0:15  cals-0:10  cals-0:05  \\\n",
      "0     -0.264326  -0.254861  -0.257506  -0.261643  -0.261728  -0.241118   \n",
      "1      1.013454   1.367675   1.431673   2.345712   3.318882   2.496592   \n",
      "2      2.599471   0.806465   0.030891  -0.015424   0.179755   1.827127   \n",
      "3     -0.236304  -0.240653  -0.243299  -0.261643  -0.261728  -0.241118   \n",
      "4     -0.264326  -0.240653  -0.257506  -0.261643  -0.261728  -0.255036   \n",
      "...         ...        ...        ...        ...        ...        ...   \n",
      "3639  -0.355396  -0.347212  -0.338484  -0.189058  -0.352253  -0.345504   \n",
      "3640  -0.320369  -0.300326  -0.327119   0.106973  -0.086249  -0.323235   \n",
      "3641  -0.355396  -0.347212  -0.349849  -0.354153  -0.352253  -0.345504   \n",
      "3642  -0.355396  -0.347212  -0.349849  -0.354153  -0.352253  -0.345504   \n",
      "3643  -0.355396  -0.347212  -0.327119  -0.354153  -0.341112  -0.345504   \n",
      "\n",
      "      cals-0:00  \n",
      "0     -0.073821  \n",
      "1      3.537840  \n",
      "2      0.487719  \n",
      "3     -0.246392  \n",
      "4     -0.246392  \n",
      "...         ...  \n",
      "3639  -0.324460  \n",
      "3640  -0.176542  \n",
      "3641  -0.335417  \n",
      "3642  -0.335417  \n",
      "3643  -0.335417  \n",
      "\n",
      "[3644 rows x 145 columns]\n"
     ]
    }
   ],
   "source": [
    "print(df_test)"
   ]
  },
  {
   "cell_type": "code",
   "execution_count": 35,
   "metadata": {},
   "outputs": [
    {
     "name": "stdout",
     "output_type": "stream",
     "text": [
      "id\n",
      "bg-1:55\n",
      "bg-1:50\n",
      "bg-1:45\n",
      "bg-1:40\n",
      "bg-1:35\n",
      "bg-1:30\n",
      "bg-1:25\n",
      "bg-1:20\n",
      "bg-1:15\n",
      "bg-1:10\n",
      "bg-1:05\n",
      "bg-1:00\n",
      "bg-0:55\n",
      "bg-0:50\n",
      "bg-0:45\n",
      "bg-0:40\n",
      "bg-0:35\n",
      "bg-0:30\n",
      "bg-0:25\n",
      "bg-0:20\n",
      "bg-0:15\n",
      "bg-0:10\n",
      "bg-0:05\n",
      "bg-0:00\n",
      "insulin-1:55\n",
      "insulin-1:50\n",
      "insulin-1:45\n",
      "insulin-1:40\n",
      "insulin-1:35\n",
      "insulin-1:30\n",
      "insulin-1:25\n",
      "insulin-1:20\n",
      "insulin-1:15\n",
      "insulin-1:10\n",
      "insulin-1:05\n",
      "insulin-1:00\n",
      "insulin-0:55\n",
      "insulin-0:50\n",
      "insulin-0:45\n",
      "insulin-0:40\n",
      "insulin-0:35\n",
      "insulin-0:30\n",
      "insulin-0:25\n",
      "insulin-0:20\n",
      "insulin-0:15\n",
      "insulin-0:10\n",
      "insulin-0:05\n",
      "insulin-0:00\n",
      "carbs-1:55\n",
      "carbs-1:50\n",
      "carbs-1:45\n",
      "carbs-1:40\n",
      "carbs-1:35\n",
      "carbs-1:30\n",
      "carbs-1:25\n",
      "carbs-1:20\n",
      "carbs-1:15\n",
      "carbs-1:10\n",
      "carbs-1:05\n",
      "carbs-1:00\n",
      "carbs-0:55\n",
      "carbs-0:50\n",
      "carbs-0:45\n",
      "carbs-0:40\n",
      "carbs-0:35\n",
      "carbs-0:30\n",
      "carbs-0:25\n",
      "carbs-0:20\n",
      "carbs-0:15\n",
      "carbs-0:10\n",
      "carbs-0:05\n",
      "carbs-0:00\n",
      "hr-1:55\n",
      "hr-1:50\n",
      "hr-1:45\n",
      "hr-1:40\n",
      "hr-1:35\n",
      "hr-1:30\n",
      "hr-1:25\n",
      "hr-1:20\n",
      "hr-1:15\n",
      "hr-1:10\n",
      "hr-1:05\n",
      "hr-1:00\n",
      "hr-0:55\n",
      "hr-0:50\n",
      "hr-0:45\n",
      "hr-0:40\n",
      "hr-0:35\n",
      "hr-0:30\n",
      "hr-0:25\n",
      "hr-0:20\n",
      "hr-0:15\n",
      "hr-0:10\n",
      "hr-0:05\n",
      "hr-0:00\n",
      "steps-1:55\n",
      "steps-1:50\n",
      "steps-1:45\n",
      "steps-1:40\n",
      "steps-1:35\n",
      "steps-1:30\n",
      "steps-1:25\n",
      "steps-1:20\n",
      "steps-1:15\n",
      "steps-1:10\n",
      "steps-1:05\n",
      "steps-1:00\n",
      "steps-0:55\n",
      "steps-0:50\n",
      "steps-0:45\n",
      "steps-0:40\n",
      "steps-0:35\n",
      "steps-0:30\n",
      "steps-0:25\n",
      "steps-0:20\n",
      "steps-0:15\n",
      "steps-0:10\n",
      "steps-0:05\n",
      "steps-0:00\n",
      "cals-1:55\n",
      "cals-1:50\n",
      "cals-1:45\n",
      "cals-1:40\n",
      "cals-1:35\n",
      "cals-1:30\n",
      "cals-1:25\n",
      "cals-1:20\n",
      "cals-1:15\n",
      "cals-1:10\n",
      "cals-1:05\n",
      "cals-1:00\n",
      "cals-0:55\n",
      "cals-0:50\n",
      "cals-0:45\n",
      "cals-0:40\n",
      "cals-0:35\n",
      "cals-0:30\n",
      "cals-0:25\n",
      "cals-0:20\n",
      "cals-0:15\n",
      "cals-0:10\n",
      "cals-0:05\n",
      "cals-0:00\n"
     ]
    }
   ],
   "source": [
    "for col in df_test.columns:\n",
    "    print(col)"
   ]
  },
  {
   "cell_type": "code",
   "execution_count": 36,
   "metadata": {},
   "outputs": [],
   "source": [
    "meta_data = ['id']\n",
    "df_test_meta = df_test[meta_data]\n",
    "df_test.drop(columns=meta_data, inplace=True)"
   ]
  },
  {
   "cell_type": "code",
   "execution_count": 37,
   "metadata": {},
   "outputs": [],
   "source": [
    "infer_test_dataset = BrisT1DDataset(df_test, is_train=False)\n",
    "infer_test_loader = DataLoader(infer_test_dataset, batch_size=256, shuffle=False)"
   ]
  },
  {
   "cell_type": "code",
   "execution_count": 38,
   "metadata": {},
   "outputs": [
    {
     "name": "stderr",
     "output_type": "stream",
     "text": [
      "C:\\Users\\ASUS\\AppData\\Local\\Temp\\ipykernel_33960\\3260620653.py:1: FutureWarning: You are using `torch.load` with `weights_only=False` (the current default value), which uses the default pickle module implicitly. It is possible to construct malicious pickle data which will execute arbitrary code during unpickling (See https://github.com/pytorch/pytorch/blob/main/SECURITY.md#untrusted-models for more details). In a future release, the default value for `weights_only` will be flipped to `True`. This limits the functions that could be executed during unpickling. Arbitrary objects will no longer be allowed to be loaded via this mode unless they are explicitly allowlisted by the user via `torch.serialization.add_safe_globals`. We recommend you start setting `weights_only=True` for any use case where you don't have full control of the loaded file. Please open an issue on GitHub for any issues related to this experimental feature.\n",
      "  model.load_state_dict(torch.load('./.export/checkpoint-aug-lstm.pt'))\n"
     ]
    },
    {
     "data": {
      "text/plain": [
       "<All keys matched successfully>"
      ]
     },
     "execution_count": 38,
     "metadata": {},
     "output_type": "execute_result"
    }
   ],
   "source": [
    "model.load_state_dict(torch.load('./.export/checkpoint-aug-lstm.pt'))"
   ]
  },
  {
   "cell_type": "code",
   "execution_count": 39,
   "metadata": {},
   "outputs": [
    {
     "name": "stderr",
     "output_type": "stream",
     "text": [
      "Inference: 100%|██████████| 15/15 [00:00<00:00, 246.55it/s]\n"
     ]
    }
   ],
   "source": [
    "model.eval()\n",
    "\n",
    "all_preds = []\n",
    "with torch.no_grad():\n",
    "    for x_seq in tqdm(infer_test_loader, desc=\"Inference\"):\n",
    "        x_seq = x_seq.to(device)\n",
    "        outputs = model(x_seq)\n",
    "        all_preds.append(outputs.cpu().numpy())\n",
    "\n",
    "all_preds = np.concatenate(all_preds)"
   ]
  },
  {
   "cell_type": "code",
   "execution_count": 40,
   "metadata": {},
   "outputs": [],
   "source": [
    "target_scaler = joblib.load('./.data/target_scaler_aug.pkl')\n",
    "all_preds_original = target_scaler.inverse_transform(all_preds.reshape(-1, 1)).flatten()"
   ]
  },
  {
   "cell_type": "code",
   "execution_count": 41,
   "metadata": {},
   "outputs": [],
   "source": [
    "# calibrated_test_preds = calibration_model.predict(all_preds_original.reshape(-1, 1))\n",
    "# all_preds_original = calibrated_test_preds"
   ]
  },
  {
   "cell_type": "code",
   "execution_count": 42,
   "metadata": {},
   "outputs": [],
   "source": [
    "df_predictions = pd.DataFrame(all_preds_original, columns=[\"bg+1:00\"])\n",
    "df_results = pd.concat([df_test_meta.reset_index(drop=True), df_predictions], axis=1)\n",
    "df_results.to_csv(\"./.export/test_submission_aug_lstm.csv\", index=False)"
   ]
  },
  {
   "cell_type": "markdown",
   "metadata": {},
   "source": [
    "### Submission"
   ]
  },
  {
   "cell_type": "code",
   "execution_count": 43,
   "metadata": {},
   "outputs": [
    {
     "name": "stderr",
     "output_type": "stream",
     "text": [
      "\n",
      "  0%|          | 0.00/68.0k [00:00<?, ?B/s]\n",
      "100%|██████████| 68.0k/68.0k [00:00<00:00, 79.3kB/s]\n"
     ]
    },
    {
     "name": "stdout",
     "output_type": "stream",
     "text": [
      "Warning: Looks like you're using an outdated API Version, please consider updating (server 1.7.4.2 / client 1.6.17)\n",
      "Successfully submitted to BrisT1D Blood Glucose Prediction Competition\n"
     ]
    }
   ],
   "source": [
    "!kaggle competitions submit -c brist1d -f ./.export/test_submission_aug_lstm.csv -m \"BrisT1D Submission: LSTM\""
   ]
  },
  {
   "cell_type": "code",
   "execution_count": 44,
   "metadata": {},
   "outputs": [
    {
     "data": {
      "image/png": "[encoded data removed]",
      "text/plain": [
       "<IPython.core.display.Image object>"
      ]
     },
     "metadata": {},
     "output_type": "display_data"
    }
   ],
   "source": [
    "display(Image(filename='./.export/test_submission_aug_lstm.png'))"
   ]
  }
 ],
 "metadata": {
  "kernelspec": {
   "display_name": "ai",
   "language": "python",
   "name": "python3"
  },
  "language_info": {
   "codemirror_mode": {
    "name": "ipython",
    "version": 3
   },
   "file_extension": ".py",
   "mimetype": "text/x-python",
   "name": "python",
   "nbconvert_exporter": "python",
   "pygments_lexer": "ipython3",
   "version": "3.10.15"
  }
 },
 "nbformat": 4,
 "nbformat_minor": 2
}
