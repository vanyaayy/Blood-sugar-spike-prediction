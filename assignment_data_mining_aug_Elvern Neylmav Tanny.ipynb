{
 "cells": [
  {
   "cell_type": "code",
   "execution_count": 180,
   "metadata": {},
   "outputs": [],
   "source": [
    "import torch\n",
    "import torch.nn as nn\n",
    "import torch.nn.functional as F\n",
    "import torch.optim as optim\n",
    "from torch.nn.utils.parametrizations import weight_norm\n",
    "from torch.utils.data import Dataset, DataLoader, Subset\n",
    "from torch.profiler import profile, record_function, ProfilerActivity\n",
    "\n",
    "from torchinfo import summary\n",
    "from torchviz import make_dot\n",
    "\n",
    "import numpy as np\n",
    "import pandas as pd\n",
    "import polars as pl\n",
    "import matplotlib.pyplot as plt\n",
    "import seaborn as sns\n",
    "from sklearn.model_selection import train_test_split\n",
    "\n",
    "from tqdm import tqdm\n",
    "import logging"
   ]
  },
  {
   "cell_type": "code",
   "execution_count": 181,
   "metadata": {},
   "outputs": [
    {
     "name": "stdout",
     "output_type": "stream",
     "text": [
      "cuda:0\n"
     ]
    }
   ],
   "source": [
    "device = torch.device('cuda:0' if torch.cuda.is_available() else 'cpu')\n",
    "print(device)"
   ]
  },
  {
   "cell_type": "markdown",
   "metadata": {},
   "source": [
    "### Data Importing"
   ]
  },
  {
   "cell_type": "code",
   "execution_count": 182,
   "metadata": {},
   "outputs": [],
   "source": [
    "df_train = pd.read_csv(\"./.data/train_pp_aug.csv\")"
   ]
  },
  {
   "cell_type": "markdown",
   "metadata": {},
   "source": [
    "### Data Checking"
   ]
  },
  {
   "cell_type": "code",
   "execution_count": 183,
   "metadata": {},
   "outputs": [
    {
     "name": "stdout",
     "output_type": "stream",
     "text": [
      "               id p_num                 time   bg-5:55   bg-5:50   bg-5:45  \\\n",
      "0         p01_335   p01  1900-01-01 00:00:00 -1.457445 -1.457493 -1.347342   \n",
      "1         p01_994   p01  1900-01-01 00:00:00  0.238902  0.239084  0.297699   \n",
      "2        p01_1554   p01  1900-01-01 00:00:00  0.671304  0.671545  0.661106   \n",
      "3        p01_1649   p01  1900-01-01 00:00:00 -0.027192 -0.027046 -0.093449   \n",
      "4        p01_2101   p01  1900-01-01 00:00:00 -0.093715 -0.093578  0.072997   \n",
      "...           ...   ...                  ...       ...       ...       ...   \n",
      "354043  p12_24204   p12  1900-01-01 23:55:00 -0.295896 -0.279907 -0.308338   \n",
      "354044  p12_24434   p12  1900-01-01 23:55:00  0.283060  0.272823  0.273607   \n",
      "354045  p12_24722   p12  1900-01-01 23:55:00  1.242435  1.036898  0.939870   \n",
      "354046  p12_25010   p12  1900-01-01 23:55:00  0.145258  0.093776  0.178915   \n",
      "354047  p12_25298   p12  1900-01-01 23:55:00  0.514745  0.643771  0.703263   \n",
      "\n",
      "         bg-5:40   bg-5:35   bg-5:30   bg-5:25  ...  cals-0:40  cals-0:35  \\\n",
      "0      -1.237333 -1.125656 -1.058844 -0.993001  ...   0.085907   0.072218   \n",
      "1       0.356467  0.414742  0.473124  0.629341  ...  -0.271470   0.025229   \n",
      "2       0.650793  0.639557  0.595238  0.551558  ...   1.310140  -0.271543   \n",
      "3      -0.159991 -0.226397 -0.148544 -0.070711  ...  -0.271470  -0.116974   \n",
      "4       0.239848  0.406416  0.606339  0.807132  ...   0.893407   1.476940   \n",
      "...          ...       ...       ...       ...  ...        ...        ...   \n",
      "354043 -0.240950 -0.213228 -0.161761 -0.069033  ...   1.840679   2.535913   \n",
      "354044  0.267678  0.262921  0.276220  0.284866  ...   2.383012   3.552806   \n",
      "354045  0.985947  0.903860  0.844962  0.707478  ...   2.287877   2.645045   \n",
      "354046  0.213641  0.319834  0.415337  0.476313  ...   1.005471   2.421170   \n",
      "354047  0.674770  0.605700  0.580483  0.515172  ...  -0.095242  -0.087342   \n",
      "\n",
      "        cals-0:30  cals-0:25  cals-0:20  cals-0:15  cals-0:10  cals-0:05  \\\n",
      "0        0.441866   0.085417   0.762378  -0.129710  -0.284478  -0.142715   \n",
      "1       -0.271303   0.037223   0.488049  -0.033374   0.582652   1.178705   \n",
      "2        0.061179   1.119739   0.024655  -0.142061  -0.023845   0.773634   \n",
      "3       -0.130400   0.536465   0.250791  -0.284095  -0.154779  -0.155065   \n",
      "4        1.595049   0.288080   1.047829   1.559876   1.249676   1.807306   \n",
      "...           ...        ...        ...        ...        ...        ...   \n",
      "354043   3.007450   3.492853   3.578634   3.342127   3.288035   3.197198   \n",
      "354044   2.904634   2.874740   3.132605   3.392026   3.447367   3.781453   \n",
      "354045   2.213831   0.601563   2.583222   3.280286   3.568489   2.949352   \n",
      "354046   2.595552   3.777478   3.048284   1.580602   1.996669   2.417969   \n",
      "354047  -0.088549  -0.084044  -0.093022  -0.078342  -0.092547  -0.089266   \n",
      "\n",
      "        cals-0:00  bg+1:00  \n",
      "0       -0.153499      5.3  \n",
      "1        0.155266      5.1  \n",
      "2        1.381682      4.2  \n",
      "3       -0.117682      6.3  \n",
      "4        2.878577      5.1  \n",
      "...           ...      ...  \n",
      "354043   3.009079     10.9  \n",
      "354044   4.438322      9.7  \n",
      "354045   2.857526      9.7  \n",
      "354046   2.614728      7.3  \n",
      "354047  -0.109853     10.2  \n",
      "\n",
      "[354048 rows x 436 columns]\n"
     ]
    }
   ],
   "source": [
    "print(df_train)"
   ]
  },
  {
   "cell_type": "code",
   "execution_count": 184,
   "metadata": {},
   "outputs": [
    {
     "name": "stdout",
     "output_type": "stream",
     "text": [
      "id\n",
      "p_num\n",
      "time\n",
      "bg-5:55\n",
      "bg-5:50\n",
      "bg-5:45\n",
      "bg-5:40\n",
      "bg-5:35\n",
      "bg-5:30\n",
      "bg-5:25\n",
      "bg-5:20\n",
      "bg-5:15\n",
      "bg-5:10\n",
      "bg-5:05\n",
      "bg-5:00\n",
      "bg-4:55\n",
      "bg-4:50\n",
      "bg-4:45\n",
      "bg-4:40\n",
      "bg-4:35\n",
      "bg-4:30\n",
      "bg-4:25\n",
      "bg-4:20\n",
      "bg-4:15\n",
      "bg-4:10\n",
      "bg-4:05\n",
      "bg-4:00\n",
      "bg-3:55\n",
      "bg-3:50\n",
      "bg-3:45\n",
      "bg-3:40\n",
      "bg-3:35\n",
      "bg-3:30\n",
      "bg-3:25\n",
      "bg-3:20\n",
      "bg-3:15\n",
      "bg-3:10\n",
      "bg-3:05\n",
      "bg-3:00\n",
      "bg-2:55\n",
      "bg-2:50\n",
      "bg-2:45\n",
      "bg-2:40\n",
      "bg-2:35\n",
      "bg-2:30\n",
      "bg-2:25\n",
      "bg-2:20\n",
      "bg-2:15\n",
      "bg-2:10\n",
      "bg-2:05\n",
      "bg-2:00\n",
      "bg-1:55\n",
      "bg-1:50\n",
      "bg-1:45\n",
      "bg-1:40\n",
      "bg-1:35\n",
      "bg-1:30\n",
      "bg-1:25\n",
      "bg-1:20\n",
      "bg-1:15\n",
      "bg-1:10\n",
      "bg-1:05\n",
      "bg-1:00\n",
      "bg-0:55\n",
      "bg-0:50\n",
      "bg-0:45\n",
      "bg-0:40\n",
      "bg-0:35\n",
      "bg-0:30\n",
      "bg-0:25\n",
      "bg-0:20\n",
      "bg-0:15\n",
      "bg-0:10\n",
      "bg-0:05\n",
      "bg-0:00\n",
      "insulin-5:55\n",
      "insulin-5:50\n",
      "insulin-5:45\n",
      "insulin-5:40\n",
      "insulin-5:35\n",
      "insulin-5:30\n",
      "insulin-5:25\n",
      "insulin-5:20\n",
      "insulin-5:15\n",
      "insulin-5:10\n",
      "insulin-5:05\n",
      "insulin-5:00\n",
      "insulin-4:55\n",
      "insulin-4:50\n",
      "insulin-4:45\n",
      "insulin-4:40\n",
      "insulin-4:35\n",
      "insulin-4:30\n",
      "insulin-4:25\n",
      "insulin-4:20\n",
      "insulin-4:15\n",
      "insulin-4:10\n",
      "insulin-4:05\n",
      "insulin-4:00\n",
      "insulin-3:55\n",
      "insulin-3:50\n",
      "insulin-3:45\n",
      "insulin-3:40\n",
      "insulin-3:35\n",
      "insulin-3:30\n",
      "insulin-3:25\n",
      "insulin-3:20\n",
      "insulin-3:15\n",
      "insulin-3:10\n",
      "insulin-3:05\n",
      "insulin-3:00\n",
      "insulin-2:55\n",
      "insulin-2:50\n",
      "insulin-2:45\n",
      "insulin-2:40\n",
      "insulin-2:35\n",
      "insulin-2:30\n",
      "insulin-2:25\n",
      "insulin-2:20\n",
      "insulin-2:15\n",
      "insulin-2:10\n",
      "insulin-2:05\n",
      "insulin-2:00\n",
      "insulin-1:55\n",
      "insulin-1:50\n",
      "insulin-1:45\n",
      "insulin-1:40\n",
      "insulin-1:35\n",
      "insulin-1:30\n",
      "insulin-1:25\n",
      "insulin-1:20\n",
      "insulin-1:15\n",
      "insulin-1:10\n",
      "insulin-1:05\n",
      "insulin-1:00\n",
      "insulin-0:55\n",
      "insulin-0:50\n",
      "insulin-0:45\n",
      "insulin-0:40\n",
      "insulin-0:35\n",
      "insulin-0:30\n",
      "insulin-0:25\n",
      "insulin-0:20\n",
      "insulin-0:15\n",
      "insulin-0:10\n",
      "insulin-0:05\n",
      "insulin-0:00\n",
      "carbs-5:55\n",
      "carbs-5:50\n",
      "carbs-5:45\n",
      "carbs-5:40\n",
      "carbs-5:35\n",
      "carbs-5:30\n",
      "carbs-5:25\n",
      "carbs-5:20\n",
      "carbs-5:15\n",
      "carbs-5:10\n",
      "carbs-5:05\n",
      "carbs-5:00\n",
      "carbs-4:55\n",
      "carbs-4:50\n",
      "carbs-4:45\n",
      "carbs-4:40\n",
      "carbs-4:35\n",
      "carbs-4:30\n",
      "carbs-4:25\n",
      "carbs-4:20\n",
      "carbs-4:15\n",
      "carbs-4:10\n",
      "carbs-4:05\n",
      "carbs-4:00\n",
      "carbs-3:55\n",
      "carbs-3:50\n",
      "carbs-3:45\n",
      "carbs-3:40\n",
      "carbs-3:35\n",
      "carbs-3:30\n",
      "carbs-3:25\n",
      "carbs-3:20\n",
      "carbs-3:15\n",
      "carbs-3:10\n",
      "carbs-3:05\n",
      "carbs-3:00\n",
      "carbs-2:55\n",
      "carbs-2:50\n",
      "carbs-2:45\n",
      "carbs-2:40\n",
      "carbs-2:35\n",
      "carbs-2:30\n",
      "carbs-2:25\n",
      "carbs-2:20\n",
      "carbs-2:15\n",
      "carbs-2:10\n",
      "carbs-2:05\n",
      "carbs-2:00\n",
      "carbs-1:55\n",
      "carbs-1:50\n",
      "carbs-1:45\n",
      "carbs-1:40\n",
      "carbs-1:35\n",
      "carbs-1:30\n",
      "carbs-1:25\n",
      "carbs-1:20\n",
      "carbs-1:15\n",
      "carbs-1:10\n",
      "carbs-1:05\n",
      "carbs-1:00\n",
      "carbs-0:55\n",
      "carbs-0:50\n",
      "carbs-0:45\n",
      "carbs-0:40\n",
      "carbs-0:35\n",
      "carbs-0:30\n",
      "carbs-0:25\n",
      "carbs-0:20\n",
      "carbs-0:15\n",
      "carbs-0:10\n",
      "carbs-0:05\n",
      "carbs-0:00\n",
      "hr-5:55\n",
      "hr-5:50\n",
      "hr-5:45\n",
      "hr-5:40\n",
      "hr-5:35\n",
      "hr-5:30\n",
      "hr-5:25\n",
      "hr-5:20\n",
      "hr-5:15\n",
      "hr-5:10\n",
      "hr-5:05\n",
      "hr-5:00\n",
      "hr-4:55\n",
      "hr-4:50\n",
      "hr-4:45\n",
      "hr-4:40\n",
      "hr-4:35\n",
      "hr-4:30\n",
      "hr-4:25\n",
      "hr-4:20\n",
      "hr-4:15\n",
      "hr-4:10\n",
      "hr-4:05\n",
      "hr-4:00\n",
      "hr-3:55\n",
      "hr-3:50\n",
      "hr-3:45\n",
      "hr-3:40\n",
      "hr-3:35\n",
      "hr-3:30\n",
      "hr-3:25\n",
      "hr-3:20\n",
      "hr-3:15\n",
      "hr-3:10\n",
      "hr-3:05\n",
      "hr-3:00\n",
      "hr-2:55\n",
      "hr-2:50\n",
      "hr-2:45\n",
      "hr-2:40\n",
      "hr-2:35\n",
      "hr-2:30\n",
      "hr-2:25\n",
      "hr-2:20\n",
      "hr-2:15\n",
      "hr-2:10\n",
      "hr-2:05\n",
      "hr-2:00\n",
      "hr-1:55\n",
      "hr-1:50\n",
      "hr-1:45\n",
      "hr-1:40\n",
      "hr-1:35\n",
      "hr-1:30\n",
      "hr-1:25\n",
      "hr-1:20\n",
      "hr-1:15\n",
      "hr-1:10\n",
      "hr-1:05\n",
      "hr-1:00\n",
      "hr-0:55\n",
      "hr-0:50\n",
      "hr-0:45\n",
      "hr-0:40\n",
      "hr-0:35\n",
      "hr-0:30\n",
      "hr-0:25\n",
      "hr-0:20\n",
      "hr-0:15\n",
      "hr-0:10\n",
      "hr-0:05\n",
      "hr-0:00\n",
      "steps-5:55\n",
      "steps-5:50\n",
      "steps-5:45\n",
      "steps-5:40\n",
      "steps-5:35\n",
      "steps-5:30\n",
      "steps-5:25\n",
      "steps-5:20\n",
      "steps-5:15\n",
      "steps-5:10\n",
      "steps-5:05\n",
      "steps-5:00\n",
      "steps-4:55\n",
      "steps-4:50\n",
      "steps-4:45\n",
      "steps-4:40\n",
      "steps-4:35\n",
      "steps-4:30\n",
      "steps-4:25\n",
      "steps-4:20\n",
      "steps-4:15\n",
      "steps-4:10\n",
      "steps-4:05\n",
      "steps-4:00\n",
      "steps-3:55\n",
      "steps-3:50\n",
      "steps-3:45\n",
      "steps-3:40\n",
      "steps-3:35\n",
      "steps-3:30\n",
      "steps-3:25\n",
      "steps-3:20\n",
      "steps-3:15\n",
      "steps-3:10\n",
      "steps-3:05\n",
      "steps-3:00\n",
      "steps-2:55\n",
      "steps-2:50\n",
      "steps-2:45\n",
      "steps-2:40\n",
      "steps-2:35\n",
      "steps-2:30\n",
      "steps-2:25\n",
      "steps-2:20\n",
      "steps-2:15\n",
      "steps-2:10\n",
      "steps-2:05\n",
      "steps-2:00\n",
      "steps-1:55\n",
      "steps-1:50\n",
      "steps-1:45\n",
      "steps-1:40\n",
      "steps-1:35\n",
      "steps-1:30\n",
      "steps-1:25\n",
      "steps-1:20\n",
      "steps-1:15\n",
      "steps-1:10\n",
      "steps-1:05\n",
      "steps-1:00\n",
      "steps-0:55\n",
      "steps-0:50\n",
      "steps-0:45\n",
      "steps-0:40\n",
      "steps-0:35\n",
      "steps-0:30\n",
      "steps-0:25\n",
      "steps-0:20\n",
      "steps-0:15\n",
      "steps-0:10\n",
      "steps-0:05\n",
      "steps-0:00\n",
      "cals-5:55\n",
      "cals-5:50\n",
      "cals-5:45\n",
      "cals-5:40\n",
      "cals-5:35\n",
      "cals-5:30\n",
      "cals-5:25\n",
      "cals-5:20\n",
      "cals-5:15\n",
      "cals-5:10\n",
      "cals-5:05\n",
      "cals-5:00\n",
      "cals-4:55\n",
      "cals-4:50\n",
      "cals-4:45\n",
      "cals-4:40\n",
      "cals-4:35\n",
      "cals-4:30\n",
      "cals-4:25\n",
      "cals-4:20\n",
      "cals-4:15\n",
      "cals-4:10\n",
      "cals-4:05\n",
      "cals-4:00\n",
      "cals-3:55\n",
      "cals-3:50\n",
      "cals-3:45\n",
      "cals-3:40\n",
      "cals-3:35\n",
      "cals-3:30\n",
      "cals-3:25\n",
      "cals-3:20\n",
      "cals-3:15\n",
      "cals-3:10\n",
      "cals-3:05\n",
      "cals-3:00\n",
      "cals-2:55\n",
      "cals-2:50\n",
      "cals-2:45\n",
      "cals-2:40\n",
      "cals-2:35\n",
      "cals-2:30\n",
      "cals-2:25\n",
      "cals-2:20\n",
      "cals-2:15\n",
      "cals-2:10\n",
      "cals-2:05\n",
      "cals-2:00\n",
      "cals-1:55\n",
      "cals-1:50\n",
      "cals-1:45\n",
      "cals-1:40\n",
      "cals-1:35\n",
      "cals-1:30\n",
      "cals-1:25\n",
      "cals-1:20\n",
      "cals-1:15\n",
      "cals-1:10\n",
      "cals-1:05\n",
      "cals-1:00\n",
      "cals-0:55\n",
      "cals-0:50\n",
      "cals-0:45\n",
      "cals-0:40\n",
      "cals-0:35\n",
      "cals-0:30\n",
      "cals-0:25\n",
      "cals-0:20\n",
      "cals-0:15\n",
      "cals-0:10\n",
      "cals-0:05\n",
      "cals-0:00\n",
      "bg+1:00\n"
     ]
    }
   ],
   "source": [
    "for col in df_train.columns:\n",
    "    print(col)"
   ]
  },
  {
   "cell_type": "code",
   "execution_count": 185,
   "metadata": {},
   "outputs": [
    {
     "name": "stdout",
     "output_type": "stream",
     "text": [
      "(354048, 3)\n",
      "(354048, 433)\n"
     ]
    }
   ],
   "source": [
    "meta_data = ['id', 'p_num', 'time']\n",
    "\n",
    "df_train_meta = df_train[meta_data]\n",
    "df_train.drop(columns=meta_data, inplace=True)\n",
    "\n",
    "print(df_train_meta.shape)\n",
    "print(df_train.shape)"
   ]
  },
  {
   "cell_type": "code",
   "execution_count": 186,
   "metadata": {},
   "outputs": [],
   "source": [
    "# sensor_types = [\"bg\", \"insulin\", \"carbs\", \"hr\", \"steps\", \"cals\"]\n",
    "# sensor_cols = [col for col in df_train.columns if any(col.startswith(s + \"-\") for s in sensor_types)]\n",
    "# print(sensor_cols)\n",
    "\n",
    "# df_train_features = df_train[sensor_cols]\n",
    "# df_train_target = df_train.drop(columns=sensor_cols)\n",
    "\n",
    "# print(df_train_features.shape)\n",
    "# print(df_train_target.shape)"
   ]
  },
  {
   "cell_type": "markdown",
   "metadata": {},
   "source": [
    "### Dataset and DataLoader"
   ]
  },
  {
   "cell_type": "code",
   "execution_count": null,
   "metadata": {},
   "outputs": [],
   "source": [
    "# class GDataset(Dataset):\n",
    "#     def __init__(self, df):\n",
    "#         \"\"\"\n",
    "#         Expects a DataFrame that has been processed by the previous script.\n",
    "#         Excludes the columns: \"id\", \"p_num\", \"time\", and \"bg+1:00\" (target).\n",
    "#         Assumes that the remaining numeric columns are grouped by sensor type.\n",
    "#         There are 6 sensor types: [\"bg\", \"insulin\", \"carbs\", \"hr\", \"steps\", \"cals\"].\n",
    "#         Each sensor type contributes 72 time steps (i.e. 6 hours of 5-min intervals).\n",
    "#         The returned sample is reshaped to (seq_len, num_channels) = (72, 6).\n",
    "#         \"\"\"\n",
    "        \n",
    "#         self.targets = df[\"bg+1:00\"].values.astype(np.float32)\n",
    "        \n",
    "#         sensor_types = [\"bg\", \"insulin\", \"carbs\", \"hr\", \"steps\", \"cals\"]\n",
    "#         channels_data = []\n",
    "\n",
    "#         for sensor in sensor_types:\n",
    "#             sensor_cols = [col for col in df.columns if col.startswith(sensor + \"-\")]\n",
    "\n",
    "#             sensor_cols = sorted(sensor_cols, key=lambda x: int(x.split(\"-\")[1].split(\":\")[0]) * 60 + int(x.split(\"-\")[1].split(\":\")[1]))\n",
    "#             channels_data.append(df[sensor_cols].values.astype(np.float32))\n",
    "        \n",
    "#         self.seq_len = channels_data[0].shape[1]\n",
    "#         for arr in channels_data:\n",
    "#             assert arr.shape[1] == self.seq_len, \"Mismatch!\"\n",
    "        \n",
    "#         self.data = np.stack(channels_data, axis=2)\n",
    "        \n",
    "#     def __len__(self):\n",
    "#         return len(self.targets)\n",
    "    \n",
    "#     def __getitem__(self, idx):\n",
    "#         x = self.data[idx]\n",
    "#         y = self.targets[idx]\n",
    "#         return torch.from_numpy(x), torch.tensor(y)\n",
    "\n",
    "\n",
    "class GDataset(Dataset):\n",
    "    def __init__(self, features: pd.DataFrame, targets: pd.DataFrame, seq_len=72, num_channels=6):\n",
    "        \"\"\"\n",
    "        features: DataFrame with shape (n_samples, seq_len * num_channels)\n",
    "        targets: DataFrame or Series with shape (n_samples,)\n",
    "        Assumes that features are ordered such that for each time step, the 6 channels are stacked together,\n",
    "        OR that columns are grouped per sensor type but already time-ordered correctly.\n",
    "        \"\"\"\n",
    "        self.targets = targets.values.astype(np.float32).flatten()\n",
    "        self.data = features.values.astype(np.float32)\n",
    "        \n",
    "        self.data = self.data.reshape(-1, seq_len, num_channels)\n",
    "        print((self.targets).shape)\n",
    "        print((self.data).shape)\n",
    "\n",
    "    def __len__(self):\n",
    "        return len(self.targets)\n",
    "\n",
    "    def __getitem__(self, idx):\n",
    "        x = self.data[idx]\n",
    "        y = self.targets[idx]\n",
    "        return torch.from_numpy(x), torch.tensor(y)"
   ]
  },
  {
   "cell_type": "code",
   "execution_count": null,
   "metadata": {},
   "outputs": [],
   "source": [
    "# dataset = GDataset(df_train)\n",
    "dataset = GDataset(df_train_features, df_train_target)\n",
    "indices = np.arange(len(dataset))"
   ]
  },
  {
   "cell_type": "code",
   "execution_count": 189,
   "metadata": {},
   "outputs": [],
   "source": [
    "train_idx, temp_idx = train_test_split(indices, test_size=0.2, random_state=42)\n",
    "val_idx, test_idx = train_test_split(temp_idx, test_size=0.5, random_state=42)\n",
    "\n",
    "# train_idx, val_idx = train_test_split(indices, test_size=0.1, random_state=42)"
   ]
  },
  {
   "cell_type": "code",
   "execution_count": 190,
   "metadata": {},
   "outputs": [],
   "source": [
    "train_dataset = Subset(dataset, train_idx)\n",
    "val_dataset = Subset(dataset, val_idx)\n",
    "test_dataset = Subset(dataset, test_idx)"
   ]
  },
  {
   "cell_type": "code",
   "execution_count": 191,
   "metadata": {},
   "outputs": [],
   "source": [
    "batch_size = 128\n",
    "train_loader = DataLoader(train_dataset, batch_size=batch_size, shuffle=True)\n",
    "val_loader = DataLoader(val_dataset, batch_size=batch_size, shuffle=False)\n",
    "test_loader = DataLoader(test_dataset, batch_size=batch_size, shuffle=False)"
   ]
  },
  {
   "cell_type": "markdown",
   "metadata": {},
   "source": [
    "### Model"
   ]
  },
  {
   "cell_type": "code",
   "execution_count": 192,
   "metadata": {},
   "outputs": [],
   "source": [
    "class MultiScaleTCNBlock(nn.Module):\n",
    "    def __init__(self, in_channels, out_channels, dilation, dropout=0.2):\n",
    "        super().__init__()\n",
    "        self.branch1 = weight_norm(nn.Conv1d(in_channels, out_channels, kernel_size=3, \n",
    "                                            padding=dilation, dilation=dilation))\n",
    "        self.branch2 = weight_norm(nn.Conv1d(in_channels, out_channels, kernel_size=5, \n",
    "                                             padding=2 * dilation, dilation=dilation))\n",
    "        self.conv1x1 = weight_norm(nn.Conv1d(2 * out_channels, out_channels, kernel_size=1))\n",
    "        self.dropout = nn.Dropout(dropout)\n",
    "        self.relu = nn.ReLU()\n",
    "        \n",
    "        self.downsample = None\n",
    "        if in_channels != out_channels:\n",
    "            self.downsample = weight_norm(nn.Conv1d(in_channels, out_channels, kernel_size=1))\n",
    "            \n",
    "    def forward(self, x):\n",
    "        out1 = self.relu(self.branch1(x))\n",
    "        out1 = self.dropout(out1)\n",
    "        out2 = self.relu(self.branch2(x))\n",
    "        out2 = self.dropout(out2)\n",
    "        \n",
    "        out = torch.cat([out1, out2], dim=1)\n",
    "        out = self.relu(self.conv1x1(out))\n",
    "        \n",
    "        res = x if self.downsample is None else self.downsample(x)\n",
    "        return self.relu(out + res)"
   ]
  },
  {
   "cell_type": "code",
   "execution_count": 193,
   "metadata": {},
   "outputs": [],
   "source": [
    "class MultiScaleTCN(nn.Module):\n",
    "    def __init__(self, input_channels, num_blocks, hidden_channels, dropout=0.2):\n",
    "        \"\"\"\n",
    "        input_channels: number of channels in the input sequence (e.g. 6).\n",
    "        num_blocks: number of stacked TCN blocks.\n",
    "        hidden_channels: number of filters in each TCN block.\n",
    "        \"\"\"\n",
    "        super().__init__()\n",
    "        layers = []\n",
    "        in_channels = input_channels\n",
    "        dilation = 1\n",
    "        for _ in range(num_blocks):\n",
    "            layers.append(MultiScaleTCNBlock(in_channels, hidden_channels, dilation=dilation, dropout=dropout))\n",
    "            in_channels = hidden_channels\n",
    "            dilation *= 2\n",
    "        self.tcn = nn.Sequential(*layers)\n",
    "        \n",
    "        self.global_pool = nn.AdaptiveAvgPool1d(1)\n",
    "        self.fc1 = nn.Linear(hidden_channels, 32)\n",
    "        self.fc2 = nn.Linear(32, 1)\n",
    "        \n",
    "    def forward(self, x):\n",
    "        x = x.permute(0, 2, 1)\n",
    "        out = self.tcn(x)\n",
    "        out = self.global_pool(out).squeeze(-1)\n",
    "        out = F.relu(self.fc1(out))\n",
    "        out = self.fc2(out)\n",
    "        return out.squeeze(-1)"
   ]
  },
  {
   "cell_type": "code",
   "execution_count": 194,
   "metadata": {},
   "outputs": [
    {
     "data": {
      "text/plain": [
       "MultiScaleTCN(\n",
       "  (tcn): Sequential(\n",
       "    (0): MultiScaleTCNBlock(\n",
       "      (branch1): ParametrizedConv1d(\n",
       "        6, 64, kernel_size=(3,), stride=(1,), padding=(1,)\n",
       "        (parametrizations): ModuleDict(\n",
       "          (weight): ParametrizationList(\n",
       "            (0): _WeightNorm()\n",
       "          )\n",
       "        )\n",
       "      )\n",
       "      (branch2): ParametrizedConv1d(\n",
       "        6, 64, kernel_size=(5,), stride=(1,), padding=(2,)\n",
       "        (parametrizations): ModuleDict(\n",
       "          (weight): ParametrizationList(\n",
       "            (0): _WeightNorm()\n",
       "          )\n",
       "        )\n",
       "      )\n",
       "      (conv1x1): ParametrizedConv1d(\n",
       "        128, 64, kernel_size=(1,), stride=(1,)\n",
       "        (parametrizations): ModuleDict(\n",
       "          (weight): ParametrizationList(\n",
       "            (0): _WeightNorm()\n",
       "          )\n",
       "        )\n",
       "      )\n",
       "      (dropout): Dropout(p=0.2, inplace=False)\n",
       "      (relu): ReLU()\n",
       "      (downsample): ParametrizedConv1d(\n",
       "        6, 64, kernel_size=(1,), stride=(1,)\n",
       "        (parametrizations): ModuleDict(\n",
       "          (weight): ParametrizationList(\n",
       "            (0): _WeightNorm()\n",
       "          )\n",
       "        )\n",
       "      )\n",
       "    )\n",
       "    (1): MultiScaleTCNBlock(\n",
       "      (branch1): ParametrizedConv1d(\n",
       "        64, 64, kernel_size=(3,), stride=(1,), padding=(2,), dilation=(2,)\n",
       "        (parametrizations): ModuleDict(\n",
       "          (weight): ParametrizationList(\n",
       "            (0): _WeightNorm()\n",
       "          )\n",
       "        )\n",
       "      )\n",
       "      (branch2): ParametrizedConv1d(\n",
       "        64, 64, kernel_size=(5,), stride=(1,), padding=(4,), dilation=(2,)\n",
       "        (parametrizations): ModuleDict(\n",
       "          (weight): ParametrizationList(\n",
       "            (0): _WeightNorm()\n",
       "          )\n",
       "        )\n",
       "      )\n",
       "      (conv1x1): ParametrizedConv1d(\n",
       "        128, 64, kernel_size=(1,), stride=(1,)\n",
       "        (parametrizations): ModuleDict(\n",
       "          (weight): ParametrizationList(\n",
       "            (0): _WeightNorm()\n",
       "          )\n",
       "        )\n",
       "      )\n",
       "      (dropout): Dropout(p=0.2, inplace=False)\n",
       "      (relu): ReLU()\n",
       "    )\n",
       "    (2): MultiScaleTCNBlock(\n",
       "      (branch1): ParametrizedConv1d(\n",
       "        64, 64, kernel_size=(3,), stride=(1,), padding=(4,), dilation=(4,)\n",
       "        (parametrizations): ModuleDict(\n",
       "          (weight): ParametrizationList(\n",
       "            (0): _WeightNorm()\n",
       "          )\n",
       "        )\n",
       "      )\n",
       "      (branch2): ParametrizedConv1d(\n",
       "        64, 64, kernel_size=(5,), stride=(1,), padding=(8,), dilation=(4,)\n",
       "        (parametrizations): ModuleDict(\n",
       "          (weight): ParametrizationList(\n",
       "            (0): _WeightNorm()\n",
       "          )\n",
       "        )\n",
       "      )\n",
       "      (conv1x1): ParametrizedConv1d(\n",
       "        128, 64, kernel_size=(1,), stride=(1,)\n",
       "        (parametrizations): ModuleDict(\n",
       "          (weight): ParametrizationList(\n",
       "            (0): _WeightNorm()\n",
       "          )\n",
       "        )\n",
       "      )\n",
       "      (dropout): Dropout(p=0.2, inplace=False)\n",
       "      (relu): ReLU()\n",
       "    )\n",
       "    (3): MultiScaleTCNBlock(\n",
       "      (branch1): ParametrizedConv1d(\n",
       "        64, 64, kernel_size=(3,), stride=(1,), padding=(8,), dilation=(8,)\n",
       "        (parametrizations): ModuleDict(\n",
       "          (weight): ParametrizationList(\n",
       "            (0): _WeightNorm()\n",
       "          )\n",
       "        )\n",
       "      )\n",
       "      (branch2): ParametrizedConv1d(\n",
       "        64, 64, kernel_size=(5,), stride=(1,), padding=(16,), dilation=(8,)\n",
       "        (parametrizations): ModuleDict(\n",
       "          (weight): ParametrizationList(\n",
       "            (0): _WeightNorm()\n",
       "          )\n",
       "        )\n",
       "      )\n",
       "      (conv1x1): ParametrizedConv1d(\n",
       "        128, 64, kernel_size=(1,), stride=(1,)\n",
       "        (parametrizations): ModuleDict(\n",
       "          (weight): ParametrizationList(\n",
       "            (0): _WeightNorm()\n",
       "          )\n",
       "        )\n",
       "      )\n",
       "      (dropout): Dropout(p=0.2, inplace=False)\n",
       "      (relu): ReLU()\n",
       "    )\n",
       "  )\n",
       "  (global_pool): AdaptiveAvgPool1d(output_size=1)\n",
       "  (fc1): Linear(in_features=64, out_features=32, bias=True)\n",
       "  (fc2): Linear(in_features=32, out_features=1, bias=True)\n",
       ")"
      ]
     },
     "execution_count": 194,
     "metadata": {},
     "output_type": "execute_result"
    }
   ],
   "source": [
    "model = MultiScaleTCN(input_channels=6, num_blocks=4, hidden_channels=64, dropout=0.2)\n",
    "model.to(device)"
   ]
  },
  {
   "cell_type": "markdown",
   "metadata": {},
   "source": [
    "#### Model Summary"
   ]
  },
  {
   "cell_type": "code",
   "execution_count": 195,
   "metadata": {},
   "outputs": [],
   "source": [
    "dummy_seq = torch.randn(1, 72, 6).to(device)"
   ]
  },
  {
   "cell_type": "code",
   "execution_count": 196,
   "metadata": {},
   "outputs": [
    {
     "name": "stdout",
     "output_type": "stream",
     "text": [
      "Model Summary:\n",
      "=========================================================================================================\n",
      "Layer (type:depth-idx)                                  Output Shape              Param #\n",
      "=========================================================================================================\n",
      "MultiScaleTCN                                           [1]                       --\n",
      "├─Sequential: 1-1                                       [1, 64, 72]               --\n",
      "│    └─MultiScaleTCNBlock: 2-1                          [1, 64, 72]               --\n",
      "│    │    └─ParametrizedConv1d: 3-1                     [1, 64, 72]               1,280\n",
      "│    │    └─ReLU: 3-2                                   [1, 64, 72]               --\n",
      "│    │    └─Dropout: 3-3                                [1, 64, 72]               --\n",
      "│    │    └─ParametrizedConv1d: 3-4                     [1, 64, 72]               2,048\n",
      "│    │    └─ReLU: 3-5                                   [1, 64, 72]               --\n",
      "│    │    └─Dropout: 3-6                                [1, 64, 72]               --\n",
      "│    │    └─ParametrizedConv1d: 3-7                     [1, 64, 72]               8,320\n",
      "│    │    └─ReLU: 3-8                                   [1, 64, 72]               --\n",
      "│    │    └─ParametrizedConv1d: 3-9                     [1, 64, 72]               512\n",
      "│    │    └─ReLU: 3-10                                  [1, 64, 72]               --\n",
      "│    └─MultiScaleTCNBlock: 2-2                          [1, 64, 72]               --\n",
      "│    │    └─ParametrizedConv1d: 3-11                    [1, 64, 72]               12,416\n",
      "│    │    └─ReLU: 3-12                                  [1, 64, 72]               --\n",
      "│    │    └─Dropout: 3-13                               [1, 64, 72]               --\n",
      "│    │    └─ParametrizedConv1d: 3-14                    [1, 64, 72]               20,608\n",
      "│    │    └─ReLU: 3-15                                  [1, 64, 72]               --\n",
      "│    │    └─Dropout: 3-16                               [1, 64, 72]               --\n",
      "│    │    └─ParametrizedConv1d: 3-17                    [1, 64, 72]               8,320\n",
      "│    │    └─ReLU: 3-18                                  [1, 64, 72]               --\n",
      "│    │    └─ReLU: 3-19                                  [1, 64, 72]               --\n",
      "│    └─MultiScaleTCNBlock: 2-3                          [1, 64, 72]               --\n",
      "│    │    └─ParametrizedConv1d: 3-20                    [1, 64, 72]               12,416\n",
      "│    │    └─ReLU: 3-21                                  [1, 64, 72]               --\n",
      "│    │    └─Dropout: 3-22                               [1, 64, 72]               --\n",
      "│    │    └─ParametrizedConv1d: 3-23                    [1, 64, 72]               20,608\n",
      "│    │    └─ReLU: 3-24                                  [1, 64, 72]               --\n",
      "│    │    └─Dropout: 3-25                               [1, 64, 72]               --\n",
      "│    │    └─ParametrizedConv1d: 3-26                    [1, 64, 72]               8,320\n",
      "│    │    └─ReLU: 3-27                                  [1, 64, 72]               --\n",
      "│    │    └─ReLU: 3-28                                  [1, 64, 72]               --\n",
      "│    └─MultiScaleTCNBlock: 2-4                          [1, 64, 72]               --\n",
      "│    │    └─ParametrizedConv1d: 3-29                    [1, 64, 72]               12,416\n",
      "│    │    └─ReLU: 3-30                                  [1, 64, 72]               --\n",
      "│    │    └─Dropout: 3-31                               [1, 64, 72]               --\n",
      "│    │    └─ParametrizedConv1d: 3-32                    [1, 64, 72]               20,608\n",
      "│    │    └─ReLU: 3-33                                  [1, 64, 72]               --\n",
      "│    │    └─Dropout: 3-34                               [1, 64, 72]               --\n",
      "│    │    └─ParametrizedConv1d: 3-35                    [1, 64, 72]               8,320\n",
      "│    │    └─ReLU: 3-36                                  [1, 64, 72]               --\n",
      "│    │    └─ReLU: 3-37                                  [1, 64, 72]               --\n",
      "├─AdaptiveAvgPool1d: 1-2                                [1, 64, 1]                --\n",
      "├─Linear: 1-3                                           [1, 32]                   2,080\n",
      "├─Linear: 1-4                                           [1, 1]                    33\n",
      "=========================================================================================================\n",
      "Total params: 138,305\n",
      "Trainable params: 138,305\n",
      "Non-trainable params: 0\n",
      "Total mult-adds (M): 0.00\n",
      "=========================================================================================================\n",
      "Input size (MB): 0.00\n",
      "Forward/backward pass size (MB): 0.00\n",
      "Params size (MB): 0.01\n",
      "Estimated Total Size (MB): 0.01\n",
      "=========================================================================================================\n"
     ]
    }
   ],
   "source": [
    "print(\"Model Summary:\")\n",
    "print(summary(model, input_data=[dummy_seq]))"
   ]
  },
  {
   "cell_type": "markdown",
   "metadata": {},
   "source": [
    "#### Model Computational Graph"
   ]
  },
  {
   "cell_type": "code",
   "execution_count": 197,
   "metadata": {},
   "outputs": [],
   "source": [
    "dummy_output = model(dummy_seq)\n",
    "dot = make_dot(dummy_output, params=dict(model.named_parameters()))"
   ]
  },
  {
   "cell_type": "code",
   "execution_count": 198,
   "metadata": {},
   "outputs": [
    {
     "name": "stdout",
     "output_type": "stream",
     "text": [
      "Model Computational Graph:\n"
     ]
    },
    {
     "data": {
      "image/svg+xml": [
       "<?xml version=\"1.0\" encoding=\"UTF-8\" standalone=\"no\"?>\n",
       "<!DOCTYPE svg PUBLIC \"-//W3C//DTD SVG 1.1//EN\"\n",
       " \"http://www.w3.org/Graphics/SVG/1.1/DTD/svg11.dtd\">\n",
       "<!-- Generated by graphviz version 12.2.1 (20241206.2353)\n",
       " -->\n",
       "<!-- Pages: 1 -->\n",
       "<svg width=\"2529pt\" height=\"2761pt\"\n",
       " viewBox=\"0.00 0.00 2529.00 2760.75\" xmlns=\"http://www.w3.org/2000/svg\" xmlns:xlink=\"http://www.w3.org/1999/xlink\">\n",
       "<g id=\"graph0\" class=\"graph\" transform=\"scale(1 1) rotate(0) translate(4 2756.75)\">\n",
       "<polygon fill=\"white\" stroke=\"none\" points=\"-4,4 -4,-2756.75 2525,-2756.75 2525,4 -4,4\"/>\n",
       "<!-- 1392601655840 -->\n",
       "<g id=\"node1\" class=\"node\">\n",
       "<title>1392601655840</title>\n",
       "<polygon fill=\"#caff70\" stroke=\"black\" points=\"1854,-32.75 1800,-32.75 1800,0 1854,0 1854,-32.75\"/>\n",
       "<text text-anchor=\"middle\" x=\"1827\" y=\"-7.25\" font-family=\"monospace\" font-size=\"10.00\"> (1)</text>\n",
       "</g>\n",
       "<!-- 1392632246480 -->\n",
       "<g id=\"node2\" class=\"node\">\n",
       "<title>1392632246480</title>\n",
       "<polygon fill=\"lightgrey\" stroke=\"black\" points=\"1832,-95.5 1720,-95.5 1720,-74.75 1832,-74.75 1832,-95.5\"/>\n",
       "<text text-anchor=\"middle\" x=\"1776\" y=\"-82\" font-family=\"monospace\" font-size=\"10.00\">SqueezeBackward1</text>\n",
       "</g>\n",
       "<!-- 1392632246480&#45;&gt;1392601655840 -->\n",
       "<g id=\"edge160\" class=\"edge\">\n",
       "<title>1392632246480&#45;&gt;1392601655840</title>\n",
       "<path fill=\"none\" stroke=\"black\" d=\"M1783.53,-74.28C1789.98,-65.83 1799.55,-53.3 1808.07,-42.15\"/>\n",
       "<polygon fill=\"black\" stroke=\"black\" points=\"1810.68,-44.5 1813.97,-34.43 1805.12,-40.25 1810.68,-44.5\"/>\n",
       "</g>\n",
       "<!-- 1392632243312 -->\n",
       "<g id=\"node3\" class=\"node\">\n",
       "<title>1392632243312</title>\n",
       "<polygon fill=\"lightgrey\" stroke=\"black\" points=\"1877,-158.25 1777,-158.25 1777,-137.5 1877,-137.5 1877,-158.25\"/>\n",
       "<text text-anchor=\"middle\" x=\"1827\" y=\"-144.75\" font-family=\"monospace\" font-size=\"10.00\">AddmmBackward0</text>\n",
       "</g>\n",
       "<!-- 1392632243312&#45;&gt;1392632246480 -->\n",
       "<g id=\"edge1\" class=\"edge\">\n",
       "<title>1392632243312&#45;&gt;1392632246480</title>\n",
       "<path fill=\"none\" stroke=\"black\" d=\"M1818.81,-137.11C1811.4,-128.29 1800.31,-115.08 1791.27,-104.32\"/>\n",
       "<polygon fill=\"black\" stroke=\"black\" points=\"1794.09,-102.23 1784.98,-96.82 1788.73,-106.73 1794.09,-102.23\"/>\n",
       "</g>\n",
       "<!-- 1395617095712 -->\n",
       "<g id=\"node156\" class=\"node\">\n",
       "<title>1395617095712</title>\n",
       "<polygon fill=\"#a2cd5a\" stroke=\"black\" points=\"1908,-101.5 1850,-101.5 1850,-68.75 1908,-68.75 1908,-101.5\"/>\n",
       "<text text-anchor=\"middle\" x=\"1879\" y=\"-76\" font-family=\"monospace\" font-size=\"10.00\"> (1, 1)</text>\n",
       "</g>\n",
       "<!-- 1392632243312&#45;&gt;1395617095712 -->\n",
       "<g id=\"edge161\" class=\"edge\">\n",
       "<title>1392632243312&#45;&gt;1395617095712</title>\n",
       "<path fill=\"none\" stroke=\"black\" d=\"M1835.35,-137.11C1841.53,-129.9 1850.23,-119.74 1858.24,-110.38\"/>\n",
       "<polygon fill=\"black\" stroke=\"black\" points=\"1860.77,-112.81 1864.61,-102.94 1855.45,-108.26 1860.77,-112.81\"/>\n",
       "</g>\n",
       "<!-- 1392632243504 -->\n",
       "<g id=\"node4\" class=\"node\">\n",
       "<title>1392632243504</title>\n",
       "<polygon fill=\"lightgrey\" stroke=\"black\" points=\"1762,-215 1662,-215 1662,-194.25 1762,-194.25 1762,-215\"/>\n",
       "<text text-anchor=\"middle\" x=\"1712\" y=\"-201.5\" font-family=\"monospace\" font-size=\"10.00\">AccumulateGrad</text>\n",
       "</g>\n",
       "<!-- 1392632243504&#45;&gt;1392632243312 -->\n",
       "<g id=\"edge2\" class=\"edge\">\n",
       "<title>1392632243504&#45;&gt;1392632243312</title>\n",
       "<path fill=\"none\" stroke=\"black\" d=\"M1732.56,-193.84C1750.3,-185.39 1776.18,-173.07 1796.37,-163.46\"/>\n",
       "<polygon fill=\"black\" stroke=\"black\" points=\"1797.73,-166.69 1805.25,-159.23 1794.72,-160.37 1797.73,-166.69\"/>\n",
       "</g>\n",
       "<!-- 1395617111776 -->\n",
       "<g id=\"node5\" class=\"node\">\n",
       "<title>1395617111776</title>\n",
       "<polygon fill=\"lightblue\" stroke=\"black\" points=\"1744,-284.5 1680,-284.5 1680,-251 1744,-251 1744,-284.5\"/>\n",
       "<text text-anchor=\"middle\" x=\"1712\" y=\"-271\" font-family=\"monospace\" font-size=\"10.00\">fc2.bias</text>\n",
       "<text text-anchor=\"middle\" x=\"1712\" y=\"-258.25\" font-family=\"monospace\" font-size=\"10.00\"> (1)</text>\n",
       "</g>\n",
       "<!-- 1395617111776&#45;&gt;1392632243504 -->\n",
       "<g id=\"edge3\" class=\"edge\">\n",
       "<title>1395617111776&#45;&gt;1392632243504</title>\n",
       "<path fill=\"none\" stroke=\"black\" d=\"M1712,-250.69C1712,-243.35 1712,-234.57 1712,-226.71\"/>\n",
       "<polygon fill=\"black\" stroke=\"black\" points=\"1715.5,-226.98 1712,-216.98 1708.5,-226.98 1715.5,-226.98\"/>\n",
       "</g>\n",
       "<!-- 1392632245424 -->\n",
       "<g id=\"node6\" class=\"node\">\n",
       "<title>1392632245424</title>\n",
       "<polygon fill=\"lightgrey\" stroke=\"black\" points=\"1874,-215 1780,-215 1780,-194.25 1874,-194.25 1874,-215\"/>\n",
       "<text text-anchor=\"middle\" x=\"1827\" y=\"-201.5\" font-family=\"monospace\" font-size=\"10.00\">ReluBackward0</text>\n",
       "</g>\n",
       "<!-- 1392632245424&#45;&gt;1392632243312 -->\n",
       "<g id=\"edge4\" class=\"edge\">\n",
       "<title>1392632245424&#45;&gt;1392632243312</title>\n",
       "<path fill=\"none\" stroke=\"black\" d=\"M1827,-193.84C1827,-187.22 1827,-178.22 1827,-170.02\"/>\n",
       "<polygon fill=\"black\" stroke=\"black\" points=\"1830.5,-170.09 1827,-160.09 1823.5,-170.09 1830.5,-170.09\"/>\n",
       "</g>\n",
       "<!-- 1395716371024 -->\n",
       "<g id=\"node7\" class=\"node\">\n",
       "<title>1395716371024</title>\n",
       "<polygon fill=\"lightgrey\" stroke=\"black\" points=\"1869,-278.12 1769,-278.12 1769,-257.38 1869,-257.38 1869,-278.12\"/>\n",
       "<text text-anchor=\"middle\" x=\"1819\" y=\"-264.62\" font-family=\"monospace\" font-size=\"10.00\">AddmmBackward0</text>\n",
       "</g>\n",
       "<!-- 1395716371024&#45;&gt;1392632245424 -->\n",
       "<g id=\"edge5\" class=\"edge\">\n",
       "<title>1395716371024&#45;&gt;1392632245424</title>\n",
       "<path fill=\"none\" stroke=\"black\" d=\"M1820.29,-256.93C1821.35,-248.77 1822.91,-236.88 1824.25,-226.6\"/>\n",
       "<polygon fill=\"black\" stroke=\"black\" points=\"1827.72,-227.09 1825.55,-216.72 1820.78,-226.18 1827.72,-227.09\"/>\n",
       "</g>\n",
       "<!-- 1395716362480 -->\n",
       "<g id=\"node8\" class=\"node\">\n",
       "<title>1395716362480</title>\n",
       "<polygon fill=\"lightgrey\" stroke=\"black\" points=\"1723,-347.62 1623,-347.62 1623,-326.88 1723,-326.88 1723,-347.62\"/>\n",
       "<text text-anchor=\"middle\" x=\"1673\" y=\"-334.12\" font-family=\"monospace\" font-size=\"10.00\">AccumulateGrad</text>\n",
       "</g>\n",
       "<!-- 1395716362480&#45;&gt;1395716371024 -->\n",
       "<g id=\"edge6\" class=\"edge\">\n",
       "<title>1395716362480&#45;&gt;1395716371024</title>\n",
       "<path fill=\"none\" stroke=\"black\" d=\"M1694.23,-326.43C1718.77,-315.09 1759.41,-296.3 1787.61,-283.26\"/>\n",
       "<polygon fill=\"black\" stroke=\"black\" points=\"1788.76,-286.59 1796.37,-279.21 1785.83,-280.23 1788.76,-286.59\"/>\n",
       "</g>\n",
       "<!-- 1395784786752 -->\n",
       "<g id=\"node9\" class=\"node\">\n",
       "<title>1395784786752</title>\n",
       "<polygon fill=\"lightblue\" stroke=\"black\" points=\"1705,-423.5 1641,-423.5 1641,-390 1705,-390 1705,-423.5\"/>\n",
       "<text text-anchor=\"middle\" x=\"1673\" y=\"-410\" font-family=\"monospace\" font-size=\"10.00\">fc1.bias</text>\n",
       "<text text-anchor=\"middle\" x=\"1673\" y=\"-397.25\" font-family=\"monospace\" font-size=\"10.00\"> (32)</text>\n",
       "</g>\n",
       "<!-- 1395784786752&#45;&gt;1395716362480 -->\n",
       "<g id=\"edge7\" class=\"edge\">\n",
       "<title>1395784786752&#45;&gt;1395716362480</title>\n",
       "<path fill=\"none\" stroke=\"black\" d=\"M1673,-389.75C1673,-380.65 1673,-369.14 1673,-359.32\"/>\n",
       "<polygon fill=\"black\" stroke=\"black\" points=\"1676.5,-359.59 1673,-349.59 1669.5,-359.59 1676.5,-359.59\"/>\n",
       "</g>\n",
       "<!-- 1395716368576 -->\n",
       "<g id=\"node10\" class=\"node\">\n",
       "<title>1395716368576</title>\n",
       "<polygon fill=\"lightgrey\" stroke=\"black\" points=\"1853,-347.62 1741,-347.62 1741,-326.88 1853,-326.88 1853,-347.62\"/>\n",
       "<text text-anchor=\"middle\" x=\"1797\" y=\"-334.12\" font-family=\"monospace\" font-size=\"10.00\">SqueezeBackward1</text>\n",
       "</g>\n",
       "<!-- 1395716368576&#45;&gt;1395716371024 -->\n",
       "<g id=\"edge8\" class=\"edge\">\n",
       "<title>1395716368576&#45;&gt;1395716371024</title>\n",
       "<path fill=\"none\" stroke=\"black\" d=\"M1800.15,-326.58C1803.32,-316.85 1808.3,-301.57 1812.35,-289.15\"/>\n",
       "<polygon fill=\"black\" stroke=\"black\" points=\"1815.61,-290.43 1815.38,-279.84 1808.96,-288.27 1815.61,-290.43\"/>\n",
       "</g>\n",
       "<!-- 1395716363008 -->\n",
       "<g id=\"node11\" class=\"node\">\n",
       "<title>1395716363008</title>\n",
       "<polygon fill=\"lightgrey\" stroke=\"black\" points=\"1847,-417.12 1735,-417.12 1735,-396.38 1847,-396.38 1847,-417.12\"/>\n",
       "<text text-anchor=\"middle\" x=\"1791\" y=\"-403.62\" font-family=\"monospace\" font-size=\"10.00\">SqueezeBackward1</text>\n",
       "</g>\n",
       "<!-- 1395716363008&#45;&gt;1395716368576 -->\n",
       "<g id=\"edge9\" class=\"edge\">\n",
       "<title>1395716363008&#45;&gt;1395716368576</title>\n",
       "<path fill=\"none\" stroke=\"black\" d=\"M1791.86,-396.08C1792.72,-386.46 1794.06,-371.38 1795.15,-359.04\"/>\n",
       "<polygon fill=\"black\" stroke=\"black\" points=\"1798.61,-359.68 1796.01,-349.41 1791.64,-359.06 1798.61,-359.68\"/>\n",
       "</g>\n",
       "<!-- 1392627929808 -->\n",
       "<g id=\"node12\" class=\"node\">\n",
       "<title>1392627929808</title>\n",
       "<polygon fill=\"lightgrey\" stroke=\"black\" points=\"1838,-486.62 1744,-486.62 1744,-465.88 1838,-465.88 1838,-486.62\"/>\n",
       "<text text-anchor=\"middle\" x=\"1791\" y=\"-473.12\" font-family=\"monospace\" font-size=\"10.00\">MeanBackward1</text>\n",
       "</g>\n",
       "<!-- 1392627929808&#45;&gt;1395716363008 -->\n",
       "<g id=\"edge10\" class=\"edge\">\n",
       "<title>1392627929808&#45;&gt;1395716363008</title>\n",
       "<path fill=\"none\" stroke=\"black\" d=\"M1791,-465.58C1791,-455.96 1791,-440.88 1791,-428.54\"/>\n",
       "<polygon fill=\"black\" stroke=\"black\" points=\"1794.5,-428.92 1791,-418.92 1787.5,-428.92 1794.5,-428.92\"/>\n",
       "</g>\n",
       "<!-- 1392623201024 -->\n",
       "<g id=\"node13\" class=\"node\">\n",
       "<title>1392623201024</title>\n",
       "<polygon fill=\"lightgrey\" stroke=\"black\" points=\"1853,-549.75 1729,-549.75 1729,-529 1853,-529 1853,-549.75\"/>\n",
       "<text text-anchor=\"middle\" x=\"1791\" y=\"-536.25\" font-family=\"monospace\" font-size=\"10.00\">UnsqueezeBackward0</text>\n",
       "</g>\n",
       "<!-- 1392623201024&#45;&gt;1392627929808 -->\n",
       "<g id=\"edge11\" class=\"edge\">\n",
       "<title>1392623201024&#45;&gt;1392627929808</title>\n",
       "<path fill=\"none\" stroke=\"black\" d=\"M1791,-528.55C1791,-520.4 1791,-508.51 1791,-498.23\"/>\n",
       "<polygon fill=\"black\" stroke=\"black\" points=\"1794.5,-498.36 1791,-488.36 1787.5,-498.36 1794.5,-498.36\"/>\n",
       "</g>\n",
       "<!-- 1392623201120 -->\n",
       "<g id=\"node14\" class=\"node\">\n",
       "<title>1392623201120</title>\n",
       "<polygon fill=\"lightgrey\" stroke=\"black\" points=\"1838,-606.5 1744,-606.5 1744,-585.75 1838,-585.75 1838,-606.5\"/>\n",
       "<text text-anchor=\"middle\" x=\"1791\" y=\"-593\" font-family=\"monospace\" font-size=\"10.00\">ReluBackward0</text>\n",
       "</g>\n",
       "<!-- 1392623201120&#45;&gt;1392623201024 -->\n",
       "<g id=\"edge12\" class=\"edge\">\n",
       "<title>1392623201120&#45;&gt;1392623201024</title>\n",
       "<path fill=\"none\" stroke=\"black\" d=\"M1791,-585.34C1791,-578.72 1791,-569.72 1791,-561.52\"/>\n",
       "<polygon fill=\"black\" stroke=\"black\" points=\"1794.5,-561.59 1791,-551.59 1787.5,-561.59 1794.5,-561.59\"/>\n",
       "</g>\n",
       "<!-- 1392623201456 -->\n",
       "<g id=\"node15\" class=\"node\">\n",
       "<title>1392623201456</title>\n",
       "<polygon fill=\"lightgrey\" stroke=\"black\" points=\"1835,-663.25 1747,-663.25 1747,-642.5 1835,-642.5 1835,-663.25\"/>\n",
       "<text text-anchor=\"middle\" x=\"1791\" y=\"-649.75\" font-family=\"monospace\" font-size=\"10.00\">AddBackward0</text>\n",
       "</g>\n",
       "<!-- 1392623201456&#45;&gt;1392623201120 -->\n",
       "<g id=\"edge13\" class=\"edge\">\n",
       "<title>1392623201456&#45;&gt;1392623201120</title>\n",
       "<path fill=\"none\" stroke=\"black\" d=\"M1791,-642.09C1791,-635.47 1791,-626.47 1791,-618.27\"/>\n",
       "<polygon fill=\"black\" stroke=\"black\" points=\"1794.5,-618.34 1791,-608.34 1787.5,-618.34 1794.5,-618.34\"/>\n",
       "</g>\n",
       "<!-- 1392623201360 -->\n",
       "<g id=\"node16\" class=\"node\">\n",
       "<title>1392623201360</title>\n",
       "<polygon fill=\"lightgrey\" stroke=\"black\" points=\"1889,-720 1795,-720 1795,-699.25 1889,-699.25 1889,-720\"/>\n",
       "<text text-anchor=\"middle\" x=\"1842\" y=\"-706.5\" font-family=\"monospace\" font-size=\"10.00\">ReluBackward0</text>\n",
       "</g>\n",
       "<!-- 1392623201360&#45;&gt;1392623201456 -->\n",
       "<g id=\"edge14\" class=\"edge\">\n",
       "<title>1392623201360&#45;&gt;1392623201456</title>\n",
       "<path fill=\"none\" stroke=\"black\" d=\"M1832.88,-698.84C1825.92,-691.36 1816.13,-680.86 1807.77,-671.88\"/>\n",
       "<polygon fill=\"black\" stroke=\"black\" points=\"1810.45,-669.62 1801.07,-664.69 1805.33,-674.39 1810.45,-669.62\"/>\n",
       "</g>\n",
       "<!-- 1395784188112 -->\n",
       "<g id=\"node17\" class=\"node\">\n",
       "<title>1395784188112</title>\n",
       "<polygon fill=\"lightgrey\" stroke=\"black\" points=\"2009,-776.75 1873,-776.75 1873,-756 2009,-756 2009,-776.75\"/>\n",
       "<text text-anchor=\"middle\" x=\"1941\" y=\"-763.25\" font-family=\"monospace\" font-size=\"10.00\">ConvolutionBackward0</text>\n",
       "</g>\n",
       "<!-- 1395784188112&#45;&gt;1392623201360 -->\n",
       "<g id=\"edge15\" class=\"edge\">\n",
       "<title>1395784188112&#45;&gt;1392623201360</title>\n",
       "<path fill=\"none\" stroke=\"black\" d=\"M1923.3,-755.59C1908.38,-747.33 1886.77,-735.38 1869.58,-725.88\"/>\n",
       "<polygon fill=\"black\" stroke=\"black\" points=\"1871.32,-722.84 1860.87,-721.06 1867.93,-728.96 1871.32,-722.84\"/>\n",
       "</g>\n",
       "<!-- 1392633574208 -->\n",
       "<g id=\"node18\" class=\"node\">\n",
       "<title>1392633574208</title>\n",
       "<polygon fill=\"lightgrey\" stroke=\"black\" points=\"1900,-833.5 1812,-833.5 1812,-812.75 1900,-812.75 1900,-833.5\"/>\n",
       "<text text-anchor=\"middle\" x=\"1856\" y=\"-820\" font-family=\"monospace\" font-size=\"10.00\">CatBackward0</text>\n",
       "</g>\n",
       "<!-- 1392633574208&#45;&gt;1395784188112 -->\n",
       "<g id=\"edge16\" class=\"edge\">\n",
       "<title>1392633574208&#45;&gt;1395784188112</title>\n",
       "<path fill=\"none\" stroke=\"black\" d=\"M1871.2,-812.34C1883.77,-804.24 1901.86,-792.58 1916.48,-783.17\"/>\n",
       "<polygon fill=\"black\" stroke=\"black\" points=\"1918.15,-786.26 1924.66,-777.9 1914.36,-780.37 1918.15,-786.26\"/>\n",
       "</g>\n",
       "<!-- 1392633563168 -->\n",
       "<g id=\"node19\" class=\"node\">\n",
       "<title>1392633563168</title>\n",
       "<polygon fill=\"lightgrey\" stroke=\"black\" points=\"1930,-896.62 1782,-896.62 1782,-875.88 1930,-875.88 1930,-896.62\"/>\n",
       "<text text-anchor=\"middle\" x=\"1856\" y=\"-883.12\" font-family=\"monospace\" font-size=\"10.00\">NativeDropoutBackward0</text>\n",
       "</g>\n",
       "<!-- 1392633563168&#45;&gt;1392633574208 -->\n",
       "<g id=\"edge17\" class=\"edge\">\n",
       "<title>1392633563168&#45;&gt;1392633574208</title>\n",
       "<path fill=\"none\" stroke=\"black\" d=\"M1856,-875.43C1856,-867.27 1856,-855.38 1856,-845.1\"/>\n",
       "<polygon fill=\"black\" stroke=\"black\" points=\"1859.5,-845.23 1856,-835.23 1852.5,-845.23 1859.5,-845.23\"/>\n",
       "</g>\n",
       "<!-- 1392633566960 -->\n",
       "<g id=\"node20\" class=\"node\">\n",
       "<title>1392633566960</title>\n",
       "<polygon fill=\"lightgrey\" stroke=\"black\" points=\"1889,-966.12 1795,-966.12 1795,-945.38 1889,-945.38 1889,-966.12\"/>\n",
       "<text text-anchor=\"middle\" x=\"1842\" y=\"-952.62\" font-family=\"monospace\" font-size=\"10.00\">ReluBackward0</text>\n",
       "</g>\n",
       "<!-- 1392633566960&#45;&gt;1392633563168 -->\n",
       "<g id=\"edge18\" class=\"edge\">\n",
       "<title>1392633566960&#45;&gt;1392633563168</title>\n",
       "<path fill=\"none\" stroke=\"black\" d=\"M1844.01,-945.08C1846,-935.46 1849.13,-920.38 1851.69,-908.04\"/>\n",
       "<polygon fill=\"black\" stroke=\"black\" points=\"1855.09,-908.89 1853.69,-898.39 1848.23,-907.47 1855.09,-908.89\"/>\n",
       "</g>\n",
       "<!-- 1392633561152 -->\n",
       "<g id=\"node21\" class=\"node\">\n",
       "<title>1392633561152</title>\n",
       "<polygon fill=\"lightgrey\" stroke=\"black\" points=\"1960,-1029.25 1824,-1029.25 1824,-1008.5 1960,-1008.5 1960,-1029.25\"/>\n",
       "<text text-anchor=\"middle\" x=\"1892\" y=\"-1015.75\" font-family=\"monospace\" font-size=\"10.00\">ConvolutionBackward0</text>\n",
       "</g>\n",
       "<!-- 1392633561152&#45;&gt;1392633566960 -->\n",
       "<g id=\"edge19\" class=\"edge\">\n",
       "<title>1392633561152&#45;&gt;1392633566960</title>\n",
       "<path fill=\"none\" stroke=\"black\" d=\"M1883.97,-1008.05C1876.71,-999.18 1865.83,-985.89 1856.97,-975.06\"/>\n",
       "<polygon fill=\"black\" stroke=\"black\" points=\"1859.85,-973.04 1850.81,-967.52 1854.43,-977.47 1859.85,-973.04\"/>\n",
       "</g>\n",
       "<!-- 1392912629232 -->\n",
       "<g id=\"node22\" class=\"node\">\n",
       "<title>1392912629232</title>\n",
       "<polygon fill=\"lightgrey\" stroke=\"black\" points=\"1801,-1086 1707,-1086 1707,-1065.25 1801,-1065.25 1801,-1086\"/>\n",
       "<text text-anchor=\"middle\" x=\"1754\" y=\"-1072.5\" font-family=\"monospace\" font-size=\"10.00\">ReluBackward0</text>\n",
       "</g>\n",
       "<!-- 1392912629232&#45;&gt;1392623201456 -->\n",
       "<g id=\"edge153\" class=\"edge\">\n",
       "<title>1392912629232&#45;&gt;1392623201456</title>\n",
       "<path fill=\"none\" stroke=\"black\" d=\"M1754,-1064.84C1754,-1044.65 1754,-996.86 1754,-956.75 1754,-956.75 1754,-956.75 1754,-765.38 1754,-731.85 1769.25,-695.42 1780.17,-673.63\"/>\n",
       "<polygon fill=\"black\" stroke=\"black\" points=\"1783.15,-675.48 1784.68,-665 1776.94,-672.24 1783.15,-675.48\"/>\n",
       "</g>\n",
       "<!-- 1392912629232&#45;&gt;1392633561152 -->\n",
       "<g id=\"edge20\" class=\"edge\">\n",
       "<title>1392912629232&#45;&gt;1392633561152</title>\n",
       "<path fill=\"none\" stroke=\"black\" d=\"M1778.67,-1064.84C1800.45,-1056.19 1832.46,-1043.5 1856.91,-1033.8\"/>\n",
       "<polygon fill=\"black\" stroke=\"black\" points=\"1858.13,-1037.08 1866.14,-1030.14 1855.55,-1030.57 1858.13,-1037.08\"/>\n",
       "</g>\n",
       "<!-- 1392633570368 -->\n",
       "<g id=\"node135\" class=\"node\">\n",
       "<title>1392633570368</title>\n",
       "<polygon fill=\"lightgrey\" stroke=\"black\" points=\"1709,-1029.25 1573,-1029.25 1573,-1008.5 1709,-1008.5 1709,-1029.25\"/>\n",
       "<text text-anchor=\"middle\" x=\"1641\" y=\"-1015.75\" font-family=\"monospace\" font-size=\"10.00\">ConvolutionBackward0</text>\n",
       "</g>\n",
       "<!-- 1392912629232&#45;&gt;1392633570368 -->\n",
       "<g id=\"edge138\" class=\"edge\">\n",
       "<title>1392912629232&#45;&gt;1392633570368</title>\n",
       "<path fill=\"none\" stroke=\"black\" d=\"M1733.8,-1064.84C1716.44,-1056.43 1691.17,-1044.18 1671.37,-1034.59\"/>\n",
       "<polygon fill=\"black\" stroke=\"black\" points=\"1672.91,-1031.45 1662.39,-1030.24 1669.86,-1037.75 1672.91,-1031.45\"/>\n",
       "</g>\n",
       "<!-- 1392633569072 -->\n",
       "<g id=\"node23\" class=\"node\">\n",
       "<title>1392633569072</title>\n",
       "<polygon fill=\"lightgrey\" stroke=\"black\" points=\"1793,-1149.12 1705,-1149.12 1705,-1128.38 1793,-1128.38 1793,-1149.12\"/>\n",
       "<text text-anchor=\"middle\" x=\"1749\" y=\"-1135.62\" font-family=\"monospace\" font-size=\"10.00\">AddBackward0</text>\n",
       "</g>\n",
       "<!-- 1392633569072&#45;&gt;1392912629232 -->\n",
       "<g id=\"edge21\" class=\"edge\">\n",
       "<title>1392633569072&#45;&gt;1392912629232</title>\n",
       "<path fill=\"none\" stroke=\"black\" d=\"M1749.8,-1127.93C1750.47,-1119.77 1751.44,-1107.88 1752.28,-1097.6\"/>\n",
       "<polygon fill=\"black\" stroke=\"black\" points=\"1755.76,-1097.98 1753.09,-1087.73 1748.79,-1097.41 1755.76,-1097.98\"/>\n",
       "</g>\n",
       "<!-- 1392633566048 -->\n",
       "<g id=\"node24\" class=\"node\">\n",
       "<title>1392633566048</title>\n",
       "<polygon fill=\"lightgrey\" stroke=\"black\" points=\"1791,-1218.62 1697,-1218.62 1697,-1197.88 1791,-1197.88 1791,-1218.62\"/>\n",
       "<text text-anchor=\"middle\" x=\"1744\" y=\"-1205.12\" font-family=\"monospace\" font-size=\"10.00\">ReluBackward0</text>\n",
       "</g>\n",
       "<!-- 1392633566048&#45;&gt;1392633569072 -->\n",
       "<g id=\"edge22\" class=\"edge\">\n",
       "<title>1392633566048&#45;&gt;1392633569072</title>\n",
       "<path fill=\"none\" stroke=\"black\" d=\"M1744.72,-1197.58C1745.43,-1187.96 1746.55,-1172.88 1747.46,-1160.54\"/>\n",
       "<polygon fill=\"black\" stroke=\"black\" points=\"1750.92,-1161.14 1748.17,-1150.91 1743.94,-1160.63 1750.92,-1161.14\"/>\n",
       "</g>\n",
       "<!-- 1392622323024 -->\n",
       "<g id=\"node25\" class=\"node\">\n",
       "<title>1392622323024</title>\n",
       "<polygon fill=\"lightgrey\" stroke=\"black\" points=\"1924,-1281.75 1788,-1281.75 1788,-1261 1924,-1261 1924,-1281.75\"/>\n",
       "<text text-anchor=\"middle\" x=\"1856\" y=\"-1268.25\" font-family=\"monospace\" font-size=\"10.00\">ConvolutionBackward0</text>\n",
       "</g>\n",
       "<!-- 1392622323024&#45;&gt;1392633566048 -->\n",
       "<g id=\"edge23\" class=\"edge\">\n",
       "<title>1392622323024&#45;&gt;1392633566048</title>\n",
       "<path fill=\"none\" stroke=\"black\" d=\"M1838.01,-1260.55C1820.21,-1250.84 1792.71,-1235.83 1772.05,-1224.56\"/>\n",
       "<polygon fill=\"black\" stroke=\"black\" points=\"1773.73,-1221.49 1763.28,-1219.77 1770.38,-1227.63 1773.73,-1221.49\"/>\n",
       "</g>\n",
       "<!-- 1392599490544 -->\n",
       "<g id=\"node26\" class=\"node\">\n",
       "<title>1392599490544</title>\n",
       "<polygon fill=\"lightgrey\" stroke=\"black\" points=\"1815,-1338.5 1727,-1338.5 1727,-1317.75 1815,-1317.75 1815,-1338.5\"/>\n",
       "<text text-anchor=\"middle\" x=\"1771\" y=\"-1325\" font-family=\"monospace\" font-size=\"10.00\">CatBackward0</text>\n",
       "</g>\n",
       "<!-- 1392599490544&#45;&gt;1392622323024 -->\n",
       "<g id=\"edge24\" class=\"edge\">\n",
       "<title>1392599490544&#45;&gt;1392622323024</title>\n",
       "<path fill=\"none\" stroke=\"black\" d=\"M1786.2,-1317.34C1798.77,-1309.24 1816.86,-1297.58 1831.48,-1288.17\"/>\n",
       "<polygon fill=\"black\" stroke=\"black\" points=\"1833.15,-1291.26 1839.66,-1282.9 1829.36,-1285.37 1833.15,-1291.26\"/>\n",
       "</g>\n",
       "<!-- 1392599491216 -->\n",
       "<g id=\"node27\" class=\"node\">\n",
       "<title>1392599491216</title>\n",
       "<polygon fill=\"lightgrey\" stroke=\"black\" points=\"1845,-1401.62 1697,-1401.62 1697,-1380.88 1845,-1380.88 1845,-1401.62\"/>\n",
       "<text text-anchor=\"middle\" x=\"1771\" y=\"-1388.12\" font-family=\"monospace\" font-size=\"10.00\">NativeDropoutBackward0</text>\n",
       "</g>\n",
       "<!-- 1392599491216&#45;&gt;1392599490544 -->\n",
       "<g id=\"edge25\" class=\"edge\">\n",
       "<title>1392599491216&#45;&gt;1392599490544</title>\n",
       "<path fill=\"none\" stroke=\"black\" d=\"M1771,-1380.43C1771,-1372.27 1771,-1360.38 1771,-1350.1\"/>\n",
       "<polygon fill=\"black\" stroke=\"black\" points=\"1774.5,-1350.23 1771,-1340.23 1767.5,-1350.23 1774.5,-1350.23\"/>\n",
       "</g>\n",
       "<!-- 1392632949120 -->\n",
       "<g id=\"node28\" class=\"node\">\n",
       "<title>1392632949120</title>\n",
       "<polygon fill=\"lightgrey\" stroke=\"black\" points=\"1804,-1471.12 1710,-1471.12 1710,-1450.38 1804,-1450.38 1804,-1471.12\"/>\n",
       "<text text-anchor=\"middle\" x=\"1757\" y=\"-1457.62\" font-family=\"monospace\" font-size=\"10.00\">ReluBackward0</text>\n",
       "</g>\n",
       "<!-- 1392632949120&#45;&gt;1392599491216 -->\n",
       "<g id=\"edge26\" class=\"edge\">\n",
       "<title>1392632949120&#45;&gt;1392599491216</title>\n",
       "<path fill=\"none\" stroke=\"black\" d=\"M1759.01,-1450.08C1761,-1440.46 1764.13,-1425.38 1766.69,-1413.04\"/>\n",
       "<polygon fill=\"black\" stroke=\"black\" points=\"1770.09,-1413.89 1768.69,-1403.39 1763.23,-1412.47 1770.09,-1413.89\"/>\n",
       "</g>\n",
       "<!-- 1392598075856 -->\n",
       "<g id=\"node29\" class=\"node\">\n",
       "<title>1392598075856</title>\n",
       "<polygon fill=\"lightgrey\" stroke=\"black\" points=\"1875,-1534.25 1739,-1534.25 1739,-1513.5 1875,-1513.5 1875,-1534.25\"/>\n",
       "<text text-anchor=\"middle\" x=\"1807\" y=\"-1520.75\" font-family=\"monospace\" font-size=\"10.00\">ConvolutionBackward0</text>\n",
       "</g>\n",
       "<!-- 1392598075856&#45;&gt;1392632949120 -->\n",
       "<g id=\"edge27\" class=\"edge\">\n",
       "<title>1392598075856&#45;&gt;1392632949120</title>\n",
       "<path fill=\"none\" stroke=\"black\" d=\"M1798.97,-1513.05C1791.71,-1504.18 1780.83,-1490.89 1771.97,-1480.06\"/>\n",
       "<polygon fill=\"black\" stroke=\"black\" points=\"1774.85,-1478.04 1765.81,-1472.52 1769.43,-1482.47 1774.85,-1478.04\"/>\n",
       "</g>\n",
       "<!-- 1392622325184 -->\n",
       "<g id=\"node30\" class=\"node\">\n",
       "<title>1392622325184</title>\n",
       "<polygon fill=\"lightgrey\" stroke=\"black\" points=\"1716,-1591 1622,-1591 1622,-1570.25 1716,-1570.25 1716,-1591\"/>\n",
       "<text text-anchor=\"middle\" x=\"1669\" y=\"-1577.5\" font-family=\"monospace\" font-size=\"10.00\">ReluBackward0</text>\n",
       "</g>\n",
       "<!-- 1392622325184&#45;&gt;1392633569072 -->\n",
       "<g id=\"edge127\" class=\"edge\">\n",
       "<title>1392622325184&#45;&gt;1392633569072</title>\n",
       "<path fill=\"none\" stroke=\"black\" d=\"M1669,-1569.84C1669,-1549.65 1669,-1501.86 1669,-1461.75 1669,-1461.75 1669,-1461.75 1669,-1270.38 1669,-1234.32 1669.1,-1222.21 1688,-1191.5 1696.73,-1177.32 1710.67,-1165.06 1723.02,-1156.05\"/>\n",
       "<polygon fill=\"black\" stroke=\"black\" points=\"1724.97,-1158.95 1731.21,-1150.39 1720.99,-1153.19 1724.97,-1158.95\"/>\n",
       "</g>\n",
       "<!-- 1392622325184&#45;&gt;1392598075856 -->\n",
       "<g id=\"edge28\" class=\"edge\">\n",
       "<title>1392622325184&#45;&gt;1392598075856</title>\n",
       "<path fill=\"none\" stroke=\"black\" d=\"M1693.67,-1569.84C1715.45,-1561.19 1747.46,-1548.5 1771.91,-1538.8\"/>\n",
       "<polygon fill=\"black\" stroke=\"black\" points=\"1773.13,-1542.08 1781.14,-1535.14 1770.55,-1535.57 1773.13,-1542.08\"/>\n",
       "</g>\n",
       "<!-- 1392595236560 -->\n",
       "<g id=\"node111\" class=\"node\">\n",
       "<title>1392595236560</title>\n",
       "<polygon fill=\"lightgrey\" stroke=\"black\" points=\"1624,-1534.25 1488,-1534.25 1488,-1513.5 1624,-1513.5 1624,-1534.25\"/>\n",
       "<text text-anchor=\"middle\" x=\"1556\" y=\"-1520.75\" font-family=\"monospace\" font-size=\"10.00\">ConvolutionBackward0</text>\n",
       "</g>\n",
       "<!-- 1392622325184&#45;&gt;1392595236560 -->\n",
       "<g id=\"edge112\" class=\"edge\">\n",
       "<title>1392622325184&#45;&gt;1392595236560</title>\n",
       "<path fill=\"none\" stroke=\"black\" d=\"M1648.8,-1569.84C1631.44,-1561.43 1606.17,-1549.18 1586.37,-1539.59\"/>\n",
       "<polygon fill=\"black\" stroke=\"black\" points=\"1587.91,-1536.45 1577.39,-1535.24 1584.86,-1542.75 1587.91,-1536.45\"/>\n",
       "</g>\n",
       "<!-- 1392595237808 -->\n",
       "<g id=\"node31\" class=\"node\">\n",
       "<title>1392595237808</title>\n",
       "<polygon fill=\"lightgrey\" stroke=\"black\" points=\"1708,-1654.12 1620,-1654.12 1620,-1633.38 1708,-1633.38 1708,-1654.12\"/>\n",
       "<text text-anchor=\"middle\" x=\"1664\" y=\"-1640.62\" font-family=\"monospace\" font-size=\"10.00\">AddBackward0</text>\n",
       "</g>\n",
       "<!-- 1392595237808&#45;&gt;1392622325184 -->\n",
       "<g id=\"edge29\" class=\"edge\">\n",
       "<title>1392595237808&#45;&gt;1392622325184</title>\n",
       "<path fill=\"none\" stroke=\"black\" d=\"M1664.8,-1632.93C1665.47,-1624.77 1666.44,-1612.88 1667.28,-1602.6\"/>\n",
       "<polygon fill=\"black\" stroke=\"black\" points=\"1670.76,-1602.98 1668.09,-1592.73 1663.79,-1602.41 1670.76,-1602.98\"/>\n",
       "</g>\n",
       "<!-- 1392595238000 -->\n",
       "<g id=\"node32\" class=\"node\">\n",
       "<title>1392595238000</title>\n",
       "<polygon fill=\"lightgrey\" stroke=\"black\" points=\"1706,-1723.62 1612,-1723.62 1612,-1702.88 1706,-1702.88 1706,-1723.62\"/>\n",
       "<text text-anchor=\"middle\" x=\"1659\" y=\"-1710.12\" font-family=\"monospace\" font-size=\"10.00\">ReluBackward0</text>\n",
       "</g>\n",
       "<!-- 1392595238000&#45;&gt;1392595237808 -->\n",
       "<g id=\"edge30\" class=\"edge\">\n",
       "<title>1392595238000&#45;&gt;1392595237808</title>\n",
       "<path fill=\"none\" stroke=\"black\" d=\"M1659.72,-1702.58C1660.43,-1692.96 1661.55,-1677.88 1662.46,-1665.54\"/>\n",
       "<polygon fill=\"black\" stroke=\"black\" points=\"1665.92,-1666.14 1663.17,-1655.91 1658.94,-1665.63 1665.92,-1666.14\"/>\n",
       "</g>\n",
       "<!-- 1392595237232 -->\n",
       "<g id=\"node33\" class=\"node\">\n",
       "<title>1392595237232</title>\n",
       "<polygon fill=\"lightgrey\" stroke=\"black\" points=\"1839,-1786.75 1703,-1786.75 1703,-1766 1839,-1766 1839,-1786.75\"/>\n",
       "<text text-anchor=\"middle\" x=\"1771\" y=\"-1773.25\" font-family=\"monospace\" font-size=\"10.00\">ConvolutionBackward0</text>\n",
       "</g>\n",
       "<!-- 1392595237232&#45;&gt;1392595238000 -->\n",
       "<g id=\"edge31\" class=\"edge\">\n",
       "<title>1392595237232&#45;&gt;1392595238000</title>\n",
       "<path fill=\"none\" stroke=\"black\" d=\"M1753.01,-1765.55C1735.21,-1755.84 1707.71,-1740.83 1687.05,-1729.56\"/>\n",
       "<polygon fill=\"black\" stroke=\"black\" points=\"1688.73,-1726.49 1678.28,-1724.77 1685.38,-1732.63 1688.73,-1726.49\"/>\n",
       "</g>\n",
       "<!-- 1392595237424 -->\n",
       "<g id=\"node34\" class=\"node\">\n",
       "<title>1392595237424</title>\n",
       "<polygon fill=\"lightgrey\" stroke=\"black\" points=\"1730,-1843.5 1642,-1843.5 1642,-1822.75 1730,-1822.75 1730,-1843.5\"/>\n",
       "<text text-anchor=\"middle\" x=\"1686\" y=\"-1830\" font-family=\"monospace\" font-size=\"10.00\">CatBackward0</text>\n",
       "</g>\n",
       "<!-- 1392595237424&#45;&gt;1392595237232 -->\n",
       "<g id=\"edge32\" class=\"edge\">\n",
       "<title>1392595237424&#45;&gt;1392595237232</title>\n",
       "<path fill=\"none\" stroke=\"black\" d=\"M1701.2,-1822.34C1713.77,-1814.24 1731.86,-1802.58 1746.48,-1793.17\"/>\n",
       "<polygon fill=\"black\" stroke=\"black\" points=\"1748.15,-1796.26 1754.66,-1787.9 1744.36,-1790.37 1748.15,-1796.26\"/>\n",
       "</g>\n",
       "<!-- 1392595236800 -->\n",
       "<g id=\"node35\" class=\"node\">\n",
       "<title>1392595236800</title>\n",
       "<polygon fill=\"lightgrey\" stroke=\"black\" points=\"1760,-1906.62 1612,-1906.62 1612,-1885.88 1760,-1885.88 1760,-1906.62\"/>\n",
       "<text text-anchor=\"middle\" x=\"1686\" y=\"-1893.12\" font-family=\"monospace\" font-size=\"10.00\">NativeDropoutBackward0</text>\n",
       "</g>\n",
       "<!-- 1392595236800&#45;&gt;1392595237424 -->\n",
       "<g id=\"edge33\" class=\"edge\">\n",
       "<title>1392595236800&#45;&gt;1392595237424</title>\n",
       "<path fill=\"none\" stroke=\"black\" d=\"M1686,-1885.43C1686,-1877.27 1686,-1865.38 1686,-1855.1\"/>\n",
       "<polygon fill=\"black\" stroke=\"black\" points=\"1689.5,-1855.23 1686,-1845.23 1682.5,-1855.23 1689.5,-1855.23\"/>\n",
       "</g>\n",
       "<!-- 1392595236128 -->\n",
       "<g id=\"node36\" class=\"node\">\n",
       "<title>1392595236128</title>\n",
       "<polygon fill=\"lightgrey\" stroke=\"black\" points=\"1719,-1976.12 1625,-1976.12 1625,-1955.38 1719,-1955.38 1719,-1976.12\"/>\n",
       "<text text-anchor=\"middle\" x=\"1672\" y=\"-1962.62\" font-family=\"monospace\" font-size=\"10.00\">ReluBackward0</text>\n",
       "</g>\n",
       "<!-- 1392595236128&#45;&gt;1392595236800 -->\n",
       "<g id=\"edge34\" class=\"edge\">\n",
       "<title>1392595236128&#45;&gt;1392595236800</title>\n",
       "<path fill=\"none\" stroke=\"black\" d=\"M1674.01,-1955.08C1676,-1945.46 1679.13,-1930.38 1681.69,-1918.04\"/>\n",
       "<polygon fill=\"black\" stroke=\"black\" points=\"1685.09,-1918.89 1683.69,-1908.39 1678.23,-1917.47 1685.09,-1918.89\"/>\n",
       "</g>\n",
       "<!-- 1392595235312 -->\n",
       "<g id=\"node37\" class=\"node\">\n",
       "<title>1392595235312</title>\n",
       "<polygon fill=\"lightgrey\" stroke=\"black\" points=\"1798,-2039.25 1662,-2039.25 1662,-2018.5 1798,-2018.5 1798,-2039.25\"/>\n",
       "<text text-anchor=\"middle\" x=\"1730\" y=\"-2025.75\" font-family=\"monospace\" font-size=\"10.00\">ConvolutionBackward0</text>\n",
       "</g>\n",
       "<!-- 1392595235312&#45;&gt;1392595236128 -->\n",
       "<g id=\"edge35\" class=\"edge\">\n",
       "<title>1392595235312&#45;&gt;1392595236128</title>\n",
       "<path fill=\"none\" stroke=\"black\" d=\"M1720.68,-2018.05C1712.09,-2009 1699.14,-1995.35 1688.75,-1984.4\"/>\n",
       "<polygon fill=\"black\" stroke=\"black\" points=\"1691.57,-1982.29 1682.15,-1977.44 1686.49,-1987.11 1691.57,-1982.29\"/>\n",
       "</g>\n",
       "<!-- 1392595237856 -->\n",
       "<g id=\"node38\" class=\"node\">\n",
       "<title>1392595237856</title>\n",
       "<polygon fill=\"lightgrey\" stroke=\"black\" points=\"1631,-2096 1537,-2096 1537,-2075.25 1631,-2075.25 1631,-2096\"/>\n",
       "<text text-anchor=\"middle\" x=\"1584\" y=\"-2082.5\" font-family=\"monospace\" font-size=\"10.00\">ReluBackward0</text>\n",
       "</g>\n",
       "<!-- 1392595237856&#45;&gt;1392595237808 -->\n",
       "<g id=\"edge101\" class=\"edge\">\n",
       "<title>1392595237856&#45;&gt;1392595237808</title>\n",
       "<path fill=\"none\" stroke=\"black\" d=\"M1584,-2074.84C1584,-2054.65 1584,-2006.86 1584,-1966.75 1584,-1966.75 1584,-1966.75 1584,-1775.38 1584,-1739.32 1584.1,-1727.21 1603,-1696.5 1611.73,-1682.32 1625.67,-1670.06 1638.02,-1661.05\"/>\n",
       "<polygon fill=\"black\" stroke=\"black\" points=\"1639.97,-1663.95 1646.21,-1655.39 1635.99,-1658.19 1639.97,-1663.95\"/>\n",
       "</g>\n",
       "<!-- 1392595237856&#45;&gt;1392595235312 -->\n",
       "<g id=\"edge36\" class=\"edge\">\n",
       "<title>1392595237856&#45;&gt;1392595235312</title>\n",
       "<path fill=\"none\" stroke=\"black\" d=\"M1610.1,-2074.84C1633.35,-2066.12 1667.62,-2053.27 1693.57,-2043.54\"/>\n",
       "<polygon fill=\"black\" stroke=\"black\" points=\"1694.57,-2046.9 1702.71,-2040.11 1692.11,-2040.34 1694.57,-2046.9\"/>\n",
       "</g>\n",
       "<!-- 1392595230560 -->\n",
       "<g id=\"node87\" class=\"node\">\n",
       "<title>1392595230560</title>\n",
       "<polygon fill=\"lightgrey\" stroke=\"black\" points=\"1532,-2039.25 1396,-2039.25 1396,-2018.5 1532,-2018.5 1532,-2039.25\"/>\n",
       "<text text-anchor=\"middle\" x=\"1464\" y=\"-2025.75\" font-family=\"monospace\" font-size=\"10.00\">ConvolutionBackward0</text>\n",
       "</g>\n",
       "<!-- 1392595237856&#45;&gt;1392595230560 -->\n",
       "<g id=\"edge86\" class=\"edge\">\n",
       "<title>1392595237856&#45;&gt;1392595230560</title>\n",
       "<path fill=\"none\" stroke=\"black\" d=\"M1562.55,-2074.84C1543.95,-2066.35 1516.78,-2053.95 1495.67,-2044.33\"/>\n",
       "<polygon fill=\"black\" stroke=\"black\" points=\"1497.2,-2041.17 1486.64,-2040.21 1494.29,-2047.54 1497.2,-2041.17\"/>\n",
       "</g>\n",
       "<!-- 1392595234736 -->\n",
       "<g id=\"node39\" class=\"node\">\n",
       "<title>1392595234736</title>\n",
       "<polygon fill=\"lightgrey\" stroke=\"black\" points=\"1628,-2159.12 1540,-2159.12 1540,-2138.38 1628,-2138.38 1628,-2159.12\"/>\n",
       "<text text-anchor=\"middle\" x=\"1584\" y=\"-2145.62\" font-family=\"monospace\" font-size=\"10.00\">AddBackward0</text>\n",
       "</g>\n",
       "<!-- 1392595234736&#45;&gt;1392595237856 -->\n",
       "<g id=\"edge37\" class=\"edge\">\n",
       "<title>1392595234736&#45;&gt;1392595237856</title>\n",
       "<path fill=\"none\" stroke=\"black\" d=\"M1584,-2137.93C1584,-2129.77 1584,-2117.88 1584,-2107.6\"/>\n",
       "<polygon fill=\"black\" stroke=\"black\" points=\"1587.5,-2107.73 1584,-2097.73 1580.5,-2107.73 1587.5,-2107.73\"/>\n",
       "</g>\n",
       "<!-- 1392595234928 -->\n",
       "<g id=\"node40\" class=\"node\">\n",
       "<title>1392595234928</title>\n",
       "<polygon fill=\"lightgrey\" stroke=\"black\" points=\"1498,-2228.62 1404,-2228.62 1404,-2207.88 1498,-2207.88 1498,-2228.62\"/>\n",
       "<text text-anchor=\"middle\" x=\"1451\" y=\"-2215.12\" font-family=\"monospace\" font-size=\"10.00\">ReluBackward0</text>\n",
       "</g>\n",
       "<!-- 1392595234928&#45;&gt;1392595234736 -->\n",
       "<g id=\"edge38\" class=\"edge\">\n",
       "<title>1392595234928&#45;&gt;1392595234736</title>\n",
       "<path fill=\"none\" stroke=\"black\" d=\"M1470.34,-2207.43C1492.4,-2196.24 1528.74,-2177.8 1554.38,-2164.78\"/>\n",
       "<polygon fill=\"black\" stroke=\"black\" points=\"1555.95,-2167.91 1563.29,-2160.26 1552.79,-2161.67 1555.95,-2167.91\"/>\n",
       "</g>\n",
       "<!-- 1392595234256 -->\n",
       "<g id=\"node41\" class=\"node\">\n",
       "<title>1392595234256</title>\n",
       "<polygon fill=\"lightgrey\" stroke=\"black\" points=\"1310,-2291.75 1174,-2291.75 1174,-2271 1310,-2271 1310,-2291.75\"/>\n",
       "<text text-anchor=\"middle\" x=\"1242\" y=\"-2278.25\" font-family=\"monospace\" font-size=\"10.00\">ConvolutionBackward0</text>\n",
       "</g>\n",
       "<!-- 1392595234256&#45;&gt;1392595234928 -->\n",
       "<g id=\"edge39\" class=\"edge\">\n",
       "<title>1392595234256&#45;&gt;1392595234928</title>\n",
       "<path fill=\"none\" stroke=\"black\" d=\"M1275.58,-2270.55C1311.15,-2260.15 1367.49,-2243.67 1406.68,-2232.21\"/>\n",
       "<polygon fill=\"black\" stroke=\"black\" points=\"1407.44,-2235.64 1416.05,-2229.47 1405.47,-2228.92 1407.44,-2235.64\"/>\n",
       "</g>\n",
       "<!-- 1392595233440 -->\n",
       "<g id=\"node42\" class=\"node\">\n",
       "<title>1392595233440</title>\n",
       "<polygon fill=\"lightgrey\" stroke=\"black\" points=\"904,-2354.88 816,-2354.88 816,-2334.12 904,-2334.12 904,-2354.88\"/>\n",
       "<text text-anchor=\"middle\" x=\"860\" y=\"-2341.38\" font-family=\"monospace\" font-size=\"10.00\">CatBackward0</text>\n",
       "</g>\n",
       "<!-- 1392595233440&#45;&gt;1392595234256 -->\n",
       "<g id=\"edge40\" class=\"edge\">\n",
       "<title>1392595233440&#45;&gt;1392595234256</title>\n",
       "<path fill=\"none\" stroke=\"black\" d=\"M904.19,-2336.43C969.15,-2326.03 1091.14,-2306.51 1169.38,-2293.99\"/>\n",
       "<polygon fill=\"black\" stroke=\"black\" points=\"1169.78,-2297.48 1179.1,-2292.44 1168.67,-2290.56 1169.78,-2297.48\"/>\n",
       "</g>\n",
       "<!-- 1392595232816 -->\n",
       "<g id=\"node43\" class=\"node\">\n",
       "<title>1392595232816</title>\n",
       "<polygon fill=\"lightgrey\" stroke=\"black\" points=\"767,-2424.38 619,-2424.38 619,-2403.62 767,-2403.62 767,-2424.38\"/>\n",
       "<text text-anchor=\"middle\" x=\"693\" y=\"-2410.88\" font-family=\"monospace\" font-size=\"10.00\">NativeDropoutBackward0</text>\n",
       "</g>\n",
       "<!-- 1392595232816&#45;&gt;1392595233440 -->\n",
       "<g id=\"edge41\" class=\"edge\">\n",
       "<title>1392595232816&#45;&gt;1392595233440</title>\n",
       "<path fill=\"none\" stroke=\"black\" d=\"M717.28,-2403.18C745.73,-2391.69 793.07,-2372.55 825.36,-2359.5\"/>\n",
       "<polygon fill=\"black\" stroke=\"black\" points=\"826.32,-2362.89 834.28,-2355.89 823.7,-2356.4 826.32,-2362.89\"/>\n",
       "</g>\n",
       "<!-- 1392595233056 -->\n",
       "<g id=\"node44\" class=\"node\">\n",
       "<title>1392595233056</title>\n",
       "<polygon fill=\"lightgrey\" stroke=\"black\" points=\"701,-2493.88 607,-2493.88 607,-2473.12 701,-2473.12 701,-2493.88\"/>\n",
       "<text text-anchor=\"middle\" x=\"654\" y=\"-2480.38\" font-family=\"monospace\" font-size=\"10.00\">ReluBackward0</text>\n",
       "</g>\n",
       "<!-- 1392595233056&#45;&gt;1392595232816 -->\n",
       "<g id=\"edge42\" class=\"edge\">\n",
       "<title>1392595233056&#45;&gt;1392595232816</title>\n",
       "<path fill=\"none\" stroke=\"black\" d=\"M659.59,-2472.83C665.38,-2462.8 674.59,-2446.87 681.87,-2434.26\"/>\n",
       "<polygon fill=\"black\" stroke=\"black\" points=\"684.69,-2436.37 686.67,-2425.96 678.63,-2432.87 684.69,-2436.37\"/>\n",
       "</g>\n",
       "<!-- 1392595232240 -->\n",
       "<g id=\"node45\" class=\"node\">\n",
       "<title>1392595232240</title>\n",
       "<polygon fill=\"lightgrey\" stroke=\"black\" points=\"703,-2557 567,-2557 567,-2536.25 703,-2536.25 703,-2557\"/>\n",
       "<text text-anchor=\"middle\" x=\"635\" y=\"-2543.5\" font-family=\"monospace\" font-size=\"10.00\">ConvolutionBackward0</text>\n",
       "</g>\n",
       "<!-- 1392595232240&#45;&gt;1392595233056 -->\n",
       "<g id=\"edge43\" class=\"edge\">\n",
       "<title>1392595232240&#45;&gt;1392595233056</title>\n",
       "<path fill=\"none\" stroke=\"black\" d=\"M638.05,-2535.8C640.64,-2527.47 644.45,-2515.23 647.69,-2504.8\"/>\n",
       "<polygon fill=\"black\" stroke=\"black\" points=\"650.94,-2506.13 650.57,-2495.54 644.26,-2504.05 650.94,-2506.13\"/>\n",
       "</g>\n",
       "<!-- 1392595232432 -->\n",
       "<g id=\"node46\" class=\"node\">\n",
       "<title>1392595232432</title>\n",
       "<polygon fill=\"lightgrey\" stroke=\"black\" points=\"557,-2613.75 373,-2613.75 373,-2593 557,-2593 557,-2613.75\"/>\n",
       "<text text-anchor=\"middle\" x=\"465\" y=\"-2600.25\" font-family=\"monospace\" font-size=\"10.00\">WeightNormInterfaceBackward0</text>\n",
       "</g>\n",
       "<!-- 1392595232432&#45;&gt;1392595232240 -->\n",
       "<g id=\"edge44\" class=\"edge\">\n",
       "<title>1392595232432&#45;&gt;1392595232240</title>\n",
       "<path fill=\"none\" stroke=\"black\" d=\"M495.39,-2592.59C522.87,-2583.74 563.54,-2570.64 593.91,-2560.86\"/>\n",
       "<polygon fill=\"black\" stroke=\"black\" points=\"594.7,-2564.28 603.14,-2557.88 592.55,-2557.62 594.7,-2564.28\"/>\n",
       "</g>\n",
       "<!-- 1392595231760 -->\n",
       "<g id=\"node47\" class=\"node\">\n",
       "<title>1392595231760</title>\n",
       "<polygon fill=\"lightgrey\" stroke=\"black\" points=\"298,-2676.88 198,-2676.88 198,-2656.12 298,-2656.12 298,-2676.88\"/>\n",
       "<text text-anchor=\"middle\" x=\"248\" y=\"-2663.38\" font-family=\"monospace\" font-size=\"10.00\">AccumulateGrad</text>\n",
       "</g>\n",
       "<!-- 1392595231760&#45;&gt;1392595232432 -->\n",
       "<g id=\"edge45\" class=\"edge\">\n",
       "<title>1392595231760&#45;&gt;1392595232432</title>\n",
       "<path fill=\"none\" stroke=\"black\" d=\"M282.86,-2655.68C319.88,-2645.25 378.54,-2628.73 419.25,-2617.26\"/>\n",
       "<polygon fill=\"black\" stroke=\"black\" points=\"420.09,-2620.66 428.76,-2614.58 418.19,-2613.92 420.09,-2620.66\"/>\n",
       "</g>\n",
       "<!-- 1392548037552 -->\n",
       "<g id=\"node48\" class=\"node\">\n",
       "<title>1392548037552</title>\n",
       "<polygon fill=\"lightblue\" stroke=\"black\" points=\"298,-2752.75 0,-2752.75 0,-2719.25 298,-2719.25 298,-2752.75\"/>\n",
       "<text text-anchor=\"middle\" x=\"149\" y=\"-2739.25\" font-family=\"monospace\" font-size=\"10.00\">tcn.0.branch1.parametrizations.weight.original1</text>\n",
       "<text text-anchor=\"middle\" x=\"149\" y=\"-2726.5\" font-family=\"monospace\" font-size=\"10.00\"> (64, 6, 3)</text>\n",
       "</g>\n",
       "<!-- 1392548037552&#45;&gt;1392595231760 -->\n",
       "<g id=\"edge46\" class=\"edge\">\n",
       "<title>1392548037552&#45;&gt;1392595231760</title>\n",
       "<path fill=\"none\" stroke=\"black\" d=\"M172.71,-2718.83C188.29,-2708.21 208.6,-2694.36 224.2,-2683.73\"/>\n",
       "<polygon fill=\"black\" stroke=\"black\" points=\"226.13,-2686.65 232.42,-2678.12 222.18,-2680.87 226.13,-2686.65\"/>\n",
       "</g>\n",
       "<!-- 1392595231616 -->\n",
       "<g id=\"node49\" class=\"node\">\n",
       "<title>1392595231616</title>\n",
       "<polygon fill=\"lightgrey\" stroke=\"black\" points=\"515,-2676.88 415,-2676.88 415,-2656.12 515,-2656.12 515,-2676.88\"/>\n",
       "<text text-anchor=\"middle\" x=\"465\" y=\"-2663.38\" font-family=\"monospace\" font-size=\"10.00\">AccumulateGrad</text>\n",
       "</g>\n",
       "<!-- 1392595231616&#45;&gt;1392595232432 -->\n",
       "<g id=\"edge47\" class=\"edge\">\n",
       "<title>1392595231616&#45;&gt;1392595232432</title>\n",
       "<path fill=\"none\" stroke=\"black\" d=\"M465,-2655.68C465,-2647.52 465,-2635.63 465,-2625.35\"/>\n",
       "<polygon fill=\"black\" stroke=\"black\" points=\"468.5,-2625.48 465,-2615.48 461.5,-2625.48 468.5,-2625.48\"/>\n",
       "</g>\n",
       "<!-- 1392548046192 -->\n",
       "<g id=\"node50\" class=\"node\">\n",
       "<title>1392548046192</title>\n",
       "<polygon fill=\"lightblue\" stroke=\"black\" points=\"614,-2752.75 316,-2752.75 316,-2719.25 614,-2719.25 614,-2752.75\"/>\n",
       "<text text-anchor=\"middle\" x=\"465\" y=\"-2739.25\" font-family=\"monospace\" font-size=\"10.00\">tcn.0.branch1.parametrizations.weight.original0</text>\n",
       "<text text-anchor=\"middle\" x=\"465\" y=\"-2726.5\" font-family=\"monospace\" font-size=\"10.00\"> (64, 1, 1)</text>\n",
       "</g>\n",
       "<!-- 1392548046192&#45;&gt;1392595231616 -->\n",
       "<g id=\"edge48\" class=\"edge\">\n",
       "<title>1392548046192&#45;&gt;1392595231616</title>\n",
       "<path fill=\"none\" stroke=\"black\" d=\"M465,-2719C465,-2709.9 465,-2698.39 465,-2688.57\"/>\n",
       "<polygon fill=\"black\" stroke=\"black\" points=\"468.5,-2688.84 465,-2678.84 461.5,-2688.84 468.5,-2688.84\"/>\n",
       "</g>\n",
       "<!-- 1392595232384 -->\n",
       "<g id=\"node51\" class=\"node\">\n",
       "<title>1392595232384</title>\n",
       "<polygon fill=\"lightgrey\" stroke=\"black\" points=\"685,-2613.75 585,-2613.75 585,-2593 685,-2593 685,-2613.75\"/>\n",
       "<text text-anchor=\"middle\" x=\"635\" y=\"-2600.25\" font-family=\"monospace\" font-size=\"10.00\">AccumulateGrad</text>\n",
       "</g>\n",
       "<!-- 1392595232384&#45;&gt;1392595232240 -->\n",
       "<g id=\"edge49\" class=\"edge\">\n",
       "<title>1392595232384&#45;&gt;1392595232240</title>\n",
       "<path fill=\"none\" stroke=\"black\" d=\"M635,-2592.59C635,-2585.97 635,-2576.97 635,-2568.77\"/>\n",
       "<polygon fill=\"black\" stroke=\"black\" points=\"638.5,-2568.84 635,-2558.84 631.5,-2568.84 638.5,-2568.84\"/>\n",
       "</g>\n",
       "<!-- 1394866997264 -->\n",
       "<g id=\"node52\" class=\"node\">\n",
       "<title>1394866997264</title>\n",
       "<polygon fill=\"lightblue\" stroke=\"black\" points=\"697,-2683.25 573,-2683.25 573,-2649.75 697,-2649.75 697,-2683.25\"/>\n",
       "<text text-anchor=\"middle\" x=\"635\" y=\"-2669.75\" font-family=\"monospace\" font-size=\"10.00\">tcn.0.branch1.bias</text>\n",
       "<text text-anchor=\"middle\" x=\"635\" y=\"-2657\" font-family=\"monospace\" font-size=\"10.00\"> (64)</text>\n",
       "</g>\n",
       "<!-- 1394866997264&#45;&gt;1392595232384 -->\n",
       "<g id=\"edge50\" class=\"edge\">\n",
       "<title>1394866997264&#45;&gt;1392595232384</title>\n",
       "<path fill=\"none\" stroke=\"black\" d=\"M635,-2649.44C635,-2642.1 635,-2633.32 635,-2625.46\"/>\n",
       "<polygon fill=\"black\" stroke=\"black\" points=\"638.5,-2625.73 635,-2615.73 631.5,-2625.73 638.5,-2625.73\"/>\n",
       "</g>\n",
       "<!-- 1392595233680 -->\n",
       "<g id=\"node53\" class=\"node\">\n",
       "<title>1392595233680</title>\n",
       "<polygon fill=\"lightgrey\" stroke=\"black\" points=\"934,-2424.38 786,-2424.38 786,-2403.62 934,-2403.62 934,-2424.38\"/>\n",
       "<text text-anchor=\"middle\" x=\"860\" y=\"-2410.88\" font-family=\"monospace\" font-size=\"10.00\">NativeDropoutBackward0</text>\n",
       "</g>\n",
       "<!-- 1392595233680&#45;&gt;1392595233440 -->\n",
       "<g id=\"edge51\" class=\"edge\">\n",
       "<title>1392595233680&#45;&gt;1392595233440</title>\n",
       "<path fill=\"none\" stroke=\"black\" d=\"M860,-2403.33C860,-2393.71 860,-2378.63 860,-2366.29\"/>\n",
       "<polygon fill=\"black\" stroke=\"black\" points=\"863.5,-2366.67 860,-2356.67 856.5,-2366.67 863.5,-2366.67\"/>\n",
       "</g>\n",
       "<!-- 1392595232864 -->\n",
       "<g id=\"node54\" class=\"node\">\n",
       "<title>1392595232864</title>\n",
       "<polygon fill=\"lightgrey\" stroke=\"black\" points=\"907,-2493.88 813,-2493.88 813,-2473.12 907,-2473.12 907,-2493.88\"/>\n",
       "<text text-anchor=\"middle\" x=\"860\" y=\"-2480.38\" font-family=\"monospace\" font-size=\"10.00\">ReluBackward0</text>\n",
       "</g>\n",
       "<!-- 1392595232864&#45;&gt;1392595233680 -->\n",
       "<g id=\"edge52\" class=\"edge\">\n",
       "<title>1392595232864&#45;&gt;1392595233680</title>\n",
       "<path fill=\"none\" stroke=\"black\" d=\"M860,-2472.83C860,-2463.21 860,-2448.13 860,-2435.79\"/>\n",
       "<polygon fill=\"black\" stroke=\"black\" points=\"863.5,-2436.17 860,-2426.17 856.5,-2436.17 863.5,-2436.17\"/>\n",
       "</g>\n",
       "<!-- 1392595231808 -->\n",
       "<g id=\"node55\" class=\"node\">\n",
       "<title>1392595231808</title>\n",
       "<polygon fill=\"lightgrey\" stroke=\"black\" points=\"930,-2557 794,-2557 794,-2536.25 930,-2536.25 930,-2557\"/>\n",
       "<text text-anchor=\"middle\" x=\"862\" y=\"-2543.5\" font-family=\"monospace\" font-size=\"10.00\">ConvolutionBackward0</text>\n",
       "</g>\n",
       "<!-- 1392595231808&#45;&gt;1392595232864 -->\n",
       "<g id=\"edge53\" class=\"edge\">\n",
       "<title>1392595231808&#45;&gt;1392595232864</title>\n",
       "<path fill=\"none\" stroke=\"black\" d=\"M861.68,-2535.8C861.41,-2527.65 861.02,-2515.76 860.69,-2505.48\"/>\n",
       "<polygon fill=\"black\" stroke=\"black\" points=\"864.19,-2505.49 860.36,-2495.61 857.19,-2505.72 864.19,-2505.49\"/>\n",
       "</g>\n",
       "<!-- 1392595230992 -->\n",
       "<g id=\"node56\" class=\"node\">\n",
       "<title>1392595230992</title>\n",
       "<polygon fill=\"lightgrey\" stroke=\"black\" points=\"954,-2613.75 770,-2613.75 770,-2593 954,-2593 954,-2613.75\"/>\n",
       "<text text-anchor=\"middle\" x=\"862\" y=\"-2600.25\" font-family=\"monospace\" font-size=\"10.00\">WeightNormInterfaceBackward0</text>\n",
       "</g>\n",
       "<!-- 1392595230992&#45;&gt;1392595231808 -->\n",
       "<g id=\"edge54\" class=\"edge\">\n",
       "<title>1392595230992&#45;&gt;1392595231808</title>\n",
       "<path fill=\"none\" stroke=\"black\" d=\"M862,-2592.59C862,-2585.97 862,-2576.97 862,-2568.77\"/>\n",
       "<polygon fill=\"black\" stroke=\"black\" points=\"865.5,-2568.84 862,-2558.84 858.5,-2568.84 865.5,-2568.84\"/>\n",
       "</g>\n",
       "<!-- 1392595230320 -->\n",
       "<g id=\"node57\" class=\"node\">\n",
       "<title>1392595230320</title>\n",
       "<polygon fill=\"lightgrey\" stroke=\"black\" points=\"831,-2676.88 731,-2676.88 731,-2656.12 831,-2656.12 831,-2676.88\"/>\n",
       "<text text-anchor=\"middle\" x=\"781\" y=\"-2663.38\" font-family=\"monospace\" font-size=\"10.00\">AccumulateGrad</text>\n",
       "</g>\n",
       "<!-- 1392595230320&#45;&gt;1392595230992 -->\n",
       "<g id=\"edge55\" class=\"edge\">\n",
       "<title>1392595230320&#45;&gt;1392595230992</title>\n",
       "<path fill=\"none\" stroke=\"black\" d=\"M794.01,-2655.68C806.41,-2646.32 825.32,-2632.05 840.05,-2620.94\"/>\n",
       "<polygon fill=\"black\" stroke=\"black\" points=\"841.94,-2623.9 847.81,-2615.08 837.72,-2618.31 841.94,-2623.9\"/>\n",
       "</g>\n",
       "<!-- 1392548044192 -->\n",
       "<g id=\"node58\" class=\"node\">\n",
       "<title>1392548044192</title>\n",
       "<polygon fill=\"lightblue\" stroke=\"black\" points=\"930,-2752.75 632,-2752.75 632,-2719.25 930,-2719.25 930,-2752.75\"/>\n",
       "<text text-anchor=\"middle\" x=\"781\" y=\"-2739.25\" font-family=\"monospace\" font-size=\"10.00\">tcn.0.branch2.parametrizations.weight.original1</text>\n",
       "<text text-anchor=\"middle\" x=\"781\" y=\"-2726.5\" font-family=\"monospace\" font-size=\"10.00\"> (64, 6, 5)</text>\n",
       "</g>\n",
       "<!-- 1392548044192&#45;&gt;1392595230320 -->\n",
       "<g id=\"edge56\" class=\"edge\">\n",
       "<title>1392548044192&#45;&gt;1392595230320</title>\n",
       "<path fill=\"none\" stroke=\"black\" d=\"M781,-2719C781,-2709.9 781,-2698.39 781,-2688.57\"/>\n",
       "<polygon fill=\"black\" stroke=\"black\" points=\"784.5,-2688.84 781,-2678.84 777.5,-2688.84 784.5,-2688.84\"/>\n",
       "</g>\n",
       "<!-- 1392595231184 -->\n",
       "<g id=\"node59\" class=\"node\">\n",
       "<title>1392595231184</title>\n",
       "<polygon fill=\"lightgrey\" stroke=\"black\" points=\"949,-2676.88 849,-2676.88 849,-2656.12 949,-2656.12 949,-2676.88\"/>\n",
       "<text text-anchor=\"middle\" x=\"899\" y=\"-2663.38\" font-family=\"monospace\" font-size=\"10.00\">AccumulateGrad</text>\n",
       "</g>\n",
       "<!-- 1392595231184&#45;&gt;1392595230992 -->\n",
       "<g id=\"edge57\" class=\"edge\">\n",
       "<title>1392595231184&#45;&gt;1392595230992</title>\n",
       "<path fill=\"none\" stroke=\"black\" d=\"M893.06,-2655.68C887.85,-2647.07 880.12,-2634.31 873.68,-2623.67\"/>\n",
       "<polygon fill=\"black\" stroke=\"black\" points=\"876.76,-2622.01 868.59,-2615.26 870.78,-2625.63 876.76,-2622.01\"/>\n",
       "</g>\n",
       "<!-- 1394867001024 -->\n",
       "<g id=\"node60\" class=\"node\">\n",
       "<title>1394867001024</title>\n",
       "<polygon fill=\"lightblue\" stroke=\"black\" points=\"1246,-2752.75 948,-2752.75 948,-2719.25 1246,-2719.25 1246,-2752.75\"/>\n",
       "<text text-anchor=\"middle\" x=\"1097\" y=\"-2739.25\" font-family=\"monospace\" font-size=\"10.00\">tcn.0.branch2.parametrizations.weight.original0</text>\n",
       "<text text-anchor=\"middle\" x=\"1097\" y=\"-2726.5\" font-family=\"monospace\" font-size=\"10.00\"> (64, 1, 1)</text>\n",
       "</g>\n",
       "<!-- 1394867001024&#45;&gt;1392595231184 -->\n",
       "<g id=\"edge58\" class=\"edge\">\n",
       "<title>1394867001024&#45;&gt;1392595231184</title>\n",
       "<path fill=\"none\" stroke=\"black\" d=\"M1049.57,-2718.83C1015.7,-2707.28 970.65,-2691.93 938.67,-2681.03\"/>\n",
       "<polygon fill=\"black\" stroke=\"black\" points=\"939.98,-2677.77 929.38,-2677.86 937.72,-2684.4 939.98,-2677.77\"/>\n",
       "</g>\n",
       "<!-- 1392595231568 -->\n",
       "<g id=\"node61\" class=\"node\">\n",
       "<title>1392595231568</title>\n",
       "<polygon fill=\"lightgrey\" stroke=\"black\" points=\"1077,-2613.75 977,-2613.75 977,-2593 1077,-2593 1077,-2613.75\"/>\n",
       "<text text-anchor=\"middle\" x=\"1027\" y=\"-2600.25\" font-family=\"monospace\" font-size=\"10.00\">AccumulateGrad</text>\n",
       "</g>\n",
       "<!-- 1392595231568&#45;&gt;1392595231808 -->\n",
       "<g id=\"edge59\" class=\"edge\">\n",
       "<title>1392595231568&#45;&gt;1392595231808</title>\n",
       "<path fill=\"none\" stroke=\"black\" d=\"M997.5,-2592.59C970.95,-2583.78 931.7,-2570.75 902.27,-2560.99\"/>\n",
       "<polygon fill=\"black\" stroke=\"black\" points=\"903.55,-2557.72 892.96,-2557.9 901.35,-2564.37 903.55,-2557.72\"/>\n",
       "</g>\n",
       "<!-- 1395784786592 -->\n",
       "<g id=\"node62\" class=\"node\">\n",
       "<title>1395784786592</title>\n",
       "<polygon fill=\"lightblue\" stroke=\"black\" points=\"1091,-2683.25 967,-2683.25 967,-2649.75 1091,-2649.75 1091,-2683.25\"/>\n",
       "<text text-anchor=\"middle\" x=\"1029\" y=\"-2669.75\" font-family=\"monospace\" font-size=\"10.00\">tcn.0.branch2.bias</text>\n",
       "<text text-anchor=\"middle\" x=\"1029\" y=\"-2657\" font-family=\"monospace\" font-size=\"10.00\"> (64)</text>\n",
       "</g>\n",
       "<!-- 1395784786592&#45;&gt;1392595231568 -->\n",
       "<g id=\"edge60\" class=\"edge\">\n",
       "<title>1395784786592&#45;&gt;1392595231568</title>\n",
       "<path fill=\"none\" stroke=\"black\" d=\"M1028.47,-2649.44C1028.23,-2642.1 1027.95,-2633.32 1027.69,-2625.46\"/>\n",
       "<polygon fill=\"black\" stroke=\"black\" points=\"1031.2,-2625.61 1027.37,-2615.73 1024.2,-2625.84 1031.2,-2625.61\"/>\n",
       "</g>\n",
       "<!-- 1392595234304 -->\n",
       "<g id=\"node63\" class=\"node\">\n",
       "<title>1392595234304</title>\n",
       "<polygon fill=\"lightgrey\" stroke=\"black\" points=\"1254,-2354.88 1070,-2354.88 1070,-2334.12 1254,-2334.12 1254,-2354.88\"/>\n",
       "<text text-anchor=\"middle\" x=\"1162\" y=\"-2341.38\" font-family=\"monospace\" font-size=\"10.00\">WeightNormInterfaceBackward0</text>\n",
       "</g>\n",
       "<!-- 1392595234304&#45;&gt;1392595234256 -->\n",
       "<g id=\"edge61\" class=\"edge\">\n",
       "<title>1392595234304&#45;&gt;1392595234256</title>\n",
       "<path fill=\"none\" stroke=\"black\" d=\"M1174.85,-2333.68C1187.1,-2324.32 1205.77,-2310.05 1220.32,-2298.94\"/>\n",
       "<polygon fill=\"black\" stroke=\"black\" points=\"1222.15,-2301.94 1227.98,-2293.09 1217.9,-2296.38 1222.15,-2301.94\"/>\n",
       "</g>\n",
       "<!-- 1392595230944 -->\n",
       "<g id=\"node64\" class=\"node\">\n",
       "<title>1392595230944</title>\n",
       "<polygon fill=\"lightgrey\" stroke=\"black\" points=\"1124,-2424.38 1024,-2424.38 1024,-2403.62 1124,-2403.62 1124,-2424.38\"/>\n",
       "<text text-anchor=\"middle\" x=\"1074\" y=\"-2410.88\" font-family=\"monospace\" font-size=\"10.00\">AccumulateGrad</text>\n",
       "</g>\n",
       "<!-- 1392595230944&#45;&gt;1392595234304 -->\n",
       "<g id=\"edge62\" class=\"edge\">\n",
       "<title>1392595230944&#45;&gt;1392595234304</title>\n",
       "<path fill=\"none\" stroke=\"black\" d=\"M1086.61,-2403.33C1100.64,-2392.56 1123.57,-2374.98 1140.46,-2362.02\"/>\n",
       "<polygon fill=\"black\" stroke=\"black\" points=\"1142.12,-2365.16 1147.93,-2356.29 1137.86,-2359.6 1142.12,-2365.16\"/>\n",
       "</g>\n",
       "<!-- 1395617054320 -->\n",
       "<g id=\"node65\" class=\"node\">\n",
       "<title>1395617054320</title>\n",
       "<polygon fill=\"lightblue\" stroke=\"black\" points=\"1223,-2500.25 925,-2500.25 925,-2466.75 1223,-2466.75 1223,-2500.25\"/>\n",
       "<text text-anchor=\"middle\" x=\"1074\" y=\"-2486.75\" font-family=\"monospace\" font-size=\"10.00\">tcn.0.conv1x1.parametrizations.weight.original1</text>\n",
       "<text text-anchor=\"middle\" x=\"1074\" y=\"-2474\" font-family=\"monospace\" font-size=\"10.00\"> (64, 128, 1)</text>\n",
       "</g>\n",
       "<!-- 1395617054320&#45;&gt;1392595230944 -->\n",
       "<g id=\"edge63\" class=\"edge\">\n",
       "<title>1395617054320&#45;&gt;1392595230944</title>\n",
       "<path fill=\"none\" stroke=\"black\" d=\"M1074,-2466.5C1074,-2457.4 1074,-2445.89 1074,-2436.07\"/>\n",
       "<polygon fill=\"black\" stroke=\"black\" points=\"1077.5,-2436.34 1074,-2426.34 1070.5,-2436.34 1077.5,-2436.34\"/>\n",
       "</g>\n",
       "<!-- 1392595232192 -->\n",
       "<g id=\"node66\" class=\"node\">\n",
       "<title>1392595232192</title>\n",
       "<polygon fill=\"lightgrey\" stroke=\"black\" points=\"1242,-2424.38 1142,-2424.38 1142,-2403.62 1242,-2403.62 1242,-2424.38\"/>\n",
       "<text text-anchor=\"middle\" x=\"1192\" y=\"-2410.88\" font-family=\"monospace\" font-size=\"10.00\">AccumulateGrad</text>\n",
       "</g>\n",
       "<!-- 1392595232192&#45;&gt;1392595234304 -->\n",
       "<g id=\"edge64\" class=\"edge\">\n",
       "<title>1392595232192&#45;&gt;1392595234304</title>\n",
       "<path fill=\"none\" stroke=\"black\" d=\"M1187.7,-2403.33C1183.34,-2393.5 1176.44,-2378 1170.9,-2365.52\"/>\n",
       "<polygon fill=\"black\" stroke=\"black\" points=\"1174.16,-2364.25 1166.91,-2356.54 1167.77,-2367.1 1174.16,-2364.25\"/>\n",
       "</g>\n",
       "<!-- 1395617159728 -->\n",
       "<g id=\"node67\" class=\"node\">\n",
       "<title>1395617159728</title>\n",
       "<polygon fill=\"lightblue\" stroke=\"black\" points=\"1539,-2500.25 1241,-2500.25 1241,-2466.75 1539,-2466.75 1539,-2500.25\"/>\n",
       "<text text-anchor=\"middle\" x=\"1390\" y=\"-2486.75\" font-family=\"monospace\" font-size=\"10.00\">tcn.0.conv1x1.parametrizations.weight.original0</text>\n",
       "<text text-anchor=\"middle\" x=\"1390\" y=\"-2474\" font-family=\"monospace\" font-size=\"10.00\"> (64, 1, 1)</text>\n",
       "</g>\n",
       "<!-- 1395617159728&#45;&gt;1392595232192 -->\n",
       "<g id=\"edge65\" class=\"edge\">\n",
       "<title>1395617159728&#45;&gt;1392595232192</title>\n",
       "<path fill=\"none\" stroke=\"black\" d=\"M1342.57,-2466.33C1308.7,-2454.78 1263.65,-2439.43 1231.67,-2428.53\"/>\n",
       "<polygon fill=\"black\" stroke=\"black\" points=\"1232.98,-2425.27 1222.38,-2425.36 1230.72,-2431.9 1232.98,-2425.27\"/>\n",
       "</g>\n",
       "<!-- 1392595234064 -->\n",
       "<g id=\"node68\" class=\"node\">\n",
       "<title>1392595234064</title>\n",
       "<polygon fill=\"lightgrey\" stroke=\"black\" points=\"1372,-2354.88 1272,-2354.88 1272,-2334.12 1372,-2334.12 1372,-2354.88\"/>\n",
       "<text text-anchor=\"middle\" x=\"1322\" y=\"-2341.38\" font-family=\"monospace\" font-size=\"10.00\">AccumulateGrad</text>\n",
       "</g>\n",
       "<!-- 1392595234064&#45;&gt;1392595234256 -->\n",
       "<g id=\"edge66\" class=\"edge\">\n",
       "<title>1392595234064&#45;&gt;1392595234256</title>\n",
       "<path fill=\"none\" stroke=\"black\" d=\"M1309.15,-2333.68C1296.9,-2324.32 1278.23,-2310.05 1263.68,-2298.94\"/>\n",
       "<polygon fill=\"black\" stroke=\"black\" points=\"1266.1,-2296.38 1256.02,-2293.09 1261.85,-2301.94 1266.1,-2296.38\"/>\n",
       "</g>\n",
       "<!-- 1392548040672 -->\n",
       "<g id=\"node69\" class=\"node\">\n",
       "<title>1392548040672</title>\n",
       "<polygon fill=\"lightblue\" stroke=\"black\" points=\"1384,-2430.75 1260,-2430.75 1260,-2397.25 1384,-2397.25 1384,-2430.75\"/>\n",
       "<text text-anchor=\"middle\" x=\"1322\" y=\"-2417.25\" font-family=\"monospace\" font-size=\"10.00\">tcn.0.conv1x1.bias</text>\n",
       "<text text-anchor=\"middle\" x=\"1322\" y=\"-2404.5\" font-family=\"monospace\" font-size=\"10.00\"> (64)</text>\n",
       "</g>\n",
       "<!-- 1392548040672&#45;&gt;1392595234064 -->\n",
       "<g id=\"edge67\" class=\"edge\">\n",
       "<title>1392548040672&#45;&gt;1392595234064</title>\n",
       "<path fill=\"none\" stroke=\"black\" d=\"M1322,-2397C1322,-2387.9 1322,-2376.39 1322,-2366.57\"/>\n",
       "<polygon fill=\"black\" stroke=\"black\" points=\"1325.5,-2366.84 1322,-2356.84 1318.5,-2366.84 1325.5,-2366.84\"/>\n",
       "</g>\n",
       "<!-- 1392595234880 -->\n",
       "<g id=\"node70\" class=\"node\">\n",
       "<title>1392595234880</title>\n",
       "<polygon fill=\"lightgrey\" stroke=\"black\" points=\"1652,-2228.62 1516,-2228.62 1516,-2207.88 1652,-2207.88 1652,-2228.62\"/>\n",
       "<text text-anchor=\"middle\" x=\"1584\" y=\"-2215.12\" font-family=\"monospace\" font-size=\"10.00\">ConvolutionBackward0</text>\n",
       "</g>\n",
       "<!-- 1392595234880&#45;&gt;1392595234736 -->\n",
       "<g id=\"edge68\" class=\"edge\">\n",
       "<title>1392595234880&#45;&gt;1392595234736</title>\n",
       "<path fill=\"none\" stroke=\"black\" d=\"M1584,-2207.58C1584,-2197.96 1584,-2182.88 1584,-2170.54\"/>\n",
       "<polygon fill=\"black\" stroke=\"black\" points=\"1587.5,-2170.92 1584,-2160.92 1580.5,-2170.92 1587.5,-2170.92\"/>\n",
       "</g>\n",
       "<!-- 1392595230512 -->\n",
       "<g id=\"node71\" class=\"node\">\n",
       "<title>1392595230512</title>\n",
       "<polygon fill=\"lightgrey\" stroke=\"black\" points=\"1676,-2291.75 1492,-2291.75 1492,-2271 1676,-2271 1676,-2291.75\"/>\n",
       "<text text-anchor=\"middle\" x=\"1584\" y=\"-2278.25\" font-family=\"monospace\" font-size=\"10.00\">WeightNormInterfaceBackward0</text>\n",
       "</g>\n",
       "<!-- 1392595230512&#45;&gt;1392595234880 -->\n",
       "<g id=\"edge69\" class=\"edge\">\n",
       "<title>1392595230512&#45;&gt;1392595234880</title>\n",
       "<path fill=\"none\" stroke=\"black\" d=\"M1584,-2270.55C1584,-2262.4 1584,-2250.51 1584,-2240.23\"/>\n",
       "<polygon fill=\"black\" stroke=\"black\" points=\"1587.5,-2240.36 1584,-2230.36 1580.5,-2240.36 1587.5,-2240.36\"/>\n",
       "</g>\n",
       "<!-- 1392595230368 -->\n",
       "<g id=\"node72\" class=\"node\">\n",
       "<title>1392595230368</title>\n",
       "<polygon fill=\"lightgrey\" stroke=\"black\" points=\"1610,-2354.88 1510,-2354.88 1510,-2334.12 1610,-2334.12 1610,-2354.88\"/>\n",
       "<text text-anchor=\"middle\" x=\"1560\" y=\"-2341.38\" font-family=\"monospace\" font-size=\"10.00\">AccumulateGrad</text>\n",
       "</g>\n",
       "<!-- 1392595230368&#45;&gt;1392595230512 -->\n",
       "<g id=\"edge70\" class=\"edge\">\n",
       "<title>1392595230368&#45;&gt;1392595230512</title>\n",
       "<path fill=\"none\" stroke=\"black\" d=\"M1563.86,-2333.68C1567.13,-2325.34 1571.93,-2313.11 1576.03,-2302.68\"/>\n",
       "<polygon fill=\"black\" stroke=\"black\" points=\"1579.28,-2303.97 1579.68,-2293.38 1572.77,-2301.41 1579.28,-2303.97\"/>\n",
       "</g>\n",
       "<!-- 1395734331072 -->\n",
       "<g id=\"node73\" class=\"node\">\n",
       "<title>1395734331072</title>\n",
       "<polygon fill=\"lightblue\" stroke=\"black\" points=\"1718,-2430.75 1402,-2430.75 1402,-2397.25 1718,-2397.25 1718,-2430.75\"/>\n",
       "<text text-anchor=\"middle\" x=\"1560\" y=\"-2417.25\" font-family=\"monospace\" font-size=\"10.00\">tcn.0.downsample.parametrizations.weight.original1</text>\n",
       "<text text-anchor=\"middle\" x=\"1560\" y=\"-2404.5\" font-family=\"monospace\" font-size=\"10.00\"> (64, 6, 1)</text>\n",
       "</g>\n",
       "<!-- 1395734331072&#45;&gt;1392595230368 -->\n",
       "<g id=\"edge71\" class=\"edge\">\n",
       "<title>1395734331072&#45;&gt;1392595230368</title>\n",
       "<path fill=\"none\" stroke=\"black\" d=\"M1560,-2397C1560,-2387.9 1560,-2376.39 1560,-2366.57\"/>\n",
       "<polygon fill=\"black\" stroke=\"black\" points=\"1563.5,-2366.84 1560,-2356.84 1556.5,-2366.84 1563.5,-2366.84\"/>\n",
       "</g>\n",
       "<!-- 1392595233632 -->\n",
       "<g id=\"node74\" class=\"node\">\n",
       "<title>1392595233632</title>\n",
       "<polygon fill=\"lightgrey\" stroke=\"black\" points=\"1728,-2354.88 1628,-2354.88 1628,-2334.12 1728,-2334.12 1728,-2354.88\"/>\n",
       "<text text-anchor=\"middle\" x=\"1678\" y=\"-2341.38\" font-family=\"monospace\" font-size=\"10.00\">AccumulateGrad</text>\n",
       "</g>\n",
       "<!-- 1392595233632&#45;&gt;1392595230512 -->\n",
       "<g id=\"edge72\" class=\"edge\">\n",
       "<title>1392595233632&#45;&gt;1392595230512</title>\n",
       "<path fill=\"none\" stroke=\"black\" d=\"M1662.9,-2333.68C1648.23,-2324.14 1625.73,-2309.51 1608.5,-2298.31\"/>\n",
       "<polygon fill=\"black\" stroke=\"black\" points=\"1610.63,-2295.51 1600.33,-2293 1606.81,-2301.38 1610.63,-2295.51\"/>\n",
       "</g>\n",
       "<!-- 1395734322432 -->\n",
       "<g id=\"node75\" class=\"node\">\n",
       "<title>1395734322432</title>\n",
       "<polygon fill=\"lightblue\" stroke=\"black\" points=\"2052,-2430.75 1736,-2430.75 1736,-2397.25 2052,-2397.25 2052,-2430.75\"/>\n",
       "<text text-anchor=\"middle\" x=\"1894\" y=\"-2417.25\" font-family=\"monospace\" font-size=\"10.00\">tcn.0.downsample.parametrizations.weight.original0</text>\n",
       "<text text-anchor=\"middle\" x=\"1894\" y=\"-2404.5\" font-family=\"monospace\" font-size=\"10.00\"> (64, 1, 1)</text>\n",
       "</g>\n",
       "<!-- 1395734322432&#45;&gt;1392595233632 -->\n",
       "<g id=\"edge73\" class=\"edge\">\n",
       "<title>1395734322432&#45;&gt;1392595233632</title>\n",
       "<path fill=\"none\" stroke=\"black\" d=\"M1842.26,-2396.83C1804.99,-2385.18 1755.3,-2369.66 1720.37,-2358.74\"/>\n",
       "<polygon fill=\"black\" stroke=\"black\" points=\"1721.62,-2355.46 1711.03,-2355.82 1719.53,-2362.14 1721.62,-2355.46\"/>\n",
       "</g>\n",
       "<!-- 1392595233488 -->\n",
       "<g id=\"node76\" class=\"node\">\n",
       "<title>1392595233488</title>\n",
       "<polygon fill=\"lightgrey\" stroke=\"black\" points=\"1842,-2291.75 1742,-2291.75 1742,-2271 1842,-2271 1842,-2291.75\"/>\n",
       "<text text-anchor=\"middle\" x=\"1792\" y=\"-2278.25\" font-family=\"monospace\" font-size=\"10.00\">AccumulateGrad</text>\n",
       "</g>\n",
       "<!-- 1392595233488&#45;&gt;1392595234880 -->\n",
       "<g id=\"edge74\" class=\"edge\">\n",
       "<title>1392595233488&#45;&gt;1392595234880</title>\n",
       "<path fill=\"none\" stroke=\"black\" d=\"M1758.58,-2270.55C1723.25,-2260.17 1667.35,-2243.74 1628.35,-2232.28\"/>\n",
       "<polygon fill=\"black\" stroke=\"black\" points=\"1629.37,-2228.93 1618.79,-2229.47 1627.4,-2235.65 1629.37,-2228.93\"/>\n",
       "</g>\n",
       "<!-- 1395734330992 -->\n",
       "<g id=\"node77\" class=\"node\">\n",
       "<title>1395734330992</title>\n",
       "<polygon fill=\"lightblue\" stroke=\"black\" points=\"1888,-2361.25 1746,-2361.25 1746,-2327.75 1888,-2327.75 1888,-2361.25\"/>\n",
       "<text text-anchor=\"middle\" x=\"1817\" y=\"-2347.75\" font-family=\"monospace\" font-size=\"10.00\">tcn.0.downsample.bias</text>\n",
       "<text text-anchor=\"middle\" x=\"1817\" y=\"-2335\" font-family=\"monospace\" font-size=\"10.00\"> (64)</text>\n",
       "</g>\n",
       "<!-- 1395734330992&#45;&gt;1392595233488 -->\n",
       "<g id=\"edge75\" class=\"edge\">\n",
       "<title>1395734330992&#45;&gt;1392595233488</title>\n",
       "<path fill=\"none\" stroke=\"black\" d=\"M1810.43,-2327.44C1807.32,-2319.84 1803.58,-2310.69 1800.28,-2302.62\"/>\n",
       "<polygon fill=\"black\" stroke=\"black\" points=\"1803.62,-2301.55 1796.6,-2293.62 1797.14,-2304.2 1803.62,-2301.55\"/>\n",
       "</g>\n",
       "<!-- 1392595235504 -->\n",
       "<g id=\"node78\" class=\"node\">\n",
       "<title>1392595235504</title>\n",
       "<polygon fill=\"lightgrey\" stroke=\"black\" points=\"1872,-2096 1688,-2096 1688,-2075.25 1872,-2075.25 1872,-2096\"/>\n",
       "<text text-anchor=\"middle\" x=\"1780\" y=\"-2082.5\" font-family=\"monospace\" font-size=\"10.00\">WeightNormInterfaceBackward0</text>\n",
       "</g>\n",
       "<!-- 1392595235504&#45;&gt;1392595235312 -->\n",
       "<g id=\"edge76\" class=\"edge\">\n",
       "<title>1392595235504&#45;&gt;1392595235312</title>\n",
       "<path fill=\"none\" stroke=\"black\" d=\"M1771.06,-2074.84C1764.24,-2067.36 1754.64,-2056.86 1746.44,-2047.88\"/>\n",
       "<polygon fill=\"black\" stroke=\"black\" points=\"1749.21,-2045.72 1739.88,-2040.7 1744.04,-2050.44 1749.21,-2045.72\"/>\n",
       "</g>\n",
       "<!-- 1392595234112 -->\n",
       "<g id=\"node79\" class=\"node\">\n",
       "<title>1392595234112</title>\n",
       "<polygon fill=\"lightgrey\" stroke=\"black\" points=\"1830,-2159.12 1730,-2159.12 1730,-2138.38 1830,-2138.38 1830,-2159.12\"/>\n",
       "<text text-anchor=\"middle\" x=\"1780\" y=\"-2145.62\" font-family=\"monospace\" font-size=\"10.00\">AccumulateGrad</text>\n",
       "</g>\n",
       "<!-- 1392595234112&#45;&gt;1392595235504 -->\n",
       "<g id=\"edge77\" class=\"edge\">\n",
       "<title>1392595234112&#45;&gt;1392595235504</title>\n",
       "<path fill=\"none\" stroke=\"black\" d=\"M1780,-2137.93C1780,-2129.77 1780,-2117.88 1780,-2107.6\"/>\n",
       "<polygon fill=\"black\" stroke=\"black\" points=\"1783.5,-2107.73 1780,-2097.73 1776.5,-2107.73 1783.5,-2107.73\"/>\n",
       "</g>\n",
       "<!-- 1395734330272 -->\n",
       "<g id=\"node80\" class=\"node\">\n",
       "<title>1395734330272</title>\n",
       "<polygon fill=\"lightblue\" stroke=\"black\" points=\"1968,-2235 1670,-2235 1670,-2201.5 1968,-2201.5 1968,-2235\"/>\n",
       "<text text-anchor=\"middle\" x=\"1819\" y=\"-2221.5\" font-family=\"monospace\" font-size=\"10.00\">tcn.1.branch1.parametrizations.weight.original1</text>\n",
       "<text text-anchor=\"middle\" x=\"1819\" y=\"-2208.75\" font-family=\"monospace\" font-size=\"10.00\"> (64, 64, 3)</text>\n",
       "</g>\n",
       "<!-- 1395734330272&#45;&gt;1392595234112 -->\n",
       "<g id=\"edge78\" class=\"edge\">\n",
       "<title>1395734330272&#45;&gt;1392595234112</title>\n",
       "<path fill=\"none\" stroke=\"black\" d=\"M1809.76,-2201.25C1804.27,-2191.75 1797.26,-2179.62 1791.42,-2169.52\"/>\n",
       "<polygon fill=\"black\" stroke=\"black\" points=\"1794.47,-2167.79 1786.43,-2160.88 1788.4,-2171.29 1794.47,-2167.79\"/>\n",
       "</g>\n",
       "<!-- 1392595235552 -->\n",
       "<g id=\"node81\" class=\"node\">\n",
       "<title>1392595235552</title>\n",
       "<polygon fill=\"lightgrey\" stroke=\"black\" points=\"1948,-2159.12 1848,-2159.12 1848,-2138.38 1948,-2138.38 1948,-2159.12\"/>\n",
       "<text text-anchor=\"middle\" x=\"1898\" y=\"-2145.62\" font-family=\"monospace\" font-size=\"10.00\">AccumulateGrad</text>\n",
       "</g>\n",
       "<!-- 1392595235552&#45;&gt;1392595235504 -->\n",
       "<g id=\"edge79\" class=\"edge\">\n",
       "<title>1392595235552&#45;&gt;1392595235504</title>\n",
       "<path fill=\"none\" stroke=\"black\" d=\"M1879.04,-2137.93C1860.12,-2128.13 1830.79,-2112.93 1808.95,-2101.62\"/>\n",
       "<polygon fill=\"black\" stroke=\"black\" points=\"1810.74,-2098.61 1800.26,-2097.12 1807.53,-2104.83 1810.74,-2098.61\"/>\n",
       "</g>\n",
       "<!-- 1395734330432 -->\n",
       "<g id=\"node82\" class=\"node\">\n",
       "<title>1395734330432</title>\n",
       "<polygon fill=\"lightblue\" stroke=\"black\" points=\"2284,-2235 1986,-2235 1986,-2201.5 2284,-2201.5 2284,-2235\"/>\n",
       "<text text-anchor=\"middle\" x=\"2135\" y=\"-2221.5\" font-family=\"monospace\" font-size=\"10.00\">tcn.1.branch1.parametrizations.weight.original0</text>\n",
       "<text text-anchor=\"middle\" x=\"2135\" y=\"-2208.75\" font-family=\"monospace\" font-size=\"10.00\"> (64, 1, 1)</text>\n",
       "</g>\n",
       "<!-- 1395734330432&#45;&gt;1392595235552 -->\n",
       "<g id=\"edge80\" class=\"edge\">\n",
       "<title>1395734330432&#45;&gt;1392595235552</title>\n",
       "<path fill=\"none\" stroke=\"black\" d=\"M2078.23,-2201.08C2036.98,-2189.33 1981.87,-2173.64 1943.5,-2162.71\"/>\n",
       "<polygon fill=\"black\" stroke=\"black\" points=\"1944.69,-2159.41 1934.11,-2160.03 1942.77,-2166.14 1944.69,-2159.41\"/>\n",
       "</g>\n",
       "<!-- 1392595235360 -->\n",
       "<g id=\"node83\" class=\"node\">\n",
       "<title>1392595235360</title>\n",
       "<polygon fill=\"lightgrey\" stroke=\"black\" points=\"2034,-2096 1934,-2096 1934,-2075.25 2034,-2075.25 2034,-2096\"/>\n",
       "<text text-anchor=\"middle\" x=\"1984\" y=\"-2082.5\" font-family=\"monospace\" font-size=\"10.00\">AccumulateGrad</text>\n",
       "</g>\n",
       "<!-- 1392595235360&#45;&gt;1392595235312 -->\n",
       "<g id=\"edge81\" class=\"edge\">\n",
       "<title>1392595235360&#45;&gt;1392595235312</title>\n",
       "<path fill=\"none\" stroke=\"black\" d=\"M1938.3,-2074.77C1895.9,-2065.63 1832.65,-2052 1786.97,-2042.16\"/>\n",
       "<polygon fill=\"black\" stroke=\"black\" points=\"1787.76,-2038.74 1777.24,-2040.06 1786.28,-2045.59 1787.76,-2038.74\"/>\n",
       "</g>\n",
       "<!-- 1395734329712 -->\n",
       "<g id=\"node84\" class=\"node\">\n",
       "<title>1395734329712</title>\n",
       "<polygon fill=\"lightblue\" stroke=\"black\" points=\"2090,-2165.5 1966,-2165.5 1966,-2132 2090,-2132 2090,-2165.5\"/>\n",
       "<text text-anchor=\"middle\" x=\"2028\" y=\"-2152\" font-family=\"monospace\" font-size=\"10.00\">tcn.1.branch1.bias</text>\n",
       "<text text-anchor=\"middle\" x=\"2028\" y=\"-2139.25\" font-family=\"monospace\" font-size=\"10.00\"> (64)</text>\n",
       "</g>\n",
       "<!-- 1395734329712&#45;&gt;1392595235360 -->\n",
       "<g id=\"edge82\" class=\"edge\">\n",
       "<title>1395734329712&#45;&gt;1392595235360</title>\n",
       "<path fill=\"none\" stroke=\"black\" d=\"M2016.44,-2131.69C2010.72,-2123.74 2003.77,-2114.09 1997.78,-2105.77\"/>\n",
       "<polygon fill=\"black\" stroke=\"black\" points=\"2000.65,-2103.77 1991.97,-2097.7 1994.97,-2107.86 2000.65,-2103.77\"/>\n",
       "</g>\n",
       "<!-- 1392595236752 -->\n",
       "<g id=\"node85\" class=\"node\">\n",
       "<title>1392595236752</title>\n",
       "<polygon fill=\"lightgrey\" stroke=\"black\" points=\"1554,-1906.62 1406,-1906.62 1406,-1885.88 1554,-1885.88 1554,-1906.62\"/>\n",
       "<text text-anchor=\"middle\" x=\"1480\" y=\"-1893.12\" font-family=\"monospace\" font-size=\"10.00\">NativeDropoutBackward0</text>\n",
       "</g>\n",
       "<!-- 1392595236752&#45;&gt;1392595237424 -->\n",
       "<g id=\"edge83\" class=\"edge\">\n",
       "<title>1392595236752&#45;&gt;1392595237424</title>\n",
       "<path fill=\"none\" stroke=\"black\" d=\"M1513.1,-1885.43C1548.09,-1875.05 1603.45,-1858.62 1642.07,-1847.16\"/>\n",
       "<polygon fill=\"black\" stroke=\"black\" points=\"1642.94,-1850.55 1651.53,-1844.35 1640.95,-1843.84 1642.94,-1850.55\"/>\n",
       "</g>\n",
       "<!-- 1392595235936 -->\n",
       "<g id=\"node86\" class=\"node\">\n",
       "<title>1392595235936</title>\n",
       "<polygon fill=\"lightgrey\" stroke=\"black\" points=\"1516,-1976.12 1422,-1976.12 1422,-1955.38 1516,-1955.38 1516,-1976.12\"/>\n",
       "<text text-anchor=\"middle\" x=\"1469\" y=\"-1962.62\" font-family=\"monospace\" font-size=\"10.00\">ReluBackward0</text>\n",
       "</g>\n",
       "<!-- 1392595235936&#45;&gt;1392595236752 -->\n",
       "<g id=\"edge84\" class=\"edge\">\n",
       "<title>1392595235936&#45;&gt;1392595236752</title>\n",
       "<path fill=\"none\" stroke=\"black\" d=\"M1470.58,-1955.08C1472.14,-1945.46 1474.6,-1930.38 1476.61,-1918.04\"/>\n",
       "<polygon fill=\"black\" stroke=\"black\" points=\"1480.03,-1918.83 1478.18,-1908.4 1473.12,-1917.7 1480.03,-1918.83\"/>\n",
       "</g>\n",
       "<!-- 1392595230560&#45;&gt;1392595235936 -->\n",
       "<g id=\"edge85\" class=\"edge\">\n",
       "<title>1392595230560&#45;&gt;1392595235936</title>\n",
       "<path fill=\"none\" stroke=\"black\" d=\"M1464.8,-2018.05C1465.47,-2009.9 1466.44,-1998.01 1467.28,-1987.73\"/>\n",
       "<polygon fill=\"black\" stroke=\"black\" points=\"1470.76,-1988.11 1468.09,-1977.85 1463.79,-1987.53 1470.76,-1988.11\"/>\n",
       "</g>\n",
       "<!-- 1392595233008 -->\n",
       "<g id=\"node88\" class=\"node\">\n",
       "<title>1392595233008</title>\n",
       "<polygon fill=\"lightgrey\" stroke=\"black\" points=\"1329,-2096 1145,-2096 1145,-2075.25 1329,-2075.25 1329,-2096\"/>\n",
       "<text text-anchor=\"middle\" x=\"1237\" y=\"-2082.5\" font-family=\"monospace\" font-size=\"10.00\">WeightNormInterfaceBackward0</text>\n",
       "</g>\n",
       "<!-- 1392595233008&#45;&gt;1392595230560 -->\n",
       "<g id=\"edge87\" class=\"edge\">\n",
       "<title>1392595233008&#45;&gt;1392595230560</title>\n",
       "<path fill=\"none\" stroke=\"black\" d=\"M1277.85,-2074.77C1315.42,-2065.71 1371.31,-2052.23 1412.04,-2042.41\"/>\n",
       "<polygon fill=\"black\" stroke=\"black\" points=\"1412.73,-2045.84 1421.63,-2040.09 1411.09,-2039.04 1412.73,-2045.84\"/>\n",
       "</g>\n",
       "<!-- 1392595229888 -->\n",
       "<g id=\"node89\" class=\"node\">\n",
       "<title>1392595229888</title>\n",
       "<polygon fill=\"lightgrey\" stroke=\"black\" points=\"1070,-2159.12 970,-2159.12 970,-2138.38 1070,-2138.38 1070,-2159.12\"/>\n",
       "<text text-anchor=\"middle\" x=\"1020\" y=\"-2145.62\" font-family=\"monospace\" font-size=\"10.00\">AccumulateGrad</text>\n",
       "</g>\n",
       "<!-- 1392595229888&#45;&gt;1392595233008 -->\n",
       "<g id=\"edge88\" class=\"edge\">\n",
       "<title>1392595229888&#45;&gt;1392595233008</title>\n",
       "<path fill=\"none\" stroke=\"black\" d=\"M1054.86,-2137.93C1091.88,-2127.5 1150.54,-2110.98 1191.25,-2099.51\"/>\n",
       "<polygon fill=\"black\" stroke=\"black\" points=\"1192.09,-2102.91 1200.76,-2096.83 1190.19,-2096.17 1192.09,-2102.91\"/>\n",
       "</g>\n",
       "<!-- 1395734329552 -->\n",
       "<g id=\"node90\" class=\"node\">\n",
       "<title>1395734329552</title>\n",
       "<polygon fill=\"lightblue\" stroke=\"black\" points=\"1070,-2235 772,-2235 772,-2201.5 1070,-2201.5 1070,-2235\"/>\n",
       "<text text-anchor=\"middle\" x=\"921\" y=\"-2221.5\" font-family=\"monospace\" font-size=\"10.00\">tcn.1.branch2.parametrizations.weight.original1</text>\n",
       "<text text-anchor=\"middle\" x=\"921\" y=\"-2208.75\" font-family=\"monospace\" font-size=\"10.00\"> (64, 64, 5)</text>\n",
       "</g>\n",
       "<!-- 1395734329552&#45;&gt;1392595229888 -->\n",
       "<g id=\"edge89\" class=\"edge\">\n",
       "<title>1395734329552&#45;&gt;1392595229888</title>\n",
       "<path fill=\"none\" stroke=\"black\" d=\"M944.71,-2201.08C960.29,-2190.46 980.6,-2176.61 996.2,-2165.98\"/>\n",
       "<polygon fill=\"black\" stroke=\"black\" points=\"998.13,-2168.9 1004.42,-2160.37 994.18,-2163.12 998.13,-2168.9\"/>\n",
       "</g>\n",
       "<!-- 1392595229744 -->\n",
       "<g id=\"node91\" class=\"node\">\n",
       "<title>1392595229744</title>\n",
       "<polygon fill=\"lightgrey\" stroke=\"black\" points=\"1287,-2159.12 1187,-2159.12 1187,-2138.38 1287,-2138.38 1287,-2159.12\"/>\n",
       "<text text-anchor=\"middle\" x=\"1237\" y=\"-2145.62\" font-family=\"monospace\" font-size=\"10.00\">AccumulateGrad</text>\n",
       "</g>\n",
       "<!-- 1392595229744&#45;&gt;1392595233008 -->\n",
       "<g id=\"edge90\" class=\"edge\">\n",
       "<title>1392595229744&#45;&gt;1392595233008</title>\n",
       "<path fill=\"none\" stroke=\"black\" d=\"M1237,-2137.93C1237,-2129.77 1237,-2117.88 1237,-2107.6\"/>\n",
       "<polygon fill=\"black\" stroke=\"black\" points=\"1240.5,-2107.73 1237,-2097.73 1233.5,-2107.73 1240.5,-2107.73\"/>\n",
       "</g>\n",
       "<!-- 1395734329792 -->\n",
       "<g id=\"node92\" class=\"node\">\n",
       "<title>1395734329792</title>\n",
       "<polygon fill=\"lightblue\" stroke=\"black\" points=\"1386,-2235 1088,-2235 1088,-2201.5 1386,-2201.5 1386,-2235\"/>\n",
       "<text text-anchor=\"middle\" x=\"1237\" y=\"-2221.5\" font-family=\"monospace\" font-size=\"10.00\">tcn.1.branch2.parametrizations.weight.original0</text>\n",
       "<text text-anchor=\"middle\" x=\"1237\" y=\"-2208.75\" font-family=\"monospace\" font-size=\"10.00\"> (64, 1, 1)</text>\n",
       "</g>\n",
       "<!-- 1395734329792&#45;&gt;1392595229744 -->\n",
       "<g id=\"edge91\" class=\"edge\">\n",
       "<title>1395734329792&#45;&gt;1392595229744</title>\n",
       "<path fill=\"none\" stroke=\"black\" d=\"M1237,-2201.25C1237,-2192.15 1237,-2180.64 1237,-2170.82\"/>\n",
       "<polygon fill=\"black\" stroke=\"black\" points=\"1240.5,-2171.09 1237,-2161.09 1233.5,-2171.09 1240.5,-2171.09\"/>\n",
       "</g>\n",
       "<!-- 1392595234688 -->\n",
       "<g id=\"node93\" class=\"node\">\n",
       "<title>1392595234688</title>\n",
       "<polygon fill=\"lightgrey\" stroke=\"black\" points=\"1513,-2096 1413,-2096 1413,-2075.25 1513,-2075.25 1513,-2096\"/>\n",
       "<text text-anchor=\"middle\" x=\"1463\" y=\"-2082.5\" font-family=\"monospace\" font-size=\"10.00\">AccumulateGrad</text>\n",
       "</g>\n",
       "<!-- 1392595234688&#45;&gt;1392595230560 -->\n",
       "<g id=\"edge92\" class=\"edge\">\n",
       "<title>1392595234688&#45;&gt;1392595230560</title>\n",
       "<path fill=\"none\" stroke=\"black\" d=\"M1463.18,-2074.84C1463.3,-2068.22 1463.46,-2059.22 1463.61,-2051.02\"/>\n",
       "<polygon fill=\"black\" stroke=\"black\" points=\"1467.11,-2051.15 1463.8,-2041.09 1460.11,-2051.03 1467.11,-2051.15\"/>\n",
       "</g>\n",
       "<!-- 1395734330032 -->\n",
       "<g id=\"node94\" class=\"node\">\n",
       "<title>1395734330032</title>\n",
       "<polygon fill=\"lightblue\" stroke=\"black\" points=\"1522,-2165.5 1398,-2165.5 1398,-2132 1522,-2132 1522,-2165.5\"/>\n",
       "<text text-anchor=\"middle\" x=\"1460\" y=\"-2152\" font-family=\"monospace\" font-size=\"10.00\">tcn.1.branch2.bias</text>\n",
       "<text text-anchor=\"middle\" x=\"1460\" y=\"-2139.25\" font-family=\"monospace\" font-size=\"10.00\"> (64)</text>\n",
       "</g>\n",
       "<!-- 1395734330032&#45;&gt;1392595234688 -->\n",
       "<g id=\"edge93\" class=\"edge\">\n",
       "<title>1395734330032&#45;&gt;1392595234688</title>\n",
       "<path fill=\"none\" stroke=\"black\" d=\"M1460.79,-2131.69C1461.15,-2124.35 1461.58,-2115.57 1461.97,-2107.71\"/>\n",
       "<polygon fill=\"black\" stroke=\"black\" points=\"1465.45,-2108.14 1462.44,-2097.98 1458.46,-2107.8 1465.45,-2108.14\"/>\n",
       "</g>\n",
       "<!-- 1392595237376 -->\n",
       "<g id=\"node95\" class=\"node\">\n",
       "<title>1392595237376</title>\n",
       "<polygon fill=\"lightgrey\" stroke=\"black\" points=\"1948,-1843.5 1764,-1843.5 1764,-1822.75 1948,-1822.75 1948,-1843.5\"/>\n",
       "<text text-anchor=\"middle\" x=\"1856\" y=\"-1830\" font-family=\"monospace\" font-size=\"10.00\">WeightNormInterfaceBackward0</text>\n",
       "</g>\n",
       "<!-- 1392595237376&#45;&gt;1392595237232 -->\n",
       "<g id=\"edge94\" class=\"edge\">\n",
       "<title>1392595237376&#45;&gt;1392595237232</title>\n",
       "<path fill=\"none\" stroke=\"black\" d=\"M1840.8,-1822.34C1828.23,-1814.24 1810.14,-1802.58 1795.52,-1793.17\"/>\n",
       "<polygon fill=\"black\" stroke=\"black\" points=\"1797.64,-1790.37 1787.34,-1787.9 1793.85,-1796.26 1797.64,-1790.37\"/>\n",
       "</g>\n",
       "<!-- 1392595231136 -->\n",
       "<g id=\"node96\" class=\"node\">\n",
       "<title>1392595231136</title>\n",
       "<polygon fill=\"lightgrey\" stroke=\"black\" points=\"1906,-1906.62 1806,-1906.62 1806,-1885.88 1906,-1885.88 1906,-1906.62\"/>\n",
       "<text text-anchor=\"middle\" x=\"1856\" y=\"-1893.12\" font-family=\"monospace\" font-size=\"10.00\">AccumulateGrad</text>\n",
       "</g>\n",
       "<!-- 1392595231136&#45;&gt;1392595237376 -->\n",
       "<g id=\"edge95\" class=\"edge\">\n",
       "<title>1392595231136&#45;&gt;1392595237376</title>\n",
       "<path fill=\"none\" stroke=\"black\" d=\"M1856,-1885.43C1856,-1877.27 1856,-1865.38 1856,-1855.1\"/>\n",
       "<polygon fill=\"black\" stroke=\"black\" points=\"1859.5,-1855.23 1856,-1845.23 1852.5,-1855.23 1859.5,-1855.23\"/>\n",
       "</g>\n",
       "<!-- 1395734330672 -->\n",
       "<g id=\"node97\" class=\"node\">\n",
       "<title>1395734330672</title>\n",
       "<polygon fill=\"lightblue\" stroke=\"black\" points=\"2035,-1982.5 1737,-1982.5 1737,-1949 2035,-1949 2035,-1982.5\"/>\n",
       "<text text-anchor=\"middle\" x=\"1886\" y=\"-1969\" font-family=\"monospace\" font-size=\"10.00\">tcn.1.conv1x1.parametrizations.weight.original1</text>\n",
       "<text text-anchor=\"middle\" x=\"1886\" y=\"-1956.25\" font-family=\"monospace\" font-size=\"10.00\"> (64, 128, 1)</text>\n",
       "</g>\n",
       "<!-- 1395734330672&#45;&gt;1392595231136 -->\n",
       "<g id=\"edge96\" class=\"edge\">\n",
       "<title>1395734330672&#45;&gt;1392595231136</title>\n",
       "<path fill=\"none\" stroke=\"black\" d=\"M1878.89,-1948.75C1874.71,-1939.35 1869.39,-1927.37 1864.93,-1917.34\"/>\n",
       "<polygon fill=\"black\" stroke=\"black\" points=\"1868.24,-1916.17 1860.98,-1908.45 1861.84,-1919.01 1868.24,-1916.17\"/>\n",
       "</g>\n",
       "<!-- 1392595236176 -->\n",
       "<g id=\"node98\" class=\"node\">\n",
       "<title>1392595236176</title>\n",
       "<polygon fill=\"lightgrey\" stroke=\"black\" points=\"2024,-1906.62 1924,-1906.62 1924,-1885.88 2024,-1885.88 2024,-1906.62\"/>\n",
       "<text text-anchor=\"middle\" x=\"1974\" y=\"-1893.12\" font-family=\"monospace\" font-size=\"10.00\">AccumulateGrad</text>\n",
       "</g>\n",
       "<!-- 1392595236176&#45;&gt;1392595237376 -->\n",
       "<g id=\"edge97\" class=\"edge\">\n",
       "<title>1392595236176&#45;&gt;1392595237376</title>\n",
       "<path fill=\"none\" stroke=\"black\" d=\"M1955.04,-1885.43C1936.12,-1875.63 1906.79,-1860.43 1884.95,-1849.12\"/>\n",
       "<polygon fill=\"black\" stroke=\"black\" points=\"1886.74,-1846.11 1876.26,-1844.62 1883.53,-1852.33 1886.74,-1846.11\"/>\n",
       "</g>\n",
       "<!-- 1395734328592 -->\n",
       "<g id=\"node99\" class=\"node\">\n",
       "<title>1395734328592</title>\n",
       "<polygon fill=\"lightblue\" stroke=\"black\" points=\"2351,-1982.5 2053,-1982.5 2053,-1949 2351,-1949 2351,-1982.5\"/>\n",
       "<text text-anchor=\"middle\" x=\"2202\" y=\"-1969\" font-family=\"monospace\" font-size=\"10.00\">tcn.1.conv1x1.parametrizations.weight.original0</text>\n",
       "<text text-anchor=\"middle\" x=\"2202\" y=\"-1956.25\" font-family=\"monospace\" font-size=\"10.00\"> (64, 1, 1)</text>\n",
       "</g>\n",
       "<!-- 1395734328592&#45;&gt;1392595236176 -->\n",
       "<g id=\"edge98\" class=\"edge\">\n",
       "<title>1395734328592&#45;&gt;1392595236176</title>\n",
       "<path fill=\"none\" stroke=\"black\" d=\"M2147.39,-1948.58C2107.87,-1936.88 2055.14,-1921.27 2018.25,-1910.35\"/>\n",
       "<polygon fill=\"black\" stroke=\"black\" points=\"2019.37,-1907.03 2008.79,-1907.55 2017.38,-1913.74 2019.37,-1907.03\"/>\n",
       "</g>\n",
       "<!-- 1392595238048 -->\n",
       "<g id=\"node100\" class=\"node\">\n",
       "<title>1392595238048</title>\n",
       "<polygon fill=\"lightgrey\" stroke=\"black\" points=\"2110,-1843.5 2010,-1843.5 2010,-1822.75 2110,-1822.75 2110,-1843.5\"/>\n",
       "<text text-anchor=\"middle\" x=\"2060\" y=\"-1830\" font-family=\"monospace\" font-size=\"10.00\">AccumulateGrad</text>\n",
       "</g>\n",
       "<!-- 1392595238048&#45;&gt;1392595237232 -->\n",
       "<g id=\"edge99\" class=\"edge\">\n",
       "<title>1392595238048&#45;&gt;1392595237232</title>\n",
       "<path fill=\"none\" stroke=\"black\" d=\"M2009.66,-1822.59C1960.84,-1813.34 1886.64,-1799.28 1833.94,-1789.3\"/>\n",
       "<polygon fill=\"black\" stroke=\"black\" points=\"1834.67,-1785.88 1824.2,-1787.45 1833.37,-1792.75 1834.67,-1785.88\"/>\n",
       "</g>\n",
       "<!-- 1395734330192 -->\n",
       "<g id=\"node101\" class=\"node\">\n",
       "<title>1395734330192</title>\n",
       "<polygon fill=\"lightblue\" stroke=\"black\" points=\"2166,-1913 2042,-1913 2042,-1879.5 2166,-1879.5 2166,-1913\"/>\n",
       "<text text-anchor=\"middle\" x=\"2104\" y=\"-1899.5\" font-family=\"monospace\" font-size=\"10.00\">tcn.1.conv1x1.bias</text>\n",
       "<text text-anchor=\"middle\" x=\"2104\" y=\"-1886.75\" font-family=\"monospace\" font-size=\"10.00\"> (64)</text>\n",
       "</g>\n",
       "<!-- 1395734330192&#45;&gt;1392595238048 -->\n",
       "<g id=\"edge100\" class=\"edge\">\n",
       "<title>1395734330192&#45;&gt;1392595238048</title>\n",
       "<path fill=\"none\" stroke=\"black\" d=\"M2092.44,-1879.19C2086.72,-1871.24 2079.77,-1861.59 2073.78,-1853.27\"/>\n",
       "<polygon fill=\"black\" stroke=\"black\" points=\"2076.65,-1851.27 2067.97,-1845.2 2070.97,-1855.36 2076.65,-1851.27\"/>\n",
       "</g>\n",
       "<!-- 1392590947040 -->\n",
       "<g id=\"node102\" class=\"node\">\n",
       "<title>1392590947040</title>\n",
       "<polygon fill=\"lightgrey\" stroke=\"black\" points=\"1941,-1591 1757,-1591 1757,-1570.25 1941,-1570.25 1941,-1591\"/>\n",
       "<text text-anchor=\"middle\" x=\"1849\" y=\"-1577.5\" font-family=\"monospace\" font-size=\"10.00\">WeightNormInterfaceBackward0</text>\n",
       "</g>\n",
       "<!-- 1392590947040&#45;&gt;1392598075856 -->\n",
       "<g id=\"edge102\" class=\"edge\">\n",
       "<title>1392590947040&#45;&gt;1392598075856</title>\n",
       "<path fill=\"none\" stroke=\"black\" d=\"M1841.49,-1569.84C1835.88,-1562.52 1828.03,-1552.29 1821.24,-1543.44\"/>\n",
       "<polygon fill=\"black\" stroke=\"black\" points=\"1824.23,-1541.58 1815.36,-1535.78 1818.67,-1545.84 1824.23,-1541.58\"/>\n",
       "</g>\n",
       "<!-- 1392595237184 -->\n",
       "<g id=\"node103\" class=\"node\">\n",
       "<title>1392595237184</title>\n",
       "<polygon fill=\"lightgrey\" stroke=\"black\" points=\"1899,-1654.12 1799,-1654.12 1799,-1633.38 1899,-1633.38 1899,-1654.12\"/>\n",
       "<text text-anchor=\"middle\" x=\"1849\" y=\"-1640.62\" font-family=\"monospace\" font-size=\"10.00\">AccumulateGrad</text>\n",
       "</g>\n",
       "<!-- 1392595237184&#45;&gt;1392590947040 -->\n",
       "<g id=\"edge103\" class=\"edge\">\n",
       "<title>1392595237184&#45;&gt;1392590947040</title>\n",
       "<path fill=\"none\" stroke=\"black\" d=\"M1849,-1632.93C1849,-1624.77 1849,-1612.88 1849,-1602.6\"/>\n",
       "<polygon fill=\"black\" stroke=\"black\" points=\"1852.5,-1602.73 1849,-1592.73 1845.5,-1602.73 1852.5,-1602.73\"/>\n",
       "</g>\n",
       "<!-- 1395734328672 -->\n",
       "<g id=\"node104\" class=\"node\">\n",
       "<title>1395734328672</title>\n",
       "<polygon fill=\"lightblue\" stroke=\"black\" points=\"2022,-1730 1724,-1730 1724,-1696.5 2022,-1696.5 2022,-1730\"/>\n",
       "<text text-anchor=\"middle\" x=\"1873\" y=\"-1716.5\" font-family=\"monospace\" font-size=\"10.00\">tcn.2.branch1.parametrizations.weight.original1</text>\n",
       "<text text-anchor=\"middle\" x=\"1873\" y=\"-1703.75\" font-family=\"monospace\" font-size=\"10.00\"> (64, 64, 3)</text>\n",
       "</g>\n",
       "<!-- 1395734328672&#45;&gt;1392595237184 -->\n",
       "<g id=\"edge104\" class=\"edge\">\n",
       "<title>1395734328672&#45;&gt;1392595237184</title>\n",
       "<path fill=\"none\" stroke=\"black\" d=\"M1867.31,-1696.25C1864,-1686.95 1859.8,-1675.13 1856.26,-1665.16\"/>\n",
       "<polygon fill=\"black\" stroke=\"black\" points=\"1859.65,-1664.25 1853,-1656 1853.05,-1666.59 1859.65,-1664.25\"/>\n",
       "</g>\n",
       "<!-- 1392595238624 -->\n",
       "<g id=\"node105\" class=\"node\">\n",
       "<title>1392595238624</title>\n",
       "<polygon fill=\"lightgrey\" stroke=\"black\" points=\"2017,-1654.12 1917,-1654.12 1917,-1633.38 2017,-1633.38 2017,-1654.12\"/>\n",
       "<text text-anchor=\"middle\" x=\"1967\" y=\"-1640.62\" font-family=\"monospace\" font-size=\"10.00\">AccumulateGrad</text>\n",
       "</g>\n",
       "<!-- 1392595238624&#45;&gt;1392590947040 -->\n",
       "<g id=\"edge105\" class=\"edge\">\n",
       "<title>1392595238624&#45;&gt;1392590947040</title>\n",
       "<path fill=\"none\" stroke=\"black\" d=\"M1948.04,-1632.93C1929.12,-1623.13 1899.79,-1607.93 1877.95,-1596.62\"/>\n",
       "<polygon fill=\"black\" stroke=\"black\" points=\"1879.74,-1593.61 1869.26,-1592.12 1876.53,-1599.83 1879.74,-1593.61\"/>\n",
       "</g>\n",
       "<!-- 1395734329952 -->\n",
       "<g id=\"node106\" class=\"node\">\n",
       "<title>1395734329952</title>\n",
       "<polygon fill=\"lightblue\" stroke=\"black\" points=\"2338,-1730 2040,-1730 2040,-1696.5 2338,-1696.5 2338,-1730\"/>\n",
       "<text text-anchor=\"middle\" x=\"2189\" y=\"-1716.5\" font-family=\"monospace\" font-size=\"10.00\">tcn.2.branch1.parametrizations.weight.original0</text>\n",
       "<text text-anchor=\"middle\" x=\"2189\" y=\"-1703.75\" font-family=\"monospace\" font-size=\"10.00\"> (64, 1, 1)</text>\n",
       "</g>\n",
       "<!-- 1395734329952&#45;&gt;1392595238624 -->\n",
       "<g id=\"edge106\" class=\"edge\">\n",
       "<title>1395734329952&#45;&gt;1392595238624</title>\n",
       "<path fill=\"none\" stroke=\"black\" d=\"M2135.83,-1696.08C2097.35,-1684.38 2046.01,-1668.77 2010.08,-1657.85\"/>\n",
       "<polygon fill=\"black\" stroke=\"black\" points=\"2011.49,-1654.62 2000.91,-1655.06 2009.46,-1661.32 2011.49,-1654.62\"/>\n",
       "</g>\n",
       "<!-- 1392595238480 -->\n",
       "<g id=\"node107\" class=\"node\">\n",
       "<title>1392595238480</title>\n",
       "<polygon fill=\"lightgrey\" stroke=\"black\" points=\"2103,-1591 2003,-1591 2003,-1570.25 2103,-1570.25 2103,-1591\"/>\n",
       "<text text-anchor=\"middle\" x=\"2053\" y=\"-1577.5\" font-family=\"monospace\" font-size=\"10.00\">AccumulateGrad</text>\n",
       "</g>\n",
       "<!-- 1392595238480&#45;&gt;1392598075856 -->\n",
       "<g id=\"edge107\" class=\"edge\">\n",
       "<title>1392595238480&#45;&gt;1392598075856</title>\n",
       "<path fill=\"none\" stroke=\"black\" d=\"M2008.74,-1569.77C1967.76,-1560.65 1906.67,-1547.06 1862.46,-1537.22\"/>\n",
       "<polygon fill=\"black\" stroke=\"black\" points=\"1863.32,-1533.82 1852.8,-1535.07 1861.8,-1540.66 1863.32,-1533.82\"/>\n",
       "</g>\n",
       "<!-- 1395734331152 -->\n",
       "<g id=\"node108\" class=\"node\">\n",
       "<title>1395734331152</title>\n",
       "<polygon fill=\"lightblue\" stroke=\"black\" points=\"2159,-1660.5 2035,-1660.5 2035,-1627 2159,-1627 2159,-1660.5\"/>\n",
       "<text text-anchor=\"middle\" x=\"2097\" y=\"-1647\" font-family=\"monospace\" font-size=\"10.00\">tcn.2.branch1.bias</text>\n",
       "<text text-anchor=\"middle\" x=\"2097\" y=\"-1634.25\" font-family=\"monospace\" font-size=\"10.00\"> (64)</text>\n",
       "</g>\n",
       "<!-- 1395734331152&#45;&gt;1392595238480 -->\n",
       "<g id=\"edge108\" class=\"edge\">\n",
       "<title>1395734331152&#45;&gt;1392595238480</title>\n",
       "<path fill=\"none\" stroke=\"black\" d=\"M2085.44,-1626.69C2079.72,-1618.74 2072.77,-1609.09 2066.78,-1600.77\"/>\n",
       "<polygon fill=\"black\" stroke=\"black\" points=\"2069.65,-1598.77 2060.97,-1592.7 2063.97,-1602.86 2069.65,-1598.77\"/>\n",
       "</g>\n",
       "<!-- 1392632952816 -->\n",
       "<g id=\"node109\" class=\"node\">\n",
       "<title>1392632952816</title>\n",
       "<polygon fill=\"lightgrey\" stroke=\"black\" points=\"1639,-1401.62 1491,-1401.62 1491,-1380.88 1639,-1380.88 1639,-1401.62\"/>\n",
       "<text text-anchor=\"middle\" x=\"1565\" y=\"-1388.12\" font-family=\"monospace\" font-size=\"10.00\">NativeDropoutBackward0</text>\n",
       "</g>\n",
       "<!-- 1392632952816&#45;&gt;1392599490544 -->\n",
       "<g id=\"edge109\" class=\"edge\">\n",
       "<title>1392632952816&#45;&gt;1392599490544</title>\n",
       "<path fill=\"none\" stroke=\"black\" d=\"M1598.1,-1380.43C1633.09,-1370.05 1688.45,-1353.62 1727.07,-1342.16\"/>\n",
       "<polygon fill=\"black\" stroke=\"black\" points=\"1727.94,-1345.55 1736.53,-1339.35 1725.95,-1338.84 1727.94,-1345.55\"/>\n",
       "</g>\n",
       "<!-- 1392590946800 -->\n",
       "<g id=\"node110\" class=\"node\">\n",
       "<title>1392590946800</title>\n",
       "<polygon fill=\"lightgrey\" stroke=\"black\" points=\"1606,-1471.12 1512,-1471.12 1512,-1450.38 1606,-1450.38 1606,-1471.12\"/>\n",
       "<text text-anchor=\"middle\" x=\"1559\" y=\"-1457.62\" font-family=\"monospace\" font-size=\"10.00\">ReluBackward0</text>\n",
       "</g>\n",
       "<!-- 1392590946800&#45;&gt;1392632952816 -->\n",
       "<g id=\"edge110\" class=\"edge\">\n",
       "<title>1392590946800&#45;&gt;1392632952816</title>\n",
       "<path fill=\"none\" stroke=\"black\" d=\"M1559.86,-1450.08C1560.72,-1440.46 1562.06,-1425.38 1563.15,-1413.04\"/>\n",
       "<polygon fill=\"black\" stroke=\"black\" points=\"1566.61,-1413.68 1564.01,-1403.41 1559.64,-1413.06 1566.61,-1413.68\"/>\n",
       "</g>\n",
       "<!-- 1392595236560&#45;&gt;1392590946800 -->\n",
       "<g id=\"edge111\" class=\"edge\">\n",
       "<title>1392595236560&#45;&gt;1392590946800</title>\n",
       "<path fill=\"none\" stroke=\"black\" d=\"M1556.48,-1513.05C1556.88,-1504.9 1557.47,-1493.01 1557.97,-1482.73\"/>\n",
       "<polygon fill=\"black\" stroke=\"black\" points=\"1561.46,-1483.02 1558.45,-1472.86 1554.47,-1482.67 1561.46,-1483.02\"/>\n",
       "</g>\n",
       "<!-- 1392595235984 -->\n",
       "<g id=\"node112\" class=\"node\">\n",
       "<title>1392595235984</title>\n",
       "<polygon fill=\"lightgrey\" stroke=\"black\" points=\"1486,-1591 1302,-1591 1302,-1570.25 1486,-1570.25 1486,-1591\"/>\n",
       "<text text-anchor=\"middle\" x=\"1394\" y=\"-1577.5\" font-family=\"monospace\" font-size=\"10.00\">WeightNormInterfaceBackward0</text>\n",
       "</g>\n",
       "<!-- 1392595235984&#45;&gt;1392595236560 -->\n",
       "<g id=\"edge113\" class=\"edge\">\n",
       "<title>1392595235984&#45;&gt;1392595236560</title>\n",
       "<path fill=\"none\" stroke=\"black\" d=\"M1422.96,-1569.84C1449.03,-1561.03 1487.56,-1548 1516.46,-1538.24\"/>\n",
       "<polygon fill=\"black\" stroke=\"black\" points=\"1517.23,-1541.67 1525.58,-1535.16 1514.99,-1535.04 1517.23,-1541.67\"/>\n",
       "</g>\n",
       "<!-- 1392595229696 -->\n",
       "<g id=\"node113\" class=\"node\">\n",
       "<title>1392595229696</title>\n",
       "<polygon fill=\"lightgrey\" stroke=\"black\" points=\"1234,-1654.12 1134,-1654.12 1134,-1633.38 1234,-1633.38 1234,-1654.12\"/>\n",
       "<text text-anchor=\"middle\" x=\"1184\" y=\"-1640.62\" font-family=\"monospace\" font-size=\"10.00\">AccumulateGrad</text>\n",
       "</g>\n",
       "<!-- 1392595229696&#45;&gt;1392595235984 -->\n",
       "<g id=\"edge114\" class=\"edge\">\n",
       "<title>1392595229696&#45;&gt;1392595235984</title>\n",
       "<path fill=\"none\" stroke=\"black\" d=\"M1217.74,-1632.93C1253.48,-1622.53 1310.09,-1606.05 1349.47,-1594.59\"/>\n",
       "<polygon fill=\"black\" stroke=\"black\" points=\"1350.27,-1598 1358.89,-1591.84 1348.31,-1591.28 1350.27,-1598\"/>\n",
       "</g>\n",
       "<!-- 1395734328752 -->\n",
       "<g id=\"node114\" class=\"node\">\n",
       "<title>1395734328752</title>\n",
       "<polygon fill=\"lightblue\" stroke=\"black\" points=\"1239,-1730 941,-1730 941,-1696.5 1239,-1696.5 1239,-1730\"/>\n",
       "<text text-anchor=\"middle\" x=\"1090\" y=\"-1716.5\" font-family=\"monospace\" font-size=\"10.00\">tcn.2.branch2.parametrizations.weight.original1</text>\n",
       "<text text-anchor=\"middle\" x=\"1090\" y=\"-1703.75\" font-family=\"monospace\" font-size=\"10.00\"> (64, 64, 5)</text>\n",
       "</g>\n",
       "<!-- 1395734328752&#45;&gt;1392595229696 -->\n",
       "<g id=\"edge115\" class=\"edge\">\n",
       "<title>1395734328752&#45;&gt;1392595229696</title>\n",
       "<path fill=\"none\" stroke=\"black\" d=\"M1112.28,-1696.25C1127.06,-1685.64 1146.41,-1671.74 1161.29,-1661.06\"/>\n",
       "<polygon fill=\"black\" stroke=\"black\" points=\"1163.01,-1664.13 1169.09,-1655.45 1158.93,-1658.44 1163.01,-1664.13\"/>\n",
       "</g>\n",
       "<!-- 1392595229936 -->\n",
       "<g id=\"node115\" class=\"node\">\n",
       "<title>1392595229936</title>\n",
       "<polygon fill=\"lightgrey\" stroke=\"black\" points=\"1450,-1654.12 1350,-1654.12 1350,-1633.38 1450,-1633.38 1450,-1654.12\"/>\n",
       "<text text-anchor=\"middle\" x=\"1400\" y=\"-1640.62\" font-family=\"monospace\" font-size=\"10.00\">AccumulateGrad</text>\n",
       "</g>\n",
       "<!-- 1392595229936&#45;&gt;1392595235984 -->\n",
       "<g id=\"edge116\" class=\"edge\">\n",
       "<title>1392595229936&#45;&gt;1392595235984</title>\n",
       "<path fill=\"none\" stroke=\"black\" d=\"M1399.04,-1632.93C1398.24,-1624.77 1397.07,-1612.88 1396.06,-1602.6\"/>\n",
       "<polygon fill=\"black\" stroke=\"black\" points=\"1399.55,-1602.34 1395.09,-1592.73 1392.58,-1603.02 1399.55,-1602.34\"/>\n",
       "</g>\n",
       "<!-- 1395734329392 -->\n",
       "<g id=\"node116\" class=\"node\">\n",
       "<title>1395734329392</title>\n",
       "<polygon fill=\"lightblue\" stroke=\"black\" points=\"1555,-1730 1257,-1730 1257,-1696.5 1555,-1696.5 1555,-1730\"/>\n",
       "<text text-anchor=\"middle\" x=\"1406\" y=\"-1716.5\" font-family=\"monospace\" font-size=\"10.00\">tcn.2.branch2.parametrizations.weight.original0</text>\n",
       "<text text-anchor=\"middle\" x=\"1406\" y=\"-1703.75\" font-family=\"monospace\" font-size=\"10.00\"> (64, 1, 1)</text>\n",
       "</g>\n",
       "<!-- 1395734329392&#45;&gt;1392595229936 -->\n",
       "<g id=\"edge117\" class=\"edge\">\n",
       "<title>1395734329392&#45;&gt;1392595229936</title>\n",
       "<path fill=\"none\" stroke=\"black\" d=\"M1404.58,-1696.25C1403.77,-1687.15 1402.75,-1675.64 1401.87,-1665.82\"/>\n",
       "<polygon fill=\"black\" stroke=\"black\" points=\"1405.38,-1665.73 1401.01,-1656.08 1398.41,-1666.35 1405.38,-1665.73\"/>\n",
       "</g>\n",
       "<!-- 1392595238672 -->\n",
       "<g id=\"node117\" class=\"node\">\n",
       "<title>1392595238672</title>\n",
       "<polygon fill=\"lightgrey\" stroke=\"black\" points=\"1604,-1591 1504,-1591 1504,-1570.25 1604,-1570.25 1604,-1591\"/>\n",
       "<text text-anchor=\"middle\" x=\"1554\" y=\"-1577.5\" font-family=\"monospace\" font-size=\"10.00\">AccumulateGrad</text>\n",
       "</g>\n",
       "<!-- 1392595238672&#45;&gt;1392595236560 -->\n",
       "<g id=\"edge118\" class=\"edge\">\n",
       "<title>1392595238672&#45;&gt;1392595236560</title>\n",
       "<path fill=\"none\" stroke=\"black\" d=\"M1554.36,-1569.84C1554.6,-1563.22 1554.93,-1554.22 1555.23,-1546.02\"/>\n",
       "<polygon fill=\"black\" stroke=\"black\" points=\"1558.72,-1546.21 1555.59,-1536.09 1551.73,-1545.96 1558.72,-1546.21\"/>\n",
       "</g>\n",
       "<!-- 1395734329312 -->\n",
       "<g id=\"node118\" class=\"node\">\n",
       "<title>1395734329312</title>\n",
       "<polygon fill=\"lightblue\" stroke=\"black\" points=\"1602,-1660.5 1478,-1660.5 1478,-1627 1602,-1627 1602,-1660.5\"/>\n",
       "<text text-anchor=\"middle\" x=\"1540\" y=\"-1647\" font-family=\"monospace\" font-size=\"10.00\">tcn.2.branch2.bias</text>\n",
       "<text text-anchor=\"middle\" x=\"1540\" y=\"-1634.25\" font-family=\"monospace\" font-size=\"10.00\"> (64)</text>\n",
       "</g>\n",
       "<!-- 1395734329312&#45;&gt;1392595238672 -->\n",
       "<g id=\"edge119\" class=\"edge\">\n",
       "<title>1395734329312&#45;&gt;1392595238672</title>\n",
       "<path fill=\"none\" stroke=\"black\" d=\"M1543.68,-1626.69C1545.38,-1619.27 1547.42,-1610.36 1549.23,-1602.43\"/>\n",
       "<polygon fill=\"black\" stroke=\"black\" points=\"1552.59,-1603.47 1551.41,-1592.94 1545.76,-1601.91 1552.59,-1603.47\"/>\n",
       "</g>\n",
       "<!-- 1392599488720 -->\n",
       "<g id=\"node119\" class=\"node\">\n",
       "<title>1392599488720</title>\n",
       "<polygon fill=\"lightgrey\" stroke=\"black\" points=\"2033,-1338.5 1849,-1338.5 1849,-1317.75 2033,-1317.75 2033,-1338.5\"/>\n",
       "<text text-anchor=\"middle\" x=\"1941\" y=\"-1325\" font-family=\"monospace\" font-size=\"10.00\">WeightNormInterfaceBackward0</text>\n",
       "</g>\n",
       "<!-- 1392599488720&#45;&gt;1392622323024 -->\n",
       "<g id=\"edge120\" class=\"edge\">\n",
       "<title>1392599488720&#45;&gt;1392622323024</title>\n",
       "<path fill=\"none\" stroke=\"black\" d=\"M1925.8,-1317.34C1913.23,-1309.24 1895.14,-1297.58 1880.52,-1288.17\"/>\n",
       "<polygon fill=\"black\" stroke=\"black\" points=\"1882.64,-1285.37 1872.34,-1282.9 1878.85,-1291.26 1882.64,-1285.37\"/>\n",
       "</g>\n",
       "<!-- 1392632946336 -->\n",
       "<g id=\"node120\" class=\"node\">\n",
       "<title>1392632946336</title>\n",
       "<polygon fill=\"lightgrey\" stroke=\"black\" points=\"1991,-1401.62 1891,-1401.62 1891,-1380.88 1991,-1380.88 1991,-1401.62\"/>\n",
       "<text text-anchor=\"middle\" x=\"1941\" y=\"-1388.12\" font-family=\"monospace\" font-size=\"10.00\">AccumulateGrad</text>\n",
       "</g>\n",
       "<!-- 1392632946336&#45;&gt;1392599488720 -->\n",
       "<g id=\"edge121\" class=\"edge\">\n",
       "<title>1392632946336&#45;&gt;1392599488720</title>\n",
       "<path fill=\"none\" stroke=\"black\" d=\"M1941,-1380.43C1941,-1372.27 1941,-1360.38 1941,-1350.1\"/>\n",
       "<polygon fill=\"black\" stroke=\"black\" points=\"1944.5,-1350.23 1941,-1340.23 1937.5,-1350.23 1944.5,-1350.23\"/>\n",
       "</g>\n",
       "<!-- 1395734327632 -->\n",
       "<g id=\"node121\" class=\"node\">\n",
       "<title>1395734327632</title>\n",
       "<polygon fill=\"lightblue\" stroke=\"black\" points=\"2120,-1477.5 1822,-1477.5 1822,-1444 2120,-1444 2120,-1477.5\"/>\n",
       "<text text-anchor=\"middle\" x=\"1971\" y=\"-1464\" font-family=\"monospace\" font-size=\"10.00\">tcn.2.conv1x1.parametrizations.weight.original1</text>\n",
       "<text text-anchor=\"middle\" x=\"1971\" y=\"-1451.25\" font-family=\"monospace\" font-size=\"10.00\"> (64, 128, 1)</text>\n",
       "</g>\n",
       "<!-- 1395734327632&#45;&gt;1392632946336 -->\n",
       "<g id=\"edge122\" class=\"edge\">\n",
       "<title>1395734327632&#45;&gt;1392632946336</title>\n",
       "<path fill=\"none\" stroke=\"black\" d=\"M1963.89,-1443.75C1959.71,-1434.35 1954.39,-1422.37 1949.93,-1412.34\"/>\n",
       "<polygon fill=\"black\" stroke=\"black\" points=\"1953.24,-1411.17 1945.98,-1403.45 1946.84,-1414.01 1953.24,-1411.17\"/>\n",
       "</g>\n",
       "<!-- 1392632948256 -->\n",
       "<g id=\"node122\" class=\"node\">\n",
       "<title>1392632948256</title>\n",
       "<polygon fill=\"lightgrey\" stroke=\"black\" points=\"2109,-1401.62 2009,-1401.62 2009,-1380.88 2109,-1380.88 2109,-1401.62\"/>\n",
       "<text text-anchor=\"middle\" x=\"2059\" y=\"-1388.12\" font-family=\"monospace\" font-size=\"10.00\">AccumulateGrad</text>\n",
       "</g>\n",
       "<!-- 1392632948256&#45;&gt;1392599488720 -->\n",
       "<g id=\"edge123\" class=\"edge\">\n",
       "<title>1392632948256&#45;&gt;1392599488720</title>\n",
       "<path fill=\"none\" stroke=\"black\" d=\"M2040.04,-1380.43C2021.12,-1370.63 1991.79,-1355.43 1969.95,-1344.12\"/>\n",
       "<polygon fill=\"black\" stroke=\"black\" points=\"1971.74,-1341.11 1961.26,-1339.62 1968.53,-1347.33 1971.74,-1341.11\"/>\n",
       "</g>\n",
       "<!-- 1395734328112 -->\n",
       "<g id=\"node123\" class=\"node\">\n",
       "<title>1395734328112</title>\n",
       "<polygon fill=\"lightblue\" stroke=\"black\" points=\"2436,-1477.5 2138,-1477.5 2138,-1444 2436,-1444 2436,-1477.5\"/>\n",
       "<text text-anchor=\"middle\" x=\"2287\" y=\"-1464\" font-family=\"monospace\" font-size=\"10.00\">tcn.2.conv1x1.parametrizations.weight.original0</text>\n",
       "<text text-anchor=\"middle\" x=\"2287\" y=\"-1451.25\" font-family=\"monospace\" font-size=\"10.00\"> (64, 1, 1)</text>\n",
       "</g>\n",
       "<!-- 1395734328112&#45;&gt;1392632948256 -->\n",
       "<g id=\"edge124\" class=\"edge\">\n",
       "<title>1395734328112&#45;&gt;1392632948256</title>\n",
       "<path fill=\"none\" stroke=\"black\" d=\"M2232.39,-1443.58C2192.87,-1431.88 2140.14,-1416.27 2103.25,-1405.35\"/>\n",
       "<polygon fill=\"black\" stroke=\"black\" points=\"2104.37,-1402.03 2093.79,-1402.55 2102.38,-1408.74 2104.37,-1402.03\"/>\n",
       "</g>\n",
       "<!-- 1392599491552 -->\n",
       "<g id=\"node124\" class=\"node\">\n",
       "<title>1392599491552</title>\n",
       "<polygon fill=\"lightgrey\" stroke=\"black\" points=\"2195,-1338.5 2095,-1338.5 2095,-1317.75 2195,-1317.75 2195,-1338.5\"/>\n",
       "<text text-anchor=\"middle\" x=\"2145\" y=\"-1325\" font-family=\"monospace\" font-size=\"10.00\">AccumulateGrad</text>\n",
       "</g>\n",
       "<!-- 1392599491552&#45;&gt;1392622323024 -->\n",
       "<g id=\"edge125\" class=\"edge\">\n",
       "<title>1392599491552&#45;&gt;1392622323024</title>\n",
       "<path fill=\"none\" stroke=\"black\" d=\"M2094.66,-1317.59C2045.84,-1308.34 1971.64,-1294.28 1918.94,-1284.3\"/>\n",
       "<polygon fill=\"black\" stroke=\"black\" points=\"1919.67,-1280.88 1909.2,-1282.45 1918.37,-1287.75 1919.67,-1280.88\"/>\n",
       "</g>\n",
       "<!-- 1395734328832 -->\n",
       "<g id=\"node125\" class=\"node\">\n",
       "<title>1395734328832</title>\n",
       "<polygon fill=\"lightblue\" stroke=\"black\" points=\"2251,-1408 2127,-1408 2127,-1374.5 2251,-1374.5 2251,-1408\"/>\n",
       "<text text-anchor=\"middle\" x=\"2189\" y=\"-1394.5\" font-family=\"monospace\" font-size=\"10.00\">tcn.2.conv1x1.bias</text>\n",
       "<text text-anchor=\"middle\" x=\"2189\" y=\"-1381.75\" font-family=\"monospace\" font-size=\"10.00\"> (64)</text>\n",
       "</g>\n",
       "<!-- 1395734328832&#45;&gt;1392599491552 -->\n",
       "<g id=\"edge126\" class=\"edge\">\n",
       "<title>1395734328832&#45;&gt;1392599491552</title>\n",
       "<path fill=\"none\" stroke=\"black\" d=\"M2177.44,-1374.19C2171.72,-1366.24 2164.77,-1356.59 2158.78,-1348.27\"/>\n",
       "<polygon fill=\"black\" stroke=\"black\" points=\"2161.65,-1346.27 2152.97,-1340.2 2155.97,-1350.36 2161.65,-1346.27\"/>\n",
       "</g>\n",
       "<!-- 1392633573872 -->\n",
       "<g id=\"node126\" class=\"node\">\n",
       "<title>1392633573872</title>\n",
       "<polygon fill=\"lightgrey\" stroke=\"black\" points=\"2026,-1086 1842,-1086 1842,-1065.25 2026,-1065.25 2026,-1086\"/>\n",
       "<text text-anchor=\"middle\" x=\"1934\" y=\"-1072.5\" font-family=\"monospace\" font-size=\"10.00\">WeightNormInterfaceBackward0</text>\n",
       "</g>\n",
       "<!-- 1392633573872&#45;&gt;1392633561152 -->\n",
       "<g id=\"edge128\" class=\"edge\">\n",
       "<title>1392633573872&#45;&gt;1392633561152</title>\n",
       "<path fill=\"none\" stroke=\"black\" d=\"M1926.49,-1064.84C1920.88,-1057.52 1913.03,-1047.29 1906.24,-1038.44\"/>\n",
       "<polygon fill=\"black\" stroke=\"black\" points=\"1909.23,-1036.58 1900.36,-1030.78 1903.67,-1040.84 1909.23,-1036.58\"/>\n",
       "</g>\n",
       "<!-- 1392622327008 -->\n",
       "<g id=\"node127\" class=\"node\">\n",
       "<title>1392622327008</title>\n",
       "<polygon fill=\"lightgrey\" stroke=\"black\" points=\"1984,-1149.12 1884,-1149.12 1884,-1128.38 1984,-1128.38 1984,-1149.12\"/>\n",
       "<text text-anchor=\"middle\" x=\"1934\" y=\"-1135.62\" font-family=\"monospace\" font-size=\"10.00\">AccumulateGrad</text>\n",
       "</g>\n",
       "<!-- 1392622327008&#45;&gt;1392633573872 -->\n",
       "<g id=\"edge129\" class=\"edge\">\n",
       "<title>1392622327008&#45;&gt;1392633573872</title>\n",
       "<path fill=\"none\" stroke=\"black\" d=\"M1934,-1127.93C1934,-1119.77 1934,-1107.88 1934,-1097.6\"/>\n",
       "<polygon fill=\"black\" stroke=\"black\" points=\"1937.5,-1097.73 1934,-1087.73 1930.5,-1097.73 1937.5,-1097.73\"/>\n",
       "</g>\n",
       "<!-- 1395734327392 -->\n",
       "<g id=\"node128\" class=\"node\">\n",
       "<title>1395734327392</title>\n",
       "<polygon fill=\"lightblue\" stroke=\"black\" points=\"2107,-1225 1809,-1225 1809,-1191.5 2107,-1191.5 2107,-1225\"/>\n",
       "<text text-anchor=\"middle\" x=\"1958\" y=\"-1211.5\" font-family=\"monospace\" font-size=\"10.00\">tcn.3.branch1.parametrizations.weight.original1</text>\n",
       "<text text-anchor=\"middle\" x=\"1958\" y=\"-1198.75\" font-family=\"monospace\" font-size=\"10.00\"> (64, 64, 3)</text>\n",
       "</g>\n",
       "<!-- 1395734327392&#45;&gt;1392622327008 -->\n",
       "<g id=\"edge130\" class=\"edge\">\n",
       "<title>1395734327392&#45;&gt;1392622327008</title>\n",
       "<path fill=\"none\" stroke=\"black\" d=\"M1952.31,-1191.25C1949,-1181.95 1944.8,-1170.13 1941.26,-1160.16\"/>\n",
       "<polygon fill=\"black\" stroke=\"black\" points=\"1944.65,-1159.25 1938,-1151 1938.05,-1161.59 1944.65,-1159.25\"/>\n",
       "</g>\n",
       "<!-- 1392622325232 -->\n",
       "<g id=\"node129\" class=\"node\">\n",
       "<title>1392622325232</title>\n",
       "<polygon fill=\"lightgrey\" stroke=\"black\" points=\"2102,-1149.12 2002,-1149.12 2002,-1128.38 2102,-1128.38 2102,-1149.12\"/>\n",
       "<text text-anchor=\"middle\" x=\"2052\" y=\"-1135.62\" font-family=\"monospace\" font-size=\"10.00\">AccumulateGrad</text>\n",
       "</g>\n",
       "<!-- 1392622325232&#45;&gt;1392633573872 -->\n",
       "<g id=\"edge131\" class=\"edge\">\n",
       "<title>1392622325232&#45;&gt;1392633573872</title>\n",
       "<path fill=\"none\" stroke=\"black\" d=\"M2033.04,-1127.93C2014.12,-1118.13 1984.79,-1102.93 1962.95,-1091.62\"/>\n",
       "<polygon fill=\"black\" stroke=\"black\" points=\"1964.74,-1088.61 1954.26,-1087.12 1961.53,-1094.83 1964.74,-1088.61\"/>\n",
       "</g>\n",
       "<!-- 1395734328192 -->\n",
       "<g id=\"node130\" class=\"node\">\n",
       "<title>1395734328192</title>\n",
       "<polygon fill=\"lightblue\" stroke=\"black\" points=\"2423,-1225 2125,-1225 2125,-1191.5 2423,-1191.5 2423,-1225\"/>\n",
       "<text text-anchor=\"middle\" x=\"2274\" y=\"-1211.5\" font-family=\"monospace\" font-size=\"10.00\">tcn.3.branch1.parametrizations.weight.original0</text>\n",
       "<text text-anchor=\"middle\" x=\"2274\" y=\"-1198.75\" font-family=\"monospace\" font-size=\"10.00\"> (64, 1, 1)</text>\n",
       "</g>\n",
       "<!-- 1395734328192&#45;&gt;1392622325232 -->\n",
       "<g id=\"edge132\" class=\"edge\">\n",
       "<title>1395734328192&#45;&gt;1392622325232</title>\n",
       "<path fill=\"none\" stroke=\"black\" d=\"M2220.83,-1191.08C2182.35,-1179.38 2131.01,-1163.77 2095.08,-1152.85\"/>\n",
       "<polygon fill=\"black\" stroke=\"black\" points=\"2096.49,-1149.62 2085.91,-1150.06 2094.46,-1156.32 2096.49,-1149.62\"/>\n",
       "</g>\n",
       "<!-- 1392633566480 -->\n",
       "<g id=\"node131\" class=\"node\">\n",
       "<title>1392633566480</title>\n",
       "<polygon fill=\"lightgrey\" stroke=\"black\" points=\"2188,-1086 2088,-1086 2088,-1065.25 2188,-1065.25 2188,-1086\"/>\n",
       "<text text-anchor=\"middle\" x=\"2138\" y=\"-1072.5\" font-family=\"monospace\" font-size=\"10.00\">AccumulateGrad</text>\n",
       "</g>\n",
       "<!-- 1392633566480&#45;&gt;1392633561152 -->\n",
       "<g id=\"edge133\" class=\"edge\">\n",
       "<title>1392633566480&#45;&gt;1392633561152</title>\n",
       "<path fill=\"none\" stroke=\"black\" d=\"M2093.74,-1064.77C2052.76,-1055.65 1991.67,-1042.06 1947.46,-1032.22\"/>\n",
       "<polygon fill=\"black\" stroke=\"black\" points=\"1948.32,-1028.82 1937.8,-1030.07 1946.8,-1035.66 1948.32,-1028.82\"/>\n",
       "</g>\n",
       "<!-- 1395734327552 -->\n",
       "<g id=\"node132\" class=\"node\">\n",
       "<title>1395734327552</title>\n",
       "<polygon fill=\"lightblue\" stroke=\"black\" points=\"2244,-1155.5 2120,-1155.5 2120,-1122 2244,-1122 2244,-1155.5\"/>\n",
       "<text text-anchor=\"middle\" x=\"2182\" y=\"-1142\" font-family=\"monospace\" font-size=\"10.00\">tcn.3.branch1.bias</text>\n",
       "<text text-anchor=\"middle\" x=\"2182\" y=\"-1129.25\" font-family=\"monospace\" font-size=\"10.00\"> (64)</text>\n",
       "</g>\n",
       "<!-- 1395734327552&#45;&gt;1392633566480 -->\n",
       "<g id=\"edge134\" class=\"edge\">\n",
       "<title>1395734327552&#45;&gt;1392633566480</title>\n",
       "<path fill=\"none\" stroke=\"black\" d=\"M2170.44,-1121.69C2164.72,-1113.74 2157.77,-1104.09 2151.78,-1095.77\"/>\n",
       "<polygon fill=\"black\" stroke=\"black\" points=\"2154.65,-1093.77 2145.97,-1087.7 2148.97,-1097.86 2154.65,-1093.77\"/>\n",
       "</g>\n",
       "<!-- 1392633570224 -->\n",
       "<g id=\"node133\" class=\"node\">\n",
       "<title>1392633570224</title>\n",
       "<polygon fill=\"lightgrey\" stroke=\"black\" points=\"1724,-896.62 1576,-896.62 1576,-875.88 1724,-875.88 1724,-896.62\"/>\n",
       "<text text-anchor=\"middle\" x=\"1650\" y=\"-883.12\" font-family=\"monospace\" font-size=\"10.00\">NativeDropoutBackward0</text>\n",
       "</g>\n",
       "<!-- 1392633570224&#45;&gt;1392633574208 -->\n",
       "<g id=\"edge135\" class=\"edge\">\n",
       "<title>1392633570224&#45;&gt;1392633574208</title>\n",
       "<path fill=\"none\" stroke=\"black\" d=\"M1683.1,-875.43C1718.09,-865.05 1773.45,-848.62 1812.07,-837.16\"/>\n",
       "<polygon fill=\"black\" stroke=\"black\" points=\"1812.94,-840.55 1821.53,-834.35 1810.95,-833.84 1812.94,-840.55\"/>\n",
       "</g>\n",
       "<!-- 1392599490976 -->\n",
       "<g id=\"node134\" class=\"node\">\n",
       "<title>1392599490976</title>\n",
       "<polygon fill=\"lightgrey\" stroke=\"black\" points=\"1691,-966.12 1597,-966.12 1597,-945.38 1691,-945.38 1691,-966.12\"/>\n",
       "<text text-anchor=\"middle\" x=\"1644\" y=\"-952.62\" font-family=\"monospace\" font-size=\"10.00\">ReluBackward0</text>\n",
       "</g>\n",
       "<!-- 1392599490976&#45;&gt;1392633570224 -->\n",
       "<g id=\"edge136\" class=\"edge\">\n",
       "<title>1392599490976&#45;&gt;1392633570224</title>\n",
       "<path fill=\"none\" stroke=\"black\" d=\"M1644.86,-945.08C1645.72,-935.46 1647.06,-920.38 1648.15,-908.04\"/>\n",
       "<polygon fill=\"black\" stroke=\"black\" points=\"1651.61,-908.68 1649.01,-898.41 1644.64,-908.06 1651.61,-908.68\"/>\n",
       "</g>\n",
       "<!-- 1392633570368&#45;&gt;1392599490976 -->\n",
       "<g id=\"edge137\" class=\"edge\">\n",
       "<title>1392633570368&#45;&gt;1392599490976</title>\n",
       "<path fill=\"none\" stroke=\"black\" d=\"M1641.48,-1008.05C1641.88,-999.9 1642.47,-988.01 1642.97,-977.73\"/>\n",
       "<polygon fill=\"black\" stroke=\"black\" points=\"1646.46,-978.02 1643.45,-967.86 1639.47,-977.67 1646.46,-978.02\"/>\n",
       "</g>\n",
       "<!-- 1392633569792 -->\n",
       "<g id=\"node136\" class=\"node\">\n",
       "<title>1392633569792</title>\n",
       "<polygon fill=\"lightgrey\" stroke=\"black\" points=\"1571,-1086 1387,-1086 1387,-1065.25 1571,-1065.25 1571,-1086\"/>\n",
       "<text text-anchor=\"middle\" x=\"1479\" y=\"-1072.5\" font-family=\"monospace\" font-size=\"10.00\">WeightNormInterfaceBackward0</text>\n",
       "</g>\n",
       "<!-- 1392633569792&#45;&gt;1392633570368 -->\n",
       "<g id=\"edge139\" class=\"edge\">\n",
       "<title>1392633569792&#45;&gt;1392633570368</title>\n",
       "<path fill=\"none\" stroke=\"black\" d=\"M1507.96,-1064.84C1534.03,-1056.03 1572.56,-1043 1601.46,-1033.24\"/>\n",
       "<polygon fill=\"black\" stroke=\"black\" points=\"1602.23,-1036.67 1610.58,-1030.16 1599.99,-1030.04 1602.23,-1036.67\"/>\n",
       "</g>\n",
       "<!-- 1392595236608 -->\n",
       "<g id=\"node137\" class=\"node\">\n",
       "<title>1392595236608</title>\n",
       "<polygon fill=\"lightgrey\" stroke=\"black\" points=\"1319,-1149.12 1219,-1149.12 1219,-1128.38 1319,-1128.38 1319,-1149.12\"/>\n",
       "<text text-anchor=\"middle\" x=\"1269\" y=\"-1135.62\" font-family=\"monospace\" font-size=\"10.00\">AccumulateGrad</text>\n",
       "</g>\n",
       "<!-- 1392595236608&#45;&gt;1392633569792 -->\n",
       "<g id=\"edge140\" class=\"edge\">\n",
       "<title>1392595236608&#45;&gt;1392633569792</title>\n",
       "<path fill=\"none\" stroke=\"black\" d=\"M1302.74,-1127.93C1338.48,-1117.53 1395.09,-1101.05 1434.47,-1089.59\"/>\n",
       "<polygon fill=\"black\" stroke=\"black\" points=\"1435.27,-1093 1443.89,-1086.84 1433.31,-1086.28 1435.27,-1093\"/>\n",
       "</g>\n",
       "<!-- 1395734327312 -->\n",
       "<g id=\"node138\" class=\"node\">\n",
       "<title>1395734327312</title>\n",
       "<polygon fill=\"lightblue\" stroke=\"black\" points=\"1324,-1225 1026,-1225 1026,-1191.5 1324,-1191.5 1324,-1225\"/>\n",
       "<text text-anchor=\"middle\" x=\"1175\" y=\"-1211.5\" font-family=\"monospace\" font-size=\"10.00\">tcn.3.branch2.parametrizations.weight.original1</text>\n",
       "<text text-anchor=\"middle\" x=\"1175\" y=\"-1198.75\" font-family=\"monospace\" font-size=\"10.00\"> (64, 64, 5)</text>\n",
       "</g>\n",
       "<!-- 1395734327312&#45;&gt;1392595236608 -->\n",
       "<g id=\"edge141\" class=\"edge\">\n",
       "<title>1395734327312&#45;&gt;1392595236608</title>\n",
       "<path fill=\"none\" stroke=\"black\" d=\"M1197.28,-1191.25C1212.06,-1180.64 1231.41,-1166.74 1246.29,-1156.06\"/>\n",
       "<polygon fill=\"black\" stroke=\"black\" points=\"1248.01,-1159.13 1254.09,-1150.45 1243.93,-1153.44 1248.01,-1159.13\"/>\n",
       "</g>\n",
       "<!-- 1392595229120 -->\n",
       "<g id=\"node139\" class=\"node\">\n",
       "<title>1392595229120</title>\n",
       "<polygon fill=\"lightgrey\" stroke=\"black\" points=\"1535,-1149.12 1435,-1149.12 1435,-1128.38 1535,-1128.38 1535,-1149.12\"/>\n",
       "<text text-anchor=\"middle\" x=\"1485\" y=\"-1135.62\" font-family=\"monospace\" font-size=\"10.00\">AccumulateGrad</text>\n",
       "</g>\n",
       "<!-- 1392595229120&#45;&gt;1392633569792 -->\n",
       "<g id=\"edge142\" class=\"edge\">\n",
       "<title>1392595229120&#45;&gt;1392633569792</title>\n",
       "<path fill=\"none\" stroke=\"black\" d=\"M1484.04,-1127.93C1483.24,-1119.77 1482.07,-1107.88 1481.06,-1097.6\"/>\n",
       "<polygon fill=\"black\" stroke=\"black\" points=\"1484.55,-1097.34 1480.09,-1087.73 1477.58,-1098.02 1484.55,-1097.34\"/>\n",
       "</g>\n",
       "<!-- 1395734326752 -->\n",
       "<g id=\"node140\" class=\"node\">\n",
       "<title>1395734326752</title>\n",
       "<polygon fill=\"lightblue\" stroke=\"black\" points=\"1640,-1225 1342,-1225 1342,-1191.5 1640,-1191.5 1640,-1225\"/>\n",
       "<text text-anchor=\"middle\" x=\"1491\" y=\"-1211.5\" font-family=\"monospace\" font-size=\"10.00\">tcn.3.branch2.parametrizations.weight.original0</text>\n",
       "<text text-anchor=\"middle\" x=\"1491\" y=\"-1198.75\" font-family=\"monospace\" font-size=\"10.00\"> (64, 1, 1)</text>\n",
       "</g>\n",
       "<!-- 1395734326752&#45;&gt;1392595229120 -->\n",
       "<g id=\"edge143\" class=\"edge\">\n",
       "<title>1395734326752&#45;&gt;1392595229120</title>\n",
       "<path fill=\"none\" stroke=\"black\" d=\"M1489.58,-1191.25C1488.77,-1182.15 1487.75,-1170.64 1486.87,-1160.82\"/>\n",
       "<polygon fill=\"black\" stroke=\"black\" points=\"1490.38,-1160.73 1486.01,-1151.08 1483.41,-1161.35 1490.38,-1160.73\"/>\n",
       "</g>\n",
       "<!-- 1392595238432 -->\n",
       "<g id=\"node141\" class=\"node\">\n",
       "<title>1392595238432</title>\n",
       "<polygon fill=\"lightgrey\" stroke=\"black\" points=\"1689,-1086 1589,-1086 1589,-1065.25 1689,-1065.25 1689,-1086\"/>\n",
       "<text text-anchor=\"middle\" x=\"1639\" y=\"-1072.5\" font-family=\"monospace\" font-size=\"10.00\">AccumulateGrad</text>\n",
       "</g>\n",
       "<!-- 1392595238432&#45;&gt;1392633570368 -->\n",
       "<g id=\"edge144\" class=\"edge\">\n",
       "<title>1392595238432&#45;&gt;1392633570368</title>\n",
       "<path fill=\"none\" stroke=\"black\" d=\"M1639.36,-1064.84C1639.6,-1058.22 1639.93,-1049.22 1640.23,-1041.02\"/>\n",
       "<polygon fill=\"black\" stroke=\"black\" points=\"1643.72,-1041.21 1640.59,-1031.09 1636.73,-1040.96 1643.72,-1041.21\"/>\n",
       "</g>\n",
       "<!-- 1395734328272 -->\n",
       "<g id=\"node142\" class=\"node\">\n",
       "<title>1395734328272</title>\n",
       "<polygon fill=\"lightblue\" stroke=\"black\" points=\"1687,-1155.5 1563,-1155.5 1563,-1122 1687,-1122 1687,-1155.5\"/>\n",
       "<text text-anchor=\"middle\" x=\"1625\" y=\"-1142\" font-family=\"monospace\" font-size=\"10.00\">tcn.3.branch2.bias</text>\n",
       "<text text-anchor=\"middle\" x=\"1625\" y=\"-1129.25\" font-family=\"monospace\" font-size=\"10.00\"> (64)</text>\n",
       "</g>\n",
       "<!-- 1395734328272&#45;&gt;1392595238432 -->\n",
       "<g id=\"edge145\" class=\"edge\">\n",
       "<title>1395734328272&#45;&gt;1392595238432</title>\n",
       "<path fill=\"none\" stroke=\"black\" d=\"M1628.68,-1121.69C1630.38,-1114.27 1632.42,-1105.36 1634.23,-1097.43\"/>\n",
       "<polygon fill=\"black\" stroke=\"black\" points=\"1637.59,-1098.47 1636.41,-1087.94 1630.76,-1096.91 1637.59,-1098.47\"/>\n",
       "</g>\n",
       "<!-- 1392633568784 -->\n",
       "<g id=\"node143\" class=\"node\">\n",
       "<title>1392633568784</title>\n",
       "<polygon fill=\"lightgrey\" stroke=\"black\" points=\"2118,-833.5 1934,-833.5 1934,-812.75 2118,-812.75 2118,-833.5\"/>\n",
       "<text text-anchor=\"middle\" x=\"2026\" y=\"-820\" font-family=\"monospace\" font-size=\"10.00\">WeightNormInterfaceBackward0</text>\n",
       "</g>\n",
       "<!-- 1392633568784&#45;&gt;1395784188112 -->\n",
       "<g id=\"edge146\" class=\"edge\">\n",
       "<title>1392633568784&#45;&gt;1395784188112</title>\n",
       "<path fill=\"none\" stroke=\"black\" d=\"M2010.8,-812.34C1998.23,-804.24 1980.14,-792.58 1965.52,-783.17\"/>\n",
       "<polygon fill=\"black\" stroke=\"black\" points=\"1967.64,-780.37 1957.34,-777.9 1963.85,-786.26 1967.64,-780.37\"/>\n",
       "</g>\n",
       "<!-- 1392633571808 -->\n",
       "<g id=\"node144\" class=\"node\">\n",
       "<title>1392633571808</title>\n",
       "<polygon fill=\"lightgrey\" stroke=\"black\" points=\"2076,-896.62 1976,-896.62 1976,-875.88 2076,-875.88 2076,-896.62\"/>\n",
       "<text text-anchor=\"middle\" x=\"2026\" y=\"-883.12\" font-family=\"monospace\" font-size=\"10.00\">AccumulateGrad</text>\n",
       "</g>\n",
       "<!-- 1392633571808&#45;&gt;1392633568784 -->\n",
       "<g id=\"edge147\" class=\"edge\">\n",
       "<title>1392633571808&#45;&gt;1392633568784</title>\n",
       "<path fill=\"none\" stroke=\"black\" d=\"M2026,-875.43C2026,-867.27 2026,-855.38 2026,-845.1\"/>\n",
       "<polygon fill=\"black\" stroke=\"black\" points=\"2029.5,-845.23 2026,-835.23 2022.5,-845.23 2029.5,-845.23\"/>\n",
       "</g>\n",
       "<!-- 1395734327072 -->\n",
       "<g id=\"node145\" class=\"node\">\n",
       "<title>1395734327072</title>\n",
       "<polygon fill=\"lightblue\" stroke=\"black\" points=\"2205,-972.5 1907,-972.5 1907,-939 2205,-939 2205,-972.5\"/>\n",
       "<text text-anchor=\"middle\" x=\"2056\" y=\"-959\" font-family=\"monospace\" font-size=\"10.00\">tcn.3.conv1x1.parametrizations.weight.original1</text>\n",
       "<text text-anchor=\"middle\" x=\"2056\" y=\"-946.25\" font-family=\"monospace\" font-size=\"10.00\"> (64, 128, 1)</text>\n",
       "</g>\n",
       "<!-- 1395734327072&#45;&gt;1392633571808 -->\n",
       "<g id=\"edge148\" class=\"edge\">\n",
       "<title>1395734327072&#45;&gt;1392633571808</title>\n",
       "<path fill=\"none\" stroke=\"black\" d=\"M2048.89,-938.75C2044.71,-929.35 2039.39,-917.37 2034.93,-907.34\"/>\n",
       "<polygon fill=\"black\" stroke=\"black\" points=\"2038.24,-906.17 2030.98,-898.45 2031.84,-909.01 2038.24,-906.17\"/>\n",
       "</g>\n",
       "<!-- 1392633567152 -->\n",
       "<g id=\"node146\" class=\"node\">\n",
       "<title>1392633567152</title>\n",
       "<polygon fill=\"lightgrey\" stroke=\"black\" points=\"2194,-896.62 2094,-896.62 2094,-875.88 2194,-875.88 2194,-896.62\"/>\n",
       "<text text-anchor=\"middle\" x=\"2144\" y=\"-883.12\" font-family=\"monospace\" font-size=\"10.00\">AccumulateGrad</text>\n",
       "</g>\n",
       "<!-- 1392633567152&#45;&gt;1392633568784 -->\n",
       "<g id=\"edge149\" class=\"edge\">\n",
       "<title>1392633567152&#45;&gt;1392633568784</title>\n",
       "<path fill=\"none\" stroke=\"black\" d=\"M2125.04,-875.43C2106.12,-865.63 2076.79,-850.43 2054.95,-839.12\"/>\n",
       "<polygon fill=\"black\" stroke=\"black\" points=\"2056.74,-836.11 2046.26,-834.62 2053.53,-842.33 2056.74,-836.11\"/>\n",
       "</g>\n",
       "<!-- 1395734328352 -->\n",
       "<g id=\"node147\" class=\"node\">\n",
       "<title>1395734328352</title>\n",
       "<polygon fill=\"lightblue\" stroke=\"black\" points=\"2521,-972.5 2223,-972.5 2223,-939 2521,-939 2521,-972.5\"/>\n",
       "<text text-anchor=\"middle\" x=\"2372\" y=\"-959\" font-family=\"monospace\" font-size=\"10.00\">tcn.3.conv1x1.parametrizations.weight.original0</text>\n",
       "<text text-anchor=\"middle\" x=\"2372\" y=\"-946.25\" font-family=\"monospace\" font-size=\"10.00\"> (64, 1, 1)</text>\n",
       "</g>\n",
       "<!-- 1395734328352&#45;&gt;1392633567152 -->\n",
       "<g id=\"edge150\" class=\"edge\">\n",
       "<title>1395734328352&#45;&gt;1392633567152</title>\n",
       "<path fill=\"none\" stroke=\"black\" d=\"M2317.39,-938.58C2277.87,-926.88 2225.14,-911.27 2188.25,-900.35\"/>\n",
       "<polygon fill=\"black\" stroke=\"black\" points=\"2189.37,-897.03 2178.79,-897.55 2187.38,-903.74 2189.37,-897.03\"/>\n",
       "</g>\n",
       "<!-- 1392633561248 -->\n",
       "<g id=\"node148\" class=\"node\">\n",
       "<title>1392633561248</title>\n",
       "<polygon fill=\"lightgrey\" stroke=\"black\" points=\"2280,-833.5 2180,-833.5 2180,-812.75 2280,-812.75 2280,-833.5\"/>\n",
       "<text text-anchor=\"middle\" x=\"2230\" y=\"-820\" font-family=\"monospace\" font-size=\"10.00\">AccumulateGrad</text>\n",
       "</g>\n",
       "<!-- 1392633561248&#45;&gt;1395784188112 -->\n",
       "<g id=\"edge151\" class=\"edge\">\n",
       "<title>1392633561248&#45;&gt;1395784188112</title>\n",
       "<path fill=\"none\" stroke=\"black\" d=\"M2179.66,-812.59C2130.84,-803.34 2056.64,-789.28 2003.94,-779.3\"/>\n",
       "<polygon fill=\"black\" stroke=\"black\" points=\"2004.67,-775.88 1994.2,-777.45 2003.37,-782.75 2004.67,-775.88\"/>\n",
       "</g>\n",
       "<!-- 1395734327232 -->\n",
       "<g id=\"node149\" class=\"node\">\n",
       "<title>1395734327232</title>\n",
       "<polygon fill=\"lightblue\" stroke=\"black\" points=\"2336,-903 2212,-903 2212,-869.5 2336,-869.5 2336,-903\"/>\n",
       "<text text-anchor=\"middle\" x=\"2274\" y=\"-889.5\" font-family=\"monospace\" font-size=\"10.00\">tcn.3.conv1x1.bias</text>\n",
       "<text text-anchor=\"middle\" x=\"2274\" y=\"-876.75\" font-family=\"monospace\" font-size=\"10.00\"> (64)</text>\n",
       "</g>\n",
       "<!-- 1395734327232&#45;&gt;1392633561248 -->\n",
       "<g id=\"edge152\" class=\"edge\">\n",
       "<title>1395734327232&#45;&gt;1392633561248</title>\n",
       "<path fill=\"none\" stroke=\"black\" d=\"M2262.44,-869.19C2256.72,-861.24 2249.77,-851.59 2243.78,-843.27\"/>\n",
       "<polygon fill=\"black\" stroke=\"black\" points=\"2246.65,-841.27 2237.97,-835.2 2240.97,-845.36 2246.65,-841.27\"/>\n",
       "</g>\n",
       "<!-- 1395716370160 -->\n",
       "<g id=\"node150\" class=\"node\">\n",
       "<title>1395716370160</title>\n",
       "<polygon fill=\"lightgrey\" stroke=\"black\" points=\"1947,-347.62 1871,-347.62 1871,-326.88 1947,-326.88 1947,-347.62\"/>\n",
       "<text text-anchor=\"middle\" x=\"1909\" y=\"-334.12\" font-family=\"monospace\" font-size=\"10.00\">TBackward0</text>\n",
       "</g>\n",
       "<!-- 1395716370160&#45;&gt;1395716371024 -->\n",
       "<g id=\"edge154\" class=\"edge\">\n",
       "<title>1395716370160&#45;&gt;1395716371024</title>\n",
       "<path fill=\"none\" stroke=\"black\" d=\"M1896.11,-326.58C1881.75,-315.81 1858.3,-298.23 1841.03,-285.27\"/>\n",
       "<polygon fill=\"black\" stroke=\"black\" points=\"1843.47,-282.73 1833.37,-279.53 1839.27,-288.33 1843.47,-282.73\"/>\n",
       "</g>\n",
       "<!-- 1395716369392 -->\n",
       "<g id=\"node151\" class=\"node\">\n",
       "<title>1395716369392</title>\n",
       "<polygon fill=\"lightgrey\" stroke=\"black\" points=\"1965,-417.12 1865,-417.12 1865,-396.38 1965,-396.38 1965,-417.12\"/>\n",
       "<text text-anchor=\"middle\" x=\"1915\" y=\"-403.62\" font-family=\"monospace\" font-size=\"10.00\">AccumulateGrad</text>\n",
       "</g>\n",
       "<!-- 1395716369392&#45;&gt;1395716370160 -->\n",
       "<g id=\"edge155\" class=\"edge\">\n",
       "<title>1395716369392&#45;&gt;1395716370160</title>\n",
       "<path fill=\"none\" stroke=\"black\" d=\"M1914.14,-396.08C1913.28,-386.46 1911.94,-371.38 1910.85,-359.04\"/>\n",
       "<polygon fill=\"black\" stroke=\"black\" points=\"1914.36,-359.06 1909.99,-349.41 1907.39,-359.68 1914.36,-359.06\"/>\n",
       "</g>\n",
       "<!-- 1395617626640 -->\n",
       "<g id=\"node152\" class=\"node\">\n",
       "<title>1395617626640</title>\n",
       "<polygon fill=\"lightblue\" stroke=\"black\" points=\"1953,-493 1877,-493 1877,-459.5 1953,-459.5 1953,-493\"/>\n",
       "<text text-anchor=\"middle\" x=\"1915\" y=\"-479.5\" font-family=\"monospace\" font-size=\"10.00\">fc1.weight</text>\n",
       "<text text-anchor=\"middle\" x=\"1915\" y=\"-466.75\" font-family=\"monospace\" font-size=\"10.00\"> (32, 64)</text>\n",
       "</g>\n",
       "<!-- 1395617626640&#45;&gt;1395716369392 -->\n",
       "<g id=\"edge156\" class=\"edge\">\n",
       "<title>1395617626640&#45;&gt;1395716369392</title>\n",
       "<path fill=\"none\" stroke=\"black\" d=\"M1915,-459.25C1915,-450.15 1915,-438.64 1915,-428.82\"/>\n",
       "<polygon fill=\"black\" stroke=\"black\" points=\"1918.5,-429.09 1915,-419.09 1911.5,-429.09 1918.5,-429.09\"/>\n",
       "</g>\n",
       "<!-- 1395716363728 -->\n",
       "<g id=\"node153\" class=\"node\">\n",
       "<title>1395716363728</title>\n",
       "<polygon fill=\"lightgrey\" stroke=\"black\" points=\"1993,-215 1917,-215 1917,-194.25 1993,-194.25 1993,-215\"/>\n",
       "<text text-anchor=\"middle\" x=\"1955\" y=\"-201.5\" font-family=\"monospace\" font-size=\"10.00\">TBackward0</text>\n",
       "</g>\n",
       "<!-- 1395716363728&#45;&gt;1392632243312 -->\n",
       "<g id=\"edge157\" class=\"edge\">\n",
       "<title>1395716363728&#45;&gt;1392632243312</title>\n",
       "<path fill=\"none\" stroke=\"black\" d=\"M1932.12,-193.84C1912.09,-185.27 1882.76,-172.73 1860.17,-163.06\"/>\n",
       "<polygon fill=\"black\" stroke=\"black\" points=\"1861.65,-159.89 1851.08,-159.17 1858.9,-166.32 1861.65,-159.89\"/>\n",
       "</g>\n",
       "<!-- 1395716362096 -->\n",
       "<g id=\"node154\" class=\"node\">\n",
       "<title>1395716362096</title>\n",
       "<polygon fill=\"lightgrey\" stroke=\"black\" points=\"2031,-278.12 1931,-278.12 1931,-257.38 2031,-257.38 2031,-278.12\"/>\n",
       "<text text-anchor=\"middle\" x=\"1981\" y=\"-264.62\" font-family=\"monospace\" font-size=\"10.00\">AccumulateGrad</text>\n",
       "</g>\n",
       "<!-- 1395716362096&#45;&gt;1395716363728 -->\n",
       "<g id=\"edge158\" class=\"edge\">\n",
       "<title>1395716362096&#45;&gt;1395716363728</title>\n",
       "<path fill=\"none\" stroke=\"black\" d=\"M1976.82,-256.93C1973.24,-248.5 1967.96,-236.09 1963.49,-225.59\"/>\n",
       "<polygon fill=\"black\" stroke=\"black\" points=\"1966.81,-224.44 1959.67,-216.61 1960.37,-227.18 1966.81,-224.44\"/>\n",
       "</g>\n",
       "<!-- 1392548038352 -->\n",
       "<g id=\"node155\" class=\"node\">\n",
       "<title>1392548038352</title>\n",
       "<polygon fill=\"lightblue\" stroke=\"black\" points=\"2041,-354 1965,-354 1965,-320.5 2041,-320.5 2041,-354\"/>\n",
       "<text text-anchor=\"middle\" x=\"2003\" y=\"-340.5\" font-family=\"monospace\" font-size=\"10.00\">fc2.weight</text>\n",
       "<text text-anchor=\"middle\" x=\"2003\" y=\"-327.75\" font-family=\"monospace\" font-size=\"10.00\"> (1, 32)</text>\n",
       "</g>\n",
       "<!-- 1392548038352&#45;&gt;1395716362096 -->\n",
       "<g id=\"edge159\" class=\"edge\">\n",
       "<title>1392548038352&#45;&gt;1395716362096</title>\n",
       "<path fill=\"none\" stroke=\"black\" d=\"M1997.79,-320.25C1994.79,-311.05 1990.99,-299.39 1987.76,-289.49\"/>\n",
       "<polygon fill=\"black\" stroke=\"black\" points=\"1991.1,-288.43 1984.67,-280.01 1984.44,-290.6 1991.1,-288.43\"/>\n",
       "</g>\n",
       "<!-- 1395617095712&#45;&gt;1392601655840 -->\n",
       "<g id=\"edge162\" class=\"edge\">\n",
       "<title>1395617095712&#45;&gt;1392601655840</title>\n",
       "<path fill=\"none\" stroke=\"black\" stroke-dasharray=\"1,5\" d=\"M1866.68,-68.31C1860.59,-60.49 1853.1,-50.88 1846.28,-42.12\"/>\n",
       "<polygon fill=\"black\" stroke=\"black\" points=\"1849.07,-40.01 1840.16,-34.27 1843.55,-44.31 1849.07,-40.01\"/>\n",
       "</g>\n",
       "</g>\n",
       "</svg>\n"
      ],
      "text/plain": [
       "<graphviz.graphs.Digraph at 0x1443f59ace0>"
      ]
     },
     "metadata": {},
     "output_type": "display_data"
    }
   ],
   "source": [
    "print(\"Model Computational Graph:\")\n",
    "display(dot)"
   ]
  },
  {
   "cell_type": "markdown",
   "metadata": {},
   "source": [
    "### Training"
   ]
  },
  {
   "cell_type": "code",
   "execution_count": 199,
   "metadata": {},
   "outputs": [],
   "source": [
    "criterion = nn.MSELoss()\n",
    "optimizer = optim.Adam(model.parameters(), lr=1e-3)"
   ]
  },
  {
   "cell_type": "code",
   "execution_count": 200,
   "metadata": {},
   "outputs": [],
   "source": [
    "class EarlyStopping:\n",
    "    def __init__(self, patience=5, verbose=False, delta=0):\n",
    "        \"\"\"\n",
    "        Stops training if validation loss does not improve after 'patience' epochs.\n",
    "        \"\"\"\n",
    "        self.patience = patience\n",
    "        self.verbose = verbose\n",
    "        self.counter = 0\n",
    "        self.best_score = None\n",
    "        self.early_stop = False\n",
    "        self.val_loss_min = np.Inf\n",
    "        self.delta = delta\n",
    "\n",
    "    def __call__(self, val_loss, model):\n",
    "        score = -val_loss\n",
    "        if self.best_score is None:\n",
    "            self.best_score = score\n",
    "            self.save_checkpoint(val_loss, model)\n",
    "        elif score < self.best_score + self.delta:\n",
    "            self.counter += 1\n",
    "            if self.verbose:\n",
    "                print(f\"EarlyStopping: {self.counter}/{self.patience}\")\n",
    "            if self.counter >= self.patience:\n",
    "                self.early_stop = True\n",
    "        else:\n",
    "            self.best_score = score\n",
    "            self.save_checkpoint(val_loss, model)\n",
    "            self.counter = 0\n",
    "\n",
    "    def save_checkpoint(self, val_loss, model):\n",
    "        \"\"\"Saves model when validation loss decreases.\"\"\"\n",
    "        torch.save(model.state_dict(), './.export/checkpoint-aug.pt')\n",
    "        self.val_loss_min = val_loss"
   ]
  },
  {
   "cell_type": "code",
   "execution_count": 201,
   "metadata": {},
   "outputs": [],
   "source": [
    "num_epochs = 200\n",
    "early_stopping = EarlyStopping(patience=10, verbose=True)\n",
    "train_losses, val_losses = [], []"
   ]
  },
  {
   "cell_type": "code",
   "execution_count": 202,
   "metadata": {},
   "outputs": [
    {
     "name": "stderr",
     "output_type": "stream",
     "text": [
      "                                                                         \r"
     ]
    },
    {
     "name": "stdout",
     "output_type": "stream",
     "text": [
      "Epoch: 1/200 | Train Loss: 5.1244 | Val Loss: 3.8745\n"
     ]
    },
    {
     "name": "stderr",
     "output_type": "stream",
     "text": [
      "                                                                         \r"
     ]
    },
    {
     "name": "stdout",
     "output_type": "stream",
     "text": [
      "Epoch: 2/200 | Train Loss: 4.0031 | Val Loss: 3.7979\n"
     ]
    },
    {
     "name": "stderr",
     "output_type": "stream",
     "text": [
      "                                                                         \r"
     ]
    },
    {
     "name": "stdout",
     "output_type": "stream",
     "text": [
      "Epoch: 3/200 | Train Loss: 3.8336 | Val Loss: 3.6058\n"
     ]
    },
    {
     "name": "stderr",
     "output_type": "stream",
     "text": [
      "                                                                         \r"
     ]
    },
    {
     "name": "stdout",
     "output_type": "stream",
     "text": [
      "Epoch: 4/200 | Train Loss: 3.7067 | Val Loss: 3.5139\n"
     ]
    },
    {
     "name": "stderr",
     "output_type": "stream",
     "text": [
      "                                                                         \r"
     ]
    },
    {
     "name": "stdout",
     "output_type": "stream",
     "text": [
      "Epoch: 5/200 | Train Loss: 3.5941 | Val Loss: 3.3411\n"
     ]
    },
    {
     "name": "stderr",
     "output_type": "stream",
     "text": [
      "                                                                         \r"
     ]
    },
    {
     "name": "stdout",
     "output_type": "stream",
     "text": [
      "Epoch: 6/200 | Train Loss: 3.4559 | Val Loss: 3.2495\n"
     ]
    },
    {
     "name": "stderr",
     "output_type": "stream",
     "text": [
      "                                                                         \r"
     ]
    },
    {
     "name": "stdout",
     "output_type": "stream",
     "text": [
      "Epoch: 7/200 | Train Loss: 3.3385 | Val Loss: 3.1181\n"
     ]
    },
    {
     "name": "stderr",
     "output_type": "stream",
     "text": [
      "                                                                         \r"
     ]
    },
    {
     "name": "stdout",
     "output_type": "stream",
     "text": [
      "Epoch: 8/200 | Train Loss: 3.1934 | Val Loss: 3.0662\n"
     ]
    },
    {
     "name": "stderr",
     "output_type": "stream",
     "text": [
      "                                                                         \r"
     ]
    },
    {
     "name": "stdout",
     "output_type": "stream",
     "text": [
      "Epoch: 9/200 | Train Loss: 3.0522 | Val Loss: 2.7936\n"
     ]
    },
    {
     "name": "stderr",
     "output_type": "stream",
     "text": [
      "                                                                          \r"
     ]
    },
    {
     "name": "stdout",
     "output_type": "stream",
     "text": [
      "Epoch: 10/200 | Train Loss: 2.9078 | Val Loss: 2.7209\n"
     ]
    },
    {
     "name": "stderr",
     "output_type": "stream",
     "text": [
      "                                                                          \r"
     ]
    },
    {
     "name": "stdout",
     "output_type": "stream",
     "text": [
      "Epoch: 11/200 | Train Loss: 2.7667 | Val Loss: 2.4977\n"
     ]
    },
    {
     "name": "stderr",
     "output_type": "stream",
     "text": [
      "                                                                          \r"
     ]
    },
    {
     "name": "stdout",
     "output_type": "stream",
     "text": [
      "Epoch: 12/200 | Train Loss: 2.6439 | Val Loss: 2.6116\n",
      "EarlyStopping: 1/10\n"
     ]
    },
    {
     "name": "stderr",
     "output_type": "stream",
     "text": [
      "                                                                          \r"
     ]
    },
    {
     "name": "stdout",
     "output_type": "stream",
     "text": [
      "Epoch: 13/200 | Train Loss: 2.5248 | Val Loss: 2.2457\n"
     ]
    },
    {
     "name": "stderr",
     "output_type": "stream",
     "text": [
      "                                                                          \r"
     ]
    },
    {
     "name": "stdout",
     "output_type": "stream",
     "text": [
      "Epoch: 14/200 | Train Loss: 2.4157 | Val Loss: 2.2114\n"
     ]
    },
    {
     "name": "stderr",
     "output_type": "stream",
     "text": [
      "                                                                          \r"
     ]
    },
    {
     "name": "stdout",
     "output_type": "stream",
     "text": [
      "Epoch: 15/200 | Train Loss: 2.3149 | Val Loss: 2.1330\n"
     ]
    },
    {
     "name": "stderr",
     "output_type": "stream",
     "text": [
      "                                                                          \r"
     ]
    },
    {
     "name": "stdout",
     "output_type": "stream",
     "text": [
      "Epoch: 16/200 | Train Loss: 2.2237 | Val Loss: 2.3882\n",
      "EarlyStopping: 1/10\n"
     ]
    },
    {
     "name": "stderr",
     "output_type": "stream",
     "text": [
      "                                                                          \r"
     ]
    },
    {
     "name": "stdout",
     "output_type": "stream",
     "text": [
      "Epoch: 17/200 | Train Loss: 2.1436 | Val Loss: 1.9370\n"
     ]
    },
    {
     "name": "stderr",
     "output_type": "stream",
     "text": [
      "                                                                          \r"
     ]
    },
    {
     "name": "stdout",
     "output_type": "stream",
     "text": [
      "Epoch: 18/200 | Train Loss: 2.0670 | Val Loss: 1.9178\n"
     ]
    },
    {
     "name": "stderr",
     "output_type": "stream",
     "text": [
      "                                                                          \r"
     ]
    },
    {
     "name": "stdout",
     "output_type": "stream",
     "text": [
      "Epoch: 19/200 | Train Loss: 1.9924 | Val Loss: 1.9386\n",
      "EarlyStopping: 1/10\n"
     ]
    },
    {
     "name": "stderr",
     "output_type": "stream",
     "text": [
      "                                                                          \r"
     ]
    },
    {
     "name": "stdout",
     "output_type": "stream",
     "text": [
      "Epoch: 20/200 | Train Loss: 1.9257 | Val Loss: 1.6707\n"
     ]
    },
    {
     "name": "stderr",
     "output_type": "stream",
     "text": [
      "                                                                          \r"
     ]
    },
    {
     "name": "stdout",
     "output_type": "stream",
     "text": [
      "Epoch: 21/200 | Train Loss: 1.8725 | Val Loss: 1.7690\n",
      "EarlyStopping: 1/10\n"
     ]
    },
    {
     "name": "stderr",
     "output_type": "stream",
     "text": [
      "                                                                          \r"
     ]
    },
    {
     "name": "stdout",
     "output_type": "stream",
     "text": [
      "Epoch: 22/200 | Train Loss: 1.8109 | Val Loss: 1.5507\n"
     ]
    },
    {
     "name": "stderr",
     "output_type": "stream",
     "text": [
      "                                                                          \r"
     ]
    },
    {
     "name": "stdout",
     "output_type": "stream",
     "text": [
      "Epoch: 23/200 | Train Loss: 1.7735 | Val Loss: 1.7431\n",
      "EarlyStopping: 1/10\n"
     ]
    },
    {
     "name": "stderr",
     "output_type": "stream",
     "text": [
      "                                                                          \r"
     ]
    },
    {
     "name": "stdout",
     "output_type": "stream",
     "text": [
      "Epoch: 24/200 | Train Loss: 1.7179 | Val Loss: 1.5304\n"
     ]
    },
    {
     "name": "stderr",
     "output_type": "stream",
     "text": [
      "                                                                          \r"
     ]
    },
    {
     "name": "stdout",
     "output_type": "stream",
     "text": [
      "Epoch: 25/200 | Train Loss: 1.6815 | Val Loss: 1.5690\n",
      "EarlyStopping: 1/10\n"
     ]
    },
    {
     "name": "stderr",
     "output_type": "stream",
     "text": [
      "                                                                          \r"
     ]
    },
    {
     "name": "stdout",
     "output_type": "stream",
     "text": [
      "Epoch: 26/200 | Train Loss: 1.6506 | Val Loss: 1.3893\n"
     ]
    },
    {
     "name": "stderr",
     "output_type": "stream",
     "text": [
      "                                                                          \r"
     ]
    },
    {
     "name": "stdout",
     "output_type": "stream",
     "text": [
      "Epoch: 27/200 | Train Loss: 1.6053 | Val Loss: 1.5659\n",
      "EarlyStopping: 1/10\n"
     ]
    },
    {
     "name": "stderr",
     "output_type": "stream",
     "text": [
      "                                                                          \r"
     ]
    },
    {
     "name": "stdout",
     "output_type": "stream",
     "text": [
      "Epoch: 28/200 | Train Loss: 1.5717 | Val Loss: 1.2897\n"
     ]
    },
    {
     "name": "stderr",
     "output_type": "stream",
     "text": [
      "                                                                         \r"
     ]
    },
    {
     "name": "stdout",
     "output_type": "stream",
     "text": [
      "Epoch: 29/200 | Train Loss: 1.5459 | Val Loss: 1.3363\n",
      "EarlyStopping: 1/10\n"
     ]
    },
    {
     "name": "stderr",
     "output_type": "stream",
     "text": [
      "                                                                          \r"
     ]
    },
    {
     "name": "stdout",
     "output_type": "stream",
     "text": [
      "Epoch: 30/200 | Train Loss: 1.5150 | Val Loss: 1.3283\n",
      "EarlyStopping: 2/10\n"
     ]
    },
    {
     "name": "stderr",
     "output_type": "stream",
     "text": [
      "                                                                          \r"
     ]
    },
    {
     "name": "stdout",
     "output_type": "stream",
     "text": [
      "Epoch: 31/200 | Train Loss: 1.4889 | Val Loss: 1.2889\n"
     ]
    },
    {
     "name": "stderr",
     "output_type": "stream",
     "text": [
      "                                                                          \r"
     ]
    },
    {
     "name": "stdout",
     "output_type": "stream",
     "text": [
      "Epoch: 32/200 | Train Loss: 1.4603 | Val Loss: 1.2232\n"
     ]
    },
    {
     "name": "stderr",
     "output_type": "stream",
     "text": [
      "                                                                          \r"
     ]
    },
    {
     "name": "stdout",
     "output_type": "stream",
     "text": [
      "Epoch: 33/200 | Train Loss: 1.4429 | Val Loss: 1.1960\n"
     ]
    },
    {
     "name": "stderr",
     "output_type": "stream",
     "text": [
      "                                                                          \r"
     ]
    },
    {
     "name": "stdout",
     "output_type": "stream",
     "text": [
      "Epoch: 34/200 | Train Loss: 1.4152 | Val Loss: 1.2093\n",
      "EarlyStopping: 1/10\n"
     ]
    },
    {
     "name": "stderr",
     "output_type": "stream",
     "text": [
      "                                                                          \r"
     ]
    },
    {
     "name": "stdout",
     "output_type": "stream",
     "text": [
      "Epoch: 35/200 | Train Loss: 1.3995 | Val Loss: 1.1948\n"
     ]
    },
    {
     "name": "stderr",
     "output_type": "stream",
     "text": [
      "                                                                          \r"
     ]
    },
    {
     "name": "stdout",
     "output_type": "stream",
     "text": [
      "Epoch: 36/200 | Train Loss: 1.3748 | Val Loss: 1.3202\n",
      "EarlyStopping: 1/10\n"
     ]
    },
    {
     "name": "stderr",
     "output_type": "stream",
     "text": [
      "                                                                          \r"
     ]
    },
    {
     "name": "stdout",
     "output_type": "stream",
     "text": [
      "Epoch: 37/200 | Train Loss: 1.3555 | Val Loss: 1.1996\n",
      "EarlyStopping: 2/10\n"
     ]
    },
    {
     "name": "stderr",
     "output_type": "stream",
     "text": [
      "                                                                          \r"
     ]
    },
    {
     "name": "stdout",
     "output_type": "stream",
     "text": [
      "Epoch: 38/200 | Train Loss: 1.3492 | Val Loss: 1.2747\n",
      "EarlyStopping: 3/10\n"
     ]
    },
    {
     "name": "stderr",
     "output_type": "stream",
     "text": [
      "                                                                          \r"
     ]
    },
    {
     "name": "stdout",
     "output_type": "stream",
     "text": [
      "Epoch: 39/200 | Train Loss: 1.3157 | Val Loss: 1.0794\n"
     ]
    },
    {
     "name": "stderr",
     "output_type": "stream",
     "text": [
      "                                                                          \r"
     ]
    },
    {
     "name": "stdout",
     "output_type": "stream",
     "text": [
      "Epoch: 40/200 | Train Loss: 1.3056 | Val Loss: 1.0040\n"
     ]
    },
    {
     "name": "stderr",
     "output_type": "stream",
     "text": [
      "                                                                          \r"
     ]
    },
    {
     "name": "stdout",
     "output_type": "stream",
     "text": [
      "Epoch: 41/200 | Train Loss: 1.2877 | Val Loss: 1.0651\n",
      "EarlyStopping: 1/10\n"
     ]
    },
    {
     "name": "stderr",
     "output_type": "stream",
     "text": [
      "                                                                          \r"
     ]
    },
    {
     "name": "stdout",
     "output_type": "stream",
     "text": [
      "Epoch: 42/200 | Train Loss: 1.2706 | Val Loss: 1.0087\n",
      "EarlyStopping: 2/10\n"
     ]
    },
    {
     "name": "stderr",
     "output_type": "stream",
     "text": [
      "                                                                          \r"
     ]
    },
    {
     "name": "stdout",
     "output_type": "stream",
     "text": [
      "Epoch: 43/200 | Train Loss: 1.2616 | Val Loss: 1.1763\n",
      "EarlyStopping: 3/10\n"
     ]
    },
    {
     "name": "stderr",
     "output_type": "stream",
     "text": [
      "                                                                          \r"
     ]
    },
    {
     "name": "stdout",
     "output_type": "stream",
     "text": [
      "Epoch: 44/200 | Train Loss: 1.2453 | Val Loss: 1.0821\n",
      "EarlyStopping: 4/10\n"
     ]
    },
    {
     "name": "stderr",
     "output_type": "stream",
     "text": [
      "                                                                          \r"
     ]
    },
    {
     "name": "stdout",
     "output_type": "stream",
     "text": [
      "Epoch: 45/200 | Train Loss: 1.2330 | Val Loss: 1.0682\n",
      "EarlyStopping: 5/10\n"
     ]
    },
    {
     "name": "stderr",
     "output_type": "stream",
     "text": [
      "                                                                          \r"
     ]
    },
    {
     "name": "stdout",
     "output_type": "stream",
     "text": [
      "Epoch: 46/200 | Train Loss: 1.2200 | Val Loss: 1.0765\n",
      "EarlyStopping: 6/10\n"
     ]
    },
    {
     "name": "stderr",
     "output_type": "stream",
     "text": [
      "                                                                          \r"
     ]
    },
    {
     "name": "stdout",
     "output_type": "stream",
     "text": [
      "Epoch: 47/200 | Train Loss: 1.2127 | Val Loss: 0.9659\n"
     ]
    },
    {
     "name": "stderr",
     "output_type": "stream",
     "text": [
      "                                                                          \r"
     ]
    },
    {
     "name": "stdout",
     "output_type": "stream",
     "text": [
      "Epoch: 48/200 | Train Loss: 1.1951 | Val Loss: 1.0154\n",
      "EarlyStopping: 1/10\n"
     ]
    },
    {
     "name": "stderr",
     "output_type": "stream",
     "text": [
      "                                                                          \r"
     ]
    },
    {
     "name": "stdout",
     "output_type": "stream",
     "text": [
      "Epoch: 49/200 | Train Loss: 1.1870 | Val Loss: 1.1119\n",
      "EarlyStopping: 2/10\n"
     ]
    },
    {
     "name": "stderr",
     "output_type": "stream",
     "text": [
      "                                                                          \r"
     ]
    },
    {
     "name": "stdout",
     "output_type": "stream",
     "text": [
      "Epoch: 50/200 | Train Loss: 1.1711 | Val Loss: 1.1407\n",
      "EarlyStopping: 3/10\n"
     ]
    },
    {
     "name": "stderr",
     "output_type": "stream",
     "text": [
      "                                                                          \r"
     ]
    },
    {
     "name": "stdout",
     "output_type": "stream",
     "text": [
      "Epoch: 51/200 | Train Loss: 1.1692 | Val Loss: 0.9441\n"
     ]
    },
    {
     "name": "stderr",
     "output_type": "stream",
     "text": [
      "                                                                          \r"
     ]
    },
    {
     "name": "stdout",
     "output_type": "stream",
     "text": [
      "Epoch: 52/200 | Train Loss: 1.1572 | Val Loss: 0.9082\n"
     ]
    },
    {
     "name": "stderr",
     "output_type": "stream",
     "text": [
      "                                                                          \r"
     ]
    },
    {
     "name": "stdout",
     "output_type": "stream",
     "text": [
      "Epoch: 53/200 | Train Loss: 1.1460 | Val Loss: 0.9748\n",
      "EarlyStopping: 1/10\n"
     ]
    },
    {
     "name": "stderr",
     "output_type": "stream",
     "text": [
      "                                                                          \r"
     ]
    },
    {
     "name": "stdout",
     "output_type": "stream",
     "text": [
      "Epoch: 54/200 | Train Loss: 1.1330 | Val Loss: 0.9078\n"
     ]
    },
    {
     "name": "stderr",
     "output_type": "stream",
     "text": [
      "                                                                          \r"
     ]
    },
    {
     "name": "stdout",
     "output_type": "stream",
     "text": [
      "Epoch: 55/200 | Train Loss: 1.1283 | Val Loss: 0.8379\n"
     ]
    },
    {
     "name": "stderr",
     "output_type": "stream",
     "text": [
      "                                                                          \r"
     ]
    },
    {
     "name": "stdout",
     "output_type": "stream",
     "text": [
      "Epoch: 56/200 | Train Loss: 1.1219 | Val Loss: 0.8412\n",
      "EarlyStopping: 1/10\n"
     ]
    },
    {
     "name": "stderr",
     "output_type": "stream",
     "text": [
      "                                                                          \r"
     ]
    },
    {
     "name": "stdout",
     "output_type": "stream",
     "text": [
      "Epoch: 57/200 | Train Loss: 1.1152 | Val Loss: 0.8772\n",
      "EarlyStopping: 2/10\n"
     ]
    },
    {
     "name": "stderr",
     "output_type": "stream",
     "text": [
      "                                                                          \r"
     ]
    },
    {
     "name": "stdout",
     "output_type": "stream",
     "text": [
      "Epoch: 58/200 | Train Loss: 1.1027 | Val Loss: 0.8302\n"
     ]
    },
    {
     "name": "stderr",
     "output_type": "stream",
     "text": [
      "                                                                          \r"
     ]
    },
    {
     "name": "stdout",
     "output_type": "stream",
     "text": [
      "Epoch: 59/200 | Train Loss: 1.0953 | Val Loss: 0.8667\n",
      "EarlyStopping: 1/10\n"
     ]
    },
    {
     "name": "stderr",
     "output_type": "stream",
     "text": [
      "                                                                          \r"
     ]
    },
    {
     "name": "stdout",
     "output_type": "stream",
     "text": [
      "Epoch: 60/200 | Train Loss: 1.0902 | Val Loss: 0.9772\n",
      "EarlyStopping: 2/10\n"
     ]
    },
    {
     "name": "stderr",
     "output_type": "stream",
     "text": [
      "                                                                          \r"
     ]
    },
    {
     "name": "stdout",
     "output_type": "stream",
     "text": [
      "Epoch: 61/200 | Train Loss: 1.0807 | Val Loss: 0.8690\n",
      "EarlyStopping: 3/10\n"
     ]
    },
    {
     "name": "stderr",
     "output_type": "stream",
     "text": [
      "                                                                          \r"
     ]
    },
    {
     "name": "stdout",
     "output_type": "stream",
     "text": [
      "Epoch: 62/200 | Train Loss: 1.0743 | Val Loss: 0.8329\n",
      "EarlyStopping: 4/10\n"
     ]
    },
    {
     "name": "stderr",
     "output_type": "stream",
     "text": [
      "                                                                          \r"
     ]
    },
    {
     "name": "stdout",
     "output_type": "stream",
     "text": [
      "Epoch: 63/200 | Train Loss: 1.0717 | Val Loss: 0.9695\n",
      "EarlyStopping: 5/10\n"
     ]
    },
    {
     "name": "stderr",
     "output_type": "stream",
     "text": [
      "                                                                          \r"
     ]
    },
    {
     "name": "stdout",
     "output_type": "stream",
     "text": [
      "Epoch: 64/200 | Train Loss: 1.0596 | Val Loss: 0.8001\n"
     ]
    },
    {
     "name": "stderr",
     "output_type": "stream",
     "text": [
      "                                                                          \r"
     ]
    },
    {
     "name": "stdout",
     "output_type": "stream",
     "text": [
      "Epoch: 65/200 | Train Loss: 1.0563 | Val Loss: 0.8927\n",
      "EarlyStopping: 1/10\n"
     ]
    },
    {
     "name": "stderr",
     "output_type": "stream",
     "text": [
      "                                                                         \r"
     ]
    },
    {
     "name": "stdout",
     "output_type": "stream",
     "text": [
      "Epoch: 66/200 | Train Loss: 1.0460 | Val Loss: 0.9624\n",
      "EarlyStopping: 2/10\n"
     ]
    },
    {
     "name": "stderr",
     "output_type": "stream",
     "text": [
      "                                                                         \r"
     ]
    },
    {
     "name": "stdout",
     "output_type": "stream",
     "text": [
      "Epoch: 67/200 | Train Loss: 1.0414 | Val Loss: 0.8371\n",
      "EarlyStopping: 3/10\n"
     ]
    },
    {
     "name": "stderr",
     "output_type": "stream",
     "text": [
      "                                                                          \r"
     ]
    },
    {
     "name": "stdout",
     "output_type": "stream",
     "text": [
      "Epoch: 68/200 | Train Loss: 1.0410 | Val Loss: 0.8621\n",
      "EarlyStopping: 4/10\n"
     ]
    },
    {
     "name": "stderr",
     "output_type": "stream",
     "text": [
      "                                                                          \r"
     ]
    },
    {
     "name": "stdout",
     "output_type": "stream",
     "text": [
      "Epoch: 69/200 | Train Loss: 1.0297 | Val Loss: 0.7954\n"
     ]
    },
    {
     "name": "stderr",
     "output_type": "stream",
     "text": [
      "                                                                          \r"
     ]
    },
    {
     "name": "stdout",
     "output_type": "stream",
     "text": [
      "Epoch: 70/200 | Train Loss: 1.0266 | Val Loss: 0.9406\n",
      "EarlyStopping: 1/10\n"
     ]
    },
    {
     "name": "stderr",
     "output_type": "stream",
     "text": [
      "                                                                          \r"
     ]
    },
    {
     "name": "stdout",
     "output_type": "stream",
     "text": [
      "Epoch: 71/200 | Train Loss: 1.0153 | Val Loss: 0.8398\n",
      "EarlyStopping: 2/10\n"
     ]
    },
    {
     "name": "stderr",
     "output_type": "stream",
     "text": [
      "                                                                         \r"
     ]
    },
    {
     "name": "stdout",
     "output_type": "stream",
     "text": [
      "Epoch: 72/200 | Train Loss: 1.0168 | Val Loss: 0.7973\n",
      "EarlyStopping: 3/10\n"
     ]
    },
    {
     "name": "stderr",
     "output_type": "stream",
     "text": [
      "                                                                          \r"
     ]
    },
    {
     "name": "stdout",
     "output_type": "stream",
     "text": [
      "Epoch: 73/200 | Train Loss: 1.0066 | Val Loss: 0.9248\n",
      "EarlyStopping: 4/10\n"
     ]
    },
    {
     "name": "stderr",
     "output_type": "stream",
     "text": [
      "                                                                         \r"
     ]
    },
    {
     "name": "stdout",
     "output_type": "stream",
     "text": [
      "Epoch: 74/200 | Train Loss: 1.0052 | Val Loss: 0.7716\n"
     ]
    },
    {
     "name": "stderr",
     "output_type": "stream",
     "text": [
      "                                                                         \r"
     ]
    },
    {
     "name": "stdout",
     "output_type": "stream",
     "text": [
      "Epoch: 75/200 | Train Loss: 1.0001 | Val Loss: 0.7337\n"
     ]
    },
    {
     "name": "stderr",
     "output_type": "stream",
     "text": [
      "                                                                          \r"
     ]
    },
    {
     "name": "stdout",
     "output_type": "stream",
     "text": [
      "Epoch: 76/200 | Train Loss: 0.9931 | Val Loss: 0.7843\n",
      "EarlyStopping: 1/10\n"
     ]
    },
    {
     "name": "stderr",
     "output_type": "stream",
     "text": [
      "                                                                         \r"
     ]
    },
    {
     "name": "stdout",
     "output_type": "stream",
     "text": [
      "Epoch: 77/200 | Train Loss: 0.9906 | Val Loss: 0.7450\n",
      "EarlyStopping: 2/10\n"
     ]
    },
    {
     "name": "stderr",
     "output_type": "stream",
     "text": [
      "                                                                         \r"
     ]
    },
    {
     "name": "stdout",
     "output_type": "stream",
     "text": [
      "Epoch: 78/200 | Train Loss: 0.9841 | Val Loss: 0.8193\n",
      "EarlyStopping: 3/10\n"
     ]
    },
    {
     "name": "stderr",
     "output_type": "stream",
     "text": [
      "                                                                          \r"
     ]
    },
    {
     "name": "stdout",
     "output_type": "stream",
     "text": [
      "Epoch: 79/200 | Train Loss: 0.9765 | Val Loss: 0.7159\n"
     ]
    },
    {
     "name": "stderr",
     "output_type": "stream",
     "text": [
      "                                                                          \r"
     ]
    },
    {
     "name": "stdout",
     "output_type": "stream",
     "text": [
      "Epoch: 80/200 | Train Loss: 0.9679 | Val Loss: 0.7526\n",
      "EarlyStopping: 1/10\n"
     ]
    },
    {
     "name": "stderr",
     "output_type": "stream",
     "text": [
      "                                                                          \r"
     ]
    },
    {
     "name": "stdout",
     "output_type": "stream",
     "text": [
      "Epoch: 81/200 | Train Loss: 0.9765 | Val Loss: 0.7755\n",
      "EarlyStopping: 2/10\n"
     ]
    },
    {
     "name": "stderr",
     "output_type": "stream",
     "text": [
      "                                                                          \r"
     ]
    },
    {
     "name": "stdout",
     "output_type": "stream",
     "text": [
      "Epoch: 82/200 | Train Loss: 0.9679 | Val Loss: 0.8327\n",
      "EarlyStopping: 3/10\n"
     ]
    },
    {
     "name": "stderr",
     "output_type": "stream",
     "text": [
      "                                                                          \r"
     ]
    },
    {
     "name": "stdout",
     "output_type": "stream",
     "text": [
      "Epoch: 83/200 | Train Loss: 0.9628 | Val Loss: 0.7958\n",
      "EarlyStopping: 4/10\n"
     ]
    },
    {
     "name": "stderr",
     "output_type": "stream",
     "text": [
      "                                                                          \r"
     ]
    },
    {
     "name": "stdout",
     "output_type": "stream",
     "text": [
      "Epoch: 84/200 | Train Loss: 0.9599 | Val Loss: 0.8196\n",
      "EarlyStopping: 5/10\n"
     ]
    },
    {
     "name": "stderr",
     "output_type": "stream",
     "text": [
      "                                                                          \r"
     ]
    },
    {
     "name": "stdout",
     "output_type": "stream",
     "text": [
      "Epoch: 85/200 | Train Loss: 0.9531 | Val Loss: 0.7003\n"
     ]
    },
    {
     "name": "stderr",
     "output_type": "stream",
     "text": [
      "                                                                          \r"
     ]
    },
    {
     "name": "stdout",
     "output_type": "stream",
     "text": [
      "Epoch: 86/200 | Train Loss: 0.9480 | Val Loss: 0.7691\n",
      "EarlyStopping: 1/10\n"
     ]
    },
    {
     "name": "stderr",
     "output_type": "stream",
     "text": [
      "                                                                          \r"
     ]
    },
    {
     "name": "stdout",
     "output_type": "stream",
     "text": [
      "Epoch: 87/200 | Train Loss: 0.9450 | Val Loss: 0.7542\n",
      "EarlyStopping: 2/10\n"
     ]
    },
    {
     "name": "stderr",
     "output_type": "stream",
     "text": [
      "                                                                          \r"
     ]
    },
    {
     "name": "stdout",
     "output_type": "stream",
     "text": [
      "Epoch: 88/200 | Train Loss: 0.9450 | Val Loss: 0.7286\n",
      "EarlyStopping: 3/10\n"
     ]
    },
    {
     "name": "stderr",
     "output_type": "stream",
     "text": [
      "                                                                          \r"
     ]
    },
    {
     "name": "stdout",
     "output_type": "stream",
     "text": [
      "Epoch: 89/200 | Train Loss: 0.9373 | Val Loss: 0.9053\n",
      "EarlyStopping: 4/10\n"
     ]
    },
    {
     "name": "stderr",
     "output_type": "stream",
     "text": [
      "                                                                          \r"
     ]
    },
    {
     "name": "stdout",
     "output_type": "stream",
     "text": [
      "Epoch: 90/200 | Train Loss: 0.9317 | Val Loss: 0.6845\n"
     ]
    },
    {
     "name": "stderr",
     "output_type": "stream",
     "text": [
      "                                                                          \r"
     ]
    },
    {
     "name": "stdout",
     "output_type": "stream",
     "text": [
      "Epoch: 91/200 | Train Loss: 0.9349 | Val Loss: 0.8748\n",
      "EarlyStopping: 1/10\n"
     ]
    },
    {
     "name": "stderr",
     "output_type": "stream",
     "text": [
      "                                                                          \r"
     ]
    },
    {
     "name": "stdout",
     "output_type": "stream",
     "text": [
      "Epoch: 92/200 | Train Loss: 0.9259 | Val Loss: 0.7460\n",
      "EarlyStopping: 2/10\n"
     ]
    },
    {
     "name": "stderr",
     "output_type": "stream",
     "text": [
      "                                                                          \r"
     ]
    },
    {
     "name": "stdout",
     "output_type": "stream",
     "text": [
      "Epoch: 93/200 | Train Loss: 0.9185 | Val Loss: 0.6857\n",
      "EarlyStopping: 3/10\n"
     ]
    },
    {
     "name": "stderr",
     "output_type": "stream",
     "text": [
      "                                                                          \r"
     ]
    },
    {
     "name": "stdout",
     "output_type": "stream",
     "text": [
      "Epoch: 94/200 | Train Loss: 0.9206 | Val Loss: 0.7451\n",
      "EarlyStopping: 4/10\n"
     ]
    },
    {
     "name": "stderr",
     "output_type": "stream",
     "text": [
      "                                                                          \r"
     ]
    },
    {
     "name": "stdout",
     "output_type": "stream",
     "text": [
      "Epoch: 95/200 | Train Loss: 0.9173 | Val Loss: 0.7199\n",
      "EarlyStopping: 5/10\n"
     ]
    },
    {
     "name": "stderr",
     "output_type": "stream",
     "text": [
      "                                                                          \r"
     ]
    },
    {
     "name": "stdout",
     "output_type": "stream",
     "text": [
      "Epoch: 96/200 | Train Loss: 0.9118 | Val Loss: 0.6957\n",
      "EarlyStopping: 6/10\n"
     ]
    },
    {
     "name": "stderr",
     "output_type": "stream",
     "text": [
      "                                                                          \r"
     ]
    },
    {
     "name": "stdout",
     "output_type": "stream",
     "text": [
      "Epoch: 97/200 | Train Loss: 0.9103 | Val Loss: 0.7021\n",
      "EarlyStopping: 7/10\n"
     ]
    },
    {
     "name": "stderr",
     "output_type": "stream",
     "text": [
      "                                                                          \r"
     ]
    },
    {
     "name": "stdout",
     "output_type": "stream",
     "text": [
      "Epoch: 98/200 | Train Loss: 0.9093 | Val Loss: 0.7488\n",
      "EarlyStopping: 8/10\n"
     ]
    },
    {
     "name": "stderr",
     "output_type": "stream",
     "text": [
      "                                                                          \r"
     ]
    },
    {
     "name": "stdout",
     "output_type": "stream",
     "text": [
      "Epoch: 99/200 | Train Loss: 0.9005 | Val Loss: 0.6871\n",
      "EarlyStopping: 9/10\n"
     ]
    },
    {
     "name": "stderr",
     "output_type": "stream",
     "text": [
      "                                                                           \r"
     ]
    },
    {
     "name": "stdout",
     "output_type": "stream",
     "text": [
      "Epoch: 100/200 | Train Loss: 0.8957 | Val Loss: 0.7172\n",
      "EarlyStopping: 10/10\n",
      "EarlyStopping!\n"
     ]
    }
   ],
   "source": [
    "for epoch in range(num_epochs):\n",
    "    model.train()\n",
    "    running_loss = 0.0\n",
    "    # Training\n",
    "    for inputs, targets in tqdm(train_loader, desc=f\"Epoch: {epoch+1} (Train)\", leave=False):\n",
    "        inputs, targets = inputs.to(device), targets.to(device)\n",
    "        optimizer.zero_grad()\n",
    "        outputs = model(inputs)\n",
    "        loss = criterion(outputs, targets)\n",
    "        loss.backward()\n",
    "        optimizer.step()\n",
    "        running_loss += loss.item() * inputs.size(0)\n",
    "    epoch_train_loss = running_loss / len(train_loader.dataset)\n",
    "    train_losses.append(epoch_train_loss)\n",
    "    \n",
    "    # Validation\n",
    "    model.eval()\n",
    "    running_val_loss = 0.0\n",
    "    with torch.no_grad():\n",
    "        for inputs, targets in tqdm(val_loader, desc=f\"Epoch: {epoch+1} (Validation)\", leave=False):\n",
    "            inputs, targets = inputs.to(device), targets.to(device)\n",
    "            outputs = model(inputs)\n",
    "            loss = criterion(outputs, targets)\n",
    "            running_val_loss += loss.item() * inputs.size(0)\n",
    "    epoch_val_loss = running_val_loss / len(val_loader.dataset)\n",
    "    val_losses.append(epoch_val_loss)\n",
    "    \n",
    "    print(f\"Epoch: {epoch+1}/{num_epochs} | Train Loss: {epoch_train_loss:.4f} | Val Loss: {epoch_val_loss:.4f}\")\n",
    "    \n",
    "    early_stopping(epoch_val_loss, model)\n",
    "    if early_stopping.early_stop:\n",
    "        print(\"EarlyStopping!\")\n",
    "        break"
   ]
  },
  {
   "cell_type": "code",
   "execution_count": 203,
   "metadata": {},
   "outputs": [],
   "source": [
    "# print(\"Training Performance:\")\n",
    "# print(prof.key_averages().table(sort_by=\"cuda_time_total\", row_limit=20))"
   ]
  },
  {
   "cell_type": "code",
   "execution_count": 204,
   "metadata": {},
   "outputs": [
    {
     "data": {
      "image/png": "[encoded data removed]",
      "text/plain": [
       "<Figure size 1500x1000 with 1 Axes>"
      ]
     },
     "metadata": {},
     "output_type": "display_data"
    }
   ],
   "source": [
    "plt.figure(figsize=(15, 10))\n",
    "plt.plot(train_losses, label=\"Train Loss\")\n",
    "plt.plot(val_losses, label=\"Validation Loss\")\n",
    "plt.xlabel(\"Epoch\")\n",
    "plt.ylabel(\"Loss\")\n",
    "plt.title(\"Train Loss vs Validation Loss\")\n",
    "plt.legend()\n",
    "plt.show()"
   ]
  },
  {
   "cell_type": "markdown",
   "metadata": {},
   "source": [
    "### Evaluation"
   ]
  },
  {
   "cell_type": "code",
   "execution_count": 205,
   "metadata": {},
   "outputs": [
    {
     "name": "stderr",
     "output_type": "stream",
     "text": [
      "C:\\Users\\ASUS\\AppData\\Local\\Temp\\ipykernel_53808\\671070252.py:1: FutureWarning: You are using `torch.load` with `weights_only=False` (the current default value), which uses the default pickle module implicitly. It is possible to construct malicious pickle data which will execute arbitrary code during unpickling (See https://github.com/pytorch/pytorch/blob/main/SECURITY.md#untrusted-models for more details). In a future release, the default value for `weights_only` will be flipped to `True`. This limits the functions that could be executed during unpickling. Arbitrary objects will no longer be allowed to be loaded via this mode unless they are explicitly allowlisted by the user via `torch.serialization.add_safe_globals`. We recommend you start setting `weights_only=True` for any use case where you don't have full control of the loaded file. Please open an issue on GitHub for any issues related to this experimental feature.\n",
      "  model.load_state_dict(torch.load('./.export/checkpoint-aug.pt'))\n"
     ]
    },
    {
     "data": {
      "text/plain": [
       "<All keys matched successfully>"
      ]
     },
     "execution_count": 205,
     "metadata": {},
     "output_type": "execute_result"
    }
   ],
   "source": [
    "model.load_state_dict(torch.load('./.export/checkpoint-aug.pt'))"
   ]
  },
  {
   "cell_type": "code",
   "execution_count": 206,
   "metadata": {},
   "outputs": [],
   "source": [
    "def rmse(pred, target):\n",
    "    return np.sqrt(np.mean((pred - target)**2))\n",
    "\n",
    "def mae(pred, target):\n",
    "    return np.mean(np.abs(pred - target))\n",
    "\n",
    "def mard(pred, target):\n",
    "    return np.mean(np.abs(pred - target) / (np.abs(target) + 1e-6))\n",
    "\n",
    "def mbe(pred, target):\n",
    "    return np.mean(pred - target)\n",
    "\n",
    "def mape(pred, target):\n",
    "    return np.mean(np.abs((target - pred) / (target + 1e-6))) * 100\n",
    "\n",
    "def pearson_r(pred, target):\n",
    "    return np.corrcoef(pred, target)[0, 1]\n",
    "\n",
    "def ccc(pred, target):\n",
    "    pred_mean = np.mean(pred)\n",
    "    target_mean = np.mean(target)\n",
    "    pred_var = np.var(pred)\n",
    "    target_var = np.var(target)\n",
    "    covariance = np.mean((pred - pred_mean) * (target - target_mean))\n",
    "    return (2 * covariance) / (pred_var + target_var + (pred_mean - target_mean)**2 + 1e-6)"
   ]
  },
  {
   "cell_type": "code",
   "execution_count": 207,
   "metadata": {},
   "outputs": [
    {
     "name": "stderr",
     "output_type": "stream",
     "text": [
      "Evaluation: 100%|██████████| 277/277 [00:01<00:00, 195.38it/s]\n"
     ]
    }
   ],
   "source": [
    "model.eval()\n",
    "all_preds = []\n",
    "all_targets = []\n",
    "\n",
    "with torch.no_grad():\n",
    "    for x_seq, targets in tqdm(test_loader, desc=\"Evaluation\"):\n",
    "        x_seq = x_seq.to(device)\n",
    "        targets = targets.to(device)\n",
    "        outputs = model(x_seq)\n",
    "        all_preds.append(outputs.cpu().numpy())\n",
    "        all_targets.append(targets.cpu().numpy())\n",
    "        \n",
    "all_preds = np.concatenate(all_preds)\n",
    "all_targets = np.concatenate(all_targets)\n",
    "residuals = all_preds - all_targets"
   ]
  },
  {
   "cell_type": "code",
   "execution_count": 208,
   "metadata": {},
   "outputs": [
    {
     "data": {
      "image/png": "[encoded data removed]",
      "text/plain": [
       "<Figure size 1500x1000 with 1 Axes>"
      ]
     },
     "metadata": {},
     "output_type": "display_data"
    }
   ],
   "source": [
    "plt.figure(figsize=(15, 10))\n",
    "plt.scatter(all_targets, all_preds, alpha=0.4)\n",
    "plt.plot([all_targets.min(), all_targets.max()], [all_targets.min(), all_targets.max()], 'r--')\n",
    "plt.xlabel(\"Actual\")\n",
    "plt.ylabel(\"Predicted\")\n",
    "plt.title(\"Actual Glucose vs Predicted Glucose\")\n",
    "plt.grid(True)\n",
    "plt.show()"
   ]
  },
  {
   "cell_type": "code",
   "execution_count": 209,
   "metadata": {},
   "outputs": [
    {
     "data": {
      "image/png": "[encoded data removed]",
      "text/plain": [
       "<Figure size 1500x1000 with 1 Axes>"
      ]
     },
     "metadata": {},
     "output_type": "display_data"
    }
   ],
   "source": [
    "plt.figure(figsize=(15, 10))\n",
    "plt.hist(residuals, bins=50)\n",
    "plt.title(\"Residual\")\n",
    "plt.xlabel(\"Error\")\n",
    "plt.ylabel(\"Frequency\")\n",
    "plt.grid(True)\n",
    "plt.show()"
   ]
  },
  {
   "cell_type": "code",
   "execution_count": 210,
   "metadata": {},
   "outputs": [],
   "source": [
    "from sklearn.metrics import r2_score\n",
    "test_r2 = r2_score(all_targets, all_preds)"
   ]
  },
  {
   "cell_type": "code",
   "execution_count": 211,
   "metadata": {},
   "outputs": [],
   "source": [
    "from sklearn.metrics import explained_variance_score\n",
    "test_expl_var = explained_variance_score(all_targets, all_preds)"
   ]
  },
  {
   "cell_type": "code",
   "execution_count": 212,
   "metadata": {},
   "outputs": [],
   "source": [
    "test_rmse = rmse(all_preds, all_targets)\n",
    "test_mae = mae(all_preds, all_targets)\n",
    "test_mard = mard(all_preds, all_targets)\n",
    "\n",
    "test_mbe = mbe(all_preds, all_targets)\n",
    "# test_r2 = r2_score(all_targets, all_preds)\n",
    "# test_expl_var = explained_variance_score(all_targets, all_preds)\n",
    "test_mape = mape(all_preds, all_targets)\n",
    "test_pearson = pearson_r(all_preds, all_targets)\n",
    "test_ccc = ccc(all_preds, all_targets)"
   ]
  },
  {
   "cell_type": "code",
   "execution_count": 213,
   "metadata": {},
   "outputs": [
    {
     "name": "stdout",
     "output_type": "stream",
     "text": [
      "Global Score\n",
      "Test RMSE: 0.8213\n",
      "Test MAE: 0.6239\n",
      "Test MARD: 0.0825\n",
      "Test MBE: -0.0971\n",
      "Test R²: 0.9239\n",
      "Test Explained Variance: 0.9249\n",
      "Test MAPE: 8.25%\n",
      "Test Pearson r: 0.9625\n",
      "Test CCC: 0.9620\n"
     ]
    }
   ],
   "source": [
    "print(\"Global Score\")\n",
    "print(f\"Test RMSE: {test_rmse:.4f}\")\n",
    "print(f\"Test MAE: {test_mae:.4f}\")\n",
    "print(f\"Test MARD: {test_mard:.4f}\")\n",
    "print(f\"Test MBE: {test_mbe:.4f}\")\n",
    "print(f\"Test R²: {test_r2:.4f}\")\n",
    "print(f\"Test Explained Variance: {test_expl_var:.4f}\")\n",
    "print(f\"Test MAPE: {test_mape:.2f}%\")\n",
    "print(f\"Test Pearson r: {test_pearson:.4f}\")\n",
    "print(f\"Test CCC: {test_ccc:.4f}\")"
   ]
  },
  {
   "cell_type": "markdown",
   "metadata": {},
   "source": [
    "### Inference"
   ]
  },
  {
   "cell_type": "code",
   "execution_count": 214,
   "metadata": {},
   "outputs": [],
   "source": [
    "df_test = pd.read_csv(\"./.data/test_pp_aug.csv\")"
   ]
  },
  {
   "cell_type": "code",
   "execution_count": null,
   "metadata": {},
   "outputs": [
    {
     "name": "stdout",
     "output_type": "stream",
     "text": [
      "bg-5:55\n",
      "bg-5:50\n",
      "bg-5:45\n",
      "bg-5:40\n",
      "bg-5:35\n",
      "bg-5:30\n",
      "bg-5:25\n",
      "bg-5:20\n",
      "bg-5:15\n",
      "bg-5:10\n",
      "bg-5:05\n",
      "bg-5:00\n",
      "bg-4:55\n",
      "bg-4:50\n",
      "bg-4:45\n",
      "bg-4:40\n",
      "bg-4:35\n",
      "bg-4:30\n",
      "bg-4:25\n",
      "bg-4:20\n",
      "bg-4:15\n",
      "bg-4:10\n",
      "bg-4:05\n",
      "bg-4:00\n",
      "bg-3:55\n",
      "bg-3:50\n",
      "bg-3:45\n",
      "bg-3:40\n",
      "bg-3:35\n",
      "bg-3:30\n",
      "bg-3:25\n",
      "bg-3:20\n",
      "bg-3:15\n",
      "bg-3:10\n",
      "bg-3:05\n",
      "bg-3:00\n",
      "bg-2:55\n",
      "bg-2:50\n",
      "bg-2:45\n",
      "bg-2:40\n",
      "bg-2:35\n",
      "bg-2:30\n",
      "bg-2:25\n",
      "bg-2:20\n",
      "bg-2:15\n",
      "bg-2:10\n",
      "bg-2:05\n",
      "bg-2:00\n",
      "bg-1:55\n",
      "bg-1:50\n",
      "bg-1:45\n",
      "bg-1:40\n",
      "bg-1:35\n",
      "bg-1:30\n",
      "bg-1:25\n",
      "bg-1:20\n",
      "bg-1:15\n",
      "bg-1:10\n",
      "bg-1:05\n",
      "bg-1:00\n",
      "bg-0:55\n",
      "bg-0:50\n",
      "bg-0:45\n",
      "bg-0:40\n",
      "bg-0:35\n",
      "bg-0:30\n",
      "bg-0:25\n",
      "bg-0:20\n",
      "bg-0:15\n",
      "bg-0:10\n",
      "bg-0:05\n",
      "bg-0:00\n",
      "insulin-5:55\n",
      "insulin-5:50\n",
      "insulin-5:45\n",
      "insulin-5:40\n",
      "insulin-5:35\n",
      "insulin-5:30\n",
      "insulin-5:25\n",
      "insulin-5:20\n",
      "insulin-5:15\n",
      "insulin-5:10\n",
      "insulin-5:05\n",
      "insulin-5:00\n",
      "insulin-4:55\n",
      "insulin-4:50\n",
      "insulin-4:45\n",
      "insulin-4:40\n",
      "insulin-4:35\n",
      "insulin-4:30\n",
      "insulin-4:25\n",
      "insulin-4:20\n",
      "insulin-4:15\n",
      "insulin-4:10\n",
      "insulin-4:05\n",
      "insulin-4:00\n",
      "insulin-3:55\n",
      "insulin-3:50\n",
      "insulin-3:45\n",
      "insulin-3:40\n",
      "insulin-3:35\n",
      "insulin-3:30\n",
      "insulin-3:25\n",
      "insulin-3:20\n",
      "insulin-3:15\n",
      "insulin-3:10\n",
      "insulin-3:05\n",
      "insulin-3:00\n",
      "insulin-2:55\n",
      "insulin-2:50\n",
      "insulin-2:45\n",
      "insulin-2:40\n",
      "insulin-2:35\n",
      "insulin-2:30\n",
      "insulin-2:25\n",
      "insulin-2:20\n",
      "insulin-2:15\n",
      "insulin-2:10\n",
      "insulin-2:05\n",
      "insulin-2:00\n",
      "insulin-1:55\n",
      "insulin-1:50\n",
      "insulin-1:45\n",
      "insulin-1:40\n",
      "insulin-1:35\n",
      "insulin-1:30\n",
      "insulin-1:25\n",
      "insulin-1:20\n",
      "insulin-1:15\n",
      "insulin-1:10\n",
      "insulin-1:05\n",
      "insulin-1:00\n",
      "insulin-0:55\n",
      "insulin-0:50\n",
      "insulin-0:45\n",
      "insulin-0:40\n",
      "insulin-0:35\n",
      "insulin-0:30\n",
      "insulin-0:25\n",
      "insulin-0:20\n",
      "insulin-0:15\n",
      "insulin-0:10\n",
      "insulin-0:05\n",
      "insulin-0:00\n",
      "carbs-5:55\n",
      "carbs-5:50\n",
      "carbs-5:45\n",
      "carbs-5:40\n",
      "carbs-5:35\n",
      "carbs-5:30\n",
      "carbs-5:25\n",
      "carbs-5:20\n",
      "carbs-5:15\n",
      "carbs-5:10\n",
      "carbs-5:05\n",
      "carbs-5:00\n",
      "carbs-4:55\n",
      "carbs-4:50\n",
      "carbs-4:45\n",
      "carbs-4:40\n",
      "carbs-4:35\n",
      "carbs-4:30\n",
      "carbs-4:25\n",
      "carbs-4:20\n",
      "carbs-4:15\n",
      "carbs-4:10\n",
      "carbs-4:05\n",
      "carbs-4:00\n",
      "carbs-3:55\n",
      "carbs-3:50\n",
      "carbs-3:45\n",
      "carbs-3:40\n",
      "carbs-3:35\n",
      "carbs-3:30\n",
      "carbs-3:25\n",
      "carbs-3:20\n",
      "carbs-3:15\n",
      "carbs-3:10\n",
      "carbs-3:05\n",
      "carbs-3:00\n",
      "carbs-2:55\n",
      "carbs-2:50\n",
      "carbs-2:45\n",
      "carbs-2:40\n",
      "carbs-2:35\n",
      "carbs-2:30\n",
      "carbs-2:25\n",
      "carbs-2:20\n",
      "carbs-2:15\n",
      "carbs-2:10\n",
      "carbs-2:05\n",
      "carbs-2:00\n",
      "carbs-1:55\n",
      "carbs-1:50\n",
      "carbs-1:45\n",
      "carbs-1:40\n",
      "carbs-1:35\n",
      "carbs-1:30\n",
      "carbs-1:25\n",
      "carbs-1:20\n",
      "carbs-1:15\n",
      "carbs-1:10\n",
      "carbs-1:05\n",
      "carbs-1:00\n",
      "carbs-0:55\n",
      "carbs-0:50\n",
      "carbs-0:45\n",
      "carbs-0:40\n",
      "carbs-0:35\n",
      "carbs-0:30\n",
      "carbs-0:25\n",
      "carbs-0:20\n",
      "carbs-0:15\n",
      "carbs-0:10\n",
      "carbs-0:05\n",
      "carbs-0:00\n",
      "hr-5:55\n",
      "hr-5:50\n",
      "hr-5:45\n",
      "hr-5:40\n",
      "hr-5:35\n",
      "hr-5:30\n",
      "hr-5:25\n",
      "hr-5:20\n",
      "hr-5:15\n",
      "hr-5:10\n",
      "hr-5:05\n",
      "hr-5:00\n",
      "hr-4:55\n",
      "hr-4:50\n",
      "hr-4:45\n",
      "hr-4:40\n",
      "hr-4:35\n",
      "hr-4:30\n",
      "hr-4:25\n",
      "hr-4:20\n",
      "hr-4:15\n",
      "hr-4:10\n",
      "hr-4:05\n",
      "hr-4:00\n",
      "hr-3:55\n",
      "hr-3:50\n",
      "hr-3:45\n",
      "hr-3:40\n",
      "hr-3:35\n",
      "hr-3:30\n",
      "hr-3:25\n",
      "hr-3:20\n",
      "hr-3:15\n",
      "hr-3:10\n",
      "hr-3:05\n",
      "hr-3:00\n",
      "hr-2:55\n",
      "hr-2:50\n",
      "hr-2:45\n",
      "hr-2:40\n",
      "hr-2:35\n",
      "hr-2:30\n",
      "hr-2:25\n",
      "hr-2:20\n",
      "hr-2:15\n",
      "hr-2:10\n",
      "hr-2:05\n",
      "hr-2:00\n",
      "hr-1:55\n",
      "hr-1:50\n",
      "hr-1:45\n",
      "hr-1:40\n",
      "hr-1:35\n",
      "hr-1:30\n",
      "hr-1:25\n",
      "hr-1:20\n",
      "hr-1:15\n",
      "hr-1:10\n",
      "hr-1:05\n",
      "hr-1:00\n",
      "hr-0:55\n",
      "hr-0:50\n",
      "hr-0:45\n",
      "hr-0:40\n",
      "hr-0:35\n",
      "hr-0:30\n",
      "hr-0:25\n",
      "hr-0:20\n",
      "hr-0:15\n",
      "hr-0:10\n",
      "hr-0:05\n",
      "hr-0:00\n",
      "steps-5:55\n",
      "steps-5:50\n",
      "steps-5:45\n",
      "steps-5:40\n",
      "steps-5:35\n",
      "steps-5:30\n",
      "steps-5:25\n",
      "steps-5:20\n",
      "steps-5:15\n",
      "steps-5:10\n",
      "steps-5:05\n",
      "steps-5:00\n",
      "steps-4:55\n",
      "steps-4:50\n",
      "steps-4:45\n",
      "steps-4:40\n",
      "steps-4:35\n",
      "steps-4:30\n",
      "steps-4:25\n",
      "steps-4:20\n",
      "steps-4:15\n",
      "steps-4:10\n",
      "steps-4:05\n",
      "steps-4:00\n",
      "steps-3:55\n",
      "steps-3:50\n",
      "steps-3:45\n",
      "steps-3:40\n",
      "steps-3:35\n",
      "steps-3:30\n",
      "steps-3:25\n",
      "steps-3:20\n",
      "steps-3:15\n",
      "steps-3:10\n",
      "steps-3:05\n",
      "steps-3:00\n",
      "steps-2:55\n",
      "steps-2:50\n",
      "steps-2:45\n",
      "steps-2:40\n",
      "steps-2:35\n",
      "steps-2:30\n",
      "steps-2:25\n",
      "steps-2:20\n",
      "steps-2:15\n",
      "steps-2:10\n",
      "steps-2:05\n",
      "steps-2:00\n",
      "steps-1:55\n",
      "steps-1:50\n",
      "steps-1:45\n",
      "steps-1:40\n",
      "steps-1:35\n",
      "steps-1:30\n",
      "steps-1:25\n",
      "steps-1:20\n",
      "steps-1:15\n",
      "steps-1:10\n",
      "steps-1:05\n",
      "steps-1:00\n",
      "steps-0:55\n",
      "steps-0:50\n",
      "steps-0:45\n",
      "steps-0:40\n",
      "steps-0:35\n",
      "steps-0:30\n",
      "steps-0:25\n",
      "steps-0:20\n",
      "steps-0:15\n",
      "steps-0:10\n",
      "steps-0:05\n",
      "steps-0:00\n",
      "cals-5:55\n",
      "cals-5:50\n",
      "cals-5:45\n",
      "cals-5:40\n",
      "cals-5:35\n",
      "cals-5:30\n",
      "cals-5:25\n",
      "cals-5:20\n",
      "cals-5:15\n",
      "cals-5:10\n",
      "cals-5:05\n",
      "cals-5:00\n",
      "cals-4:55\n",
      "cals-4:50\n",
      "cals-4:45\n",
      "cals-4:40\n",
      "cals-4:35\n",
      "cals-4:30\n",
      "cals-4:25\n",
      "cals-4:20\n",
      "cals-4:15\n",
      "cals-4:10\n",
      "cals-4:05\n",
      "cals-4:00\n",
      "cals-3:55\n",
      "cals-3:50\n",
      "cals-3:45\n",
      "cals-3:40\n",
      "cals-3:35\n",
      "cals-3:30\n",
      "cals-3:25\n",
      "cals-3:20\n",
      "cals-3:15\n",
      "cals-3:10\n",
      "cals-3:05\n",
      "cals-3:00\n",
      "cals-2:55\n",
      "cals-2:50\n",
      "cals-2:45\n",
      "cals-2:40\n",
      "cals-2:35\n",
      "cals-2:30\n",
      "cals-2:25\n",
      "cals-2:20\n",
      "cals-2:15\n",
      "cals-2:10\n",
      "cals-2:05\n",
      "cals-2:00\n",
      "cals-1:55\n",
      "cals-1:50\n",
      "cals-1:45\n",
      "cals-1:40\n",
      "cals-1:35\n",
      "cals-1:30\n",
      "cals-1:25\n",
      "cals-1:20\n",
      "cals-1:15\n",
      "cals-1:10\n",
      "cals-1:05\n",
      "cals-1:00\n",
      "cals-0:55\n",
      "cals-0:50\n",
      "cals-0:45\n",
      "cals-0:40\n",
      "cals-0:35\n",
      "cals-0:30\n",
      "cals-0:25\n",
      "cals-0:20\n",
      "cals-0:15\n",
      "cals-0:10\n",
      "cals-0:05\n",
      "cals-0:00\n",
      "bg+1:00\n"
     ]
    }
   ],
   "source": [
    "for col in df_test.columns:\n",
    "    print(col)"
   ]
  },
  {
   "cell_type": "code",
   "execution_count": 216,
   "metadata": {},
   "outputs": [],
   "source": [
    "meta_data = ['id', 'p_num', 'time']\n",
    "\n",
    "df_test_meta = df_test[meta_data]\n",
    "df_test.drop(columns=meta_data, inplace=True)"
   ]
  },
  {
   "cell_type": "code",
   "execution_count": null,
   "metadata": {},
   "outputs": [],
   "source": [
    "# class GDatasetInference(Dataset):\n",
    "#     def __init__(self, df):\n",
    "#         \"\"\"\n",
    "#         Expects a DataFrame that has been processed by the previous script.\n",
    "#         Excludes the columns: \"id\", \"p_num\", \"time\", and \"bg+1:00\" (target).\n",
    "#         Assumes that the remaining numeric columns are grouped by sensor type.\n",
    "#         There are 6 sensor types: [\"bg\", \"insulin\", \"carbs\", \"hr\", \"steps\", \"cals\"].\n",
    "#         Each sensor type contributes 72 time steps (i.e. 6 hours of 5-min intervals).\n",
    "#         The returned sample is reshaped to (seq_len, num_channels) = (72, 6).\n",
    "#         \"\"\"\n",
    "        \n",
    "#         # self.targets = df[\"bg+1:00\"].values.astype(np.float32)\n",
    "        \n",
    "#         sensor_types = [\"bg\", \"insulin\", \"carbs\", \"hr\", \"steps\", \"cals\"]\n",
    "#         channels_data = []\n",
    "\n",
    "#         for sensor in sensor_types:\n",
    "#             sensor_cols = [col for col in df.columns if col.startswith(sensor + \"-\")]\n",
    "\n",
    "#             sensor_cols = sorted(sensor_cols, key=lambda x: int(x.split(\"-\")[1].split(\":\")[0]) * 60 + int(x.split(\"-\")[1].split(\":\")[1]))\n",
    "#             channels_data.append(df[sensor_cols].values.astype(np.float32))\n",
    "        \n",
    "#         self.seq_len = channels_data[0].shape[1]\n",
    "#         for arr in channels_data:\n",
    "#             assert arr.shape[1] == self.seq_len, \"Mismatch!\"\n",
    "        \n",
    "#         self.data = np.stack(channels_data, axis=2)\n",
    "        \n",
    "#     def __len__(self):\n",
    "#         return len(self.data)\n",
    "    \n",
    "#     def __getitem__(self, idx):\n",
    "#         x = self.data[idx]\n",
    "#         # y = self.targets[idx]\n",
    "#         return torch.from_numpy(x)\n",
    "\n",
    "class GDatasetInference(Dataset):\n",
    "    def __init__(self, features: pd.DataFrame, seq_len=72, num_channels=6):\n",
    "        \"\"\"\n",
    "        features: DataFrame of shape (n_samples, seq_len * num_channels)\n",
    "        Assumes features are time-ordered and already cleaned.\n",
    "        \"\"\"\n",
    "        self.data = features.values.astype(np.float32)\n",
    "        self.data = self.data.reshape(-1, seq_len, num_channels)\n",
    "\n",
    "    def __len__(self):\n",
    "        return len(self.data)\n",
    "\n",
    "    def __getitem__(self, idx):\n",
    "        x = self.data[idx]\n",
    "        return torch.from_numpy(x)"
   ]
  },
  {
   "cell_type": "code",
   "execution_count": 218,
   "metadata": {},
   "outputs": [],
   "source": [
    "infer_test_dataset = GDatasetInference(df_test)\n",
    "infer_test_loader = DataLoader(infer_test_dataset, batch_size=128, shuffle=False)"
   ]
  },
  {
   "cell_type": "code",
   "execution_count": 219,
   "metadata": {},
   "outputs": [
    {
     "name": "stderr",
     "output_type": "stream",
     "text": [
      "Inference: 100%|██████████| 29/29 [00:00<00:00, 260.89it/s]\n"
     ]
    }
   ],
   "source": [
    "model.eval()\n",
    "predictions = []\n",
    "\n",
    "with torch.no_grad():\n",
    "    for inputs in tqdm(infer_test_loader, desc=\"Inference\"):\n",
    "        inputs = inputs.to(device)\n",
    "        outputs = model(inputs)\n",
    "        predictions.extend(outputs.cpu().numpy())\n",
    "        \n",
    "predictions = np.array(predictions)\n",
    "df_predictions = pd.DataFrame(predictions, columns=[\"bg+1:00\"])"
   ]
  },
  {
   "cell_type": "code",
   "execution_count": null,
   "metadata": {},
   "outputs": [],
   "source": [
    "df_results = pd.concat([df_test_meta.reset_index(drop=True), df_predictions], axis=1)\n",
    "df_results.drop(columns=['p_num', 'time'], inplace=True)\n",
    "df_results.to_csv(\"./.export/test_submission_aug.csv\", index=False)"
   ]
  }
 ],
 "metadata": {
  "kernelspec": {
   "display_name": "ai",
   "language": "python",
   "name": "python3"
  },
  "language_info": {
   "codemirror_mode": {
    "name": "ipython",
    "version": 3
   },
   "file_extension": ".py",
   "mimetype": "text/x-python",
   "name": "python",
   "nbconvert_exporter": "python",
   "pygments_lexer": "ipython3",
   "version": "3.10.15"
  }
 },
 "nbformat": 4,
 "nbformat_minor": 2
}
